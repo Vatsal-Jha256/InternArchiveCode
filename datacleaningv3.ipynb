{
 "cells": [
  {
   "cell_type": "code",
   "execution_count": 1,
   "metadata": {},
   "outputs": [
    {
     "name": "stdout",
     "output_type": "stream",
     "text": [
      "Requirement already satisfied: ekphrasis in c:\\users\\krishna\\appdata\\local\\programs\\python\\python311\\lib\\site-packages (0.5.4)\n",
      "Requirement already satisfied: termcolor in c:\\users\\krishna\\appdata\\local\\programs\\python\\python311\\lib\\site-packages (from ekphrasis) (2.4.0)\n",
      "Requirement already satisfied: tqdm in c:\\users\\krishna\\appdata\\local\\programs\\python\\python311\\lib\\site-packages (from ekphrasis) (4.66.1)\n",
      "Requirement already satisfied: colorama in c:\\users\\krishna\\appdata\\roaming\\python\\python311\\site-packages (from ekphrasis) (0.4.6)\n",
      "Requirement already satisfied: ujson in c:\\users\\krishna\\appdata\\local\\programs\\python\\python311\\lib\\site-packages (from ekphrasis) (5.10.0)\n",
      "Requirement already satisfied: matplotlib in c:\\users\\krishna\\appdata\\local\\programs\\python\\python311\\lib\\site-packages (from ekphrasis) (3.7.2)\n",
      "Requirement already satisfied: nltk in c:\\users\\krishna\\appdata\\local\\programs\\python\\python311\\lib\\site-packages (from ekphrasis) (3.8.1)\n",
      "Requirement already satisfied: ftfy in c:\\users\\krishna\\appdata\\local\\programs\\python\\python311\\lib\\site-packages (from ekphrasis) (6.2.0)\n",
      "Requirement already satisfied: numpy in c:\\users\\krishna\\appdata\\local\\programs\\python\\python311\\lib\\site-packages (from ekphrasis) (1.26.4)\n",
      "Requirement already satisfied: wcwidth<0.3.0,>=0.2.12 in c:\\users\\krishna\\appdata\\local\\programs\\python\\python311\\lib\\site-packages (from ftfy->ekphrasis) (0.2.13)\n",
      "Requirement already satisfied: contourpy>=1.0.1 in c:\\users\\krishna\\appdata\\local\\programs\\python\\python311\\lib\\site-packages (from matplotlib->ekphrasis) (1.1.0)\n",
      "Requirement already satisfied: cycler>=0.10 in c:\\users\\krishna\\appdata\\local\\programs\\python\\python311\\lib\\site-packages (from matplotlib->ekphrasis) (0.11.0)\n",
      "Requirement already satisfied: fonttools>=4.22.0 in c:\\users\\krishna\\appdata\\local\\programs\\python\\python311\\lib\\site-packages (from matplotlib->ekphrasis) (4.42.0)\n",
      "Requirement already satisfied: kiwisolver>=1.0.1 in c:\\users\\krishna\\appdata\\local\\programs\\python\\python311\\lib\\site-packages (from matplotlib->ekphrasis) (1.4.4)\n",
      "Requirement already satisfied: packaging>=20.0 in c:\\users\\krishna\\appdata\\roaming\\python\\python311\\site-packages (from matplotlib->ekphrasis) (23.1)\n",
      "Requirement already satisfied: pillow>=6.2.0 in c:\\users\\krishna\\appdata\\local\\programs\\python\\python311\\lib\\site-packages (from matplotlib->ekphrasis) (10.3.0)\n",
      "Requirement already satisfied: pyparsing<3.1,>=2.3.1 in c:\\users\\krishna\\appdata\\local\\programs\\python\\python311\\lib\\site-packages (from matplotlib->ekphrasis) (3.0.9)\n",
      "Requirement already satisfied: python-dateutil>=2.7 in c:\\users\\krishna\\appdata\\roaming\\python\\python311\\site-packages (from matplotlib->ekphrasis) (2.8.2)\n",
      "Requirement already satisfied: click in c:\\users\\krishna\\appdata\\local\\programs\\python\\python311\\lib\\site-packages (from nltk->ekphrasis) (8.1.7)\n",
      "Requirement already satisfied: joblib in c:\\users\\krishna\\appdata\\local\\programs\\python\\python311\\lib\\site-packages (from nltk->ekphrasis) (1.3.1)\n",
      "Requirement already satisfied: regex>=2021.8.3 in c:\\users\\krishna\\appdata\\local\\programs\\python\\python311\\lib\\site-packages (from nltk->ekphrasis) (2024.5.15)\n",
      "Requirement already satisfied: six>=1.5 in c:\\users\\krishna\\appdata\\roaming\\python\\python311\\site-packages (from python-dateutil>=2.7->matplotlib->ekphrasis) (1.16.0)\n"
     ]
    },
    {
     "name": "stderr",
     "output_type": "stream",
     "text": [
      "\n",
      "[notice] A new release of pip is available: 23.3.2 -> 24.1.2\n",
      "[notice] To update, run: python.exe -m pip install --upgrade pip\n"
     ]
    }
   ],
   "source": [
    "!py -m pip install ekphrasis"
   ]
  },
  {
   "cell_type": "code",
   "execution_count": 2,
   "metadata": {},
   "outputs": [
    {
     "name": "stdout",
     "output_type": "stream",
     "text": [
      "d:\\Internship\\CEEW\n"
     ]
    }
   ],
   "source": [
    "cd d:\\\\Internship\\\\CEEW"
   ]
  },
  {
   "cell_type": "code",
   "execution_count": 28,
   "metadata": {},
   "outputs": [
    {
     "name": "stdout",
     "output_type": "stream",
     "text": [
      "Reading english - 1grams ...\n",
      "Reading english - 2grams ...\n"
     ]
    }
   ],
   "source": [
    "import pandas as pd\n",
    "from tqdm import tqdm\n",
    "from ekphrasis.classes.segmenter import Segmenter\n",
    "import os\n",
    "import re\n",
    "import csv\n",
    "from textblob import TextBlob\n",
    "\n",
    "# Initialize Ekphrasis segmenter with English Wikipedia corpus\n",
    "seg_eng = Segmenter(corpus=\"english\")\n",
    "\n",
    "# Function to segment text using Ekphrasis\n",
    "def segment_text(text, segmenter):\n",
    "    try:\n",
    "        segmented_text = segmenter.segment(text)\n",
    "        return segmented_text\n",
    "    except Exception as e:\n",
    "        print(f\"Error processing text: {e}\")\n",
    "        return None"
   ]
  },
  {
   "cell_type": "code",
   "execution_count": 29,
   "metadata": {},
   "outputs": [],
   "source": [
    "# Function to correct spelling using TextBlob\n",
    "def correct_spelling(text):\n",
    "    try:\n",
    "        return str(TextBlob(text).correct())\n",
    "    except Exception as e:\n",
    "        print(f\"Error correcting spelling: {e}\")\n",
    "        return text\n",
    "\n",
    "# Process a single chunk\n",
    "# Process a single chunk\n",
    "def process_chunk(chunk):\n",
    "    if chunk is None or not isinstance(chunk, str):\n",
    "        return \"\"\n",
    "    \n",
    "    try:\n",
    "        # Split camel case/Pascal case words\n",
    "        segmented_text = segment_text(chunk, seg_eng)\n",
    "        # Correct spelling using TextBlob\n",
    "        corrected_text = correct_spelling(segmented_text)\n",
    "        # Segment text using Ekphrasis\n",
    "        return corrected_text\n",
    "    except Exception as e:\n",
    "        print(f\"Error processing chunk: {e}\")\n",
    "        return chunk"
   ]
  },
  {
   "cell_type": "code",
   "execution_count": 19,
   "metadata": {},
   "outputs": [],
   "source": [
    "def process_batch(batch, batch_number, output_checkpoint_base):\n",
    "    try:\n",
    "        cleaned_chunks = [process_chunk(chunk) for chunk in tqdm(batch, desc=f\"Processing batch {batch_number}\") if chunk is not None]\n",
    "        \n",
    "        # Save cleaned_chunks to a CSV file\n",
    "        checkpoint_csv = f\"{output_checkpoint_base}{batch_number}.csv\"\n",
    "        batch_df = pd.DataFrame(cleaned_chunks, columns=['Segmented_Document'])\n",
    "        batch_df.to_csv(checkpoint_csv, index=False)\n",
    "        \n",
    "        print(f\"Batch {batch_number} saved to {checkpoint_csv}\")\n",
    "    except Exception as e:\n",
    "        print(f\"Error processing batch {batch_number}: {e}\")"
   ]
  },
  {
   "cell_type": "code",
   "execution_count": 20,
   "metadata": {},
   "outputs": [],
   "source": [
    "# Function to merge all batches into a single CSV file\n",
    "def merge_batches(output_checkpoint_base, output_csv, total_batches):\n",
    "    try:\n",
    "        dfs = []\n",
    "        for batch_number in tqdm(range(1, total_batches + 1), desc=\"Merging batches\"):\n",
    "            checkpoint_csv = f\"{output_checkpoint_base}{batch_number}.csv\"\n",
    "            if os.path.exists(checkpoint_csv):\n",
    "                df_checkpoint = pd.read_csv(checkpoint_csv)\n",
    "                dfs.append(df_checkpoint)\n",
    "        \n",
    "        merged_df = pd.concat(dfs, ignore_index=True)\n",
    "        merged_df.to_csv(output_csv, index=False)\n",
    "        print(f\"All batches merged into {output_csv}\")\n",
    "    except Exception as e:\n",
    "        print(f\"Error merging batches: {e}\")"
   ]
  },
  {
   "cell_type": "code",
   "execution_count": 30,
   "metadata": {},
   "outputs": [],
   "source": [
    "# Main processing function\n",
    "def main(input_csv, output_checkpoint_base, output_csv, batch_size=1000):\n",
    "    try:\n",
    "        # Read CSV into a DataFrame\n",
    "        df = pd.read_csv(input_csv)\n",
    "        \n",
    "        # Extract text chunks\n",
    "        refined_chunks = df['Document'].tolist()\n",
    "        total_chunks = len(refined_chunks)\n",
    "        \n",
    "        print(f\"Total chunks to process: {total_chunks}\")\n",
    "\n",
    "        # Determine the last completed checkpoint\n",
    "        checkpoint_files = [f for f in os.listdir(os.path.dirname(output_checkpoint_base)) if f.startswith(os.path.basename(output_checkpoint_base))]\n",
    "        completed_batches = sorted([int(f.split('_')[-1].split('.')[0]) for f in checkpoint_files])\n",
    "        start_batch = (completed_batches[-1] + 1) if completed_batches else 1\n",
    "\n",
    "        for batch_number in tqdm(range(start_batch, (total_chunks // batch_size) + 2), desc=\"Overall Progress\"):\n",
    "            start_index = (batch_number - 1) * batch_size\n",
    "            end_index = min(start_index + batch_size, total_chunks)\n",
    "            batch = refined_chunks[start_index:end_index]\n",
    "            process_batch(batch, batch_number, output_checkpoint_base)\n",
    "\n",
    "        total_batches = (total_chunks // batch_size) + 1\n",
    "        merge_batches(output_checkpoint_base, output_csv, total_batches)\n",
    "    except Exception as e:\n",
    "        print(f\"Error in main processing function: {e}\")"
   ]
  },
  {
   "cell_type": "code",
   "execution_count": 31,
   "metadata": {},
   "outputs": [
    {
     "name": "stdout",
     "output_type": "stream",
     "text": [
      "Total chunks to process: 92952\n"
     ]
    },
    {
     "name": "stderr",
     "output_type": "stream",
     "text": [
      "Processing batch 59:  78%|███████▊  | 778/1000 [1:11:42<20:27,  5.53s/it]\n"
     ]
    },
    {
     "name": "stdout",
     "output_type": "stream",
     "text": [
      "Error processing text: maximum recursion depth exceeded while calling a Python object\n",
      "Error correcting spelling: The `text` argument passed to `__init__(text)` must be a string, not <class 'NoneType'>\n"
     ]
    },
    {
     "name": "stderr",
     "output_type": "stream",
     "text": []
    },
    {
     "name": "stdout",
     "output_type": "stream",
     "text": [
      "Error processing text: maximum recursion depth exceeded while calling a Python object\n",
      "Error correcting spelling: The `text` argument passed to `__init__(text)` must be a string, not <class 'NoneType'>\n"
     ]
    },
    {
     "name": "stderr",
     "output_type": "stream",
     "text": [
      "Processing batch 59: 100%|██████████| 1000/1000 [02:12<00:00,  7.55it/s]\n",
      "Overall Progress:   3%|▎         | 1/35 [02:12<1:15:01, 132.39s/it]"
     ]
    },
    {
     "name": "stdout",
     "output_type": "stream",
     "text": [
      "Batch 59 saved to d:\\Internship\\CEEW\\cleaned_chunks_final_segmented_checkpoint_59.csv\n"
     ]
    },
    {
     "name": "stderr",
     "output_type": "stream",
     "text": []
    },
    {
     "name": "stdout",
     "output_type": "stream",
     "text": [
      "Error processing text: maximum recursion depth exceeded while calling a Python object\n",
      "Error correcting spelling: The `text` argument passed to `__init__(text)` must be a string, not <class 'NoneType'>\n"
     ]
    },
    {
     "name": "stderr",
     "output_type": "stream",
     "text": []
    },
    {
     "name": "stdout",
     "output_type": "stream",
     "text": [
      "Error processing text: maximum recursion depth exceeded while calling a Python object\n",
      "Error correcting spelling: The `text` argument passed to `__init__(text)` must be a string, not <class 'NoneType'>\n"
     ]
    },
    {
     "name": "stderr",
     "output_type": "stream",
     "text": [
      "Processing batch 60: 100%|██████████| 1000/1000 [01:58<00:00,  8.41it/s]\n",
      "Overall Progress:   6%|▌         | 2/35 [04:11<1:08:28, 124.49s/it]"
     ]
    },
    {
     "name": "stdout",
     "output_type": "stream",
     "text": [
      "Batch 60 saved to d:\\Internship\\CEEW\\cleaned_chunks_final_segmented_checkpoint_60.csv\n"
     ]
    },
    {
     "name": "stderr",
     "output_type": "stream",
     "text": [
      "Processing batch 61: 100%|██████████| 1000/1000 [01:58<00:00,  8.44it/s]\n",
      "Overall Progress:   9%|▊         | 3/35 [06:09<1:04:56, 121.78s/it]"
     ]
    },
    {
     "name": "stdout",
     "output_type": "stream",
     "text": [
      "Batch 61 saved to d:\\Internship\\CEEW\\cleaned_chunks_final_segmented_checkpoint_61.csv\n"
     ]
    },
    {
     "name": "stderr",
     "output_type": "stream",
     "text": [
      "Processing batch 62: 100%|██████████| 1000/1000 [00:58<00:00, 17.02it/s]\n",
      "Overall Progress:  11%|█▏        | 4/35 [07:08<50:03, 96.90s/it]   "
     ]
    },
    {
     "name": "stdout",
     "output_type": "stream",
     "text": [
      "Batch 62 saved to d:\\Internship\\CEEW\\cleaned_chunks_final_segmented_checkpoint_62.csv\n"
     ]
    },
    {
     "name": "stderr",
     "output_type": "stream",
     "text": [
      "Processing batch 63: 100%|██████████| 1000/1000 [01:08<00:00, 14.55it/s]\n",
      "Overall Progress:  14%|█▍        | 5/35 [08:17<43:22, 86.75s/it]"
     ]
    },
    {
     "name": "stdout",
     "output_type": "stream",
     "text": [
      "Batch 63 saved to d:\\Internship\\CEEW\\cleaned_chunks_final_segmented_checkpoint_63.csv\n"
     ]
    },
    {
     "name": "stderr",
     "output_type": "stream",
     "text": [
      "Processing batch 64: 100%|██████████| 1000/1000 [01:38<00:00, 10.14it/s]\n",
      "Overall Progress:  17%|█▋        | 6/35 [09:55<43:52, 90.77s/it]"
     ]
    },
    {
     "name": "stdout",
     "output_type": "stream",
     "text": [
      "Batch 64 saved to d:\\Internship\\CEEW\\cleaned_chunks_final_segmented_checkpoint_64.csv\n"
     ]
    },
    {
     "name": "stderr",
     "output_type": "stream",
     "text": [
      "Processing batch 65: 100%|██████████| 1000/1000 [01:57<00:00,  8.52it/s]\n",
      "Overall Progress:  20%|██        | 7/35 [11:53<46:25, 99.49s/it]"
     ]
    },
    {
     "name": "stdout",
     "output_type": "stream",
     "text": [
      "Batch 65 saved to d:\\Internship\\CEEW\\cleaned_chunks_final_segmented_checkpoint_65.csv\n"
     ]
    },
    {
     "name": "stderr",
     "output_type": "stream",
     "text": [
      "Processing batch 66: 100%|██████████| 1000/1000 [01:41<00:00,  9.83it/s]\n",
      "Overall Progress:  23%|██▎       | 8/35 [13:35<45:05, 100.22s/it]"
     ]
    },
    {
     "name": "stdout",
     "output_type": "stream",
     "text": [
      "Batch 66 saved to d:\\Internship\\CEEW\\cleaned_chunks_final_segmented_checkpoint_66.csv\n"
     ]
    },
    {
     "name": "stderr",
     "output_type": "stream",
     "text": [
      "Processing batch 67: 100%|██████████| 1000/1000 [01:55<00:00,  8.62it/s]\n",
      "Overall Progress:  26%|██▌       | 9/35 [15:31<45:33, 105.15s/it]"
     ]
    },
    {
     "name": "stdout",
     "output_type": "stream",
     "text": [
      "Batch 67 saved to d:\\Internship\\CEEW\\cleaned_chunks_final_segmented_checkpoint_67.csv\n"
     ]
    },
    {
     "name": "stderr",
     "output_type": "stream",
     "text": [
      "Processing batch 68: 100%|██████████| 1000/1000 [00:59<00:00, 16.89it/s]\n",
      "Overall Progress:  29%|██▊       | 10/35 [16:30<37:54, 90.97s/it]"
     ]
    },
    {
     "name": "stdout",
     "output_type": "stream",
     "text": [
      "Batch 68 saved to d:\\Internship\\CEEW\\cleaned_chunks_final_segmented_checkpoint_68.csv\n"
     ]
    },
    {
     "name": "stderr",
     "output_type": "stream",
     "text": [
      "Processing batch 69: 100%|██████████| 1000/1000 [00:51<00:00, 19.59it/s]\n",
      "Overall Progress:  31%|███▏      | 11/35 [17:21<31:30, 78.75s/it]"
     ]
    },
    {
     "name": "stdout",
     "output_type": "stream",
     "text": [
      "Batch 69 saved to d:\\Internship\\CEEW\\cleaned_chunks_final_segmented_checkpoint_69.csv\n"
     ]
    },
    {
     "name": "stderr",
     "output_type": "stream",
     "text": [
      "Processing batch 70: 100%|██████████| 1000/1000 [00:46<00:00, 21.35it/s]\n",
      "Overall Progress:  34%|███▍      | 12/35 [18:08<26:28, 69.05s/it]"
     ]
    },
    {
     "name": "stdout",
     "output_type": "stream",
     "text": [
      "Batch 70 saved to d:\\Internship\\CEEW\\cleaned_chunks_final_segmented_checkpoint_70.csv\n"
     ]
    },
    {
     "name": "stderr",
     "output_type": "stream",
     "text": [
      "Processing batch 71: 100%|██████████| 1000/1000 [00:43<00:00, 22.82it/s]\n",
      "Overall Progress:  37%|███▋      | 13/35 [18:52<22:30, 61.40s/it]"
     ]
    },
    {
     "name": "stdout",
     "output_type": "stream",
     "text": [
      "Batch 71 saved to d:\\Internship\\CEEW\\cleaned_chunks_final_segmented_checkpoint_71.csv\n"
     ]
    },
    {
     "name": "stderr",
     "output_type": "stream",
     "text": [
      "Processing batch 72: 100%|██████████| 1000/1000 [00:45<00:00, 21.76it/s]\n",
      "Overall Progress:  40%|████      | 14/35 [19:38<19:51, 56.74s/it]"
     ]
    },
    {
     "name": "stdout",
     "output_type": "stream",
     "text": [
      "Batch 72 saved to d:\\Internship\\CEEW\\cleaned_chunks_final_segmented_checkpoint_72.csv\n"
     ]
    },
    {
     "name": "stderr",
     "output_type": "stream",
     "text": [
      "Processing batch 73: 100%|██████████| 1000/1000 [00:48<00:00, 20.45it/s]\n",
      "Overall Progress:  43%|████▎     | 15/35 [20:26<18:07, 54.38s/it]"
     ]
    },
    {
     "name": "stdout",
     "output_type": "stream",
     "text": [
      "Batch 73 saved to d:\\Internship\\CEEW\\cleaned_chunks_final_segmented_checkpoint_73.csv\n"
     ]
    },
    {
     "name": "stderr",
     "output_type": "stream",
     "text": [
      "Processing batch 74: 100%|██████████| 1000/1000 [00:35<00:00, 28.16it/s]\n",
      "Overall Progress:  46%|████▌     | 16/35 [21:02<15:25, 48.70s/it]"
     ]
    },
    {
     "name": "stdout",
     "output_type": "stream",
     "text": [
      "Batch 74 saved to d:\\Internship\\CEEW\\cleaned_chunks_final_segmented_checkpoint_74.csv\n"
     ]
    },
    {
     "name": "stderr",
     "output_type": "stream",
     "text": [
      "Processing batch 75: 100%|██████████| 1000/1000 [00:39<00:00, 25.41it/s]\n",
      "Overall Progress:  49%|████▊     | 17/35 [21:41<13:46, 45.89s/it]"
     ]
    },
    {
     "name": "stdout",
     "output_type": "stream",
     "text": [
      "Batch 75 saved to d:\\Internship\\CEEW\\cleaned_chunks_final_segmented_checkpoint_75.csv\n"
     ]
    },
    {
     "name": "stderr",
     "output_type": "stream",
     "text": [
      "Processing batch 76: 100%|██████████| 1000/1000 [01:03<00:00, 15.80it/s]\n",
      "Overall Progress:  51%|█████▏    | 18/35 [22:45<14:29, 51.12s/it]"
     ]
    },
    {
     "name": "stdout",
     "output_type": "stream",
     "text": [
      "Batch 76 saved to d:\\Internship\\CEEW\\cleaned_chunks_final_segmented_checkpoint_76.csv\n"
     ]
    },
    {
     "name": "stderr",
     "output_type": "stream",
     "text": [
      "Processing batch 77: 100%|██████████| 1000/1000 [01:20<00:00, 12.43it/s]\n",
      "Overall Progress:  54%|█████▍    | 19/35 [24:05<15:58, 59.93s/it]"
     ]
    },
    {
     "name": "stdout",
     "output_type": "stream",
     "text": [
      "Batch 77 saved to d:\\Internship\\CEEW\\cleaned_chunks_final_segmented_checkpoint_77.csv\n"
     ]
    },
    {
     "name": "stderr",
     "output_type": "stream",
     "text": [
      "Processing batch 78: 100%|██████████| 1000/1000 [01:28<00:00, 11.32it/s]\n",
      "Overall Progress:  57%|█████▋    | 20/35 [25:33<17:06, 68.46s/it]"
     ]
    },
    {
     "name": "stdout",
     "output_type": "stream",
     "text": [
      "Batch 78 saved to d:\\Internship\\CEEW\\cleaned_chunks_final_segmented_checkpoint_78.csv\n"
     ]
    },
    {
     "name": "stderr",
     "output_type": "stream",
     "text": [
      "Processing batch 79: 100%|██████████| 1000/1000 [01:09<00:00, 14.34it/s]\n",
      "Overall Progress:  60%|██████    | 21/35 [26:43<16:03, 68.84s/it]"
     ]
    },
    {
     "name": "stdout",
     "output_type": "stream",
     "text": [
      "Batch 79 saved to d:\\Internship\\CEEW\\cleaned_chunks_final_segmented_checkpoint_79.csv\n"
     ]
    },
    {
     "name": "stderr",
     "output_type": "stream",
     "text": [
      "Processing batch 80: 100%|██████████| 1000/1000 [00:58<00:00, 17.21it/s]\n",
      "Overall Progress:  63%|██████▎   | 22/35 [27:41<14:13, 65.62s/it]"
     ]
    },
    {
     "name": "stdout",
     "output_type": "stream",
     "text": [
      "Batch 80 saved to d:\\Internship\\CEEW\\cleaned_chunks_final_segmented_checkpoint_80.csv\n"
     ]
    },
    {
     "name": "stderr",
     "output_type": "stream",
     "text": [
      "Processing batch 81: 100%|██████████| 1000/1000 [00:55<00:00, 18.15it/s]\n",
      "Overall Progress:  66%|██████▌   | 23/35 [28:36<12:29, 62.46s/it]"
     ]
    },
    {
     "name": "stdout",
     "output_type": "stream",
     "text": [
      "Batch 81 saved to d:\\Internship\\CEEW\\cleaned_chunks_final_segmented_checkpoint_81.csv\n"
     ]
    },
    {
     "name": "stderr",
     "output_type": "stream",
     "text": [
      "Processing batch 82: 100%|██████████| 1000/1000 [01:01<00:00, 16.27it/s]\n",
      "Overall Progress:  69%|██████▊   | 24/35 [29:38<11:23, 62.16s/it]"
     ]
    },
    {
     "name": "stdout",
     "output_type": "stream",
     "text": [
      "Batch 82 saved to d:\\Internship\\CEEW\\cleaned_chunks_final_segmented_checkpoint_82.csv\n"
     ]
    },
    {
     "name": "stderr",
     "output_type": "stream",
     "text": [
      "Processing batch 83: 100%|██████████| 1000/1000 [01:22<00:00, 12.18it/s]\n",
      "Overall Progress:  71%|███████▏  | 25/35 [31:00<11:21, 68.14s/it]"
     ]
    },
    {
     "name": "stdout",
     "output_type": "stream",
     "text": [
      "Batch 83 saved to d:\\Internship\\CEEW\\cleaned_chunks_final_segmented_checkpoint_83.csv\n"
     ]
    },
    {
     "name": "stderr",
     "output_type": "stream",
     "text": [
      "Processing batch 84: 100%|██████████| 1000/1000 [01:18<00:00, 12.80it/s]\n",
      "Overall Progress:  74%|███████▍  | 26/35 [32:18<10:40, 71.15s/it]"
     ]
    },
    {
     "name": "stdout",
     "output_type": "stream",
     "text": [
      "Batch 84 saved to d:\\Internship\\CEEW\\cleaned_chunks_final_segmented_checkpoint_84.csv\n"
     ]
    },
    {
     "name": "stderr",
     "output_type": "stream",
     "text": [
      "Processing batch 85: 100%|██████████| 1000/1000 [01:16<00:00, 13.11it/s]\n",
      "Overall Progress:  77%|███████▋  | 27/35 [33:34<09:41, 72.68s/it]"
     ]
    },
    {
     "name": "stdout",
     "output_type": "stream",
     "text": [
      "Batch 85 saved to d:\\Internship\\CEEW\\cleaned_chunks_final_segmented_checkpoint_85.csv\n"
     ]
    },
    {
     "name": "stderr",
     "output_type": "stream",
     "text": [
      "Processing batch 86: 100%|██████████| 1000/1000 [00:57<00:00, 17.35it/s]\n",
      "Overall Progress:  80%|████████  | 28/35 [34:32<07:57, 68.17s/it]"
     ]
    },
    {
     "name": "stdout",
     "output_type": "stream",
     "text": [
      "Batch 86 saved to d:\\Internship\\CEEW\\cleaned_chunks_final_segmented_checkpoint_86.csv\n"
     ]
    },
    {
     "name": "stderr",
     "output_type": "stream",
     "text": [
      "Processing batch 87: 100%|██████████| 1000/1000 [01:19<00:00, 12.53it/s]\n",
      "Overall Progress:  83%|████████▎ | 29/35 [35:52<07:09, 71.66s/it]"
     ]
    },
    {
     "name": "stdout",
     "output_type": "stream",
     "text": [
      "Batch 87 saved to d:\\Internship\\CEEW\\cleaned_chunks_final_segmented_checkpoint_87.csv\n"
     ]
    },
    {
     "name": "stderr",
     "output_type": "stream",
     "text": [
      "Processing batch 88: 100%|██████████| 1000/1000 [01:14<00:00, 13.42it/s]\n",
      "Overall Progress:  86%|████████▌ | 30/35 [37:06<06:02, 72.52s/it]"
     ]
    },
    {
     "name": "stdout",
     "output_type": "stream",
     "text": [
      "Batch 88 saved to d:\\Internship\\CEEW\\cleaned_chunks_final_segmented_checkpoint_88.csv\n"
     ]
    },
    {
     "name": "stderr",
     "output_type": "stream",
     "text": [
      "Processing batch 89: 100%|██████████| 1000/1000 [01:31<00:00, 10.98it/s]\n",
      "Overall Progress:  89%|████████▊ | 31/35 [38:37<05:12, 78.10s/it]"
     ]
    },
    {
     "name": "stdout",
     "output_type": "stream",
     "text": [
      "Batch 89 saved to d:\\Internship\\CEEW\\cleaned_chunks_final_segmented_checkpoint_89.csv\n"
     ]
    },
    {
     "name": "stderr",
     "output_type": "stream",
     "text": [
      "Processing batch 90: 100%|██████████| 1000/1000 [01:40<00:00,  9.98it/s]\n",
      "Overall Progress:  91%|█████████▏| 32/35 [40:18<04:14, 84.73s/it]"
     ]
    },
    {
     "name": "stdout",
     "output_type": "stream",
     "text": [
      "Batch 90 saved to d:\\Internship\\CEEW\\cleaned_chunks_final_segmented_checkpoint_90.csv\n"
     ]
    },
    {
     "name": "stderr",
     "output_type": "stream",
     "text": [
      "Processing batch 91: 100%|██████████| 1000/1000 [01:09<00:00, 14.29it/s]\n",
      "Overall Progress:  94%|█████████▍| 33/35 [41:28<02:40, 80.30s/it]"
     ]
    },
    {
     "name": "stdout",
     "output_type": "stream",
     "text": [
      "Batch 91 saved to d:\\Internship\\CEEW\\cleaned_chunks_final_segmented_checkpoint_91.csv\n"
     ]
    },
    {
     "name": "stderr",
     "output_type": "stream",
     "text": [
      "Processing batch 92: 100%|██████████| 1000/1000 [01:11<00:00, 13.97it/s]\n",
      "Overall Progress:  97%|█████████▋| 34/35 [42:39<01:17, 77.69s/it]"
     ]
    },
    {
     "name": "stdout",
     "output_type": "stream",
     "text": [
      "Batch 92 saved to d:\\Internship\\CEEW\\cleaned_chunks_final_segmented_checkpoint_92.csv\n"
     ]
    },
    {
     "name": "stderr",
     "output_type": "stream",
     "text": [
      "Processing batch 93: 100%|██████████| 952/952 [01:09<00:00, 13.78it/s]\n",
      "Overall Progress: 100%|██████████| 35/35 [43:48<00:00, 75.11s/it]\n"
     ]
    },
    {
     "name": "stdout",
     "output_type": "stream",
     "text": [
      "Batch 93 saved to d:\\Internship\\CEEW\\cleaned_chunks_final_segmented_checkpoint_93.csv\n"
     ]
    },
    {
     "name": "stderr",
     "output_type": "stream",
     "text": [
      "Merging batches: 100%|██████████| 93/93 [00:00<00:00, 303.92it/s]\n"
     ]
    },
    {
     "name": "stdout",
     "output_type": "stream",
     "text": [
      "All batches merged into d:\\Internship\\CEEW\\cleaned_chunks_final_segmented.csv\n"
     ]
    }
   ],
   "source": [
    "# File paths\n",
    "input_csv = \"d:\\\\Internship\\\\CEEW\\\\cleaned_chunks_final.csv\"\n",
    "output_checkpoint_base = \"d:\\\\Internship\\\\CEEW\\\\cleaned_chunks_final_segmented_checkpoint_\"\n",
    "output_csv = \"d:\\\\Internship\\\\CEEW\\\\cleaned_chunks_final_segmented.csv\"\n",
    "\n",
    "# Run the main function\n",
    "main(input_csv, output_checkpoint_base, output_csv)"
   ]
  }
 ],
 "metadata": {
  "kernelspec": {
   "display_name": "Python 3",
   "language": "python",
   "name": "python3"
  },
  "language_info": {
   "codemirror_mode": {
    "name": "ipython",
    "version": 3
   },
   "file_extension": ".py",
   "mimetype": "text/x-python",
   "name": "python",
   "nbconvert_exporter": "python",
   "pygments_lexer": "ipython3",
   "version": "3.11.4"
  }
 },
 "nbformat": 4,
 "nbformat_minor": 2
}
