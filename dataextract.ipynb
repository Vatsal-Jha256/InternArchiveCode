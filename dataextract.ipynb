{
 "cells": [
  {
   "cell_type": "code",
   "execution_count": 2,
   "metadata": {},
   "outputs": [
    {
     "name": "stdout",
     "output_type": "stream",
     "text": [
      "d:\\Internship\\CEEW\n"
     ]
    }
   ],
   "source": [
    "cd Internship/CEEW/"
   ]
  },
  {
   "cell_type": "code",
   "execution_count": 5,
   "metadata": {},
   "outputs": [
    {
     "name": "stdout",
     "output_type": "stream",
     "text": [
      "Requirement already satisfied: PyPDF2 in c:\\users\\krishna\\appdata\\local\\programs\\python\\python311\\lib\\site-packages (3.0.1)\n"
     ]
    },
    {
     "name": "stderr",
     "output_type": "stream",
     "text": [
      "\n",
      "[notice] A new release of pip is available: 23.3.2 -> 24.2\n",
      "[notice] To update, run: python.exe -m pip install --upgrade pip\n"
     ]
    }
   ],
   "source": [
    "!py -m pip install PyPDF2"
   ]
  },
  {
   "cell_type": "code",
   "execution_count": 2,
   "metadata": {},
   "outputs": [],
   "source": [
    "import pandas as pd\n",
    "import requests\n",
    "import io\n",
    "import re\n",
    "import PyPDF2\n",
    "import os"
   ]
  },
  {
   "cell_type": "code",
   "execution_count": 3,
   "metadata": {},
   "outputs": [],
   "source": [
    "# Define the path for saving PDFs and the output CSV\n",
    "output_folder = \"Jobpdfs\"\n",
    "os.makedirs(output_folder, exist_ok=True)\n",
    "output_csv_path = os.path.join(output_folder, \"extracted_job_info.csv\")"
   ]
  },
  {
   "cell_type": "code",
   "execution_count": 4,
   "metadata": {},
   "outputs": [],
   "source": [
    "# Load the dataset\n",
    "df = pd.read_excel(\"D:\\\\Internship\\\\CEEW\\\\TM - QP list 30Apr24.xlsx\")\n",
    "\n",
    "# Define the list of sectors to keep\n",
    "sectors_to_keep = ['Automotive', 'Food Processing', 'Green Jobs',\n",
    "                   'Handicrafts and Carpet', 'Iron and Steel', 'Mining',\n",
    "                   'Textile', 'Tourism & Hospitality']\n",
    "\n",
    "# Filter the DataFrame to keep only the specified sectors\n",
    "filtered_df = df[df['Sector'].isin(sectors_to_keep)]"
   ]
  },
  {
   "cell_type": "code",
   "execution_count": 5,
   "metadata": {},
   "outputs": [
    {
     "data": {
      "text/html": [
       "<div>\n",
       "<style scoped>\n",
       "    .dataframe tbody tr th:only-of-type {\n",
       "        vertical-align: middle;\n",
       "    }\n",
       "\n",
       "    .dataframe tbody tr th {\n",
       "        vertical-align: top;\n",
       "    }\n",
       "\n",
       "    .dataframe thead th {\n",
       "        text-align: right;\n",
       "    }\n",
       "</style>\n",
       "<table border=\"1\" class=\"dataframe\">\n",
       "  <thead>\n",
       "    <tr style=\"text-align: right;\">\n",
       "      <th></th>\n",
       "      <th>S No.</th>\n",
       "      <th>Sector</th>\n",
       "      <th>Sub Sector</th>\n",
       "      <th>Occupation</th>\n",
       "      <th>QP/Job Role Name</th>\n",
       "      <th>Unnamed: 5</th>\n",
       "      <th>QP/Job Role Code</th>\n",
       "      <th>Version</th>\n",
       "      <th>Last Reviewed On(DD/MM/YYYY)</th>\n",
       "      <th>Next Review Date(DD/MM/YYYY)</th>\n",
       "      <th>...</th>\n",
       "      <th>Common Norms Category</th>\n",
       "      <th>Manufacturing/Services/Agriculture</th>\n",
       "      <th>Deactivation Date(DD/MM/YYYY)</th>\n",
       "      <th>Technical/Non Technical</th>\n",
       "      <th>Organised Or Unorganised Or Both</th>\n",
       "      <th>NQR code</th>\n",
       "      <th>QP Type</th>\n",
       "      <th>Minimum Education Qualification &amp; Experience</th>\n",
       "      <th>Minimum Job Entry Age</th>\n",
       "      <th>Link</th>\n",
       "    </tr>\n",
       "  </thead>\n",
       "  <tbody>\n",
       "    <tr>\n",
       "      <th>249</th>\n",
       "      <td>250</td>\n",
       "      <td>Automotive</td>\n",
       "      <td>Automotive Vehicle Sales (Dealer)</td>\n",
       "      <td>Vehicle Sales</td>\n",
       "      <td>Automotive Sales Executive</td>\n",
       "      <td>Automotive_Automotive Sales Executive</td>\n",
       "      <td>ASC/Q1001</td>\n",
       "      <td>2.0</td>\n",
       "      <td>25/11/2021</td>\n",
       "      <td>25/11/2026</td>\n",
       "      <td>...</td>\n",
       "      <td>II</td>\n",
       "      <td>Services</td>\n",
       "      <td>NaN</td>\n",
       "      <td>Non-Technical</td>\n",
       "      <td>Both</td>\n",
       "      <td>2021/AUT/ASDC/04685</td>\n",
       "      <td>NaN</td>\n",
       "      <td>12th Class and 2 Years Experience  - of releva...</td>\n",
       "      <td>18</td>\n",
       "      <td>https://s3.ap-south-1.amazonaws.com/nsdcproddo...</td>\n",
       "    </tr>\n",
       "    <tr>\n",
       "      <th>250</th>\n",
       "      <td>251</td>\n",
       "      <td>Automotive</td>\n",
       "      <td>Automotive Vehicle Sales (Dealer)</td>\n",
       "      <td>Vehicle Sales</td>\n",
       "      <td>Automotive Sales Executive</td>\n",
       "      <td>Automotive_Automotive Sales Executive</td>\n",
       "      <td>ASC/Q1001</td>\n",
       "      <td>3.0</td>\n",
       "      <td>NaN</td>\n",
       "      <td>25/11/2025</td>\n",
       "      <td>...</td>\n",
       "      <td>II</td>\n",
       "      <td>Services</td>\n",
       "      <td>NaN</td>\n",
       "      <td>Non-Technical</td>\n",
       "      <td>Organized</td>\n",
       "      <td>2021/AUT/ASDC/04685</td>\n",
       "      <td>Unique</td>\n",
       "      <td>12th Class,10th Class - + 2 years ITI,Certific...</td>\n",
       "      <td>18</td>\n",
       "      <td>https://s3.ap-south-1.amazonaws.com/nsdcproddo...</td>\n",
       "    </tr>\n",
       "    <tr>\n",
       "      <th>251</th>\n",
       "      <td>252</td>\n",
       "      <td>Automotive</td>\n",
       "      <td>Automotive Vehicle Sales (Dealer)</td>\n",
       "      <td>Vehicle Sales</td>\n",
       "      <td>Automotive Sales Executive</td>\n",
       "      <td>Automotive_Automotive Sales Executive</td>\n",
       "      <td>ASC/Q1001</td>\n",
       "      <td>4.0</td>\n",
       "      <td>NaN</td>\n",
       "      <td>25/11/2025</td>\n",
       "      <td>...</td>\n",
       "      <td>II</td>\n",
       "      <td>Services</td>\n",
       "      <td>NaN</td>\n",
       "      <td>Non-Technical</td>\n",
       "      <td>Organized</td>\n",
       "      <td>2021/AUT/ASDC/04685</td>\n",
       "      <td>Unique</td>\n",
       "      <td>10th Class - + 1 year ITI,10th Class - pass an...</td>\n",
       "      <td>18</td>\n",
       "      <td>https://s3.ap-south-1.amazonaws.com/nsdcproddo...</td>\n",
       "    </tr>\n",
       "    <tr>\n",
       "      <th>252</th>\n",
       "      <td>253</td>\n",
       "      <td>Automotive</td>\n",
       "      <td>Automotive Vehicle Sales (Dealer)</td>\n",
       "      <td>Vehicle Sales</td>\n",
       "      <td>Automotive Sales Executive</td>\n",
       "      <td>Automotive_Automotive Sales Executive</td>\n",
       "      <td>ASC/Q1001</td>\n",
       "      <td>5.0</td>\n",
       "      <td>NaN</td>\n",
       "      <td>17/11/2025</td>\n",
       "      <td>...</td>\n",
       "      <td>II</td>\n",
       "      <td>Services</td>\n",
       "      <td>NaN</td>\n",
       "      <td>Non-Technical</td>\n",
       "      <td>Organized</td>\n",
       "      <td>2022/AUT/ASDC/06573</td>\n",
       "      <td>Unique</td>\n",
       "      <td>10th Class - + 1 year ITI,10th Class - pass an...</td>\n",
       "      <td>18</td>\n",
       "      <td>https://s3.ap-south-1.amazonaws.com/nsdcproddo...</td>\n",
       "    </tr>\n",
       "    <tr>\n",
       "      <th>253</th>\n",
       "      <td>254</td>\n",
       "      <td>Automotive</td>\n",
       "      <td>Automotive Vehicle Sales (Dealer)</td>\n",
       "      <td>Vehicle Sales</td>\n",
       "      <td>Automotive Sales Consultant</td>\n",
       "      <td>Automotive_Automotive Sales Consultant</td>\n",
       "      <td>ASC/Q1005</td>\n",
       "      <td>2.0</td>\n",
       "      <td>18/08/2021</td>\n",
       "      <td>31/08/2024</td>\n",
       "      <td>...</td>\n",
       "      <td>II</td>\n",
       "      <td>Services</td>\n",
       "      <td>NaN</td>\n",
       "      <td>Non-Technical</td>\n",
       "      <td>Both</td>\n",
       "      <td>2021/AUT/ASDC/04434</td>\n",
       "      <td>NaN</td>\n",
       "      <td>Graduate - in any discipline and 1 Year Experi...</td>\n",
       "      <td>21</td>\n",
       "      <td>https://s3.ap-south-1.amazonaws.com/nsdcproddo...</td>\n",
       "    </tr>\n",
       "    <tr>\n",
       "      <th>...</th>\n",
       "      <td>...</td>\n",
       "      <td>...</td>\n",
       "      <td>...</td>\n",
       "      <td>...</td>\n",
       "      <td>...</td>\n",
       "      <td>...</td>\n",
       "      <td>...</td>\n",
       "      <td>...</td>\n",
       "      <td>...</td>\n",
       "      <td>...</td>\n",
       "      <td>...</td>\n",
       "      <td>...</td>\n",
       "      <td>...</td>\n",
       "      <td>...</td>\n",
       "      <td>...</td>\n",
       "      <td>...</td>\n",
       "      <td>...</td>\n",
       "      <td>...</td>\n",
       "      <td>...</td>\n",
       "      <td>...</td>\n",
       "      <td>...</td>\n",
       "    </tr>\n",
       "    <tr>\n",
       "      <th>2725</th>\n",
       "      <td>2726</td>\n",
       "      <td>Textile</td>\n",
       "      <td>Handloom &amp; Khadi</td>\n",
       "      <td>Spinner</td>\n",
       "      <td>Hand Spinning Operator</td>\n",
       "      <td>Textile_Hand Spinning Operator</td>\n",
       "      <td>TSC/Q7901</td>\n",
       "      <td>3.0</td>\n",
       "      <td>NaN</td>\n",
       "      <td>25/11/2024</td>\n",
       "      <td>...</td>\n",
       "      <td>II</td>\n",
       "      <td>Manufacturing</td>\n",
       "      <td>NaN</td>\n",
       "      <td>Technical</td>\n",
       "      <td>Un-Organized</td>\n",
       "      <td>2022/TEXT/TSC/07050</td>\n",
       "      <td>Unique</td>\n",
       "      <td>9th Class - Grade 9 with No Experience (OR) Gr...</td>\n",
       "      <td>16</td>\n",
       "      <td>https://s3.ap-south-1.amazonaws.com/nsdcproddo...</td>\n",
       "    </tr>\n",
       "    <tr>\n",
       "      <th>2726</th>\n",
       "      <td>2727</td>\n",
       "      <td>Textile</td>\n",
       "      <td>Handloom &amp; Khadi</td>\n",
       "      <td>Spinner</td>\n",
       "      <td>Twister cum Doubler - Handloom</td>\n",
       "      <td>Textile_Twister cum Doubler - Handloom</td>\n",
       "      <td>TSC/Q7902</td>\n",
       "      <td>3.0</td>\n",
       "      <td>NaN</td>\n",
       "      <td>31/03/2025</td>\n",
       "      <td>...</td>\n",
       "      <td>I</td>\n",
       "      <td>Manufacturing</td>\n",
       "      <td>NaN</td>\n",
       "      <td>Technical</td>\n",
       "      <td>Un-Organized</td>\n",
       "      <td>2022/TEXT/TSC/07028</td>\n",
       "      <td>Unique</td>\n",
       "      <td>Ability to read and write</td>\n",
       "      <td>18</td>\n",
       "      <td>https://s3.ap-south-1.amazonaws.com/nsdcproddo...</td>\n",
       "    </tr>\n",
       "    <tr>\n",
       "      <th>2727</th>\n",
       "      <td>2728</td>\n",
       "      <td>Textile</td>\n",
       "      <td>Technical Textiles</td>\n",
       "      <td>Spinning - Technical Textiles</td>\n",
       "      <td>Tape Plant Operator</td>\n",
       "      <td>Textile_Tape Plant Operator</td>\n",
       "      <td>TSC/Q8201</td>\n",
       "      <td>3.0</td>\n",
       "      <td>NaN</td>\n",
       "      <td>31/03/2025</td>\n",
       "      <td>...</td>\n",
       "      <td>I</td>\n",
       "      <td>Manufacturing</td>\n",
       "      <td>NaN</td>\n",
       "      <td>Technical</td>\n",
       "      <td>Organized</td>\n",
       "      <td>2022/TEXT/TSC/07079</td>\n",
       "      <td>QP with Electives</td>\n",
       "      <td>9th Class - with No Experience (OR) Grade 8 pa...</td>\n",
       "      <td>18</td>\n",
       "      <td>https://s3.ap-south-1.amazonaws.com/nsdcproddo...</td>\n",
       "    </tr>\n",
       "    <tr>\n",
       "      <th>2728</th>\n",
       "      <td>2729</td>\n",
       "      <td>Textile</td>\n",
       "      <td>Technical Textiles</td>\n",
       "      <td>Post Spinning - Technical Textiles</td>\n",
       "      <td>Tape Winder</td>\n",
       "      <td>Textile_Tape Winder</td>\n",
       "      <td>TSC/Q8301</td>\n",
       "      <td>3.0</td>\n",
       "      <td>NaN</td>\n",
       "      <td>31/03/2025</td>\n",
       "      <td>...</td>\n",
       "      <td>I</td>\n",
       "      <td>Manufacturing</td>\n",
       "      <td>NaN</td>\n",
       "      <td>Technical</td>\n",
       "      <td>Organized</td>\n",
       "      <td>2022/TEXT/TSC/07080</td>\n",
       "      <td>Unique</td>\n",
       "      <td>9th Class - with No Experience (OR) Grade 8 pa...</td>\n",
       "      <td>18</td>\n",
       "      <td>https://s3.ap-south-1.amazonaws.com/nsdcproddo...</td>\n",
       "    </tr>\n",
       "    <tr>\n",
       "      <th>2729</th>\n",
       "      <td>2730</td>\n",
       "      <td>Textile</td>\n",
       "      <td>Technical Textiles</td>\n",
       "      <td>Weaving - Technical Textiles</td>\n",
       "      <td>Circular loom operator (Shuttle type)</td>\n",
       "      <td>Textile_Circular loom operator (Shuttle type)</td>\n",
       "      <td>TSC/Q8401</td>\n",
       "      <td>3.0</td>\n",
       "      <td>NaN</td>\n",
       "      <td>31/03/2025</td>\n",
       "      <td>...</td>\n",
       "      <td>I</td>\n",
       "      <td>Manufacturing</td>\n",
       "      <td>NaN</td>\n",
       "      <td>Technical</td>\n",
       "      <td>Organized</td>\n",
       "      <td>2022/TEXT/TSC/07081</td>\n",
       "      <td>Unique</td>\n",
       "      <td>9th Class - with No Experience (OR) Grade 8 pa...</td>\n",
       "      <td>18</td>\n",
       "      <td>https://s3.ap-south-1.amazonaws.com/nsdcproddo...</td>\n",
       "    </tr>\n",
       "  </tbody>\n",
       "</table>\n",
       "<p>838 rows × 22 columns</p>\n",
       "</div>"
      ],
      "text/plain": [
       "      S No.      Sector                         Sub Sector  \\\n",
       "249     250  Automotive  Automotive Vehicle Sales (Dealer)   \n",
       "250     251  Automotive  Automotive Vehicle Sales (Dealer)   \n",
       "251     252  Automotive  Automotive Vehicle Sales (Dealer)   \n",
       "252     253  Automotive  Automotive Vehicle Sales (Dealer)   \n",
       "253     254  Automotive  Automotive Vehicle Sales (Dealer)   \n",
       "...     ...         ...                                ...   \n",
       "2725   2726     Textile                   Handloom & Khadi   \n",
       "2726   2727     Textile                   Handloom & Khadi   \n",
       "2727   2728     Textile                 Technical Textiles   \n",
       "2728   2729     Textile                 Technical Textiles   \n",
       "2729   2730     Textile                 Technical Textiles   \n",
       "\n",
       "                              Occupation  \\\n",
       "249                        Vehicle Sales   \n",
       "250                        Vehicle Sales   \n",
       "251                        Vehicle Sales   \n",
       "252                        Vehicle Sales   \n",
       "253                        Vehicle Sales   \n",
       "...                                  ...   \n",
       "2725                             Spinner   \n",
       "2726                             Spinner   \n",
       "2727       Spinning - Technical Textiles   \n",
       "2728  Post Spinning - Technical Textiles   \n",
       "2729        Weaving - Technical Textiles   \n",
       "\n",
       "                           QP/Job Role Name  \\\n",
       "249              Automotive Sales Executive   \n",
       "250              Automotive Sales Executive   \n",
       "251              Automotive Sales Executive   \n",
       "252              Automotive Sales Executive   \n",
       "253             Automotive Sales Consultant   \n",
       "...                                     ...   \n",
       "2725                 Hand Spinning Operator   \n",
       "2726         Twister cum Doubler - Handloom   \n",
       "2727                    Tape Plant Operator   \n",
       "2728                            Tape Winder   \n",
       "2729  Circular loom operator (Shuttle type)   \n",
       "\n",
       "                                         Unnamed: 5 QP/Job Role Code  Version  \\\n",
       "249           Automotive_Automotive Sales Executive        ASC/Q1001      2.0   \n",
       "250           Automotive_Automotive Sales Executive        ASC/Q1001      3.0   \n",
       "251           Automotive_Automotive Sales Executive        ASC/Q1001      4.0   \n",
       "252           Automotive_Automotive Sales Executive        ASC/Q1001      5.0   \n",
       "253          Automotive_Automotive Sales Consultant        ASC/Q1005      2.0   \n",
       "...                                             ...              ...      ...   \n",
       "2725                 Textile_Hand Spinning Operator        TSC/Q7901      3.0   \n",
       "2726         Textile_Twister cum Doubler - Handloom        TSC/Q7902      3.0   \n",
       "2727                    Textile_Tape Plant Operator        TSC/Q8201      3.0   \n",
       "2728                            Textile_Tape Winder        TSC/Q8301      3.0   \n",
       "2729  Textile_Circular loom operator (Shuttle type)        TSC/Q8401      3.0   \n",
       "\n",
       "     Last Reviewed On(DD/MM/YYYY) Next Review Date(DD/MM/YYYY)  ...  \\\n",
       "249                    25/11/2021                   25/11/2026  ...   \n",
       "250                           NaN                   25/11/2025  ...   \n",
       "251                           NaN                   25/11/2025  ...   \n",
       "252                           NaN                   17/11/2025  ...   \n",
       "253                    18/08/2021                   31/08/2024  ...   \n",
       "...                           ...                          ...  ...   \n",
       "2725                          NaN                   25/11/2024  ...   \n",
       "2726                          NaN                   31/03/2025  ...   \n",
       "2727                          NaN                   31/03/2025  ...   \n",
       "2728                          NaN                   31/03/2025  ...   \n",
       "2729                          NaN                   31/03/2025  ...   \n",
       "\n",
       "     Common Norms Category  Manufacturing/Services/Agriculture  \\\n",
       "249                     II                            Services   \n",
       "250                     II                            Services   \n",
       "251                     II                            Services   \n",
       "252                     II                            Services   \n",
       "253                     II                            Services   \n",
       "...                    ...                                 ...   \n",
       "2725                    II                       Manufacturing   \n",
       "2726                     I                       Manufacturing   \n",
       "2727                     I                       Manufacturing   \n",
       "2728                     I                       Manufacturing   \n",
       "2729                     I                       Manufacturing   \n",
       "\n",
       "     Deactivation Date(DD/MM/YYYY) Technical/Non Technical  \\\n",
       "249                            NaN           Non-Technical   \n",
       "250                            NaN           Non-Technical   \n",
       "251                            NaN           Non-Technical   \n",
       "252                            NaN           Non-Technical   \n",
       "253                            NaN           Non-Technical   \n",
       "...                            ...                     ...   \n",
       "2725                           NaN               Technical   \n",
       "2726                           NaN               Technical   \n",
       "2727                           NaN               Technical   \n",
       "2728                           NaN               Technical   \n",
       "2729                           NaN               Technical   \n",
       "\n",
       "     Organised Or Unorganised Or Both             NQR code            QP Type  \\\n",
       "249                              Both  2021/AUT/ASDC/04685                NaN   \n",
       "250                         Organized  2021/AUT/ASDC/04685             Unique   \n",
       "251                         Organized  2021/AUT/ASDC/04685             Unique   \n",
       "252                         Organized  2022/AUT/ASDC/06573             Unique   \n",
       "253                              Both  2021/AUT/ASDC/04434                NaN   \n",
       "...                               ...                  ...                ...   \n",
       "2725                     Un-Organized  2022/TEXT/TSC/07050             Unique   \n",
       "2726                     Un-Organized  2022/TEXT/TSC/07028             Unique   \n",
       "2727                        Organized  2022/TEXT/TSC/07079  QP with Electives   \n",
       "2728                        Organized  2022/TEXT/TSC/07080             Unique   \n",
       "2729                        Organized  2022/TEXT/TSC/07081             Unique   \n",
       "\n",
       "           Minimum Education Qualification & Experience Minimum Job Entry Age  \\\n",
       "249   12th Class and 2 Years Experience  - of releva...                    18   \n",
       "250   12th Class,10th Class - + 2 years ITI,Certific...                    18   \n",
       "251   10th Class - + 1 year ITI,10th Class - pass an...                    18   \n",
       "252   10th Class - + 1 year ITI,10th Class - pass an...                    18   \n",
       "253   Graduate - in any discipline and 1 Year Experi...                    21   \n",
       "...                                                 ...                   ...   \n",
       "2725  9th Class - Grade 9 with No Experience (OR) Gr...                    16   \n",
       "2726                          Ability to read and write                    18   \n",
       "2727  9th Class - with No Experience (OR) Grade 8 pa...                    18   \n",
       "2728  9th Class - with No Experience (OR) Grade 8 pa...                    18   \n",
       "2729  9th Class - with No Experience (OR) Grade 8 pa...                    18   \n",
       "\n",
       "                                                   Link  \n",
       "249   https://s3.ap-south-1.amazonaws.com/nsdcproddo...  \n",
       "250   https://s3.ap-south-1.amazonaws.com/nsdcproddo...  \n",
       "251   https://s3.ap-south-1.amazonaws.com/nsdcproddo...  \n",
       "252   https://s3.ap-south-1.amazonaws.com/nsdcproddo...  \n",
       "253   https://s3.ap-south-1.amazonaws.com/nsdcproddo...  \n",
       "...                                                 ...  \n",
       "2725  https://s3.ap-south-1.amazonaws.com/nsdcproddo...  \n",
       "2726  https://s3.ap-south-1.amazonaws.com/nsdcproddo...  \n",
       "2727  https://s3.ap-south-1.amazonaws.com/nsdcproddo...  \n",
       "2728  https://s3.ap-south-1.amazonaws.com/nsdcproddo...  \n",
       "2729  https://s3.ap-south-1.amazonaws.com/nsdcproddo...  \n",
       "\n",
       "[838 rows x 22 columns]"
      ]
     },
     "execution_count": 5,
     "metadata": {},
     "output_type": "execute_result"
    }
   ],
   "source": [
    "filtered_df"
   ]
  },
  {
   "cell_type": "code",
   "execution_count": 6,
   "metadata": {},
   "outputs": [
    {
     "name": "stdout",
     "output_type": "stream",
     "text": [
      "d:\\Internship\\CEEW\n"
     ]
    }
   ],
   "source": [
    "cd Internship/CEEW/"
   ]
  },
  {
   "cell_type": "code",
   "execution_count": 7,
   "metadata": {},
   "outputs": [
    {
     "name": "stderr",
     "output_type": "stream",
     "text": [
      "Processing PDFs:   0%|          | 0/838 [00:00<?, ?it/s]"
     ]
    },
    {
     "name": "stderr",
     "output_type": "stream",
     "text": [
      "Processing PDFs:   0%|          | 1/838 [00:01<27:21,  1.96s/it]"
     ]
    },
    {
     "name": "stdout",
     "output_type": "stream",
     "text": [
      "Extracted Information for Automotive_Sales_Executive.pdf:\n",
      "Job Title: ASC/Q1001: Automotive Sales Executive\n",
      "Job Description: The individual primarily handles potential customer leads, presents value propositions for vehicles and manages vehicle retail sales.\n",
      "Performance Criteria: \n",
      "================================================================================\n"
     ]
    },
    {
     "name": "stderr",
     "output_type": "stream",
     "text": [
      "Processing PDFs:   0%|          | 2/838 [00:03<26:34,  1.91s/it]"
     ]
    },
    {
     "name": "stdout",
     "output_type": "stream",
     "text": [
      "Extracted Information for Automotive_Sales_Executive.pdf:\n",
      "Job Title: ASC/Q1001: Automotive Sales Executive\n",
      "Job Description: The individual primarily handles potential customer leads, presents value propositions for vehicles and manages vehicle retail sales.\n",
      "Performance Criteria: \n",
      "================================================================================\n"
     ]
    },
    {
     "name": "stderr",
     "output_type": "stream",
     "text": [
      "Processing PDFs:   0%|          | 3/838 [00:05<26:31,  1.91s/it]"
     ]
    },
    {
     "name": "stdout",
     "output_type": "stream",
     "text": [
      "Extracted Information for Automotive_Sales_Executive.pdf:\n",
      "Job Title: ASC/Q1001: Automotive Sales Executive\n",
      "Job Description: The individual primarily handles potential customer leads, presents value propositions for vehicles and manages vehicle retail sales.\n",
      "Performance Criteria: \n",
      "================================================================================\n"
     ]
    },
    {
     "name": "stderr",
     "output_type": "stream",
     "text": [
      "Processing PDFs:   0%|          | 4/838 [00:07<25:31,  1.84s/it]"
     ]
    },
    {
     "name": "stdout",
     "output_type": "stream",
     "text": [
      "Extracted Information for Automotive_Sales_Executive.pdf:\n",
      "Job Title: ASC/Q1001: Automotive Sales Executive\n",
      "Job Description: The individual primarily handles potential customer leads, presents value propositions for vehicles and manages vehicle retail sales.\n",
      "Performance Criteria: \n",
      "================================================================================\n"
     ]
    },
    {
     "name": "stderr",
     "output_type": "stream",
     "text": [
      "Processing PDFs:   1%|          | 5/838 [00:09<26:02,  1.88s/it]"
     ]
    },
    {
     "name": "stdout",
     "output_type": "stream",
     "text": [
      "Extracted Information for Automotive_Sales_Consultant.pdf:\n",
      "Job Title: ASC/Q1005: Automotive Sales Consultant\n",
      "Job Description: The individual is responsible for handling potential customer leads, presenting value proposition for vehicles and managing vehicle retail sales including Electric Vehicles.\n",
      "Performance Criteria: \n",
      "================================================================================\n"
     ]
    },
    {
     "name": "stderr",
     "output_type": "stream",
     "text": [
      "Processing PDFs:   1%|          | 6/838 [00:11<25:49,  1.86s/it]"
     ]
    },
    {
     "name": "stdout",
     "output_type": "stream",
     "text": [
      "Extracted Information for Automotive_Sales_Consultant.pdf:\n",
      "Job Title: ASC/Q1005: Automotive Sales Consultant\n",
      "Job Description: The individual is responsible for handling potential customer leads, presenting value proposition for vehicles and managing vehicle retail sales including Electric Vehicles.\n",
      "Performance Criteria: \n",
      "================================================================================\n"
     ]
    },
    {
     "name": "stderr",
     "output_type": "stream",
     "text": [
      "Processing PDFs:   1%|          | 7/838 [00:13<25:39,  1.85s/it]"
     ]
    },
    {
     "name": "stdout",
     "output_type": "stream",
     "text": [
      "Extracted Information for Automotive_Sales_Leader.pdf:\n",
      "Job Title: ASC/Q1007: Automotive Sales Leader\n",
      "Job Description: A sales team leader is responsible to drive its team to achieve set targets at the dealership. The individual is also responsible for planning, motivating team, training, counselling, and monitoring the performance of sales team.\n",
      "Performance Criteria: \n",
      "================================================================================\n"
     ]
    },
    {
     "name": "stderr",
     "output_type": "stream",
     "text": [
      "Processing PDFs:   1%|          | 8/838 [00:14<25:40,  1.86s/it]"
     ]
    },
    {
     "name": "stdout",
     "output_type": "stream",
     "text": [
      "Extracted Information for Automotive_Sales_Leader.pdf:\n",
      "Job Title: ASC/Q1007: Automotive Sales Leader\n",
      "Job Description: A sales team leader is responsible to drive its team to achieve set targets at the dealership. The individual is also responsible for planning, motivating team, training, counselling, and monitoring the performance of sales team.\n",
      "Performance Criteria: \n",
      "================================================================================\n"
     ]
    },
    {
     "name": "stderr",
     "output_type": "stream",
     "text": [
      "Processing PDFs:   1%|          | 9/838 [00:16<24:49,  1.80s/it]"
     ]
    },
    {
     "name": "stdout",
     "output_type": "stream",
     "text": [
      "Extracted Information for Automotive_Sales_Assistant.pdf:\n",
      "Job Title: ASC/Q1010: Automotive Sales Assistant\n",
      "Job Description: The individual is responsible for collating and generating sales leads from various sources, delivering sales pitch, closing sales leads, participating in promotional activities and handling post-delivery operations.\n",
      "Performance Criteria: \n",
      "================================================================================\n"
     ]
    },
    {
     "name": "stderr",
     "output_type": "stream",
     "text": [
      "Processing PDFs:   1%|          | 10/838 [00:18<24:39,  1.79s/it]"
     ]
    },
    {
     "name": "stdout",
     "output_type": "stream",
     "text": [
      "Extracted Information for Automotive_Sales_Assistant.pdf:\n",
      "Job Title: ASC/Q1010: Automotive Sales Assistant\n",
      "Job Description: The individual is responsible for collating and generating sales leads from various sources, delivering sales pitch, closing sales leads, participating in promotional activities and handling post-delivery operations.\n",
      "Performance Criteria: \n",
      "================================================================================\n"
     ]
    },
    {
     "name": "stderr",
     "output_type": "stream",
     "text": [
      "Processing PDFs:   1%|▏         | 11/838 [00:19<23:39,  1.72s/it]"
     ]
    },
    {
     "name": "stdout",
     "output_type": "stream",
     "text": [
      "Extracted Information for Automotive_Showroom_Host.pdf:\n",
      "Job Title: ASC/Q1103: Automotive Showroom Host\n",
      "Job Description: The individual is responsible for handling front oﬃce work, attending to the customers and responding to their queries while working in an automotive showroom.\n",
      "Performance Criteria: \n",
      "================================================================================\n"
     ]
    },
    {
     "name": "stderr",
     "output_type": "stream",
     "text": [
      "Processing PDFs:   1%|▏         | 12/838 [00:21<24:08,  1.75s/it]"
     ]
    },
    {
     "name": "stdout",
     "output_type": "stream",
     "text": [
      "Extracted Information for Automotive_Showroom_Host.pdf:\n",
      "Job Title: ASC/Q1103: Automotive Showroom Host\n",
      "Job Description: The individual is responsible for handling front oﬃce work, attending to the customers and responding to their queries while working in an automotive showroom.\n",
      "Performance Criteria: \n",
      "================================================================================\n"
     ]
    },
    {
     "name": "stderr",
     "output_type": "stream",
     "text": [
      "Processing PDFs:   2%|▏         | 13/838 [00:23<24:44,  1.80s/it]"
     ]
    },
    {
     "name": "stdout",
     "output_type": "stream",
     "text": [
      "Extracted Information for Automotive_Showroom_Host.pdf:\n",
      "Job Title: ASC/Q1103: Automotive Showroom Host\n",
      "Job Description: The individual is responsible for handling front oﬃce work, attending to the customers and responding to their queries while working in an automotive showroom.\n",
      "Performance Criteria: \n",
      "================================================================================\n"
     ]
    },
    {
     "name": "stderr",
     "output_type": "stream",
     "text": [
      "Processing PDFs:   2%|▏         | 14/838 [00:25<25:28,  1.86s/it]"
     ]
    },
    {
     "name": "stdout",
     "output_type": "stream",
     "text": [
      "Extracted Information for Automotive_Showroom_Host.pdf:\n",
      "Job Title: ASC/Q1103: Automotive Showroom Host\n",
      "Job Description: The individual is responsible for handling front oﬃce work, attending to the customers and responding to their queries while working in an automotive showroom.\n",
      "Performance Criteria: \n",
      "================================================================================\n"
     ]
    },
    {
     "name": "stderr",
     "output_type": "stream",
     "text": [
      "Processing PDFs:   2%|▏         | 15/838 [00:27<27:27,  2.00s/it]"
     ]
    },
    {
     "name": "stdout",
     "output_type": "stream",
     "text": [
      "Extracted Information for Automotive_Customer_Relationship_Manager.pdf:\n",
      "Job Title: ASC/Q1104: Automotive Customer Relationship Manager\n",
      "Job Description: A Customer Relationship Manager is responsible for providing assistance to sales team for sales and customer satisfaction, organise activities to enhance overall experience of customer through building relationship and work in parallel with telecaller and other back oﬃce staﬀ to supervise, record their eﬀectiveness towards implementation of best practices.\n",
      "Performance Criteria: \n",
      "================================================================================\n"
     ]
    },
    {
     "name": "stderr",
     "output_type": "stream",
     "text": [
      "Processing PDFs:   2%|▏         | 16/838 [00:30<29:48,  2.18s/it]"
     ]
    },
    {
     "name": "stdout",
     "output_type": "stream",
     "text": [
      "Extracted Information for Automotive_Customer_Relationship_Manager.pdf:\n",
      "Job Title: ASC/Q1104: Automotive Customer Relationship Manager\n",
      "Job Description: A Customer Relationship Manager is responsible for providing assistance to sales team for sales and customer satisfaction, organise activities to enhance overall experience of customer through building relationship and work in parallel with telecaller and other back oﬃce staﬀ to supervise, record their eﬀectiveness towards implementation of best practices.\n",
      "Performance Criteria: \n",
      "================================================================================\n"
     ]
    },
    {
     "name": "stderr",
     "output_type": "stream",
     "text": [
      "Processing PDFs:   2%|▏         | 17/838 [00:33<31:06,  2.27s/it]"
     ]
    },
    {
     "name": "stdout",
     "output_type": "stream",
     "text": [
      "Extracted Information for Automotive_Telecaller.pdf:\n",
      "Job Title: ASC/Q1105: Automotive Telecaller\n",
      "Job Description: The individual in this job, also known as Telecalling oﬃcer or Customer support executive, is responsible for making calls to prospective customers to generate sales leads and supporting staﬀ in follow-up calls for both sales and service activities.\n",
      "Performance Criteria: \n",
      "================================================================================\n"
     ]
    },
    {
     "name": "stderr",
     "output_type": "stream",
     "text": [
      "Processing PDFs:   2%|▏         | 18/838 [00:36<33:45,  2.47s/it]"
     ]
    },
    {
     "name": "stdout",
     "output_type": "stream",
     "text": [
      "Extracted Information for Automotive_Telecaller.pdf:\n",
      "Job Title: ASC/Q1105: Automotive Telecaller\n",
      "Job Description: The individual in this job, also known as Telecalling oﬃcer or Customer support executive, is responsible for making calls to prospective customers to generate sales leads and supporting staﬀ in follow-up calls for both sales and service activities.\n",
      "Performance Criteria: \n",
      "================================================================================\n"
     ]
    },
    {
     "name": "stderr",
     "output_type": "stream",
     "text": [
      "Processing PDFs:   2%|▏         | 19/838 [00:37<30:56,  2.27s/it]"
     ]
    },
    {
     "name": "stdout",
     "output_type": "stream",
     "text": [
      "Extracted Information for Automotive_Telecaller.pdf:\n",
      "Job Title: ASC/Q1105: Automotive Telecaller\n",
      "Job Description: The individual in this job, also known as Telecalling oﬃcer or Customer support executive, is responsible for making calls to prospective customers to generate sales leads and supporting staﬀ in follow-up calls for both sales and service activities.\n",
      "Performance Criteria: \n",
      "================================================================================\n"
     ]
    },
    {
     "name": "stderr",
     "output_type": "stream",
     "text": [
      "Processing PDFs:   2%|▏         | 20/838 [00:39<28:25,  2.08s/it]"
     ]
    },
    {
     "name": "stdout",
     "output_type": "stream",
     "text": [
      "Extracted Information for Automotive_Telecaller.pdf:\n",
      "Job Title: ASC/Q1105: Automotive Telecaller\n",
      "Job Description: The individual in this job, also known as Telecalling oﬃcer or Customer support executive, is responsible for making calls to prospective customers to generate sales leads and supporting staﬀ in follow-up calls for both sales and service activities.\n",
      "Performance Criteria: \n",
      "================================================================================\n"
     ]
    },
    {
     "name": "stderr",
     "output_type": "stream",
     "text": [
      "Processing PDFs:   3%|▎         | 21/838 [00:40<25:06,  1.84s/it]"
     ]
    },
    {
     "name": "stdout",
     "output_type": "stream",
     "text": [
      "Extracted Information for Automotive_Sales_Trainer.pdf:\n",
      "Job Title: ASC/Q1109: Automotive Sales Trainer\n",
      "Job Description: A sales trainer for automotive vehicles identiﬁes the need for technical and soft skills trainings or skills enhancements by assessing the team's performance on regular basis.\n",
      "Performance Criteria: \n",
      "================================================================================\n"
     ]
    },
    {
     "name": "stderr",
     "output_type": "stream",
     "text": [
      "Processing PDFs:   3%|▎         | 22/838 [00:42<26:11,  1.93s/it]"
     ]
    },
    {
     "name": "stdout",
     "output_type": "stream",
     "text": [
      "Extracted Information for Four_Wheeler_Service_Assistant.pdf:\n",
      "Job Title: ASC/Q1401: Four Wheeler Service Assistant\n",
      "Job Description: A Four Wheeler Service Assistant is responsible for assisting the four wheeler service technician in repair, routine servicing and maintenance (including electrical and mechanical aggregates) of vehicles\n",
      "Performance Criteria: \n",
      "================================================================================\n"
     ]
    },
    {
     "name": "stderr",
     "output_type": "stream",
     "text": [
      "Processing PDFs:   3%|▎         | 23/838 [00:45<27:28,  2.02s/it]"
     ]
    },
    {
     "name": "stdout",
     "output_type": "stream",
     "text": [
      "Extracted Information for Four_Wheeler_Service_Assistant.pdf:\n",
      "Job Title: ASC/Q1401: Four Wheeler Service Assistant\n",
      "Job Description: A Four Wheeler Service Assistant is responsible for assisting the four wheeler service technician in repair, routine servicing and maintenance (including electrical and mechanical aggregates) of vehicles\n",
      "Performance Criteria: \n",
      "================================================================================\n"
     ]
    },
    {
     "name": "stderr",
     "output_type": "stream",
     "text": [
      "Processing PDFs:   3%|▎         | 24/838 [00:47<27:55,  2.06s/it]"
     ]
    },
    {
     "name": "stdout",
     "output_type": "stream",
     "text": [
      "Extracted Information for Four_Wheeler_Service_Assistant.pdf:\n",
      "Job Title: ASC/Q1401: Four Wheeler Service Assistant\n",
      "Job Description: A Four Wheeler Service Assistant is responsible for assisting the four wheeler service technician in repair, routine servicing and maintenance (including electrical and mechanical aggregates) of vehicles\n",
      "Performance Criteria: \n",
      "================================================================================\n"
     ]
    },
    {
     "name": "stderr",
     "output_type": "stream",
     "text": [
      "Processing PDFs:   3%|▎         | 25/838 [00:49<28:13,  2.08s/it]"
     ]
    },
    {
     "name": "stdout",
     "output_type": "stream",
     "text": [
      "Extracted Information for Four_Wheeler_Service_Assistant.pdf:\n",
      "Job Title: ASC/Q1401: Four Wheeler Service Assistant\n",
      "Job Description: A Four Wheeler Service Assistant is responsible for assisting the four wheeler service technician in repair, routine servicing and maintenance (including electrical and mechanical aggregates) of vehicles\n",
      "Performance Criteria: \n",
      "================================================================================\n"
     ]
    },
    {
     "name": "stderr",
     "output_type": "stream",
     "text": [
      "Processing PDFs:   3%|▎         | 26/838 [00:50<25:40,  1.90s/it]"
     ]
    },
    {
     "name": "stdout",
     "output_type": "stream",
     "text": [
      "Extracted Information for Four_Wheeler_Service_Technician.pdf:\n",
      "Job Title: ASC/Q1402: Four Wheeler Service Technician\n",
      "Job Description: A Four Wheeler Service Technician is responsible for the repair, routine servicing and maintenance (including electrical and mechanical aggregates) of vehicles\n",
      "Performance Criteria: \n",
      "================================================================================\n"
     ]
    },
    {
     "name": "stderr",
     "output_type": "stream",
     "text": [
      "Processing PDFs:   3%|▎         | 27/838 [00:52<23:43,  1.76s/it]"
     ]
    },
    {
     "name": "stdout",
     "output_type": "stream",
     "text": [
      "Extracted Information for Four_Wheeler_Service_Technician.pdf:\n",
      "Job Title: ASC/Q1402: Four Wheeler Service Technician\n",
      "Job Description: A Four Wheeler Service Technician is responsible for the repair, routine servicing and maintenance (including electrical and mechanical aggregates) of vehicles\n",
      "Performance Criteria: \n",
      "================================================================================\n"
     ]
    },
    {
     "name": "stderr",
     "output_type": "stream",
     "text": [
      "Processing PDFs:   3%|▎         | 28/838 [00:53<22:23,  1.66s/it]"
     ]
    },
    {
     "name": "stdout",
     "output_type": "stream",
     "text": [
      "Extracted Information for Four_Wheeler_Service_Technician.pdf:\n",
      "Job Title: ASC/Q1402: Four Wheeler Service Technician\n",
      "Job Description: A Four Wheeler Service Technician is responsible for the repair, routine servicing and maintenance (including electrical and mechanical aggregates) of vehicles\n",
      "Performance Criteria: \n",
      "================================================================================\n"
     ]
    },
    {
     "name": "stderr",
     "output_type": "stream",
     "text": [
      "Processing PDFs:   3%|▎         | 29/838 [00:55<21:25,  1.59s/it]"
     ]
    },
    {
     "name": "stdout",
     "output_type": "stream",
     "text": [
      "Extracted Information for Four_Wheeler_Service_Technician.pdf:\n",
      "Job Title: ASC/Q1402: Four Wheeler Service Technician\n",
      "Job Description: A Four Wheeler Service Technician is responsible for the repair, routine servicing and maintenance (including electrical and mechanical aggregates) of vehicles\n",
      "Performance Criteria: \n",
      "================================================================================\n"
     ]
    },
    {
     "name": "stderr",
     "output_type": "stream",
     "text": [
      "Processing PDFs:   4%|▎         | 30/838 [00:57<23:21,  1.73s/it]"
     ]
    },
    {
     "name": "stdout",
     "output_type": "stream",
     "text": [
      "Extracted Information for Four_Wheeler_Service_Lead_Technician.pdf:\n",
      "Job Title: ASC/Q1403: Four Wheeler Service Lead Technician\n",
      "Job Description: The individual in this job is responsible for service, repair, overhauling and diagnosis with a wide range of specialization for mechanical, electrical and electronic faults in four wheeler vehicles.\n",
      "Performance Criteria: \n",
      "================================================================================\n"
     ]
    },
    {
     "name": "stderr",
     "output_type": "stream",
     "text": [
      "Processing PDFs:   4%|▎         | 31/838 [00:59<25:03,  1.86s/it]"
     ]
    },
    {
     "name": "stdout",
     "output_type": "stream",
     "text": [
      "Extracted Information for Four_Wheeler_Service_Lead_Technician.pdf:\n",
      "Job Title: ASC/Q1403: Four Wheeler Service Lead Technician\n",
      "Job Description: The individual in this job is responsible for service, repair, overhauling and diagnosis with a wide range of specialization for mechanical, electrical and electronic faults in four wheeler vehicles.\n",
      "Performance Criteria: \n",
      "================================================================================\n"
     ]
    },
    {
     "name": "stderr",
     "output_type": "stream",
     "text": [
      "Processing PDFs:   4%|▍         | 32/838 [01:01<25:48,  1.92s/it]"
     ]
    },
    {
     "name": "stdout",
     "output_type": "stream",
     "text": [
      "Extracted Information for Four_Wheeler_Service_Master_Technician.pdf:\n",
      "Job Title: ASC/Q1404: Four Wheeler Service Master Technician\n",
      "Job Description: A Four Wheeler Service Master Technician is responsible for managing advanced diagnosis and repairs, also maintains and manages tools and equipment used in the workshop. The individual carries out all types of diagnosis of faults and repairs and is responsible for assisting other technician and supervising their work .\n",
      "Performance Criteria: \n",
      "================================================================================\n"
     ]
    },
    {
     "name": "stderr",
     "output_type": "stream",
     "text": [
      "Processing PDFs:   4%|▍         | 33/838 [01:03<26:40,  1.99s/it]"
     ]
    },
    {
     "name": "stdout",
     "output_type": "stream",
     "text": [
      "Extracted Information for Four_Wheeler_Service_Master_Technician.pdf:\n",
      "Job Title: ASC/Q1404: Four Wheeler Service Master Technician\n",
      "Job Description: A Four Wheeler Service Master Technician is responsible for managing advanced diagnosis and repairs, also maintains and manages tools and equipment used in the workshop. The individual carries out all types of diagnosis of faults and repairs and is responsible for assisting other technician and supervising their work .\n",
      "Performance Criteria: \n",
      "================================================================================\n"
     ]
    },
    {
     "name": "stderr",
     "output_type": "stream",
     "text": [
      "Processing PDFs:   4%|▍         | 34/838 [01:06<29:38,  2.21s/it]"
     ]
    },
    {
     "name": "stdout",
     "output_type": "stream",
     "text": [
      "Extracted Information for Automotive_Body_Repair_Technician.pdf:\n",
      "Job Title: ASC/Q1405: Automotive Body Repair Technician\n",
      "Job Description: An Automotive Body Repair Technician is responsible for carrying out repairs on damaged body and frame components of a vehicle following a collision or corrosion.\n",
      "Performance Criteria: \n",
      "================================================================================\n"
     ]
    },
    {
     "name": "stderr",
     "output_type": "stream",
     "text": [
      "Processing PDFs:   4%|▍         | 35/838 [01:09<31:45,  2.37s/it]"
     ]
    },
    {
     "name": "stdout",
     "output_type": "stream",
     "text": [
      "Extracted Information for Automotive_Body_Repair_Technician.pdf:\n",
      "Job Title: ASC/Q1405: Automotive Body Repair Technician\n",
      "Job Description: An Automotive Body Repair Technician is responsible for carrying out repairs on damaged body and frame components of a vehicle following a collision or corrosion.\n",
      "Performance Criteria: \n",
      "================================================================================\n"
     ]
    },
    {
     "name": "stderr",
     "output_type": "stream",
     "text": [
      "Processing PDFs:   4%|▍         | 36/838 [01:10<27:02,  2.02s/it]"
     ]
    },
    {
     "name": "stdout",
     "output_type": "stream",
     "text": [
      "Extracted Information for Automotive_Paint_Repair_Technician.pdf:\n",
      "Job Title: ASC/Q1406: Automotive Paint Repair Technician\n",
      "Job Description: The individual is responsible for carrying out painting work on vehicles. It also includes carrying out specialised painting jobs in workshops which have specialised paint-shops within the body shop.\n",
      "Performance Criteria: \n",
      "================================================================================\n"
     ]
    },
    {
     "name": "stderr",
     "output_type": "stream",
     "text": [
      "Processing PDFs:   4%|▍         | 37/838 [01:11<23:49,  1.79s/it]"
     ]
    },
    {
     "name": "stdout",
     "output_type": "stream",
     "text": [
      "Extracted Information for Automotive_Paint_Repair_Assistant.pdf:\n",
      "Job Title: ASC/Q1407: Automotive Paint Repair Assistant\n",
      "Job Description: The individual is responsible to assist Automotive Paint Repair Technician by preparing vehicle body and other surfaces for painting, which includes masking, sanding, cleaning, putty and primer application.\n",
      "Performance Criteria: \n",
      "================================================================================\n"
     ]
    },
    {
     "name": "stderr",
     "output_type": "stream",
     "text": [
      "Processing PDFs:   5%|▍         | 38/838 [01:12<21:36,  1.62s/it]"
     ]
    },
    {
     "name": "stdout",
     "output_type": "stream",
     "text": [
      "Extracted Information for Automotive_Paint_Repair_Assistant.pdf:\n",
      "Job Title: ASC/Q1407: Automotive Paint Repair Assistant\n",
      "Job Description: The individual is responsible to assist Automotive Paint Repair Technician by preparing vehicle body and other surfaces for painting, which includes masking, sanding, cleaning, putty and primer application.\n",
      "Performance Criteria: \n",
      "================================================================================\n"
     ]
    },
    {
     "name": "stderr",
     "output_type": "stream",
     "text": [
      "Processing PDFs:   5%|▍         | 39/838 [01:14<20:24,  1.53s/it]"
     ]
    },
    {
     "name": "stdout",
     "output_type": "stream",
     "text": [
      "Extracted Information for Automotive_Electrician.pdf:\n",
      "Job Title: ASC/Q1408: Automotive Electrician\n",
      "Job Description: An Automotive Electrician is responsible for the service, maintenance, repair and overhaul of electrical and electronic aggregates of vehicles\n",
      "Performance Criteria: \n",
      "================================================================================\n"
     ]
    },
    {
     "name": "stderr",
     "output_type": "stream",
     "text": [
      "Processing PDFs:   5%|▍         | 40/838 [01:15<19:07,  1.44s/it]"
     ]
    },
    {
     "name": "stdout",
     "output_type": "stream",
     "text": [
      "Extracted Information for Automotive_Engine_Repair_Technician.pdf:\n",
      "Job Title: ASC/Q1409: Automotive Engine Repair Technician\n",
      "Job Description: The individual is responsible for the service, maintenance, repair and overhaul of vehicle's engine and allied aggregates (like turbocharger).\n",
      "Performance Criteria: \n",
      "================================================================================\n"
     ]
    },
    {
     "name": "stderr",
     "output_type": "stream",
     "text": [
      "Processing PDFs:   5%|▍         | 41/838 [01:16<18:10,  1.37s/it]"
     ]
    },
    {
     "name": "stdout",
     "output_type": "stream",
     "text": [
      "Extracted Information for Automotive_Body_Repair_Assistant.pdf:\n",
      "Job Title: ASC/Q1410: Automotive Body Repair Assistant\n",
      "Job Description: The individual is responsible to assist by performing minor repair (dent, dimples and bulges) on vehicle body panels, replacement of body components which do not require cutting and welding and identiﬁes any other repair requirement in the vehicle as a result of external impact/collision.\n",
      "Performance Criteria: \n",
      "================================================================================\n"
     ]
    },
    {
     "name": "stderr",
     "output_type": "stream",
     "text": [
      "Processing PDFs:   5%|▌         | 42/838 [01:17<18:42,  1.41s/it]"
     ]
    },
    {
     "name": "stdout",
     "output_type": "stream",
     "text": [
      "Extracted Information for Automotive_Body_Repair_Assistant.pdf:\n",
      "Job Title: ASC/Q1410: Automotive Body Repair Assistant\n",
      "Job Description: The individual is responsible to assist by performing minor repair (dent, dimples and bulges) on vehicle body panels, replacement of body components which do not require cutting and welding and identiﬁes any other repair requirement in the vehicle as a result of external impact/collision.\n",
      "Performance Criteria: \n",
      "================================================================================\n"
     ]
    },
    {
     "name": "stderr",
     "output_type": "stream",
     "text": [
      "Processing PDFs:   5%|▌         | 43/838 [01:19<17:52,  1.35s/it]"
     ]
    },
    {
     "name": "stdout",
     "output_type": "stream",
     "text": [
      "Extracted Information for Two_Wheeler_Service_Technician.pdf:\n",
      "Job Title: ASC/Q1411: Two Wheeler Service Technician\n",
      "Job Description: A Two Wheeler Service Technician is responsible for the repair, routine servicing and maintenance (including electrical and mechanical aggregates) of two wheeler vehicles\n",
      "Performance Criteria: \n",
      "================================================================================\n"
     ]
    },
    {
     "name": "stderr",
     "output_type": "stream",
     "text": [
      "Processing PDFs:   5%|▌         | 44/838 [01:20<17:32,  1.33s/it]"
     ]
    },
    {
     "name": "stdout",
     "output_type": "stream",
     "text": [
      "Extracted Information for Two_Wheeler_Service_Technician.pdf:\n",
      "Job Title: ASC/Q1411: Two Wheeler Service Technician\n",
      "Job Description: A Two Wheeler Service Technician is responsible for the repair, routine servicing and maintenance (including electrical and mechanical aggregates) of two wheeler vehicles\n",
      "Performance Criteria: \n",
      "================================================================================\n"
     ]
    },
    {
     "name": "stderr",
     "output_type": "stream",
     "text": [
      "Processing PDFs:   5%|▌         | 45/838 [01:21<16:58,  1.28s/it]"
     ]
    },
    {
     "name": "stdout",
     "output_type": "stream",
     "text": [
      "Extracted Information for Two_Wheeler_Service_Technician.pdf:\n",
      "Job Title: ASC/Q1411: Two Wheeler Service Technician\n",
      "Job Description: A Two Wheeler Service Technician is responsible for the repair, routine servicing and maintenance (including electrical and mechanical aggregates) of two wheeler vehicles\n",
      "Performance Criteria: \n",
      "================================================================================\n"
     ]
    },
    {
     "name": "stderr",
     "output_type": "stream",
     "text": [
      "Processing PDFs:   5%|▌         | 46/838 [01:22<16:46,  1.27s/it]"
     ]
    },
    {
     "name": "stdout",
     "output_type": "stream",
     "text": [
      "Extracted Information for Two_Wheeler_Service_Technician.pdf:\n",
      "Job Title: ASC/Q1411: Two Wheeler Service Technician\n",
      "Job Description: A Two Wheeler Service Technician is responsible for the repair, routine servicing and maintenance (including electrical and mechanical aggregates) of two wheeler vehicles\n",
      "Performance Criteria: \n",
      "================================================================================\n"
     ]
    },
    {
     "name": "stderr",
     "output_type": "stream",
     "text": [
      "Processing PDFs:   6%|▌         | 47/838 [01:24<16:48,  1.28s/it]"
     ]
    },
    {
     "name": "stdout",
     "output_type": "stream",
     "text": [
      "Extracted Information for Automotive_Service_Supervisor.pdf:\n",
      "Job Title: ASC/Q1412: Automotive Service Supervisor\n",
      "Job Description: The individual is responsible for work assignment to technicians on shop ﬂoor depending upon their skills and supervising service, repair and maintenance operations of the vehicle as per OEM (Original Equipment Manufacturer) guidelines within the expected time and cost and ensure minimum repeat complaints.\n",
      "Performance Criteria: \n",
      "================================================================================\n"
     ]
    },
    {
     "name": "stderr",
     "output_type": "stream",
     "text": [
      "Processing PDFs:   6%|▌         | 48/838 [01:25<16:42,  1.27s/it]"
     ]
    },
    {
     "name": "stdout",
     "output_type": "stream",
     "text": [
      "Extracted Information for Automotive_Service_Supervisor.pdf:\n",
      "Job Title: ASC/Q1412: Automotive Service Supervisor\n",
      "Job Description: The individual is responsible for work assignment to technicians on shop ﬂoor depending upon their skills and supervising service, repair and maintenance operations of the vehicle as per OEM (Original Equipment Manufacturer) guidelines within the expected time and cost and ensure minimum repeat complaints.\n",
      "Performance Criteria: \n",
      "================================================================================\n"
     ]
    },
    {
     "name": "stderr",
     "output_type": "stream",
     "text": [
      "Processing PDFs:   6%|▌         | 49/838 [01:26<16:46,  1.28s/it]"
     ]
    },
    {
     "name": "stdout",
     "output_type": "stream",
     "text": [
      "Extracted Information for Automotive_AC_Technician.pdf:\n",
      "Job Title: ASC/Q1416: Automotive AC Technician\n",
      "Job Description: A Automotive AC technician performs the process of installing, service and repair of AC system in vehicles.\n",
      "Performance Criteria: \n",
      "================================================================================\n"
     ]
    },
    {
     "name": "stderr",
     "output_type": "stream",
     "text": [
      "Processing PDFs:   6%|▌         | 50/838 [01:28<17:03,  1.30s/it]"
     ]
    },
    {
     "name": "stdout",
     "output_type": "stream",
     "text": [
      "Extracted Information for Automotive_AC_Technician.pdf:\n",
      "Job Title: ASC/Q1416: Automotive AC Technician\n",
      "Job Description: A Automotive AC technician performs the process of installing, service and repair of AC system in vehicles.\n",
      "Performance Criteria: \n",
      "================================================================================\n"
     ]
    },
    {
     "name": "stderr",
     "output_type": "stream",
     "text": [
      "Processing PDFs:   6%|▌         | 51/838 [01:32<30:39,  2.34s/it]"
     ]
    },
    {
     "name": "stdout",
     "output_type": "stream",
     "text": [
      "Extracted Information for Automotive_Washer.pdf:\n",
      "Job Title: ASC/Q1421: Automotive Washer\n",
      "Job Description: The individual washes, scrubs and polishes the interior and exterior surfaces of the vehicle and the workshop area.\n",
      "Performance Criteria: \n",
      "================================================================================\n"
     ]
    },
    {
     "name": "stderr",
     "output_type": "stream",
     "text": [
      "Processing PDFs:   6%|▌         | 52/838 [01:37<40:46,  3.11s/it]"
     ]
    },
    {
     "name": "stdout",
     "output_type": "stream",
     "text": [
      "Extracted Information for Automotive_Washer.pdf:\n",
      "Job Title: ASC/Q1421: Automotive Washer\n",
      "Job Description: The individual washes, scrubs and polishes the interior and exterior surfaces of the vehicle and the workshop area.\n",
      "Performance Criteria: \n",
      "================================================================================\n"
     ]
    },
    {
     "name": "stderr",
     "output_type": "stream",
     "text": [
      "Processing PDFs:   6%|▋         | 53/838 [01:42<47:37,  3.64s/it]"
     ]
    },
    {
     "name": "stdout",
     "output_type": "stream",
     "text": [
      "Extracted Information for Automotive_Washer.pdf:\n",
      "Job Title: ASC/Q1421: Automotive Washer\n",
      "Job Description: The individual washes, scrubs and polishes the interior and exterior surfaces of the vehicle and the workshop area.\n",
      "Performance Criteria: \n",
      "================================================================================\n"
     ]
    },
    {
     "name": "stderr",
     "output_type": "stream",
     "text": [
      "Processing PDFs:   6%|▋         | 54/838 [01:47<52:21,  4.01s/it]"
     ]
    },
    {
     "name": "stdout",
     "output_type": "stream",
     "text": [
      "Extracted Information for Automotive_Washer.pdf:\n",
      "Job Title: ASC/Q1421: Automotive Washer\n",
      "Job Description: The individual washes, scrubs and polishes the interior and exterior surfaces of the vehicle and the workshop area.\n",
      "Performance Criteria: \n",
      "================================================================================\n"
     ]
    },
    {
     "name": "stderr",
     "output_type": "stream",
     "text": [
      "Processing PDFs:   7%|▋         | 55/838 [01:48<41:28,  3.18s/it]"
     ]
    },
    {
     "name": "stdout",
     "output_type": "stream",
     "text": [
      "Extracted Information for Automotive_Accessory_Fitter.pdf:\n",
      "Job Title: ASC/Q1422: Automotive Accessory Fitter\n",
      "Job Description: The individual in this job is responsible for installing and ﬁtting various exterior, interior, media and security related accessories on/in the vehicle.\n",
      "Performance Criteria: \n",
      "================================================================================\n"
     ]
    },
    {
     "name": "stderr",
     "output_type": "stream",
     "text": [
      "Processing PDFs:   7%|▋         | 56/838 [01:49<33:47,  2.59s/it]"
     ]
    },
    {
     "name": "stdout",
     "output_type": "stream",
     "text": [
      "Extracted Information for Two_Wheeler_Service_Assistant.pdf:\n",
      "Job Title: ASC/Q1423: Two Wheeler Service Assistant\n",
      "Job Description: A Two Wheeler Service Assistant is responsible for assisting the two wheeler service technician in repair, routine servicing & maintenance of electrical and mechanical aggregates in vehicles.\n",
      "Performance Criteria: \n",
      "================================================================================\n"
     ]
    },
    {
     "name": "stderr",
     "output_type": "stream",
     "text": [
      "Processing PDFs:   7%|▋         | 57/838 [01:51<28:23,  2.18s/it]"
     ]
    },
    {
     "name": "stdout",
     "output_type": "stream",
     "text": [
      "Extracted Information for Two_Wheeler_Service_Assistant.pdf:\n",
      "Job Title: ASC/Q1423: Two Wheeler Service Assistant\n",
      "Job Description: A Two Wheeler Service Assistant is responsible for assisting the two wheeler service technician in repair, routine servicing & maintenance of electrical and mechanical aggregates in vehicles.\n",
      "Performance Criteria: \n",
      "================================================================================\n"
     ]
    },
    {
     "name": "stderr",
     "output_type": "stream",
     "text": [
      "Processing PDFs:   7%|▋         | 58/838 [01:52<24:30,  1.89s/it]"
     ]
    },
    {
     "name": "stdout",
     "output_type": "stream",
     "text": [
      "Extracted Information for Two_Wheeler_Service_Assistant.pdf:\n",
      "Job Title: ASC/Q1423: Two Wheeler Service Assistant\n",
      "Job Description: A Two Wheeler Service Assistant is responsible for assisting the two wheeler service technician in repair, routine servicing & maintenance of electrical and mechanical aggregates in vehicles.\n",
      "Performance Criteria: \n",
      "================================================================================\n"
     ]
    },
    {
     "name": "stderr",
     "output_type": "stream",
     "text": [
      "Processing PDFs:   7%|▋         | 59/838 [01:53<21:40,  1.67s/it]"
     ]
    },
    {
     "name": "stdout",
     "output_type": "stream",
     "text": [
      "Extracted Information for Two_Wheeler_Service_Assistant.pdf:\n",
      "Job Title: ASC/Q1423: Two Wheeler Service Assistant\n",
      "Job Description: A Two Wheeler Service Assistant is responsible for assisting the two wheeler service technician in repair, routine servicing & maintenance of electrical and mechanical aggregates in vehicles.\n",
      "Performance Criteria: \n",
      "================================================================================\n"
     ]
    },
    {
     "name": "stderr",
     "output_type": "stream",
     "text": [
      "Processing PDFs:   7%|▋         | 60/838 [01:54<20:28,  1.58s/it]"
     ]
    },
    {
     "name": "stdout",
     "output_type": "stream",
     "text": [
      "Extracted Information for Electric_Vehicle_Service_Lead_Technician.pdf:\n",
      "Job Title: ASC/Q1424: Electric Vehicle Service Lead Technician\n",
      "Job Description: The individual in this job is responsible for diagnosis and specialized repairs of mechanical, electrical and electronic faults in electric vehicles.\n",
      "Performance Criteria: \n",
      "================================================================================\n"
     ]
    },
    {
     "name": "stderr",
     "output_type": "stream",
     "text": [
      "Processing PDFs:   7%|▋         | 61/838 [01:56<19:33,  1.51s/it]"
     ]
    },
    {
     "name": "stdout",
     "output_type": "stream",
     "text": [
      "Extracted Information for Electric_Vehicle_Service_Lead_Technician.pdf:\n",
      "Job Title: ASC/Q1424: Electric Vehicle Service Lead Technician\n",
      "Job Description: The individual in this job is responsible for diagnosis and specialized repairs of mechanical, electrical and electronic faults in electric vehicles.\n",
      "Performance Criteria: \n",
      "================================================================================\n"
     ]
    },
    {
     "name": "stderr",
     "output_type": "stream",
     "text": [
      "Processing PDFs:   7%|▋         | 62/838 [01:58<21:19,  1.65s/it]"
     ]
    },
    {
     "name": "stdout",
     "output_type": "stream",
     "text": [
      "Extracted Information for Automotive_Service_Advisor.pdf:\n",
      "Job Title: ASC/Q1426: Automotive Service Advisor\n",
      "Job Description: The individual is responsible for handling customer relationships at the workshop operations. The individual understands customer issues/complaints and identify the repair/service requirements accordingly in a timely and cost eﬀective manner.\n",
      "Performance Criteria: \n",
      "================================================================================\n"
     ]
    },
    {
     "name": "stderr",
     "output_type": "stream",
     "text": [
      "Processing PDFs:   8%|▊         | 63/838 [01:59<19:40,  1.52s/it]"
     ]
    },
    {
     "name": "stdout",
     "output_type": "stream",
     "text": [
      "Extracted Information for Automotive_Service_Quality_Controller.pdf:\n",
      "Job Title: ASC/Q1427: Automotive Service Quality Controller\n",
      "Job Description: A Quality Controller is responsible for proper monitoring, testing and inspecting and ﬁnal certiﬁcation of work quality. The individual is able to ensure that quality standards are met as speciﬁed by the OEM or components/aggregate manufacturers or service provided by an organisation.\n",
      "Performance Criteria: \n",
      "================================================================================\n"
     ]
    },
    {
     "name": "stderr",
     "output_type": "stream",
     "text": [
      "Processing PDFs:   8%|▊         | 64/838 [02:00<18:17,  1.42s/it]"
     ]
    },
    {
     "name": "stdout",
     "output_type": "stream",
     "text": [
      "Extracted Information for Automotive_Service_Quality_Controller.pdf:\n",
      "Job Title: ASC/Q1427: Automotive Service Quality Controller\n",
      "Job Description: A Quality Controller is responsible for proper monitoring, testing and inspecting and ﬁnal certiﬁcation of work quality. The individual is able to ensure that quality standards are met as speciﬁed by the OEM or components/aggregate manufacturers or service provided by an organisation.\n",
      "Performance Criteria: \n",
      "================================================================================\n"
     ]
    },
    {
     "name": "stderr",
     "output_type": "stream",
     "text": [
      "Processing PDFs:   8%|▊         | 65/838 [02:01<17:31,  1.36s/it]"
     ]
    },
    {
     "name": "stdout",
     "output_type": "stream",
     "text": [
      "Extracted Information for Automotive_Warranty_Processor.pdf:\n",
      "Job Title: ASC/Q1428: Automotive Warranty Processor\n",
      "Job Description: A warranty processor coordinates with the workshop personnel for warranty claims, tagging and storing of warranty parts, maintenance of storage room where parts replaced under warranty are kept, uploading claims, and scrap/disposal of failed parts. The individual also keeps track of warranty claim reimbursement or rejection.\n",
      "Performance Criteria: \n",
      "================================================================================\n"
     ]
    },
    {
     "name": "stderr",
     "output_type": "stream",
     "text": [
      "Processing PDFs:   8%|▊         | 66/838 [02:03<17:39,  1.37s/it]"
     ]
    },
    {
     "name": "stdout",
     "output_type": "stream",
     "text": [
      "Extracted Information for Electric_Vehicle_Service_Technician.pdf:\n",
      "Job Title: ASC/Q1429: Electric Vehicle Service Technician\n",
      "Job Description: An Electric Vehicle Service Technician is responsible for the repair, routine servicing and maintenance (including electrical and mechanical aggregates) of Electric and Hybrid vehicles and assist the lead technician in identifying the faults.\n",
      "Performance Criteria: \n",
      "================================================================================\n"
     ]
    },
    {
     "name": "stderr",
     "output_type": "stream",
     "text": [
      "Processing PDFs:   8%|▊         | 67/838 [02:04<17:47,  1.38s/it]"
     ]
    },
    {
     "name": "stdout",
     "output_type": "stream",
     "text": [
      "Extracted Information for Electric_Vehicle_Service_Technician.pdf:\n",
      "Job Title: ASC/Q1429: Electric Vehicle Service Technician\n",
      "Job Description: An Electric Vehicle Service Technician is responsible for the repair, routine servicing and maintenance (including electrical and mechanical aggregates) of Electric and Hybrid vehicles and assist the lead technician in identifying the faults.\n",
      "Performance Criteria: \n",
      "================================================================================\n"
     ]
    },
    {
     "name": "stderr",
     "output_type": "stream",
     "text": [
      "Processing PDFs:   8%|▊         | 68/838 [02:06<17:42,  1.38s/it]"
     ]
    },
    {
     "name": "stdout",
     "output_type": "stream",
     "text": [
      "Extracted Information for Electric_Vehicle_Service_Technician.pdf:\n",
      "Job Title: ASC/Q1429: Electric Vehicle Service Technician\n",
      "Job Description: An Electric Vehicle Service Technician is responsible for the repair, routine servicing and maintenance (including electrical and mechanical aggregates) of Electric and Hybrid vehicles and assist the lead technician in identifying the faults.\n",
      "Performance Criteria: \n",
      "================================================================================\n"
     ]
    },
    {
     "name": "stderr",
     "output_type": "stream",
     "text": [
      "Processing PDFs:   8%|▊         | 69/838 [02:07<17:50,  1.39s/it]"
     ]
    },
    {
     "name": "stdout",
     "output_type": "stream",
     "text": [
      "Extracted Information for Electric_Vehicle_Service_Technician.pdf:\n",
      "Job Title: ASC/Q1429: Electric Vehicle Service Technician\n",
      "Job Description: An Electric Vehicle Service Technician is responsible for the repair, routine servicing and maintenance (including electrical and mechanical aggregates) of Electric and Hybrid vehicles and assist the lead technician in identifying the faults.\n",
      "Performance Criteria: \n",
      "================================================================================\n"
     ]
    },
    {
     "name": "stderr",
     "output_type": "stream",
     "text": [
      "Processing PDFs:   8%|▊         | 70/838 [02:08<17:02,  1.33s/it]"
     ]
    },
    {
     "name": "stdout",
     "output_type": "stream",
     "text": [
      "Extracted Information for CNG_Kit_Fitment_Technician.pdf:\n",
      "Job Title: ASC/Q1430: CNG Kit Fitment Technician\n",
      "Job Description: The individual in this job is responsible for ﬁtting and installation of various mechanical, electronic and electrical components related CNG kit on/in the vehicle.\n",
      "Performance Criteria: \n",
      "================================================================================\n"
     ]
    },
    {
     "name": "stderr",
     "output_type": "stream",
     "text": [
      "Processing PDFs:   8%|▊         | 71/838 [02:09<16:33,  1.30s/it]"
     ]
    },
    {
     "name": "stdout",
     "output_type": "stream",
     "text": [
      "Extracted Information for CNG_Kit_Fitment_Technician.pdf:\n",
      "Job Title: ASC/Q1430: CNG Kit Fitment Technician\n",
      "Job Description: The individual in this job is responsible for ﬁtting and installation of various mechanical, electronic and electrical components related CNG kit on/in the vehicle.\n",
      "Performance Criteria: \n",
      "================================================================================\n"
     ]
    },
    {
     "name": "stderr",
     "output_type": "stream",
     "text": [
      "Processing PDFs:   9%|▊         | 72/838 [02:11<16:25,  1.29s/it]"
     ]
    },
    {
     "name": "stdout",
     "output_type": "stream",
     "text": [
      "Extracted Information for Automotive_Detailer_Assistant.pdf:\n",
      "Job Title: ASC/Q1431: Automotive Detailer Assistant\n",
      "Job Description: The individual cleans the exteriors and interiors of vehicles according to company standards and client requirement, which may include performing detail cleaning on trims, carpet, upholstery, etc.\n",
      "Performance Criteria: \n",
      "================================================================================\n"
     ]
    },
    {
     "name": "stderr",
     "output_type": "stream",
     "text": [
      "Processing PDFs:   9%|▊         | 73/838 [02:12<17:11,  1.35s/it]"
     ]
    },
    {
     "name": "stdout",
     "output_type": "stream",
     "text": [
      "Extracted Information for Heavy_Commercial_Vehicle_Service_Technician.pdf:\n",
      "Job Title: ASC/Q1432: Heavy Commercial Vehicle Service Technician\n",
      "Job Description: A Heavy Commercial Vehicle Service Technician is responsible for the repair, routine servicing and maintenance (including electrical and mechanical aggregates) of vehicles\n",
      "Performance Criteria: \n",
      "================================================================================\n"
     ]
    },
    {
     "name": "stderr",
     "output_type": "stream",
     "text": [
      "Processing PDFs:   9%|▉         | 74/838 [02:14<17:44,  1.39s/it]"
     ]
    },
    {
     "name": "stdout",
     "output_type": "stream",
     "text": [
      "Extracted Information for Bicycle_Mechanic.pdf:\n",
      "Job Title: ASC/Q1434: Bicycle Mechanic\n",
      "Job Description: The person is responsible for the assembly, repair and maintenance of bicycles and electric bicycles along with identifying problems and providing optimal solution to the customer.\n",
      "Performance Criteria: \n",
      "================================================================================\n"
     ]
    },
    {
     "name": "stderr",
     "output_type": "stream",
     "text": [
      "Processing PDFs:   9%|▉         | 75/838 [02:15<17:15,  1.36s/it]"
     ]
    },
    {
     "name": "stdout",
     "output_type": "stream",
     "text": [
      "Extracted Information for Electric_Vehicle_Service_Assistant.pdf:\n",
      "Job Title: ASC/Q1435: Electric Vehicle Service Assistant\n",
      "Job Description: An Electric Vehicle Service Assistant is responsible for assisting the service technician in repair, routine servicing and maintenance(including electrical and mechanical aggregates) of Electric and Hybrid vehicles.\n",
      "Performance Criteria: \n",
      "================================================================================\n"
     ]
    },
    {
     "name": "stderr",
     "output_type": "stream",
     "text": [
      "Processing PDFs:   9%|▉         | 76/838 [02:16<16:52,  1.33s/it]"
     ]
    },
    {
     "name": "stdout",
     "output_type": "stream",
     "text": [
      "Extracted Information for Automobile_Technology.pdf:\n",
      "Job Title: ASC/Q1439: Automobile Technology\n",
      "Job Description: The Light Vehicle Automotive Technician will work in the service, diagnosis and repair sector of light vehicles in either independent workshops or the vehicle manufacturers aﬃliated workshops. The Light Vehicle Automotive Technician will be able to service, diagnose, and repair a range of light vehicles using service and repair information, and a wide range of diagnostic and service tools.\n",
      "Performance Criteria: \n",
      "================================================================================\n"
     ]
    },
    {
     "name": "stderr",
     "output_type": "stream",
     "text": [
      "Processing PDFs:   9%|▉         | 77/838 [02:17<16:18,  1.29s/it]"
     ]
    },
    {
     "name": "stdout",
     "output_type": "stream",
     "text": [
      "Extracted Information for Autobody_Repair.pdf:\n",
      "Job Title: ASC/Q1440: Autobody Repair\n",
      "Job Description: An Autobody Repair is responsible for replacing, removing or re installing autobody parts by following the standards of the organization.\n",
      "Performance Criteria: \n",
      "================================================================================\n"
     ]
    },
    {
     "name": "stderr",
     "output_type": "stream",
     "text": [
      "Processing PDFs:   9%|▉         | 78/838 [02:19<16:00,  1.26s/it]"
     ]
    },
    {
     "name": "stdout",
     "output_type": "stream",
     "text": [
      "Extracted Information for Automotive_Spare_Parts_Operations_Assistant.pdf:\n",
      "Job Title: ASC/Q1501: Automotive Spare Parts Operations Assistant\n",
      "Job Description: The individual needs to assist in packing, storing and maintaining inventory in a storage facility.\n",
      "Performance Criteria: \n",
      "================================================================================\n"
     ]
    },
    {
     "name": "stderr",
     "output_type": "stream",
     "text": [
      "Processing PDFs:   9%|▉         | 79/838 [02:20<15:47,  1.25s/it]"
     ]
    },
    {
     "name": "stdout",
     "output_type": "stream",
     "text": [
      "Extracted Information for Automotive_Spare_Parts_Operations_Assistant.pdf:\n",
      "Job Title: ASC/Q1501: Automotive Spare Parts Operations Assistant\n",
      "Job Description: The individual needs to assist in packing, storing and maintaining inventory in a storage facility.\n",
      "Performance Criteria: \n",
      "================================================================================\n"
     ]
    },
    {
     "name": "stderr",
     "output_type": "stream",
     "text": [
      "Processing PDFs:  10%|▉         | 80/838 [02:21<15:46,  1.25s/it]"
     ]
    },
    {
     "name": "stdout",
     "output_type": "stream",
     "text": [
      "Extracted Information for Maintenance_Technician-_Service_Workshop.pdf:\n",
      "Job Title: ASC/Q1601: Maintenance Technician- Service Workshop\n",
      "Job Description: A Maintenance Technician maintains and manages tools and equipment used in the workshop\n",
      "Performance Criteria: \n",
      "================================================================================\n"
     ]
    },
    {
     "name": "stderr",
     "output_type": "stream",
     "text": [
      "Processing PDFs:  10%|▉         | 81/838 [02:22<16:26,  1.30s/it]"
     ]
    },
    {
     "name": "stdout",
     "output_type": "stream",
     "text": [
      "Extracted Information for Warranty_Incharge.pdf:\n",
      "Job Title: ASC/Q1604: Warranty Incharge\n",
      "Job Description: A Warranty In-charge manages warranty claims and spare parts replaced under warranty. He is responsible for taking all major warranty decisions as per the OEM guidelines/ manual. The individual should provide information on warranty policies and supervise both the replacement of failed parts/ aggregates replaced under warranty as well as disposal of the same.\n",
      "Performance Criteria: \n",
      "================================================================================\n"
     ]
    },
    {
     "name": "stderr",
     "output_type": "stream",
     "text": [
      "Processing PDFs:  10%|▉         | 82/838 [02:24<17:01,  1.35s/it]"
     ]
    },
    {
     "name": "stdout",
     "output_type": "stream",
     "text": [
      "Extracted Information for Repair_-_Welder.pdf:\n",
      "Job Title: ASC/Q1902: Repair - Welder\n",
      "Job Description: A Welder is responsible for maintaining and operating all welding related works. The individual must be able to use hand welding techniques or welding equipment and tools to join various metal components and also carry out repair work on machinery and equipment.\n",
      "Performance Criteria: \n",
      "================================================================================\n"
     ]
    },
    {
     "name": "stderr",
     "output_type": "stream",
     "text": [
      "Processing PDFs:  10%|▉         | 83/838 [02:25<17:09,  1.36s/it]"
     ]
    },
    {
     "name": "stdout",
     "output_type": "stream",
     "text": [
      "Extracted Information for Automotive_Welding_Machine_Assistant.pdf:\n",
      "Job Title: ASC/Q3101: Automotive Welding Machine Assistant\n",
      "Job Description: The individual in this role supports the Automotive Welding Machine Operator during preparation for welding work such as bringing raw material and tools, welding activities such as machine setup, aligning workpiece, holding tools etc. and post-welding activities such as cleaning and maintenance of machine and workarea.\n",
      "Performance Criteria: \n",
      "================================================================================\n"
     ]
    },
    {
     "name": "stderr",
     "output_type": "stream",
     "text": [
      "Processing PDFs:  10%|█         | 84/838 [02:27<17:35,  1.40s/it]"
     ]
    },
    {
     "name": "stdout",
     "output_type": "stream",
     "text": [
      "Extracted Information for Automotive_Welding_Machine_Operator_(Manual_and_Robotics).pdf:\n",
      "Job Title: ASC/Q3102: Automotive Welding Machine Operator (Manual and Robotics)\n",
      "Job Description: The individual is primarily involved in all robotic and manual welding operations performed in automotive manufacturing. They use various types of welding processes such as TIG, MIG, SMAW welding etc. They support the welding technician in activities such as inspection of equipments condition, welding, gauging, testing and inspection of welded work pieces.\n",
      "Performance Criteria: \n",
      "================================================================================\n"
     ]
    },
    {
     "name": "stderr",
     "output_type": "stream",
     "text": [
      "Processing PDFs:  10%|█         | 85/838 [02:28<17:22,  1.38s/it]"
     ]
    },
    {
     "name": "stdout",
     "output_type": "stream",
     "text": [
      "Extracted Information for Automotive_Welding_Machine_Operator_(Manual_and_Robotics).pdf:\n",
      "Job Title: ASC/Q3102: Automotive Welding Machine Operator (Manual and Robotics)\n",
      "Job Description: The individual is primarily involved in all robotic and manual welding operations performed in automotive manufacturing. They use various types of welding processes such as TIG, MIG, SMAW welding etc. They support the welding technician in activities such as inspection of equipments condition, welding, gauging, testing and inspection of welded work pieces.\n",
      "Performance Criteria: \n",
      "================================================================================\n"
     ]
    },
    {
     "name": "stderr",
     "output_type": "stream",
     "text": [
      "Processing PDFs:  10%|█         | 86/838 [02:29<17:03,  1.36s/it]"
     ]
    },
    {
     "name": "stdout",
     "output_type": "stream",
     "text": [
      "Extracted Information for Automotive_Welding_Machine_Operator_(Manual_and_Robotics).pdf:\n",
      "Job Title: ASC/Q3102: Automotive Welding Machine Operator (Manual and Robotics)\n",
      "Job Description: The individual is primarily involved in all robotic and manual welding operations performed in automotive manufacturing. They use various types of welding processes such as TIG, MIG, SMAW welding etc. They support the welding technician in activities such as inspection of equipments condition, welding, gauging, testing and inspection of welded work pieces.\n",
      "Performance Criteria: \n",
      "================================================================================\n"
     ]
    },
    {
     "name": "stderr",
     "output_type": "stream",
     "text": [
      "Processing PDFs:  10%|█         | 87/838 [02:31<16:53,  1.35s/it]"
     ]
    },
    {
     "name": "stdout",
     "output_type": "stream",
     "text": [
      "Extracted Information for Automotive_Welding_Machine_Operator_(Manual_and_Robotics).pdf:\n",
      "Job Title: ASC/Q3102: Automotive Welding Machine Operator (Manual and Robotics)\n",
      "Job Description: The individual is primarily involved in all robotic and manual welding operations performed in automotive manufacturing. They use various types of welding processes such as TIG, MIG, SMAW welding etc. They support the welding technician in activities such as inspection of equipments condition, welding, gauging, testing and inspection of welded work pieces.\n",
      "Performance Criteria: \n",
      "================================================================================\n"
     ]
    },
    {
     "name": "stderr",
     "output_type": "stream",
     "text": [
      "Processing PDFs:  11%|█         | 88/838 [02:32<16:24,  1.31s/it]"
     ]
    },
    {
     "name": "stdout",
     "output_type": "stream",
     "text": [
      "Extracted Information for Automotive_Welding_Machine_Technician.pdf:\n",
      "Job Title: ASC/Q3103: Automotive Welding Machine Technician\n",
      "Job Description: The individual is primarily involved in all robotic and manual welding operations performed in automotive manufacturing. They use various types of welding processes such as TIG, MIG, SMAW welding etc. The individual perform activities such as inspection of equipment condition, gauging, testing and inspection of welded work pieces.\n",
      "Performance Criteria: \n",
      "================================================================================\n"
     ]
    },
    {
     "name": "stderr",
     "output_type": "stream",
     "text": [
      "Processing PDFs:  11%|█         | 89/838 [02:33<16:07,  1.29s/it]"
     ]
    },
    {
     "name": "stdout",
     "output_type": "stream",
     "text": [
      "Extracted Information for Automotive_Welding_Machine_Technician.pdf:\n",
      "Job Title: ASC/Q3103: Automotive Welding Machine Technician\n",
      "Job Description: The individual is primarily involved in all robotic and manual welding operations performed in automotive manufacturing. They use various types of welding processes such as TIG, MIG, SMAW welding etc. The individual perform activities such as inspection of equipment condition, gauging, testing and inspection of welded work pieces.\n",
      "Performance Criteria: \n",
      "================================================================================\n"
     ]
    },
    {
     "name": "stderr",
     "output_type": "stream",
     "text": [
      "Processing PDFs:  11%|█         | 90/838 [02:34<15:42,  1.26s/it]"
     ]
    },
    {
     "name": "stdout",
     "output_type": "stream",
     "text": [
      "Extracted Information for Automotive_Welding_Machine_Technician.pdf:\n",
      "Job Title: ASC/Q3103: Automotive Welding Machine Technician\n",
      "Job Description: The individual is primarily involved in all robotic and manual welding operations performed in automotive manufacturing. They use various types of welding processes such as TIG, MIG, SMAW welding etc. The individual perform activities such as inspection of equipment condition, gauging, testing and inspection of welded work pieces.\n",
      "Performance Criteria: \n",
      "================================================================================\n"
     ]
    },
    {
     "name": "stderr",
     "output_type": "stream",
     "text": [
      "Processing PDFs:  11%|█         | 91/838 [02:36<15:26,  1.24s/it]"
     ]
    },
    {
     "name": "stdout",
     "output_type": "stream",
     "text": [
      "Extracted Information for Automotive_Welding_Machine_Technician.pdf:\n",
      "Job Title: ASC/Q3103: Automotive Welding Machine Technician\n",
      "Job Description: The individual is primarily involved in all robotic and manual welding operations performed in automotive manufacturing. They use various types of welding processes such as TIG, MIG, SMAW welding etc. The individual perform activities such as inspection of equipment condition, gauging, testing and inspection of welded work pieces.\n",
      "Performance Criteria: \n",
      "================================================================================\n"
     ]
    },
    {
     "name": "stderr",
     "output_type": "stream",
     "text": [
      "Processing PDFs:  11%|█         | 92/838 [02:37<16:08,  1.30s/it]"
     ]
    },
    {
     "name": "stdout",
     "output_type": "stream",
     "text": [
      "Extracted Information for Automotive_Welding_Machine_Lead_Technician.pdf:\n",
      "Job Title: ASC/Q3104: Automotive Welding Machine Lead Technician\n",
      "Job Description: The individual is primarily involved in all robotic and manual welding operations performed in automotive manufacturing. They supervise and support welding operators and technicians in performing various types of welding processes such as TIG, MIG, SMAW welding etc. and inspection of equipment condition, testing and inspection of welded work pieces.\n",
      "Performance Criteria: \n",
      "================================================================================\n"
     ]
    },
    {
     "name": "stderr",
     "output_type": "stream",
     "text": [
      "Processing PDFs:  11%|█         | 93/838 [02:38<16:27,  1.33s/it]"
     ]
    },
    {
     "name": "stdout",
     "output_type": "stream",
     "text": [
      "Extracted Information for Automotive_Welding_Machine_Lead_Technician.pdf:\n",
      "Job Title: ASC/Q3104: Automotive Welding Machine Lead Technician\n",
      "Job Description: The individual is primarily involved in all robotic and manual welding operations performed in automotive manufacturing. They supervise and support welding operators and technicians in performing various types of welding processes such as TIG, MIG, SMAW welding etc. and inspection of equipment condition, testing and inspection of welded work pieces.\n",
      "Performance Criteria: \n",
      "================================================================================\n"
     ]
    },
    {
     "name": "stderr",
     "output_type": "stream",
     "text": [
      "Processing PDFs:  11%|█         | 94/838 [02:40<16:32,  1.33s/it]"
     ]
    },
    {
     "name": "stdout",
     "output_type": "stream",
     "text": [
      "Extracted Information for Automotive_Welding_Machine_Master_Technician.pdf:\n",
      "Job Title: ASC/Q3105: Automotive Welding Machine Master Technician\n",
      "Job Description: The individual is primarily involved in various welding and new product development processes such as writing program for robotic welding, quality check, creating process sheet, etc.\n",
      "Performance Criteria: \n",
      "================================================================================\n"
     ]
    },
    {
     "name": "stderr",
     "output_type": "stream",
     "text": [
      "Processing PDFs:  11%|█▏        | 95/838 [02:41<16:35,  1.34s/it]"
     ]
    },
    {
     "name": "stdout",
     "output_type": "stream",
     "text": [
      "Extracted Information for Automotive_Welding_Machine_Trainer.pdf:\n",
      "Job Title: ASC/Q3110: Automotive Welding Machine Trainer\n",
      "Job Description: The individual is using pre-set lesson plans and training materials to plan and conduct training sessions for welding team to impart competency based skills and knowledge\n",
      "Performance Criteria: \n",
      "================================================================================\n"
     ]
    },
    {
     "name": "stderr",
     "output_type": "stream",
     "text": [
      "Processing PDFs:  11%|█▏        | 96/838 [02:42<16:15,  1.31s/it]"
     ]
    },
    {
     "name": "stdout",
     "output_type": "stream",
     "text": [
      "Extracted Information for Welding.pdf:\n",
      "Job Title: ASC/Q3111: Welding\n",
      "Job Description: A welder prepares and joins a range of metals and metallic alloys using mainly processes where an electric arc is the heat source. Electric arc processes utilize a gas shield or a ﬂux to protect the molten weld area from contamination by the surrounding atmosphere. A welder needs to be able to interpret engineering drawings, standards and symbols and correctly translate these requirements into accurate structures and fabrications.\n",
      "Performance Criteria: \n",
      "================================================================================\n"
     ]
    },
    {
     "name": "stderr",
     "output_type": "stream",
     "text": [
      "Processing PDFs:  12%|█▏        | 97/838 [02:44<15:49,  1.28s/it]"
     ]
    },
    {
     "name": "stdout",
     "output_type": "stream",
     "text": [
      "Extracted Information for Automotive_Casting_Operator.pdf:\n",
      "Job Title: ASC/Q3202: Automotive Casting Operator\n",
      "Job Description: The individual is involved in preparation of casting activities and supports the casting technician in various casting and post-casting operations.\n",
      "Performance Criteria: \n",
      "================================================================================\n"
     ]
    },
    {
     "name": "stderr",
     "output_type": "stream",
     "text": [
      "Processing PDFs:  12%|█▏        | 98/838 [02:45<15:40,  1.27s/it]"
     ]
    },
    {
     "name": "stdout",
     "output_type": "stream",
     "text": [
      "Extracted Information for Automotive_Casting_Operator.pdf:\n",
      "Job Title: ASC/Q3202: Automotive Casting Operator\n",
      "Job Description: The individual is involved in preparation of casting activities and supports the casting technician in various casting and post-casting operations.\n",
      "Performance Criteria: \n",
      "================================================================================\n"
     ]
    },
    {
     "name": "stderr",
     "output_type": "stream",
     "text": [
      "Processing PDFs:  12%|█▏        | 99/838 [02:46<15:44,  1.28s/it]"
     ]
    },
    {
     "name": "stdout",
     "output_type": "stream",
     "text": [
      "Extracted Information for Automotive_Casting_Technician.pdf:\n",
      "Job Title: ASC/Q3205: Automotive Casting Technician\n",
      "Job Description: The individual is involved in operating the casting apparatus and performing various casting and post- casting activities.\n",
      "Performance Criteria: \n",
      "================================================================================\n"
     ]
    },
    {
     "name": "stderr",
     "output_type": "stream",
     "text": [
      "Processing PDFs:  12%|█▏        | 100/838 [02:47<15:18,  1.25s/it]"
     ]
    },
    {
     "name": "stdout",
     "output_type": "stream",
     "text": [
      "Extracted Information for Automotive_Body_Painting_Assistant.pdf:\n",
      "Job Title: ASC/Q3302: Automotive Body Painting Assistant\n",
      "Job Description: The individual in this role supports the paintshop technician or operator during preparation of body treatment and painting work such as bringing vehicle body or parts, painting material and tools, body treatment and painting aligning workpiece, holding tools etc. and cleaning and maintenance of painted part and workarea.\n",
      "Performance Criteria: \n",
      "================================================================================\n"
     ]
    },
    {
     "name": "stderr",
     "output_type": "stream",
     "text": [
      "Processing PDFs:  12%|█▏        | 101/838 [02:48<14:59,  1.22s/it]"
     ]
    },
    {
     "name": "stdout",
     "output_type": "stream",
     "text": [
      "Extracted Information for Automotive_Body_Painting_Assistant.pdf:\n",
      "Job Title: ASC/Q3302: Automotive Body Painting Assistant\n",
      "Job Description: The individual in this role supports the paintshop technician or operator during preparation of body treatment and painting work such as bringing vehicle body or parts, painting material and tools, body treatment and painting aligning workpiece, holding tools etc. and cleaning and maintenance of painted part and workarea.\n",
      "Performance Criteria: \n",
      "================================================================================\n"
     ]
    },
    {
     "name": "stderr",
     "output_type": "stream",
     "text": [
      "Processing PDFs:  12%|█▏        | 102/838 [02:50<15:04,  1.23s/it]"
     ]
    },
    {
     "name": "stdout",
     "output_type": "stream",
     "text": [
      "Extracted Information for Automotive_Body_Painting_Operator.pdf:\n",
      "Job Title: ASC/Q3303: Automotive Body Painting Operator\n",
      "Job Description: The individual in this role supports the painting technician in pre-treatment and body preparation processes, painting activities such as mixing of paint, applying paint etc. and post-painting activities such as quality check, maintenance, storing and tagging etc.\n",
      "Performance Criteria: \n",
      "================================================================================\n"
     ]
    },
    {
     "name": "stderr",
     "output_type": "stream",
     "text": [
      "Processing PDFs:  12%|█▏        | 103/838 [02:51<14:53,  1.22s/it]"
     ]
    },
    {
     "name": "stdout",
     "output_type": "stream",
     "text": [
      "Extracted Information for Automotive_Body_Painting_Technician.pdf:\n",
      "Job Title: ASC/Q3304: Automotive Body Painting Technician\n",
      "Job Description: The individual in this role performs pre-treatment and body preparation processes, sealing and painting activities such as mixing of paint, applying sealer, paint etc. and post-painting activities such as quality check, maintenance, storing and tagging etc.\n",
      "Performance Criteria: \n",
      "================================================================================\n"
     ]
    },
    {
     "name": "stderr",
     "output_type": "stream",
     "text": [
      "Processing PDFs:  12%|█▏        | 104/838 [02:52<14:49,  1.21s/it]"
     ]
    },
    {
     "name": "stdout",
     "output_type": "stream",
     "text": [
      "Extracted Information for Automotive_Body_Painting_Technician.pdf:\n",
      "Job Title: ASC/Q3304: Automotive Body Painting Technician\n",
      "Job Description: The individual in this role performs pre-treatment and body preparation processes, sealing and painting activities such as mixing of paint, applying sealer, paint etc. and post-painting activities such as quality check, maintenance, storing and tagging etc.\n",
      "Performance Criteria: \n",
      "================================================================================\n"
     ]
    },
    {
     "name": "stderr",
     "output_type": "stream",
     "text": [
      "Processing PDFs:  13%|█▎        | 105/838 [02:54<16:12,  1.33s/it]"
     ]
    },
    {
     "name": "stdout",
     "output_type": "stream",
     "text": [
      "Extracted Information for Car_Painting.pdf:\n",
      "Job Title: ASC/Q3307: Car Painting\n",
      "Job Description: Car painters (reﬁnishers) are responsible for reinstating the pre-accident paint ﬁnish to cars after the structure and/or the panels have been repaired or replaced. They may also be asked to completely repaint a whole vehicle either to change its colour or reinstate its newness. Car painters may also become involved in matching colours to an original colour no longer available or to colours that prove diﬃcult to match. A car painter must match the colour, shade, and texture of the adjoining panels that are not being painted.\n",
      "Performance Criteria: \n",
      "================================================================================\n"
     ]
    },
    {
     "name": "stderr",
     "output_type": "stream",
     "text": [
      "Processing PDFs:  13%|█▎        | 106/838 [02:55<15:36,  1.28s/it]"
     ]
    },
    {
     "name": "stdout",
     "output_type": "stream",
     "text": [
      "Extracted Information for Automotive_Press_Shop_Assistant.pdf:\n",
      "Job Title: ASC/Q3401: Automotive Press Shop Assistant\n",
      "Job Description: The individual in this role supports the Press Shop Technician during preparation for pressing work such as bringing material and tools, pressing activities such as equipment setup, holding tools etc. and post- pressing activities such as cleaning and maintenance of equipment and workarea.\n",
      "Performance Criteria: \n",
      "================================================================================\n"
     ]
    },
    {
     "name": "stderr",
     "output_type": "stream",
     "text": [
      "Processing PDFs:  13%|█▎        | 107/838 [02:56<15:16,  1.25s/it]"
     ]
    },
    {
     "name": "stdout",
     "output_type": "stream",
     "text": [
      "Extracted Information for Automotive_Press_Shop_Technician.pdf:\n",
      "Job Title: ASC/Q3402: Automotive Press Shop Technician\n",
      "Job Description: The individual is involved in operating the press machine and performing various pressing and post- pressing operations.\n",
      "Performance Criteria: \n",
      "================================================================================\n"
     ]
    },
    {
     "name": "stderr",
     "output_type": "stream",
     "text": [
      "Processing PDFs:  13%|█▎        | 108/838 [02:57<15:16,  1.26s/it]"
     ]
    },
    {
     "name": "stdout",
     "output_type": "stream",
     "text": [
      "Extracted Information for Automotive_Machining_Operator.pdf:\n",
      "Job Title: ASC/Q3501: Automotive Machining Operator\n",
      "Job Description: The individual in this role supports the machining technician in various machining and inspection work on CNC/conventional machines such as quality veriﬁcation, minor repair work, change of worn out tools, re- setting of the tools, machine programming and de-burring.\n",
      "Performance Criteria: \n",
      "================================================================================\n"
     ]
    },
    {
     "name": "stderr",
     "output_type": "stream",
     "text": [
      "Processing PDFs:  13%|█▎        | 109/838 [02:59<15:23,  1.27s/it]"
     ]
    },
    {
     "name": "stdout",
     "output_type": "stream",
     "text": [
      "Extracted Information for Automotive_Machining_Operator.pdf:\n",
      "Job Title: ASC/Q3501: Automotive Machining Operator\n",
      "Job Description: The individual in this role supports the machining technician in various machining and inspection work on CNC/conventional machines such as quality veriﬁcation, minor repair work, change of worn out tools, re- setting of the tools, machine programming and de-burring.\n",
      "Performance Criteria: \n",
      "================================================================================\n"
     ]
    },
    {
     "name": "stderr",
     "output_type": "stream",
     "text": [
      "Processing PDFs:  13%|█▎        | 110/838 [03:00<15:20,  1.26s/it]"
     ]
    },
    {
     "name": "stdout",
     "output_type": "stream",
     "text": [
      "Extracted Information for Automotive_Machining_Operator.pdf:\n",
      "Job Title: ASC/Q3501: Automotive Machining Operator\n",
      "Job Description: The individual in this role supports the machining technician in various machining and inspection work on CNC/conventional machines such as quality veriﬁcation, minor repair work, change of worn out tools, re- setting of the tools, machine programming and de-burring.\n",
      "Performance Criteria: \n",
      "================================================================================\n"
     ]
    },
    {
     "name": "stderr",
     "output_type": "stream",
     "text": [
      "Processing PDFs:  13%|█▎        | 111/838 [03:01<15:22,  1.27s/it]"
     ]
    },
    {
     "name": "stdout",
     "output_type": "stream",
     "text": [
      "Extracted Information for Automotive_Machining_Operator.pdf:\n",
      "Job Title: ASC/Q3501: Automotive Machining Operator\n",
      "Job Description: The individual in this role supports the machining technician in various machining and inspection work on CNC/conventional machines such as quality veriﬁcation, minor repair work, change of worn out tools, re- setting of the tools, machine programming and de-burring.\n",
      "Performance Criteria: \n",
      "================================================================================\n"
     ]
    },
    {
     "name": "stderr",
     "output_type": "stream",
     "text": [
      "Processing PDFs:  13%|█▎        | 112/838 [03:02<15:32,  1.28s/it]"
     ]
    },
    {
     "name": "stdout",
     "output_type": "stream",
     "text": [
      "Extracted Information for Automotive_Machining_Assistant.pdf:\n",
      "Job Title: ASC/Q3502: Automotive Machining Assistant\n",
      "Job Description: The individual in this role supports the machining operator during preparation of machining work such as bringing raw material and tools, machining activities such as machine setup, aligning workpiece, holding tools etc. and cleaning and maintenance of machine and workarea.\n",
      "Performance Criteria: \n",
      "================================================================================\n"
     ]
    },
    {
     "name": "stderr",
     "output_type": "stream",
     "text": [
      "Processing PDFs:  13%|█▎        | 113/838 [03:04<15:51,  1.31s/it]"
     ]
    },
    {
     "name": "stdout",
     "output_type": "stream",
     "text": [
      "Extracted Information for Automotive_Machining_Assistant.pdf:\n",
      "Job Title: ASC/Q3502: Automotive Machining Assistant\n",
      "Job Description: The individual in this role supports the machining operator during preparation of machining work such as bringing raw material and tools, machining activities such as machine setup, aligning workpiece, holding tools etc. and cleaning and maintenance of machine and workarea.\n",
      "Performance Criteria: \n",
      "================================================================================\n"
     ]
    },
    {
     "name": "stderr",
     "output_type": "stream",
     "text": [
      "Processing PDFs:  14%|█▎        | 114/838 [03:05<16:11,  1.34s/it]"
     ]
    },
    {
     "name": "stdout",
     "output_type": "stream",
     "text": [
      "Extracted Information for Automotive_Machining_Assistant.pdf:\n",
      "Job Title: ASC/Q3502: Automotive Machining Assistant\n",
      "Job Description: The individual in this role supports the machining operator during preparation of machining work such as bringing raw material and tools, machining activities such as machine setup, aligning workpiece, holding tools etc. and cleaning and maintenance of machine and work area.\n",
      "Performance Criteria: \n",
      "================================================================================\n"
     ]
    },
    {
     "name": "stderr",
     "output_type": "stream",
     "text": [
      "Processing PDFs:  14%|█▎        | 115/838 [03:07<15:55,  1.32s/it]"
     ]
    },
    {
     "name": "stdout",
     "output_type": "stream",
     "text": [
      "Extracted Information for Automotive_Machining_Assistant.pdf:\n",
      "Job Title: ASC/Q3502: Automotive Machining Assistant\n",
      "Job Description: The individual in this role supports the machining operator during preparation of machining work such as bringing raw material and tools, machining activities such as machine setup, aligning workpiece, holding tools etc. and cleaning and maintenance of machine and work area.\n",
      "Performance Criteria: \n",
      "================================================================================\n"
     ]
    },
    {
     "name": "stderr",
     "output_type": "stream",
     "text": [
      "Processing PDFs:  14%|█▍        | 116/838 [03:08<15:39,  1.30s/it]"
     ]
    },
    {
     "name": "stdout",
     "output_type": "stream",
     "text": [
      "Extracted Information for Automotive_CNC_Machining_Technician.pdf:\n",
      "Job Title: ASC/Q3503: Automotive CNC Machining Technician\n",
      "Job Description: The individual is primarily involved in various machining and inspection work on CNC machines such as quality veriﬁcation, minor repair work, change of worn out tools, re-setting of the tools, machine programming and de-burring.\n",
      "Performance Criteria: \n",
      "================================================================================\n"
     ]
    },
    {
     "name": "stderr",
     "output_type": "stream",
     "text": [
      "Processing PDFs:  14%|█▍        | 117/838 [03:09<15:35,  1.30s/it]"
     ]
    },
    {
     "name": "stdout",
     "output_type": "stream",
     "text": [
      "Extracted Information for Automotive_CNC_Machining_Technician.pdf:\n",
      "Job Title: ASC/Q3503: Automotive CNC Machining Technician\n",
      "Job Description: The individual is primarily involved in various machining and inspection work on CNC machines such as quality veriﬁcation, minor repair work, change of worn out tools, re-setting of the tools, machine programming and de-burring.\n",
      "Performance Criteria: \n",
      "================================================================================\n"
     ]
    },
    {
     "name": "stderr",
     "output_type": "stream",
     "text": [
      "Processing PDFs:  14%|█▍        | 118/838 [03:10<15:34,  1.30s/it]"
     ]
    },
    {
     "name": "stdout",
     "output_type": "stream",
     "text": [
      "Extracted Information for Automotive_CNC_Machining_Technician.pdf:\n",
      "Job Title: ASC/Q3503: Automotive CNC Machining Technician\n",
      "Job Description: The individual is primarily involved in various machining and inspection work on CNC machines such as quality veriﬁcation, minor repair work, change of worn out tools, re-setting of the tools, machine programming and de-burring.\n",
      "Performance Criteria: \n",
      "================================================================================\n"
     ]
    },
    {
     "name": "stderr",
     "output_type": "stream",
     "text": [
      "Processing PDFs:  14%|█▍        | 119/838 [03:12<15:39,  1.31s/it]"
     ]
    },
    {
     "name": "stdout",
     "output_type": "stream",
     "text": [
      "Extracted Information for Automotive_CNC_Machining_Technician.pdf:\n",
      "Job Title: ASC/Q3503: Automotive CNC Machining Technician\n",
      "Job Description: The individual is primarily involved in various machining and inspection work on CNC machines such as quality veriﬁcation, minor repair work, change of worn out tools, re-setting of the tools, machine programming and de-burring.\n",
      "Performance Criteria: \n",
      "================================================================================\n"
     ]
    },
    {
     "name": "stderr",
     "output_type": "stream",
     "text": [
      "Processing PDFs:  14%|█▍        | 120/838 [03:13<15:51,  1.32s/it]"
     ]
    },
    {
     "name": "stdout",
     "output_type": "stream",
     "text": [
      "Extracted Information for Automotive_Machining_Lead_Technician.pdf:\n",
      "Job Title: ASC/Q3505: Automotive Machining Lead Technician\n",
      "Job Description: The individual is primarily involved in various machining and inspection work on CNC/conventional machines such as quality veriﬁcation, minor repair work, resetting of the tools, machine programming etc.\n",
      "Performance Criteria: \n",
      "================================================================================\n"
     ]
    },
    {
     "name": "stderr",
     "output_type": "stream",
     "text": [
      "Processing PDFs:  14%|█▍        | 121/838 [03:14<16:03,  1.34s/it]"
     ]
    },
    {
     "name": "stdout",
     "output_type": "stream",
     "text": [
      "Extracted Information for Automotive_Machining_Lead_Technician.pdf:\n",
      "Job Title: ASC/Q3505: Automotive Machining Lead Technician\n",
      "Job Description: The individual is primarily involved in various machining and inspection work on CNC/conventional machines such as quality veriﬁcation, minor repair work, resetting of the tools, machine programming etc.\n",
      "Performance Criteria: \n",
      "================================================================================\n"
     ]
    },
    {
     "name": "stderr",
     "output_type": "stream",
     "text": [
      "Processing PDFs:  15%|█▍        | 122/838 [03:16<15:47,  1.32s/it]"
     ]
    },
    {
     "name": "stdout",
     "output_type": "stream",
     "text": [
      "Extracted Information for Automotive_Machining_Master_Technician.pdf:\n",
      "Job Title: ASC/Q3506: Automotive Machining Master Technician\n",
      "Job Description: The individual is primarily involved in various machining and new product development processes on CNC/conventional machines such as writing and modifying CNC program, quality veriﬁcation, resetting of the tools, machine PPAP process, six sigma cabalitiy study etc.\n",
      "Performance Criteria: \n",
      "================================================================================\n"
     ]
    },
    {
     "name": "stderr",
     "output_type": "stream",
     "text": [
      "Processing PDFs:  15%|█▍        | 123/838 [03:17<16:16,  1.37s/it]"
     ]
    },
    {
     "name": "stdout",
     "output_type": "stream",
     "text": [
      "Extracted Information for Automotive_Conventional_Machining_Technician.pdf:\n",
      "Job Title: ASC/Q3510: Automotive Conventional Machining Technician\n",
      "Job Description: The individual is primarily involved in various machining and inspection work on conventional/manual machines such as quality veriﬁcation, minor repair work, change of worn out tools, re-setting of the tools, etc.\n",
      "Performance Criteria: \n",
      "================================================================================\n"
     ]
    },
    {
     "name": "stderr",
     "output_type": "stream",
     "text": [
      "Processing PDFs:  15%|█▍        | 124/838 [03:19<16:03,  1.35s/it]"
     ]
    },
    {
     "name": "stdout",
     "output_type": "stream",
     "text": [
      "Extracted Information for Automotive_Machining_Trainer.pdf:\n",
      "Job Title: ASC/Q3511: Automotive Machining Trainer\n",
      "Job Description: The individual is using pre-set lesson plans and training materials to plan and conduct training sessions for the machining team to impart competency based skills and knowledge\n",
      "Performance Criteria: \n",
      "================================================================================\n"
     ]
    },
    {
     "name": "stderr",
     "output_type": "stream",
     "text": [
      "Processing PDFs:  15%|█▍        | 125/838 [03:21<18:24,  1.55s/it]"
     ]
    },
    {
     "name": "stdout",
     "output_type": "stream",
     "text": [
      "Extracted Information for Automotive_Machining_Trainer.pdf:\n",
      "Job Title: ASC/Q3511: Automotive Machining Trainer\n",
      "Job Description: The individual is using pre-set lesson plans and training materials to plan and conduct training sessions for the machining team to impart competency based skills and knowledge\n",
      "Performance Criteria: \n",
      "================================================================================\n"
     ]
    },
    {
     "name": "stderr",
     "output_type": "stream",
     "text": [
      "Processing PDFs:  15%|█▌        | 126/838 [03:22<17:21,  1.46s/it]"
     ]
    },
    {
     "name": "stdout",
     "output_type": "stream",
     "text": [
      "Extracted Information for Automotive_Machining_Aide.pdf:\n",
      "Job Title: ASC/Q3512: Automotive Machining Aide\n",
      "Job Description: The individual in this role supports the machining operator during preparation of machining work such as bringing raw material and tools, machining activities such as machine setup, aligning workpiece, holding tools etc. and cleaning and maintenance of machine and workarea.\n",
      "Performance Criteria: \n",
      "================================================================================\n"
     ]
    },
    {
     "name": "stderr",
     "output_type": "stream",
     "text": [
      "Processing PDFs:  15%|█▌        | 127/838 [03:23<16:47,  1.42s/it]"
     ]
    },
    {
     "name": "stdout",
     "output_type": "stream",
     "text": [
      "Extracted Information for Automotive_Machinist.pdf:\n",
      "Job Title: ASC/Q3513: Automotive Machinist\n",
      "Job Description: The individual in this role supports the machining technician in various machining and inspection work on CNC/conventional machines such as quality veriﬁcation, minor repair work, change of worn out tools, re- setting of the tools, machine programming and de-burring\n",
      "Performance Criteria: \n",
      "================================================================================\n"
     ]
    },
    {
     "name": "stderr",
     "output_type": "stream",
     "text": [
      "Processing PDFs:  15%|█▌        | 128/838 [03:25<17:20,  1.47s/it]"
     ]
    },
    {
     "name": "stdout",
     "output_type": "stream",
     "text": [
      "Extracted Information for Automotive_Assembly_Technician.pdf:\n",
      "Job Title: ASC/Q3601: Automotive Assembly Technician\n",
      "Job Description: The individual at this job performs assembly of vehicle and its components.\n",
      "Performance Criteria: \n",
      "================================================================================\n"
     ]
    },
    {
     "name": "stderr",
     "output_type": "stream",
     "text": [
      "Processing PDFs:  15%|█▌        | 129/838 [03:26<18:12,  1.54s/it]"
     ]
    },
    {
     "name": "stdout",
     "output_type": "stream",
     "text": [
      "Extracted Information for Automotive_Assembly_Technician.pdf:\n",
      "Job Title: ASC/Q3601: Automotive Assembly Technician\n",
      "Job Description: The individual at this job performs assembly of vehicle and its components.\n",
      "Performance Criteria: \n",
      "================================================================================\n"
     ]
    },
    {
     "name": "stderr",
     "output_type": "stream",
     "text": [
      "Processing PDFs:  16%|█▌        | 130/838 [03:28<18:27,  1.56s/it]"
     ]
    },
    {
     "name": "stdout",
     "output_type": "stream",
     "text": [
      "Extracted Information for Automotive_Assembly_Technician.pdf:\n",
      "Job Title: ASC/Q3601: Automotive Assembly Technician\n",
      "Job Description: The individual at this job performs assembly of vehicle and its components.\n",
      "Performance Criteria: \n",
      "================================================================================\n"
     ]
    },
    {
     "name": "stderr",
     "output_type": "stream",
     "text": [
      "Processing PDFs:  16%|█▌        | 131/838 [03:30<18:38,  1.58s/it]"
     ]
    },
    {
     "name": "stdout",
     "output_type": "stream",
     "text": [
      "Extracted Information for Automotive_Assembly_Technician.pdf:\n",
      "Job Title: ASC/Q3601: Automotive Assembly Technician\n",
      "Job Description: The individual at this job performs assembly of vehicle and its components.\n",
      "Performance Criteria: \n",
      "================================================================================\n"
     ]
    },
    {
     "name": "stderr",
     "output_type": "stream",
     "text": [
      "Processing PDFs:  16%|█▌        | 132/838 [03:31<18:43,  1.59s/it]"
     ]
    },
    {
     "name": "stdout",
     "output_type": "stream",
     "text": [
      "Extracted Information for Automotive_Assembly_Lead_Technician.pdf:\n",
      "Job Title: ASC/Q3602: Automotive Assembly Lead Technician\n",
      "Job Description: The individual is primarily involved in all assembly and quality check operations performed in automotive manufacturing. They support assembly operators and technicians in performing various assembly operations and inspection of assembled auto components.\n",
      "Performance Criteria: \n",
      "================================================================================\n"
     ]
    },
    {
     "name": "stderr",
     "output_type": "stream",
     "text": [
      "Processing PDFs:  16%|█▌        | 133/838 [03:33<18:52,  1.61s/it]"
     ]
    },
    {
     "name": "stdout",
     "output_type": "stream",
     "text": [
      "Extracted Information for Automotive_Assembly_Lead_Technician.pdf:\n",
      "Job Title: ASC/Q3602: Automotive Assembly Lead Technician\n",
      "Job Description: The individual is primarily involved in all assembly and quality check operations performed in automotive manufacturing. They support assembly operators and technicians in performing various assembly operations and inspection of assembled auto components.\n",
      "Performance Criteria: \n",
      "================================================================================\n"
     ]
    },
    {
     "name": "stderr",
     "output_type": "stream",
     "text": [
      "Processing PDFs:  16%|█▌        | 134/838 [03:34<18:19,  1.56s/it]"
     ]
    },
    {
     "name": "stdout",
     "output_type": "stream",
     "text": [
      "Extracted Information for Automotive_Assembly_Master_Technician.pdf:\n",
      "Job Title: ASC/Q3603: Automotive Assembly Master Technician\n",
      "Job Description: The individual is primarily involved in assembly of critical components of vehicles and quality check operations performed in automotive manufacturing.\n",
      "Performance Criteria: \n",
      "================================================================================\n"
     ]
    },
    {
     "name": "stderr",
     "output_type": "stream",
     "text": [
      "Processing PDFs:  16%|█▌        | 135/838 [03:36<18:08,  1.55s/it]"
     ]
    },
    {
     "name": "stdout",
     "output_type": "stream",
     "text": [
      "Extracted Information for Automotive_Assembly_Master_Technician.pdf:\n",
      "Job Title: ASC/Q3603: Automotive Assembly Master Technician\n",
      "Job Description: The individual is primarily involved in assembly of critical components of vehicles and quality check operations performed in automotive manufacturing.\n",
      "Performance Criteria: \n",
      "================================================================================\n"
     ]
    },
    {
     "name": "stderr",
     "output_type": "stream",
     "text": [
      "Processing PDFs:  16%|█▌        | 136/838 [03:37<17:09,  1.47s/it]"
     ]
    },
    {
     "name": "stdout",
     "output_type": "stream",
     "text": [
      "Extracted Information for Automotive_Assembly_Operator.pdf:\n",
      "Job Title: ASC/Q3604: Automotive Assembly Operator\n",
      "Job Description: The individual supports the assembly technician and perform assembly of vehicle and its components.\n",
      "Performance Criteria: \n",
      "================================================================================\n"
     ]
    },
    {
     "name": "stderr",
     "output_type": "stream",
     "text": [
      "Processing PDFs:  16%|█▋        | 137/838 [03:39<16:50,  1.44s/it]"
     ]
    },
    {
     "name": "stdout",
     "output_type": "stream",
     "text": [
      "Extracted Information for Automotive_Assembly_Operator.pdf:\n",
      "Job Title: ASC/Q3604: Automotive Assembly Operator\n",
      "Job Description: The individual supports the assembly technician and perform assembly of vehicle and its components.\n",
      "Performance Criteria: \n",
      "================================================================================\n"
     ]
    },
    {
     "name": "stderr",
     "output_type": "stream",
     "text": [
      "Processing PDFs:  16%|█▋        | 138/838 [03:40<16:24,  1.41s/it]"
     ]
    },
    {
     "name": "stdout",
     "output_type": "stream",
     "text": [
      "Extracted Information for Automotive_Assembly_Operator.pdf:\n",
      "Job Title: ASC/Q3604: Automotive Assembly Operator\n",
      "Job Description: The individual supports the assembly technician and perform assembly of vehicle and its components.\n",
      "Performance Criteria: \n",
      "================================================================================\n"
     ]
    },
    {
     "name": "stderr",
     "output_type": "stream",
     "text": [
      "Processing PDFs:  17%|█▋        | 139/838 [03:41<16:09,  1.39s/it]"
     ]
    },
    {
     "name": "stdout",
     "output_type": "stream",
     "text": [
      "Extracted Information for Automotive_Assembly_Operator.pdf:\n",
      "Job Title: ASC/Q3604: Automotive Assembly Operator\n",
      "Job Description: The individual supports the assembly technician and perform assembly of vehicle and its components.\n",
      "Performance Criteria: \n",
      "================================================================================\n"
     ]
    },
    {
     "name": "stderr",
     "output_type": "stream",
     "text": [
      "Processing PDFs:  17%|█▋        | 140/838 [03:43<16:14,  1.40s/it]"
     ]
    },
    {
     "name": "stdout",
     "output_type": "stream",
     "text": [
      "Extracted Information for Electric_Vehicle_Assembly_Technician.pdf:\n",
      "Job Title: ASC/Q3605: Electric Vehicle Assembly Technician\n",
      "Job Description: The individual at this job performs assembly of electric vehicle and its components.\n",
      "Performance Criteria: \n",
      "================================================================================\n"
     ]
    },
    {
     "name": "stderr",
     "output_type": "stream",
     "text": [
      "Processing PDFs:  17%|█▋        | 141/838 [03:44<16:21,  1.41s/it]"
     ]
    },
    {
     "name": "stdout",
     "output_type": "stream",
     "text": [
      "Extracted Information for Electric_Vehicle_Assembly_Technician.pdf:\n",
      "Job Title: ASC/Q3605: Electric Vehicle Assembly Technician\n",
      "Job Description: The individual at this job performs assembly of electric vehicle and its components.\n",
      "Performance Criteria: \n",
      "================================================================================\n"
     ]
    },
    {
     "name": "stderr",
     "output_type": "stream",
     "text": [
      "Processing PDFs:  17%|█▋        | 142/838 [03:45<16:15,  1.40s/it]"
     ]
    },
    {
     "name": "stdout",
     "output_type": "stream",
     "text": [
      "Extracted Information for Electric_Vehicle_Assembly_Operator.pdf:\n",
      "Job Title: ASC/Q3606: Electric Vehicle Assembly Operator\n",
      "Job Description: The individual supports the electric vehicle assembly technician and performs assembly of electric vehicle and its components.\n",
      "Performance Criteria: \n",
      "================================================================================\n"
     ]
    },
    {
     "name": "stderr",
     "output_type": "stream",
     "text": [
      "Processing PDFs:  17%|█▋        | 143/838 [03:47<16:12,  1.40s/it]"
     ]
    },
    {
     "name": "stdout",
     "output_type": "stream",
     "text": [
      "Extracted Information for Electric_Vehicle_Assembly_Operator.pdf:\n",
      "Job Title: ASC/Q3606: Electric Vehicle Assembly Operator\n",
      "Job Description: The individual supports the electric vehicle assembly technician and performs assembly of electric vehicle and its components.\n",
      "Performance Criteria: \n",
      "================================================================================\n"
     ]
    },
    {
     "name": "stderr",
     "output_type": "stream",
     "text": [
      "Processing PDFs:  17%|█▋        | 144/838 [03:48<16:29,  1.43s/it]"
     ]
    },
    {
     "name": "stdout",
     "output_type": "stream",
     "text": [
      "Extracted Information for Electric_Vehicle_Assembly_Operator.pdf:\n",
      "Job Title: ASC/Q3606: Electric Vehicle Assembly Operator\n",
      "Job Description: The individual supports the electric vehicle assembly technician and performs assembly of electric vehicle and its components.\n",
      "Performance Criteria: \n",
      "================================================================================\n"
     ]
    },
    {
     "name": "stderr",
     "output_type": "stream",
     "text": [
      "Processing PDFs:  17%|█▋        | 145/838 [03:50<16:03,  1.39s/it]"
     ]
    },
    {
     "name": "stdout",
     "output_type": "stream",
     "text": [
      "Extracted Information for Automotive_Assembly_Assistant.pdf:\n",
      "Job Title: ASC/Q3607: Automotive Assembly Assistant\n",
      "Job Description: The individual in this role supports the Automotive Assembly Operator during preparation for assembly work such as bringing auto components and tools, assembling activities such as equipment setup, holding tools etc. and post-assembly activities such as cleaning and maintenance of equipment and workarea.\n",
      "Performance Criteria: \n",
      "================================================================================\n"
     ]
    },
    {
     "name": "stderr",
     "output_type": "stream",
     "text": [
      "Processing PDFs:  17%|█▋        | 146/838 [03:51<15:44,  1.37s/it]"
     ]
    },
    {
     "name": "stdout",
     "output_type": "stream",
     "text": [
      "Extracted Information for Automotive_Assembler.pdf:\n",
      "Job Title: ASC/Q3608: Automotive Assembler\n",
      "Job Description: The individual at this job performs assembly of vehicle and its components.\n",
      "Performance Criteria: \n",
      "================================================================================\n"
     ]
    },
    {
     "name": "stderr",
     "output_type": "stream",
     "text": [
      "Processing PDFs:  18%|█▊        | 147/838 [03:52<15:56,  1.38s/it]"
     ]
    },
    {
     "name": "stdout",
     "output_type": "stream",
     "text": [
      "Extracted Information for Auto_Component_Assembly_Fitter.pdf:\n",
      "Job Title: ASC/Q3701: Auto Component Assembly Fitter\n",
      "Job Description: An auto component assembly ﬁtter is one who is skilled in operating machine tools for conducting assembly and ﬁtment operations of vehicle components and aggregates as per the required assembly norms. The components assembled by the operators will be ﬁnally assembled in the given 2 wheeler, 3 wheeler, 4 wheeler and large commercial vehicles.\n",
      "Performance Criteria: \n",
      "================================================================================\n"
     ]
    },
    {
     "name": "stderr",
     "output_type": "stream",
     "text": [
      "Processing PDFs:  18%|█▊        | 148/838 [03:54<15:24,  1.34s/it]"
     ]
    },
    {
     "name": "stdout",
     "output_type": "stream",
     "text": [
      "Extracted Information for Automotive_Heat_Treatment_Technician.pdf:\n",
      "Job Title: ASC/Q3901: Automotive Heat Treatment Technician\n",
      "Job Description: The individual is involved in loading/unloading of components, operating the washing machine and shot blasting machine. The individual also involved in performing various heat treatment and post-treatment operations.\n",
      "Performance Criteria: \n",
      "================================================================================\n"
     ]
    },
    {
     "name": "stderr",
     "output_type": "stream",
     "text": [
      "Processing PDFs:  18%|█▊        | 149/838 [03:55<16:41,  1.45s/it]"
     ]
    },
    {
     "name": "stdout",
     "output_type": "stream",
     "text": [
      "Extracted Information for Tool_Room_Designer.pdf:\n",
      "Job Title: ASC/Q4001: Tool Room Designer\n",
      "Job Description: Tool room designer has to interpret the customer requirement of tools and simulate the same using 3D and 2D drawings through various computer aided design tools to create a graphical model on exact speciﬁcations for the Manufacturing and R&D of Tool and Die.\n",
      "Performance Criteria: \n",
      "================================================================================\n"
     ]
    },
    {
     "name": "stderr",
     "output_type": "stream",
     "text": [
      "Processing PDFs:  18%|█▊        | 150/838 [03:57<16:05,  1.40s/it]"
     ]
    },
    {
     "name": "stdout",
     "output_type": "stream",
     "text": [
      "Extracted Information for Automotive_Tool_Room_Technician.pdf:\n",
      "Job Title: ASC/Q4101: Automotive Tool Room Technician\n",
      "Job Description: The individual at this job performs various machining and assembling activities to manufacture tool and die as per the work requirements.\n",
      "Performance Criteria: \n",
      "================================================================================\n"
     ]
    },
    {
     "name": "stderr",
     "output_type": "stream",
     "text": [
      "Processing PDFs:  18%|█▊        | 151/838 [03:59<18:07,  1.58s/it]"
     ]
    },
    {
     "name": "stdout",
     "output_type": "stream",
     "text": [
      "Extracted Information for Automotive_Tool_Room_Technician.pdf:\n",
      "Job Title: ASC/Q4101: Automotive Tool Room Technician\n",
      "Job Description: The individual at this job performs various machining and assembling activities to manufacture tool and die as per the work requirements.\n",
      "Performance Criteria: \n",
      "================================================================================\n"
     ]
    },
    {
     "name": "stderr",
     "output_type": "stream",
     "text": [
      "Processing PDFs:  18%|█▊        | 152/838 [04:00<17:05,  1.49s/it]"
     ]
    },
    {
     "name": "stdout",
     "output_type": "stream",
     "text": [
      "Extracted Information for Automotive_Tool_Room_Lead_Technician.pdf:\n",
      "Job Title: ASC/Q4102: Automotive Tool Room Lead Technician\n",
      "Job Description: The individual is primarily involves in supervising all kinds of machining, assembling and in-line inspection activities of tool and die manufacturing process.\n",
      "Performance Criteria: \n",
      "================================================================================\n"
     ]
    },
    {
     "name": "stderr",
     "output_type": "stream",
     "text": [
      "Processing PDFs:  18%|█▊        | 153/838 [04:01<16:12,  1.42s/it]"
     ]
    },
    {
     "name": "stdout",
     "output_type": "stream",
     "text": [
      "Extracted Information for Automotive_Plastic_Moulding_Technician.pdf:\n",
      "Job Title: ASC/Q4401: Automotive Plastic Moulding Technician\n",
      "Job Description: The individual is involved in operating the moulding process apparatus and performing various moulding and post-moulding activities.\n",
      "Performance Criteria: \n",
      "================================================================================\n"
     ]
    },
    {
     "name": "stderr",
     "output_type": "stream",
     "text": [
      "Processing PDFs:  18%|█▊        | 154/838 [04:02<15:49,  1.39s/it]"
     ]
    },
    {
     "name": "stdout",
     "output_type": "stream",
     "text": [
      "Extracted Information for Automotive_Plastic_Moulding_Technician.pdf:\n",
      "Job Title: ASC/Q4401: Automotive Plastic Moulding Technician\n",
      "Job Description: The individual is involved in operating the moulding process apparatus and performing various moulding and post-moulding activities.\n",
      "Performance Criteria: \n",
      "================================================================================\n"
     ]
    },
    {
     "name": "stderr",
     "output_type": "stream",
     "text": [
      "Processing PDFs:  18%|█▊        | 155/838 [04:04<15:27,  1.36s/it]"
     ]
    },
    {
     "name": "stdout",
     "output_type": "stream",
     "text": [
      "Extracted Information for Automotive_Plastic_Moulding_Assistant.pdf:\n",
      "Job Title: ASC/Q4402: Automotive Plastic Moulding Assistant\n",
      "Job Description: The individual in this role supports the Plastic Moulding Operator / Technician during preparation for moulding work such as bringing material and tools, moulding activities such as equipment setup, holding tools etc. and post-moulding activities such as cleaning and maintenance of equipment and workarea.\n",
      "Performance Criteria: \n",
      "================================================================================\n"
     ]
    },
    {
     "name": "stderr",
     "output_type": "stream",
     "text": [
      "Processing PDFs:  19%|█▊        | 156/838 [04:05<15:06,  1.33s/it]"
     ]
    },
    {
     "name": "stdout",
     "output_type": "stream",
     "text": [
      "Extracted Information for Automotive_Forging_Technician.pdf:\n",
      "Job Title: ASC/Q4501: Automotive Forging Technician\n",
      "Job Description: The individual is involved in operating the forging process apparatus and performing various forging and post-forging activities.\n",
      "Performance Criteria: \n",
      "================================================================================\n"
     ]
    },
    {
     "name": "stderr",
     "output_type": "stream",
     "text": [
      "Processing PDFs:  19%|█▊        | 157/838 [04:06<15:11,  1.34s/it]"
     ]
    },
    {
     "name": "stdout",
     "output_type": "stream",
     "text": [
      "Extracted Information for Product_Conceptualization_Engineer.pdf:\n",
      "Job Title: ASC/Q5101: Product Conceptualization Engineer\n",
      "Job Description: Product Conceptualization Engineer is responsible for broad level idea generation, collecting data for performing sensitivity, trend, economic etc. analysis; collating information for conducting internal and external benchmarking, supporting the Product Conceptualization Manager in creation of SQFD, understanding regulatory environment and also further support in assimilation of Cross Functional Teams.\n",
      "Performance Criteria: \n",
      "================================================================================\n"
     ]
    },
    {
     "name": "stderr",
     "output_type": "stream",
     "text": [
      "Processing PDFs:  19%|█▉        | 158/838 [04:08<15:18,  1.35s/it]"
     ]
    },
    {
     "name": "stdout",
     "output_type": "stream",
     "text": [
      "Extracted Information for Computer_Aided_Test_Executive.pdf:\n",
      "Job Title: ASC/Q5102: Computer Aided Test Executive\n",
      "Job Description: This role is responsible for organizing various tests on automobile aggregates prototypes in a simulated laboratory environment and presenting ﬁrst level analysis report to the Engineering Management.\n",
      "Performance Criteria: \n",
      "================================================================================\n"
     ]
    },
    {
     "name": "stderr",
     "output_type": "stream",
     "text": [
      "Processing PDFs:  19%|█▉        | 159/838 [04:09<14:46,  1.31s/it]"
     ]
    },
    {
     "name": "stdout",
     "output_type": "stream",
     "text": [
      "Extracted Information for Automotive_Material_Handling_Assistant.pdf:\n",
      "Job Title: ASC/Q6101: Automotive Material Handling Assistant\n",
      "Job Description: The individuals at this job perform loading and unloading of raw material, diﬀerent vehicles, parts, assemblies, components etc. and transfer them to the stores and transport vehicles based on the requirement.\n",
      "Performance Criteria: \n",
      "================================================================================\n"
     ]
    },
    {
     "name": "stderr",
     "output_type": "stream",
     "text": [
      "Processing PDFs:  19%|█▉        | 160/838 [04:10<14:20,  1.27s/it]"
     ]
    },
    {
     "name": "stdout",
     "output_type": "stream",
     "text": [
      "Extracted Information for Automotive_Packing_Assistant.pdf:\n",
      "Job Title: ASC/Q6102: Automotive Packing Assistant\n",
      "Job Description: The individuals at this job perform packing and unpacking of diﬀerent parts and assemblies according to production and shipping schedules.\n",
      "Performance Criteria: \n",
      "================================================================================\n"
     ]
    },
    {
     "name": "stderr",
     "output_type": "stream",
     "text": [
      "Processing PDFs:  19%|█▉        | 161/838 [04:11<14:11,  1.26s/it]"
     ]
    },
    {
     "name": "stdout",
     "output_type": "stream",
     "text": [
      "Extracted Information for Automotive_Packing_Assistant.pdf:\n",
      "Job Title: ASC/Q6102: Automotive Packing Assistant\n",
      "Job Description: The individuals at this job perform packing and unpacking of diﬀerent parts and assemblies according to production and shipping schedules.\n",
      "Performance Criteria: \n",
      "================================================================================\n"
     ]
    },
    {
     "name": "stderr",
     "output_type": "stream",
     "text": [
      "Processing PDFs:  19%|█▉        | 162/838 [04:13<14:15,  1.27s/it]"
     ]
    },
    {
     "name": "stdout",
     "output_type": "stream",
     "text": [
      "Extracted Information for Automotive_Material_Handling_Operator.pdf:\n",
      "Job Title: ASC/Q6103: Automotive Material Handling Operator\n",
      "Job Description: The individuals at this job need to pick and issue the diﬀerent parts and assemblies from Stores/warehouses according to production and shipping schedules.\n",
      "Performance Criteria: \n",
      "================================================================================\n"
     ]
    },
    {
     "name": "stderr",
     "output_type": "stream",
     "text": [
      "Processing PDFs:  19%|█▉        | 163/838 [04:14<14:32,  1.29s/it]"
     ]
    },
    {
     "name": "stdout",
     "output_type": "stream",
     "text": [
      "Extracted Information for Automotive_Quality_Control_Assistant.pdf:\n",
      "Job Title: ASC/Q6301: Automotive Quality Control Assistant\n",
      "Job Description: The individual performs routine and repetitive inspection of the automotive parts, products and related processes to deliver high quality products to customers.\n",
      "Performance Criteria: \n",
      "================================================================================\n"
     ]
    },
    {
     "name": "stderr",
     "output_type": "stream",
     "text": [
      "Processing PDFs:  20%|█▉        | 164/838 [04:15<14:34,  1.30s/it]"
     ]
    },
    {
     "name": "stdout",
     "output_type": "stream",
     "text": [
      "Extracted Information for Automotive_Quality_Control_Inspector.pdf:\n",
      "Job Title: ASC/Q6303: Automotive Quality Control Inspector\n",
      "Job Description: The individual is responsible for the conducting inspection and maintaining quality of the manufactured automotive products and related processes to deliver high quality products to customers.\n",
      "Performance Criteria: \n",
      "================================================================================\n"
     ]
    },
    {
     "name": "stderr",
     "output_type": "stream",
     "text": [
      "Processing PDFs:  20%|█▉        | 165/838 [04:17<14:41,  1.31s/it]"
     ]
    },
    {
     "name": "stdout",
     "output_type": "stream",
     "text": [
      "Extracted Information for Automotive_Quality_Control_Inspector.pdf:\n",
      "Job Title: ASC/Q6303: Automotive Quality Control Inspector\n",
      "Job Description: The individual is responsible for the conducting inspection and maintaining quality of the manufactured automotive products and related processes to deliver high quality products to customers.\n",
      "Performance Criteria: \n",
      "================================================================================\n"
     ]
    },
    {
     "name": "stderr",
     "output_type": "stream",
     "text": [
      "Processing PDFs:  20%|█▉        | 166/838 [04:18<14:41,  1.31s/it]"
     ]
    },
    {
     "name": "stdout",
     "output_type": "stream",
     "text": [
      "Extracted Information for Automotive_Quality_Control_Lead_Inspector.pdf:\n",
      "Job Title: ASC/Q6305: Automotive Quality Control Lead Inspector\n",
      "Job Description: The individual is responsible for conducting validation and maintaining quality of the manufactured automotive products and related processes to deliver high quality products to customers.\n",
      "Performance Criteria: \n",
      "================================================================================\n"
     ]
    },
    {
     "name": "stderr",
     "output_type": "stream",
     "text": [
      "Processing PDFs:  20%|█▉        | 167/838 [04:19<14:26,  1.29s/it]"
     ]
    },
    {
     "name": "stdout",
     "output_type": "stream",
     "text": [
      "Extracted Information for Automotive_Quality_Control_Lead_Inspector.pdf:\n",
      "Job Title: ASC/Q6305: Automotive Quality Control Lead Inspector\n",
      "Job Description: The individual is responsible for conducting validation and maintaining quality of the manufactured automotive products and related processes to deliver high quality products to customers.\n",
      "Performance Criteria: \n",
      "================================================================================\n"
     ]
    },
    {
     "name": "stderr",
     "output_type": "stream",
     "text": [
      "Processing PDFs:  20%|██        | 168/838 [04:20<14:18,  1.28s/it]"
     ]
    },
    {
     "name": "stdout",
     "output_type": "stream",
     "text": [
      "Extracted Information for Electric_Vehicle_Quality_Control_Inspector.pdf:\n",
      "Job Title: ASC/Q6307: Electric Vehicle Quality Control Inspector\n",
      "Job Description: The individual is responsible for conducting inspection and maintaining quality of the manufactured automotive products and related processes to deliver high quality products to customers.\n",
      "Performance Criteria: \n",
      "================================================================================\n"
     ]
    },
    {
     "name": "stderr",
     "output_type": "stream",
     "text": [
      "Processing PDFs:  20%|██        | 169/838 [04:22<14:13,  1.28s/it]"
     ]
    },
    {
     "name": "stdout",
     "output_type": "stream",
     "text": [
      "Extracted Information for Electric_Vehicle_Quality_Control_Inspector.pdf:\n",
      "Job Title: ASC/Q6307: Electric Vehicle Quality Control Inspector\n",
      "Job Description: The individual is responsible for conducting inspection and maintaining quality of the manufactured automotive products and related processes to deliver high quality products to customers.\n",
      "Performance Criteria: \n",
      "================================================================================\n"
     ]
    },
    {
     "name": "stderr",
     "output_type": "stream",
     "text": [
      "Processing PDFs:  20%|██        | 170/838 [04:23<14:11,  1.27s/it]"
     ]
    },
    {
     "name": "stdout",
     "output_type": "stream",
     "text": [
      "Extracted Information for Jr_Operator-_Automotive_Quality_Control.pdf:\n",
      "Job Title: ASC/Q6308: Jr Operator- Automotive Quality Control\n",
      "Job Description: The individual performs routine and repetitive inspection of the automotive parts, products and related processes to deliver high quality products to customers.\n",
      "Performance Criteria: \n",
      "================================================================================\n"
     ]
    },
    {
     "name": "stderr",
     "output_type": "stream",
     "text": [
      "Processing PDFs:  20%|██        | 171/838 [04:24<14:16,  1.28s/it]"
     ]
    },
    {
     "name": "stdout",
     "output_type": "stream",
     "text": [
      "Extracted Information for Layout_Engineer_Level_5.pdf:\n",
      "Job Title: ASC/Q6403: Layout Engineer Level 5\n",
      "Job Description: Individuals at this job need to design, develop and implement the integrated facility layouts for the organization by planning and positioning employees, materials, machines, equipments andother Manufacturing supports and facilities for minimization of waste and material handling cost; thereby providing smooth ﬂow of work, material andinformation throughout the organization.\n",
      "Performance Criteria: \n",
      "================================================================================\n"
     ]
    },
    {
     "name": "stderr",
     "output_type": "stream",
     "text": [
      "Processing PDFs:  21%|██        | 172/838 [04:26<14:17,  1.29s/it]"
     ]
    },
    {
     "name": "stdout",
     "output_type": "stream",
     "text": [
      "Extracted Information for Automotive_Production_Equipment_Design_Engineer.pdf:\n",
      "Job Title: ASC/Q6405: Automotive Production Equipment Design Engineer\n",
      "Job Description: The individual at this job is responsible for design details of the equipment- mechanism, ﬁxtures, tools, gauges and other instruments for manufacturing & measuring the quality standards of the production process.\n",
      "Performance Criteria: \n",
      "================================================================================\n"
     ]
    },
    {
     "name": "stderr",
     "output_type": "stream",
     "text": [
      "Processing PDFs:  21%|██        | 173/838 [04:27<13:46,  1.24s/it]"
     ]
    },
    {
     "name": "stdout",
     "output_type": "stream",
     "text": [
      "Extracted Information for Automotive_Additive_Manufacturing_Operator.pdf:\n",
      "Job Title: ASC/Q6410: Automotive Additive Manufacturing Operator\n",
      "Job Description: The individual in this job is responsible for operating and maintaining 3D printing machine for manufacturing of automotive parts\n",
      "Performance Criteria: \n",
      "================================================================================\n"
     ]
    },
    {
     "name": "stderr",
     "output_type": "stream",
     "text": [
      "Processing PDFs:  21%|██        | 174/838 [04:28<13:44,  1.24s/it]"
     ]
    },
    {
     "name": "stdout",
     "output_type": "stream",
     "text": [
      "Extracted Information for Automotive_Additive_Manufacturing_Operator.pdf:\n",
      "Job Title: ASC/Q6410: Automotive Additive Manufacturing Operator\n",
      "Job Description: The individual in this job is responsible for operating and maintaining 3D printing machine for manufacturing of automotive parts\n",
      "Performance Criteria: \n",
      "================================================================================\n"
     ]
    },
    {
     "name": "stderr",
     "output_type": "stream",
     "text": [
      "Processing PDFs:  21%|██        | 175/838 [04:29<13:43,  1.24s/it]"
     ]
    },
    {
     "name": "stdout",
     "output_type": "stream",
     "text": [
      "Extracted Information for Automotive_Additive_Manufacturing_Operator.pdf:\n",
      "Job Title: ASC/Q6410: Automotive Additive Manufacturing Operator\n",
      "Job Description: The individual in this job is responsible for operating and maintaining 3D printing machine for manufacturing of automotive parts\n",
      "Performance Criteria: \n",
      "================================================================================\n"
     ]
    },
    {
     "name": "stderr",
     "output_type": "stream",
     "text": [
      "Processing PDFs:  21%|██        | 176/838 [04:31<13:55,  1.26s/it]"
     ]
    },
    {
     "name": "stdout",
     "output_type": "stream",
     "text": [
      "Extracted Information for Automotive_Additive_Manufacturing_Operator.pdf:\n",
      "Job Title: ASC/Q6410: Automotive Additive Manufacturing Operator\n",
      "Job Description: The individual in this job is responsible for operating and maintaining 3D printing machine for manufacturing of automotive parts\n",
      "Performance Criteria: \n",
      "================================================================================\n"
     ]
    },
    {
     "name": "stderr",
     "output_type": "stream",
     "text": [
      "Processing PDFs:  21%|██        | 177/838 [04:32<13:51,  1.26s/it]"
     ]
    },
    {
     "name": "stdout",
     "output_type": "stream",
     "text": [
      "Extracted Information for Automotive_Additive_Manufacturing_Technician.pdf:\n",
      "Job Title: ASC/Q6411: Automotive Additive Manufacturing Technician\n",
      "Job Description: The individual in this job is responsible for preparing object model of the part/product and manufacturing of parts/product on 3D printing machine.\n",
      "Performance Criteria: \n",
      "================================================================================\n"
     ]
    },
    {
     "name": "stderr",
     "output_type": "stream",
     "text": [
      "Processing PDFs:  21%|██        | 178/838 [04:33<13:46,  1.25s/it]"
     ]
    },
    {
     "name": "stdout",
     "output_type": "stream",
     "text": [
      "Extracted Information for Automotive_Additive_Manufacturing_Technician.pdf:\n",
      "Job Title: ASC/Q6411: Automotive Additive Manufacturing Technician\n",
      "Job Description: The individual in this job is responsible for preparing object model of the part/product and manufacturing of parts/product on 3D printing machine.\n",
      "Performance Criteria: \n",
      "================================================================================\n"
     ]
    },
    {
     "name": "stderr",
     "output_type": "stream",
     "text": [
      "Processing PDFs:  21%|██▏       | 179/838 [04:34<13:40,  1.25s/it]"
     ]
    },
    {
     "name": "stdout",
     "output_type": "stream",
     "text": [
      "Extracted Information for Automotive_IIOT_Application_Engineer.pdf:\n",
      "Job Title: ASC/Q6412: Automotive IIOT Application Engineer\n",
      "Job Description: Individual at this job is responsible for integrating machines,robots and automation systems, establish healthy communication using network protocols, remote monitoring and fetch vital machine data using IIOT edge devices within an organization for all its processes, the new development, production and application phases.\n",
      "Performance Criteria: \n",
      "================================================================================\n"
     ]
    },
    {
     "name": "stderr",
     "output_type": "stream",
     "text": [
      "Processing PDFs:  21%|██▏       | 180/838 [04:36<13:51,  1.26s/it]"
     ]
    },
    {
     "name": "stdout",
     "output_type": "stream",
     "text": [
      "Extracted Information for Automotive_IIOT_Application_Engineer.pdf:\n",
      "Job Title: ASC/Q6412: Automotive IIOT Application Engineer\n",
      "Job Description: Individual at this job is responsible for integrating machines,robots and automation systems, establish healthy communication using network protocols, remote monitoring and fetch vital machine data using IIOT edge devices within an organization for all its processes, the new development, production and application phases.\n",
      "Performance Criteria: \n",
      "================================================================================\n"
     ]
    },
    {
     "name": "stderr",
     "output_type": "stream",
     "text": [
      "Processing PDFs:  22%|██▏       | 181/838 [04:37<13:40,  1.25s/it]"
     ]
    },
    {
     "name": "stdout",
     "output_type": "stream",
     "text": [
      "Extracted Information for Automotive_IIOT_Application_Technician.pdf:\n",
      "Job Title: ASC/Q6413: Automotive IIOT Application Technician\n",
      "Job Description: Individual at this job is responsible for Integrating Machines, robots, and Automation Systems, IIOT sensors using I/O Master Link and Establish Healthy Communication using Network Protocols, Remote Monitoring and Controlling within an organization for all its processes, the new development, production and Application Phases.\n",
      "Performance Criteria: \n",
      "================================================================================\n"
     ]
    },
    {
     "name": "stderr",
     "output_type": "stream",
     "text": [
      "Processing PDFs:  22%|██▏       | 182/838 [04:38<14:00,  1.28s/it]"
     ]
    },
    {
     "name": "stdout",
     "output_type": "stream",
     "text": [
      "Extracted Information for Automotive_IIOT_Application_Technician.pdf:\n",
      "Job Title: ASC/Q6413: Automotive IIOT Application Technician\n",
      "Job Description: Individual at this job is responsible for Integrating Machines, robots, and Automation Systems, IIOT sensors using I/O Master Link and Establish Healthy Communication using Network Protocols, Remote Monitoring and Controlling within an organization for all its processes, the new development, production and Application Phases.\n",
      "Performance Criteria: \n",
      "================================================================================\n"
     ]
    },
    {
     "name": "stderr",
     "output_type": "stream",
     "text": [
      "Processing PDFs:  22%|██▏       | 183/838 [04:40<15:55,  1.46s/it]"
     ]
    },
    {
     "name": "stdout",
     "output_type": "stream",
     "text": [
      "Extracted Information for Automotive_Additive_Manufacturing_Engineer.pdf:\n",
      "Job Title: ASC/Q6414: Automotive Additive Manufacturing Engineer\n",
      "Job Description: The individual at this job is responsible for ﬁnalizing product speciﬁcations, designing of automotive component, jigs & ﬁxtures and development of product prototype as per the requirements ﬁxed by R&D team.\n",
      "Performance Criteria: \n",
      "================================================================================\n"
     ]
    },
    {
     "name": "stderr",
     "output_type": "stream",
     "text": [
      "Processing PDFs:  22%|██▏       | 184/838 [04:42<16:12,  1.49s/it]"
     ]
    },
    {
     "name": "stdout",
     "output_type": "stream",
     "text": [
      "Extracted Information for Automotive_Additive_Manufacturing_Engineer.pdf:\n",
      "Job Title: ASC/Q6414: Automotive Additive Manufacturing Engineer\n",
      "Job Description: The individual at this job is responsible for ﬁnalizing product speciﬁcations, designing of automotive component, jigs & ﬁxtures and development of product prototype as per the requirements ﬁxed by R&D team.\n",
      "Performance Criteria: \n",
      "================================================================================\n"
     ]
    },
    {
     "name": "stderr",
     "output_type": "stream",
     "text": [
      "Processing PDFs:  22%|██▏       | 185/838 [04:43<15:28,  1.42s/it]"
     ]
    },
    {
     "name": "stdout",
     "output_type": "stream",
     "text": [
      "Extracted Information for Additive_Manufacturing.pdf:\n",
      "Job Title: ASC/Q6420: Additive Manufacturing\n",
      "Job Description: The individual in this job is responsible for preparing object model of the part/product and manufacturing of parts/product on 3D printing machine.\n",
      "Performance Criteria: \n",
      "================================================================================\n"
     ]
    },
    {
     "name": "stderr",
     "output_type": "stream",
     "text": [
      "Processing PDFs:  22%|██▏       | 186/838 [04:44<14:58,  1.38s/it]"
     ]
    },
    {
     "name": "stdout",
     "output_type": "stream",
     "text": [
      "Extracted Information for Automotive_Prototype_Manufacturing_Lead_Technician.pdf:\n",
      "Job Title: ASC/Q6501: Automotive Prototype Manufacturing Lead Technician\n",
      "Job Description: Individuals at this job need to coordinate with diﬀerent departments and functions for the manufacturing of prototype vehicles/parts that will ﬁnally be used for testing and validation.\n",
      "Performance Criteria: \n",
      "================================================================================\n"
     ]
    },
    {
     "name": "stderr",
     "output_type": "stream",
     "text": [
      "Processing PDFs:  22%|██▏       | 187/838 [04:45<14:28,  1.33s/it]"
     ]
    },
    {
     "name": "stdout",
     "output_type": "stream",
     "text": [
      "Extracted Information for Automotive_Prototype_Manufacturing_Lead_Technician.pdf:\n",
      "Job Title: ASC/Q6501: Automotive Prototype Manufacturing Lead Technician\n",
      "Job Description: Individuals at this job need to coordinate with diﬀerent departments and functions for the manufacturing of prototype vehicles/parts that will ﬁnally be used for testing and validation.\n",
      "Performance Criteria: \n",
      "================================================================================\n"
     ]
    },
    {
     "name": "stderr",
     "output_type": "stream",
     "text": [
      "Processing PDFs:  22%|██▏       | 188/838 [04:50<24:26,  2.26s/it]"
     ]
    },
    {
     "name": "stdout",
     "output_type": "stream",
     "text": [
      "Extracted Information for Automotive_Material_Testing_Incharge.pdf:\n",
      "Job Title: ASC/Q6504: Automotive Material Testing Incharge\n",
      "Job Description: Individuals at this job is responsible for metallurgical testing, physical & chemical testing, and failure analysis of materials for fabrication of parts and other components that ﬁnally go into the manufacturing of diﬀerent products.\n",
      "Performance Criteria: \n",
      "================================================================================\n"
     ]
    },
    {
     "name": "stderr",
     "output_type": "stream",
     "text": [
      "Processing PDFs:  23%|██▎       | 189/838 [04:54<30:50,  2.85s/it]"
     ]
    },
    {
     "name": "stdout",
     "output_type": "stream",
     "text": [
      "Extracted Information for Automotive_Material_Testing_Incharge.pdf:\n",
      "Job Title: ASC/Q6504: Automotive Material Testing Incharge\n",
      "Job Description: Individuals at this job is responsible for metallurgical testing, physical & chemical testing, and failure analysis of materials for fabrication of parts and other components that ﬁnally go into the manufacturing of diﬀerent products.\n",
      "Performance Criteria: \n",
      "================================================================================\n"
     ]
    },
    {
     "name": "stderr",
     "output_type": "stream",
     "text": [
      "Processing PDFs:  23%|██▎       | 190/838 [04:56<26:41,  2.47s/it]"
     ]
    },
    {
     "name": "stdout",
     "output_type": "stream",
     "text": [
      "Extracted Information for Automotive_Maintenance_Lead_Technician-Electrical.pdf:\n",
      "Job Title: ASC/Q6801: Automotive Maintenance Lead Technician-Electrical\n",
      "Job Description: The individual in this job plan and perform maintenance of the electrical and electronic systems of equipment\n",
      "Performance Criteria: \n",
      "================================================================================\n"
     ]
    },
    {
     "name": "stderr",
     "output_type": "stream",
     "text": [
      "Processing PDFs:  23%|██▎       | 191/838 [04:57<22:46,  2.11s/it]"
     ]
    },
    {
     "name": "stdout",
     "output_type": "stream",
     "text": [
      "Extracted Information for Automotive_Maintenance_Technician-Mechanical.pdf:\n",
      "Job Title: ASC/Q6802: Automotive Maintenance Technician-Mechanical\n",
      "Job Description: The individual performs maintenance of the mechanical parts (including hydraulic & pneumatic parts) of equipment.\n",
      "Performance Criteria: \n",
      "================================================================================\n"
     ]
    },
    {
     "name": "stderr",
     "output_type": "stream",
     "text": [
      "Processing PDFs:  23%|██▎       | 192/838 [04:58<20:51,  1.94s/it]"
     ]
    },
    {
     "name": "stdout",
     "output_type": "stream",
     "text": [
      "Extracted Information for Automotive_Maintenance_Technician-_Electrical.pdf:\n",
      "Job Title: ASC/Q6803: Automotive Maintenance Technician- Electrical\n",
      "Job Description: The individual performs maintenance of the electrical and electronic systems of equipment.\n",
      "Performance Criteria: \n",
      "================================================================================\n"
     ]
    },
    {
     "name": "stderr",
     "output_type": "stream",
     "text": [
      "Processing PDFs:  23%|██▎       | 193/838 [05:00<18:33,  1.73s/it]"
     ]
    },
    {
     "name": "stdout",
     "output_type": "stream",
     "text": [
      "Extracted Information for Automotive_Maintenance_Assistant.pdf:\n",
      "Job Title: ASC/Q6806: Automotive Maintenance Assistant\n",
      "Job Description: The individual in this role supports the maintenance technician during preparatory activities such as bringing tools, material etc., troubleshooting and repairing of the equipment by fetching the tools, spares and providing material handling support.\n",
      "Performance Criteria: \n",
      "================================================================================\n"
     ]
    },
    {
     "name": "stderr",
     "output_type": "stream",
     "text": [
      "Processing PDFs:  23%|██▎       | 194/838 [05:01<17:49,  1.66s/it]"
     ]
    },
    {
     "name": "stdout",
     "output_type": "stream",
     "text": [
      "Extracted Information for Automotive_Automation_Specialist.pdf:\n",
      "Job Title: ASC/Q6807: Automotive Automation Specialist\n",
      "Job Description: Individual at this job is responsible for identiﬁcation of automation opportunity, vendor identiﬁcation and implementation of automation system at shop ﬂoor for various automotive manufacturing processes.\n",
      "Performance Criteria: \n",
      "================================================================================\n"
     ]
    },
    {
     "name": "stderr",
     "output_type": "stream",
     "text": [
      "Processing PDFs:  23%|██▎       | 195/838 [05:03<17:26,  1.63s/it]"
     ]
    },
    {
     "name": "stdout",
     "output_type": "stream",
     "text": [
      "Extracted Information for Automotive_Automation_Specialist.pdf:\n",
      "Job Title: ASC/Q6807: Automotive Automation Specialist\n",
      "Job Description: Individual at this job is responsible for identiﬁcation of automation opportunity, vendor identiﬁcation and implementation of automation system at shop ﬂoor for various automotive manufacturing processes.\n",
      "Performance Criteria: \n",
      "================================================================================\n"
     ]
    },
    {
     "name": "stderr",
     "output_type": "stream",
     "text": [
      "Processing PDFs:  23%|██▎       | 196/838 [05:04<16:02,  1.50s/it]"
     ]
    },
    {
     "name": "stdout",
     "output_type": "stream",
     "text": [
      "Extracted Information for Automotive_Maintenance_Lead_Technician-_Mechanical.pdf:\n",
      "Job Title: ASC/Q6808: Automotive Maintenance Lead Technician- Mechanical\n",
      "Job Description: The individual in this job plan and perform maintenance of the mechanical parts (including hydraulic & pneumatic parts) of equipment.\n",
      "Performance Criteria: \n",
      "================================================================================\n"
     ]
    },
    {
     "name": "stderr",
     "output_type": "stream",
     "text": [
      "Processing PDFs:  24%|██▎       | 197/838 [05:05<15:10,  1.42s/it]"
     ]
    },
    {
     "name": "stdout",
     "output_type": "stream",
     "text": [
      "Extracted Information for Electric_Vehicle_Maintenance_Technician.pdf:\n",
      "Job Title: ASC/Q6809: Electric Vehicle Maintenance Technician\n",
      "Job Description: The individual performs maintenance of the electric vehicle (EV).\n",
      "Performance Criteria: \n",
      "================================================================================\n"
     ]
    },
    {
     "name": "stderr",
     "output_type": "stream",
     "text": [
      "Processing PDFs:  24%|██▎       | 198/838 [05:06<14:47,  1.39s/it]"
     ]
    },
    {
     "name": "stdout",
     "output_type": "stream",
     "text": [
      "Extracted Information for Electric_Vehicle_Maintenance_Technician.pdf:\n",
      "Job Title: ASC/Q6809: Electric Vehicle Maintenance Technician\n",
      "Job Description: The individual performs maintenance of the electric vehicle (EV).\n",
      "Performance Criteria: \n",
      "================================================================================\n"
     ]
    },
    {
     "name": "stderr",
     "output_type": "stream",
     "text": [
      "Processing PDFs:  24%|██▎       | 199/838 [05:08<14:29,  1.36s/it]"
     ]
    },
    {
     "name": "stdout",
     "output_type": "stream",
     "text": [
      "Extracted Information for Automotive_Product_Design_Lead_Engineer.pdf:\n",
      "Job Title: ASC/Q8102: Automotive Product Design Lead Engineer\n",
      "Job Description: Individual at this job is responsible for designing the product using CAD & CAE systems by understanding all the product requirements. The role is also responsible for supporting the manager in ensuring that the designed product includes aspects related to telematics, human machine interface, ergonomics and design FMEA.\n",
      "Performance Criteria: \n",
      "================================================================================\n"
     ]
    },
    {
     "name": "stderr",
     "output_type": "stream",
     "text": [
      "Processing PDFs:  24%|██▍       | 200/838 [05:09<14:16,  1.34s/it]"
     ]
    },
    {
     "name": "stdout",
     "output_type": "stream",
     "text": [
      "Extracted Information for Electric_Vehicle_Product_Design_Engineer.pdf:\n",
      "Job Title: ASC/Q8104: Electric Vehicle Product Design Engineer\n",
      "Job Description: The individual at this job is responsible for designing the automotive products using diﬀerent simulation tools on the basis of requirements. The individual is also responsible for supporting the manager in ensuring that the designed product includes aspects related to telematics, human machine interface, ergonomics and design of EV.\n",
      "Performance Criteria: \n",
      "================================================================================\n"
     ]
    },
    {
     "name": "stderr",
     "output_type": "stream",
     "text": [
      "Processing PDFs:  24%|██▍       | 201/838 [05:10<14:04,  1.33s/it]"
     ]
    },
    {
     "name": "stdout",
     "output_type": "stream",
     "text": [
      "Extracted Information for Electric_Vehicle_Product_Design_Engineer.pdf:\n",
      "Job Title: ASC/Q8104: Electric Vehicle Product Design Engineer\n",
      "Job Description: The individual at this job is responsible for designing the automotive products using diﬀerent simulation tools on the basis of requirements. The individual is also responsible for supporting the manager in ensuring that the designed product includes aspects related to telematics, human machine interface, ergonomics and design of EV.\n",
      "Performance Criteria: \n",
      "================================================================================\n"
     ]
    },
    {
     "name": "stderr",
     "output_type": "stream",
     "text": [
      "Processing PDFs:  24%|██▍       | 202/838 [05:11<13:36,  1.28s/it]"
     ]
    },
    {
     "name": "stdout",
     "output_type": "stream",
     "text": [
      "Extracted Information for Automotive_CAD_Technician.pdf:\n",
      "Job Title: ASC/Q8201: Automotive CAD Technician\n",
      "Job Description: The individual is involved in interpreting the customer /design team requirements of the product and creating the same into 3D and 2D graphical model through various computer aided design techniques.\n",
      "Performance Criteria: \n",
      "================================================================================\n"
     ]
    },
    {
     "name": "stderr",
     "output_type": "stream",
     "text": [
      "Processing PDFs:  24%|██▍       | 203/838 [05:13<13:28,  1.27s/it]"
     ]
    },
    {
     "name": "stdout",
     "output_type": "stream",
     "text": [
      "Extracted Information for Automotive_CAD_Technician.pdf:\n",
      "Job Title: ASC/Q8201: Automotive CAD Technician\n",
      "Job Description: The individual is involved in interpreting the customer /design team requirements of the product and creating the same into 3D and 2D graphical model through various computer aided design techniques.\n",
      "Performance Criteria: \n",
      "================================================================================\n"
     ]
    },
    {
     "name": "stderr",
     "output_type": "stream",
     "text": [
      "Processing PDFs:  24%|██▍       | 204/838 [05:14<13:31,  1.28s/it]"
     ]
    },
    {
     "name": "stdout",
     "output_type": "stream",
     "text": [
      "Extracted Information for Prototyping_Engineer.pdf:\n",
      "Job Title: ASC/Q8301: Prototyping Engineer\n",
      "Job Description: The role entails ensuring that assembly line ﬁtters are assembling the prototype electrical and mechanical components as per the New Product requirement and the machine shop/ casting shop/ forging shop are preparing various aggregates through diﬀerent machining operations.\n",
      "Performance Criteria: \n",
      "================================================================================\n"
     ]
    },
    {
     "name": "stderr",
     "output_type": "stream",
     "text": [
      "Processing PDFs:  24%|██▍       | 205/838 [05:15<13:18,  1.26s/it]"
     ]
    },
    {
     "name": "stdout",
     "output_type": "stream",
     "text": [
      "Extracted Information for Automotive_Automation_and_Robotics_Engineer.pdf:\n",
      "Job Title: ASC/Q8303: Automotive Automation and Robotics Engineer\n",
      "Job Description: The individual at this job is responsible for strategizing and implementing the automation within an organization for all its processes at both the new development and production phase.\n",
      "Performance Criteria: \n",
      "================================================================================\n"
     ]
    },
    {
     "name": "stderr",
     "output_type": "stream",
     "text": [
      "Processing PDFs:  25%|██▍       | 206/838 [05:17<13:30,  1.28s/it]"
     ]
    },
    {
     "name": "stdout",
     "output_type": "stream",
     "text": [
      "Extracted Information for Automotive_Automation_and_Robotics_Engineer.pdf:\n",
      "Job Title: ASC/Q8303: Automotive Automation and Robotics Engineer\n",
      "Job Description: The individual at this job is responsible for strategizing and implementing the automation within an organization for all its processes at both the new development and production phase.\n",
      "Performance Criteria: \n",
      "================================================================================\n"
     ]
    },
    {
     "name": "stderr",
     "output_type": "stream",
     "text": [
      "Processing PDFs:  25%|██▍       | 207/838 [05:18<13:25,  1.28s/it]"
     ]
    },
    {
     "name": "stdout",
     "output_type": "stream",
     "text": [
      "Extracted Information for Automotive_Open_System_(AUTOSAR)_Engineer.pdf:\n",
      "Job Title: ASC/Q8309: Automotive Open System (AUTOSAR) Engineer\n",
      "Job Description: The individual in this job roles performs planning, creation and integration of internal and exterior software and its components. The individual creates software conﬁguration and also monitor its consistency for diﬀerent variants of system. He/she coordinate with the responsible person of the software subsystems and the software project manager with regards to software integration and testing, debugging and analyzing integration problems\n",
      "Performance Criteria: \n",
      "================================================================================\n"
     ]
    },
    {
     "name": "stderr",
     "output_type": "stream",
     "text": [
      "Processing PDFs:  25%|██▍       | 208/838 [05:19<13:30,  1.29s/it]"
     ]
    },
    {
     "name": "stdout",
     "output_type": "stream",
     "text": [
      "Extracted Information for Industry_4.0.pdf:\n",
      "Job Title: ASC/Q8317: Industry 4.0\n",
      "Job Description: The role of the Digital Production Systems Technician is to understand the business case for enhancement, and to design and implement technical responses accordingly. Assembled and commissioned hardware in virtual and real context using various digital tools and technology provide the basis for programming, and the design and implementation of cyber security measures on real and virtual production processes.\n",
      "Performance Criteria: \n",
      "================================================================================\n"
     ]
    },
    {
     "name": "stderr",
     "output_type": "stream",
     "text": [
      "Processing PDFs:  25%|██▍       | 209/838 [05:20<13:38,  1.30s/it]"
     ]
    },
    {
     "name": "stdout",
     "output_type": "stream",
     "text": [
      "Extracted Information for Robot_Systems_Integration.pdf:\n",
      "Job Title: ASC/Q8318: Robot Systems Integration\n",
      "Job Description: The robot system integrator must provide technical solutions to the robotization of all or part of a system by incorporating a multi-articulating arm, together with the associated handling tools or special processes (such as handling, machining, painting, and welding), to increase competitiveness and supporting the ergonomics, health and safety of the users and people around them.\n",
      "Performance Criteria: \n",
      "================================================================================\n"
     ]
    },
    {
     "name": "stderr",
     "output_type": "stream",
     "text": [
      "Processing PDFs:  25%|██▌       | 210/838 [05:22<13:53,  1.33s/it]"
     ]
    },
    {
     "name": "stdout",
     "output_type": "stream",
     "text": [
      "Extracted Information for Industrial_Control.pdf:\n",
      "Job Title: ASC/Q8319: Industrial Control\n",
      "Job Description: Industrial Control contains elements of both electrical installations and automation installations, with greater emphasis on automation installation. The industrial control practitioner requires a wide range of technical skills, such as installing conduits, cables, instruments, I/O devices and Programmable Logic Controllers. The industrial control practitioner also designs electrical circuits, programs Programmable Logic Controllers, parametrizes bus systems and conﬁgures Human Machine Interfaces.\n",
      "Performance Criteria: \n",
      "================================================================================\n"
     ]
    },
    {
     "name": "stderr",
     "output_type": "stream",
     "text": [
      "Processing PDFs:  25%|██▌       | 211/838 [05:23<14:26,  1.38s/it]"
     ]
    },
    {
     "name": "stdout",
     "output_type": "stream",
     "text": [
      "Extracted Information for Manufacturing_Team_Challenge.pdf:\n",
      "Job Title: ASC/Q8320: Manufacturing Team Challenge\n",
      "Job Description: A Manufacturing Team Challenge is responsible for designing, manufacturing, ﬁtting, assembling, testing and commissioning components by following the standards of the organization.\n",
      "Performance Criteria: \n",
      "================================================================================\n"
     ]
    },
    {
     "name": "stderr",
     "output_type": "stream",
     "text": [
      "Processing PDFs:  25%|██▌       | 212/838 [05:25<14:11,  1.36s/it]"
     ]
    },
    {
     "name": "stdout",
     "output_type": "stream",
     "text": [
      "Extracted Information for Test_Technician.pdf:\n",
      "Job Title: ASC/Q8401: Test Technician\n",
      "Job Description: This role is responsible for conducting various types of tests inside the laboratory as well as supporting on road testing. The role holder is responsible for setting the test apparatus on the test bench, connecting the aggregates/ vehicle under test to the test bench, support the engineer in taking readings during tests procedures, making minor modiﬁcations to the test setup and keeping the test areas and apparatus in a clean and working condition.\n",
      "Performance Criteria: \n",
      "================================================================================\n"
     ]
    },
    {
     "name": "stderr",
     "output_type": "stream",
     "text": [
      "Processing PDFs:  25%|██▌       | 213/838 [05:26<14:33,  1.40s/it]"
     ]
    },
    {
     "name": "stdout",
     "output_type": "stream",
     "text": [
      "Extracted Information for Automotive_Product_Testing_Technician.pdf:\n",
      "Job Title: ASC/Q8401: Automotive Product Testing Technician\n",
      "Job Description: The individual in this job is responsible for conducting various types of tests on the vehicle inside the laboratory as well as on the road.\n",
      "Performance Criteria: \n",
      "================================================================================\n"
     ]
    },
    {
     "name": "stderr",
     "output_type": "stream",
     "text": [
      "Processing PDFs:  26%|██▌       | 215/838 [05:28<12:45,  1.23s/it]"
     ]
    },
    {
     "name": "stdout",
     "output_type": "stream",
     "text": [
      "Extracted Information for Electric_Vehicle_Test_Engineer.pdf:\n",
      "Job Title: ASC/Q8406: Electric Vehicle Test Engineer\n",
      "Job Description: The individual in this job is responsible for conducting various types of tests on the electric vehicle inside the laboratory as well as on the road.\n",
      "Performance Criteria: \n",
      "================================================================================\n"
     ]
    },
    {
     "name": "stderr",
     "output_type": "stream",
     "text": [
      "Processing PDFs:  26%|██▌       | 216/838 [05:30<12:45,  1.23s/it]"
     ]
    },
    {
     "name": "stdout",
     "output_type": "stream",
     "text": [
      "Extracted Information for Electric_Vehicle_Test_Engineer.pdf:\n",
      "Job Title: ASC/Q8406: Electric Vehicle Test Engineer\n",
      "Job Description: The individual in this job is responsible for conducting various types of tests on the electric vehicle inside the laboratory as well as on the road.\n",
      "Performance Criteria: \n",
      "================================================================================\n"
     ]
    },
    {
     "name": "stderr",
     "output_type": "stream",
     "text": [
      "Processing PDFs:  26%|██▌       | 217/838 [05:31<12:39,  1.22s/it]"
     ]
    },
    {
     "name": "stdout",
     "output_type": "stream",
     "text": [
      "Extracted Information for Two_Wheeler_Delivery_Associate.pdf:\n",
      "Job Title: ASC/Q9605: Two Wheeler Delivery Associate\n",
      "Job Description: The individual at work delivers the goods to the customer on a two wheeler and collects the applicable amount from the customer as per the standards.\n",
      "Performance Criteria: \n",
      "================================================================================\n"
     ]
    },
    {
     "name": "stderr",
     "output_type": "stream",
     "text": [
      "Processing PDFs:  26%|██▌       | 218/838 [05:32<12:39,  1.23s/it]"
     ]
    },
    {
     "name": "stdout",
     "output_type": "stream",
     "text": [
      "Extracted Information for Two_Wheeler_Delivery_Associate.pdf:\n",
      "Job Title: ASC/Q9605: Two Wheeler Delivery Associate\n",
      "Job Description: The individual at work delivers the goods to the customer on a two wheeler and collects the applicable amount from the customer as per the standards.\n",
      "Performance Criteria: \n",
      "================================================================================\n"
     ]
    },
    {
     "name": "stderr",
     "output_type": "stream",
     "text": [
      "Processing PDFs:  26%|██▌       | 219/838 [05:34<16:01,  1.55s/it]"
     ]
    },
    {
     "name": "stdout",
     "output_type": "stream",
     "text": [
      "Extracted Information for Fleet_Telematic_Executive.pdf:\n",
      "Job Title: ASC/Q9607: Fleet Telematic Executive\n",
      "Job Description: The individual in this job work closely with companies' contractual and permanent employee drivers for reducing operation costs and delivering the highest possible level of service to the customers.\n",
      "Performance Criteria: \n",
      "================================================================================\n"
     ]
    },
    {
     "name": "stderr",
     "output_type": "stream",
     "text": [
      "Processing PDFs:  26%|██▋       | 220/838 [05:35<14:46,  1.43s/it]"
     ]
    },
    {
     "name": "stdout",
     "output_type": "stream",
     "text": [
      "Extracted Information for Driving_Assistant.pdf:\n",
      "Job Title: ASC/Q9701: Driving Assistant\n",
      "Job Description: The individual is responsible for cleaning the external/internal body/cabin of the vehicle, maintenance of tool box, assisting driver with loading/unloading the vehicle, recording delivery logs and other minor repairs.\n",
      "Performance Criteria: \n",
      "================================================================================\n"
     ]
    },
    {
     "name": "stderr",
     "output_type": "stream",
     "text": [
      "Processing PDFs:  26%|██▋       | 221/838 [05:37<14:24,  1.40s/it]"
     ]
    },
    {
     "name": "stdout",
     "output_type": "stream",
     "text": [
      "Extracted Information for Driving_Assistant.pdf:\n",
      "Job Title: ASC/Q9701: Driving Assistant\n",
      "Job Description: The individual is responsible for cleaning the external/internal body/cabin of the vehicle, maintenance of tool box, assisting driver with loading/unloading the vehicle, recording delivery logs and other minor repairs.\n",
      "Performance Criteria: \n",
      "================================================================================\n"
     ]
    },
    {
     "name": "stderr",
     "output_type": "stream",
     "text": [
      "Processing PDFs:  26%|██▋       | 222/838 [05:38<14:55,  1.45s/it]"
     ]
    },
    {
     "name": "stdout",
     "output_type": "stream",
     "text": [
      "Extracted Information for Light_Motor_Vehicle_Driver.pdf:\n",
      "Job Title: ASC/Q9702: Light Motor Vehicle Driver\n",
      "Job Description: The individual, having a valid driving license, is responsible for driving a Light Motor Vehicle (LMV), ensuring its road worthiness, organizing resources and communicating eﬀectively with colleagues, customers, and others.\n",
      "Performance Criteria: \n",
      "================================================================================\n"
     ]
    },
    {
     "name": "stderr",
     "output_type": "stream",
     "text": [
      "Processing PDFs:  27%|██▋       | 223/838 [05:40<15:15,  1.49s/it]"
     ]
    },
    {
     "name": "stdout",
     "output_type": "stream",
     "text": [
      "Extracted Information for Light_Motor_Vehicle_Driver.pdf:\n",
      "Job Title: ASC/Q9702: Light Motor Vehicle Driver\n",
      "Job Description: The individual, having a valid driving license, is responsible for driving a Light Motor Vehicle (LMV), ensuring its road worthiness, organizing resources and communicating eﬀectively with colleagues, customers, and others.\n",
      "Performance Criteria: \n",
      "================================================================================\n"
     ]
    },
    {
     "name": "stderr",
     "output_type": "stream",
     "text": [
      "Processing PDFs:  27%|██▋       | 224/838 [05:41<15:34,  1.52s/it]"
     ]
    },
    {
     "name": "stdout",
     "output_type": "stream",
     "text": [
      "Extracted Information for Light_Motor_Vehicle_Driver.pdf:\n",
      "Job Title: ASC/Q9702: Light Motor Vehicle Driver\n",
      "Job Description: The individual, having a valid driving license, is responsible for driving a Light Motor Vehicle (LMV), ensuring its road worthiness, organizing resources and communicating eﬀectively with colleagues, customers, and others.\n",
      "Performance Criteria: \n",
      "================================================================================\n"
     ]
    },
    {
     "name": "stderr",
     "output_type": "stream",
     "text": [
      "Processing PDFs:  27%|██▋       | 225/838 [05:43<14:53,  1.46s/it]"
     ]
    },
    {
     "name": "stdout",
     "output_type": "stream",
     "text": [
      "Extracted Information for Commercial_Vehicle_Driver.pdf:\n",
      "Job Title: ASC/Q9703: Commercial Vehicle Driver\n",
      "Job Description: Individuals at this job need to drive safely on the assigned route. Individual needs to have a valid HMV driving Licence and PSV badge. Individual is expected to Drive a commercial vehicle including LCV, pick up trucks, bus, maxi cab, school van, transport vehicles and ensuring safety of passengers/goods as well as public on the road. This role requires the individual to possess relevant technical skills to handle most of the routine break downs that could likely be encountered while driving long distances and through diﬃcult terrains. The individual is also expected to achieve other key performance parameters like fuel eﬃciency, on time delivery etc.\n",
      "Performance Criteria: \n",
      "================================================================================\n"
     ]
    },
    {
     "name": "stderr",
     "output_type": "stream",
     "text": [
      "Processing PDFs:  27%|██▋       | 226/838 [05:44<14:28,  1.42s/it]"
     ]
    },
    {
     "name": "stdout",
     "output_type": "stream",
     "text": [
      "Extracted Information for Commercial_Vehicle_Driver.pdf:\n",
      "Job Title: ASC/Q9703: Commercial Vehicle Driver\n",
      "Job Description: Individuals at this job need to drive safely on the assigned route. Individual needs to have a valid HMV driving Licence and PSV badge. Individual is expected to Drive a commercial vehicle including LCV, pick up trucks, bus, maxi cab, school van, transport vehicles and ensuring safety of passengers/goods as well as public on the road. This role requires the individual to possess relevant technical skills to handle most of the routine break downs that could likely be encountered while driving long distances and through diﬃcult terrains. The individual is also expected to achieve other key performance parameters like fuel eﬃciency, on time delivery etc.\n",
      "Performance Criteria: \n",
      "================================================================================\n"
     ]
    },
    {
     "name": "stderr",
     "output_type": "stream",
     "text": [
      "Processing PDFs:  27%|██▋       | 227/838 [05:45<13:46,  1.35s/it]"
     ]
    },
    {
     "name": "stdout",
     "output_type": "stream",
     "text": [
      "Extracted Information for Commercial_Vehicle_Driver.pdf:\n",
      "Job Title: ASC/Q9703: Commercial Vehicle Driver\n",
      "Job Description: Individuals at this job need to drive safely on the assigned route. Individual needs to have a valid HMV driving Licence and PSV badge. Individual is expected to Drive a commercial vehicle including LCV, pick up trucks, bus, maxi cab, school van, transport vehicles and ensuring safety of passengers/goods as well as public on the road. This role requires the individual to possess relevant technical skills to handle most of the routine break downs that could likely be encountered while driving long distances and through diﬃcult terrains. The individual is also expected to achieve other key performance parameters like fuel eﬃciency, on time delivery etc.\n",
      "Performance Criteria: \n",
      "================================================================================\n"
     ]
    },
    {
     "name": "stderr",
     "output_type": "stream",
     "text": [
      "Processing PDFs:  27%|██▋       | 228/838 [05:47<13:24,  1.32s/it]"
     ]
    },
    {
     "name": "stdout",
     "output_type": "stream",
     "text": [
      "Extracted Information for Taxi_Driver.pdf:\n",
      "Job Title: ASC/Q9705: Taxi Driver\n",
      "Job Description: The individual in this job needs to help passengers in commuting from one destination to another in the private/hired vehicle, complete trip-end activities and and communicating eﬀectively with colleagues, customers, and others\n",
      "Performance Criteria: \n",
      "================================================================================\n"
     ]
    },
    {
     "name": "stderr",
     "output_type": "stream",
     "text": [
      "Processing PDFs:  27%|██▋       | 229/838 [05:48<13:27,  1.33s/it]"
     ]
    },
    {
     "name": "stdout",
     "output_type": "stream",
     "text": [
      "Extracted Information for Taxi_Driver.pdf:\n",
      "Job Title: ASC/Q9705: Taxi Driver\n",
      "Job Description: The individual in this job needs to help passengers in commuting from one destination to another in the private/hired vehicle, complete trip-end activities and and communicating eﬀectively with colleagues, customers, and others\n",
      "Performance Criteria: \n",
      "================================================================================\n"
     ]
    },
    {
     "name": "stderr",
     "output_type": "stream",
     "text": [
      "Processing PDFs:  27%|██▋       | 230/838 [05:49<13:05,  1.29s/it]"
     ]
    },
    {
     "name": "stdout",
     "output_type": "stream",
     "text": [
      "Extracted Information for Ambulance_Driver.pdf:\n",
      "Job Title: ASC/Q9706: Ambulance Driver\n",
      "Job Description: The individual at work is responsible to driving ambulance carefully and safely through traﬃc, assess road and keep the ambulance properly serviced to be road worthy, and takes the patient to the destination on time.\n",
      "Performance Criteria: \n",
      "================================================================================\n"
     ]
    },
    {
     "name": "stderr",
     "output_type": "stream",
     "text": [
      "Processing PDFs:  28%|██▊       | 234/838 [05:54<13:50,  1.38s/it]"
     ]
    },
    {
     "name": "stdout",
     "output_type": "stream",
     "text": [
      "Extracted Information for Driver_Trainer-LMV.pdf:\n",
      "Job Title: ASC/Q9708: Driver Trainer-LMV\n",
      "Job Description: The individual at work prepares for the training, trains LMV vehicle drivers and carries out evaluation and assessment of trainee drivers as per the standard assessment criteria.\n",
      "Performance Criteria: \n",
      "================================================================================\n"
     ]
    },
    {
     "name": "stderr",
     "output_type": "stream",
     "text": [
      "Processing PDFs:  28%|██▊       | 235/838 [05:56<13:32,  1.35s/it]"
     ]
    },
    {
     "name": "stdout",
     "output_type": "stream",
     "text": [
      "Extracted Information for Chauffeur.pdf:\n",
      "Job Title: ASC/Q9711: Chauﬀeur\n",
      "Job Description: The individual is responsible for completing the trip and other activities such ensuring compliance to duty, coordinating and executing the tasks, etc. as per organizational standards to ensure customer centricity on the job and communicating eﬀectively with colleagues, customers and others.\n",
      "Performance Criteria: \n",
      "================================================================================\n"
     ]
    },
    {
     "name": "stderr",
     "output_type": "stream",
     "text": [
      "Processing PDFs:  28%|██▊       | 236/838 [05:57<13:27,  1.34s/it]"
     ]
    },
    {
     "name": "stdout",
     "output_type": "stream",
     "text": [
      "Extracted Information for Chauffeur.pdf:\n",
      "Job Title: ASC/Q9711: Chauﬀeur\n",
      "Job Description: The individual is responsible for completing the trip and other activities such ensuring compliance to duty, coordinating and executing the tasks, etc. as per organizational standards to ensure customer centricity on the job and communicating eﬀectively with colleagues, customers and others.\n",
      "Performance Criteria: \n",
      "================================================================================\n"
     ]
    },
    {
     "name": "stderr",
     "output_type": "stream",
     "text": [
      "Processing PDFs:  28%|██▊       | 237/838 [05:58<13:18,  1.33s/it]"
     ]
    },
    {
     "name": "stdout",
     "output_type": "stream",
     "text": [
      "Extracted Information for Auto_Rickshaw_Driver.pdf:\n",
      "Job Title: ASC/Q9713: Auto Rickshaw Driver\n",
      "Job Description: The individual at work picks up the customer from one destination (pick-up point) and drives them to their desired destination in various categories of 3-wheelers within the city.\n",
      "Performance Criteria: \n",
      "================================================================================\n"
     ]
    },
    {
     "name": "stderr",
     "output_type": "stream",
     "text": [
      "Processing PDFs:  28%|██▊       | 238/838 [06:00<14:44,  1.47s/it]"
     ]
    },
    {
     "name": "stdout",
     "output_type": "stream",
     "text": [
      "Extracted Information for Squash_and_Juice_Processing_Technician.pdf:\n",
      "Job Title: FIC/Q0101: Squash and Juice Processing Technician\n",
      "Job Description: A Squash and Juice Processing Technician is responsible for preparation of squash and juice from fruits through the process of receiving, checking raw material quality, sorting, pulping, extracting juice, pasteurizing, ﬁltering, sampling for quality analysis, ﬁling, packaging and storing.\n",
      "Performance Criteria: \n",
      "================================================================================\n"
     ]
    },
    {
     "name": "stderr",
     "output_type": "stream",
     "text": [
      "Processing PDFs:  29%|██▊       | 239/838 [06:02<15:45,  1.58s/it]"
     ]
    },
    {
     "name": "stdout",
     "output_type": "stream",
     "text": [
      "Extracted Information for Squash_and_Juice_Processing_Technician.pdf:\n",
      "Job Title: FIC/Q0101: Squash and Juice Processing Technician\n",
      "Job Description: A Squash and Juice Processing Technician is responsible for preparation of squash and juice from fruits through the process of receiving, checking raw material quality, sorting, pulping, extracting juice, pasteurizing, ﬁltering, sampling for quality analysis, ﬁling, packaging and storing.\n",
      "Performance Criteria: \n",
      "================================================================================\n"
     ]
    },
    {
     "name": "stderr",
     "output_type": "stream",
     "text": [
      "Processing PDFs:  29%|██▊       | 240/838 [06:03<14:57,  1.50s/it]"
     ]
    },
    {
     "name": "stdout",
     "output_type": "stream",
     "text": [
      "Extracted Information for Pickle_Making_Technician.pdf:\n",
      "Job Title: FIC/Q0102: Pickle Making Technician\n",
      "Job Description: A Pickle Making Technician is responsible for preparation of all types of pickles from various fruits and vegetables through the process of washing, peeling, cutting/slicing, curing/brining, blending, ﬁlling, oil topping, packaging and storage.\n",
      "Performance Criteria: \n",
      "================================================================================\n"
     ]
    },
    {
     "name": "stderr",
     "output_type": "stream",
     "text": [
      "Processing PDFs:  29%|██▉       | 241/838 [06:04<14:25,  1.45s/it]"
     ]
    },
    {
     "name": "stdout",
     "output_type": "stream",
     "text": [
      "Extracted Information for Pickle_Making_Technician.pdf:\n",
      "Job Title: FIC/Q0102: Pickle Making Technician\n",
      "Job Description: A Pickle Making Technician is responsible for preparation of all types of pickles from various fruits and vegetables through the process of washing, peeling, cutting/slicing, curing/brining, blending, ﬁlling, oil topping, packaging and storage.\n",
      "Performance Criteria: \n",
      "================================================================================\n"
     ]
    },
    {
     "name": "stderr",
     "output_type": "stream",
     "text": [
      "Processing PDFs:  29%|██▉       | 242/838 [06:06<14:02,  1.41s/it]"
     ]
    },
    {
     "name": "stdout",
     "output_type": "stream",
     "text": [
      "Extracted Information for Jam,_Jelly_and_Ketchup_Processing_Technician.pdf:\n",
      "Job Title: FIC/Q0103: Jam, Jelly and Ketchup Processing Technician\n",
      "Job Description: A Jam, Jelly and Ketchup Processing Technician is responsible for processing fruits and vegetables to make jam, jelly and ketchup by receiving, checking raw material quality, sorting, pulping, pasteurizing, cooking, juice extracting, clarifying, ﬁltering, sampling for quality analysis, cooling, packaging and storing.\n",
      "Performance Criteria: \n",
      "================================================================================\n"
     ]
    },
    {
     "name": "stderr",
     "output_type": "stream",
     "text": [
      "Processing PDFs:  29%|██▉       | 243/838 [06:07<13:43,  1.38s/it]"
     ]
    },
    {
     "name": "stdout",
     "output_type": "stream",
     "text": [
      "Extracted Information for Jam,_Jelly_and_Ketchup_Processing_Technician.pdf:\n",
      "Job Title: FIC/Q0103: Jam, Jelly and Ketchup Processing Technician\n",
      "Job Description: A Jam, Jelly and Ketchup Processing Technician is responsible for processing fruits and vegetables to make jam, jelly and ketchup by receiving, checking raw material quality, sorting, pulping, pasteurizing, cooking, juice extracting, clarifying, ﬁltering, sampling for quality analysis, cooling, packaging and storing.\n",
      "Performance Criteria: \n",
      "================================================================================\n"
     ]
    },
    {
     "name": "stderr",
     "output_type": "stream",
     "text": [
      "Processing PDFs:  29%|██▉       | 245/838 [06:10<15:09,  1.53s/it]"
     ]
    },
    {
     "name": "stdout",
     "output_type": "stream",
     "text": [
      "Extracted Information for Fruit_Pulp_Processing_Technician.pdf:\n",
      "Job Title: FIC/Q0106: Fruit Pulp Processing Technician\n",
      "Job Description: The individual at work is responsible for producing fruit pulp from a variety of fruits through various processes from preparing for the production till storage of the ﬁnal product.\n",
      "Performance Criteria: \n",
      "================================================================================\n"
     ]
    },
    {
     "name": "stderr",
     "output_type": "stream",
     "text": [
      "Processing PDFs:  29%|██▉       | 246/838 [06:12<16:50,  1.71s/it]"
     ]
    },
    {
     "name": "stdout",
     "output_type": "stream",
     "text": [
      "Extracted Information for Fruit_Pulp_Processing_Technician.pdf:\n",
      "Job Title: FIC/Q0106: Fruit Pulp Processing Technician\n",
      "Job Description: The individual at work is responsible for producing fruit pulp from a variety of fruits through various processes from preparing for the production till storage of the ﬁnal product.\n",
      "Performance Criteria: \n",
      "================================================================================\n"
     ]
    },
    {
     "name": "stderr",
     "output_type": "stream",
     "text": [
      "Processing PDFs:  29%|██▉       | 247/838 [06:14<17:27,  1.77s/it]"
     ]
    },
    {
     "name": "stdout",
     "output_type": "stream",
     "text": [
      "Extracted Information for Fruit_Pulp_Processing_Technician.pdf:\n",
      "Job Title: FIC/Q0106: Fruit Pulp Processing Technician\n",
      "Job Description: The individual at work is responsible for producing fruit pulp from a variety of fruits through various processes from preparing for the production till storage of the ﬁnal product.\n",
      "Performance Criteria: \n",
      "================================================================================\n"
     ]
    },
    {
     "name": "stderr",
     "output_type": "stream",
     "text": [
      "Processing PDFs:  30%|██▉       | 248/838 [06:16<17:39,  1.80s/it]"
     ]
    },
    {
     "name": "stdout",
     "output_type": "stream",
     "text": [
      "Extracted Information for Fruits_and_Vegetables_Selection_In-Charge.pdf:\n",
      "Job Title: FIC/Q0108: Fruits and Vegetables Selection In-Charge\n",
      "Job Description: A Fruits and Vegetables Selection In-charge is responsible for sorting and grading agricultural produce such as fruits, vegetables, nuts, etc. based on their physical and sensory characteristics\n",
      "Performance Criteria: \n",
      "================================================================================\n"
     ]
    },
    {
     "name": "stderr",
     "output_type": "stream",
     "text": [
      "Processing PDFs:  30%|██▉       | 249/838 [06:18<17:44,  1.81s/it]"
     ]
    },
    {
     "name": "stdout",
     "output_type": "stream",
     "text": [
      "Extracted Information for Fruits_and_Vegetables_Selection_In-Charge.pdf:\n",
      "Job Title: FIC/Q0108: Fruits and Vegetables Selection In-Charge\n",
      "Job Description: A Fruits and Vegetables Selection Incharge is responsible for sorting and grading produce such as fruits, vegetables, nuts, etc. based on their colour, size, appearance, feel and smell.\n",
      "Performance Criteria: \n",
      "================================================================================\n"
     ]
    },
    {
     "name": "stderr",
     "output_type": "stream",
     "text": [
      "Processing PDFs:  30%|██▉       | 250/838 [06:21<20:20,  2.08s/it]"
     ]
    },
    {
     "name": "stdout",
     "output_type": "stream",
     "text": [
      "Extracted Information for Artisanal_Fruit_Wine_Maker.pdf:\n",
      "Job Title: FIC/Q0201: Artisanal Fruit Wine Maker\n",
      "Job Description: The Artisanal Fruit Wine Maker plans and produces fruit wine from grapes, sapota, berries, mangoes, kiwis, oranges, plums, cherries, etc. in adherence with the standard work practices.\n",
      "Performance Criteria: \n",
      "================================================================================\n"
     ]
    },
    {
     "name": "stderr",
     "output_type": "stream",
     "text": [
      "Processing PDFs:  30%|██▉       | 251/838 [06:23<19:30,  1.99s/it]"
     ]
    },
    {
     "name": "stdout",
     "output_type": "stream",
     "text": [
      "Extracted Information for Preservation_Technician-Fruits_and_Vegetables.pdf:\n",
      "Job Title: FIC/Q0202: Preservation Technician-Fruits and Vegetables\n",
      "Job Description: A Fruits and Vegetables Preservation Technician is responsible for drying or dehydrating, canning and freezing of various types of fruits and vegetables as per organizations standards.\n",
      "Performance Criteria: \n",
      "================================================================================\n"
     ]
    },
    {
     "name": "stderr",
     "output_type": "stream",
     "text": [
      "Processing PDFs:  30%|███       | 252/838 [06:29<32:49,  3.36s/it]"
     ]
    },
    {
     "name": "stdout",
     "output_type": "stream",
     "text": [
      "Extracted Information for Pickle_and_Paste_Making_Technician.pdf:\n",
      "Job Title: FIC/Q0203: Pickle and Paste Making Technician\n",
      "Job Description: The Pickle and Paste Making Technician carries out production of various types of pickles and pastes using diﬀerent types of fruits and vegetables in adherence with standard work practices.\n",
      "Performance Criteria: \n",
      "================================================================================\n"
     ]
    },
    {
     "name": "stderr",
     "output_type": "stream",
     "text": [
      "Processing PDFs:  30%|███       | 253/838 [06:30<26:41,  2.74s/it]"
     ]
    },
    {
     "name": "stdout",
     "output_type": "stream",
     "text": [
      "Extracted Information for Fruits_and_Vegetable_Processing_Operator.pdf:\n",
      "Job Title: FIC/Q0204: Fruits and Vegetable Processing Operator\n",
      "Job Description: A Fruits and Vegetable Processing Operator is responsible for processing fruits and vegetables for the production of pickles jam, jelly and ketchups. The person should maintain the consistency and quality, while meeting deﬁned SOPs and adherence to food safety norms.\n",
      "Performance Criteria: \n",
      "================================================================================\n"
     ]
    },
    {
     "name": "stderr",
     "output_type": "stream",
     "text": [
      "Processing PDFs:  30%|███       | 254/838 [06:32<22:40,  2.33s/it]"
     ]
    },
    {
     "name": "stdout",
     "output_type": "stream",
     "text": [
      "Extracted Information for Multi_Skill_Technician-_Fruits_&_Vegetables.pdf:\n",
      "Job Title: FIC/Q0205: Multi Skill Technician- Fruits & Vegetables\n",
      "Job Description: A Multi Skill Technician is able to perform multiple roles like sorting, grading, processing, and canning various types of fruits and vegetables to produce pickles, jam, jelly, squash, ketchup, and juices. The individual monitors equipment performance to ascertain proper utilization and carries out preventive maintenance in a processing unit in compliance with the food safety standards of the organization.\n",
      "Performance Criteria: \n",
      "================================================================================\n"
     ]
    },
    {
     "name": "stderr",
     "output_type": "stream",
     "text": [
      "Processing PDFs:  30%|███       | 255/838 [06:33<19:30,  2.01s/it]"
     ]
    },
    {
     "name": "stdout",
     "output_type": "stream",
     "text": [
      "Extracted Information for Chief_Miller.pdf:\n",
      "Job Title: FIC/Q1001: Chief Miller\n",
      "Job Description: A Chief Miller manages the milling process for all types of grains overseeing activities such as handling of various milling machineries, maintenance of process parameters, inspection of raw material and ﬁnished goods to achieve the desired quality and quantity of products.\n",
      "Performance Criteria: \n",
      "================================================================================\n"
     ]
    },
    {
     "name": "stderr",
     "output_type": "stream",
     "text": [
      "Processing PDFs:  31%|███       | 256/838 [06:34<17:19,  1.79s/it]"
     ]
    },
    {
     "name": "stdout",
     "output_type": "stream",
     "text": [
      "Extracted Information for Chief_Miller.pdf:\n",
      "Job Title: FIC/Q1001: Chief Miller\n",
      "Job Description: A Chief Miller is responsible for ensuring that milling is carried out as per standard organizational procedures from selection of a variety of grains for milling to produce diﬀerent types of ﬂour. The individual monitors the process and equipment performance to ascertain proper utilization and carries out preventive maintenance in a milling unit compliance with food safety standards of the organization.\n",
      "Performance Criteria: \n",
      "================================================================================\n"
     ]
    },
    {
     "name": "stderr",
     "output_type": "stream",
     "text": [
      "Processing PDFs:  31%|███       | 257/838 [06:36<15:56,  1.65s/it]"
     ]
    },
    {
     "name": "stdout",
     "output_type": "stream",
     "text": [
      "Extracted Information for Milling_Technician.pdf:\n",
      "Job Title: FIC/Q1002: Milling Technician\n",
      "Job Description: A Milling Technician is responsible for the milling of all types of grains such as rice, wheat, pulses, etc. to achieve the desired quality and quantity of products while maintaining food safety and hygiene in the work environment.\n",
      "Performance Criteria: \n",
      "================================================================================\n"
     ]
    },
    {
     "name": "stderr",
     "output_type": "stream",
     "text": [
      "Processing PDFs:  31%|███       | 258/838 [06:37<15:03,  1.56s/it]"
     ]
    },
    {
     "name": "stdout",
     "output_type": "stream",
     "text": [
      "Extracted Information for Milling_Technician.pdf:\n",
      "Job Title: FIC/Q1002: Milling Technician\n",
      "Job Description: The Milling Technician is responsible for carrying out operations required for milling of a variety of grains and production of diﬀerent ﬂours including monitoring of equipment, performance, maintenance of process parameters and undertaking preventive maintenance in compliance with the Standard Operating Procedures of the organisation.\n",
      "Performance Criteria: \n",
      "================================================================================\n"
     ]
    },
    {
     "name": "stderr",
     "output_type": "stream",
     "text": [
      "Processing PDFs:  31%|███       | 259/838 [06:39<15:30,  1.61s/it]"
     ]
    },
    {
     "name": "stdout",
     "output_type": "stream",
     "text": [
      "Extracted Information for Grain_Mill_Operator.pdf:\n",
      "Job Title: FIC/Q1003: Grain Mill Operator\n",
      "Job Description: A Grain Mill Operator carries out processes such as cleaning, de-stoning, de-husking, hulling, polishing and grinding to produce milled grains and ﬂour(s).\n",
      "Performance Criteria: \n",
      "================================================================================\n"
     ]
    },
    {
     "name": "stderr",
     "output_type": "stream",
     "text": [
      "Processing PDFs:  31%|███       | 260/838 [06:40<15:38,  1.62s/it]"
     ]
    },
    {
     "name": "stdout",
     "output_type": "stream",
     "text": [
      "Extracted Information for Grain_Mill_Operator.pdf:\n",
      "Job Title: FIC/Q1003: Grain Mill Operator\n",
      "Job Description: A Grain Mill Operator carries out processes such as cleaning, de-stoning, de-husking, hulling, polishing and grinding to produce milled grains and ﬂour(s).\n",
      "Performance Criteria: \n",
      "================================================================================\n"
     ]
    },
    {
     "name": "stderr",
     "output_type": "stream",
     "text": [
      "Processing PDFs:  31%|███       | 261/838 [06:47<29:23,  3.06s/it]"
     ]
    },
    {
     "name": "stdout",
     "output_type": "stream",
     "text": [
      "Extracted Information for Oil_Extraction_and_Refining_Technician.pdf:\n",
      "Job Title: FIC/Q1008: Oil Extraction and Reﬁning Technician\n",
      "Job Description: An Oil Extraction and Reﬁning Technician is responsible for extraction and reﬁning of all types of edible vegetable oil by a process of receiving and cleaning the raw materials (oilseeds), drying and storing it, ﬂaking, pressing, extracting and reﬁning crude oil.\n",
      "Performance Criteria: \n",
      "================================================================================\n"
     ]
    },
    {
     "name": "stderr",
     "output_type": "stream",
     "text": [
      "Processing PDFs:  31%|███▏      | 262/838 [06:53<37:56,  3.95s/it]"
     ]
    },
    {
     "name": "stdout",
     "output_type": "stream",
     "text": [
      "Extracted Information for Corn_Processing_Technician.pdf:\n",
      "Job Title: FIC/Q1009: Corn Processing Technician\n",
      "Job Description: A Corn Processing Technician is responsible for producing corn starch through wet and dry milling, following the organization standards for production.\n",
      "Performance Criteria: \n",
      "================================================================================\n"
     ]
    },
    {
     "name": "stderr",
     "output_type": "stream",
     "text": [
      "Processing PDFs:  31%|███▏      | 263/838 [06:58<42:09,  4.40s/it]"
     ]
    },
    {
     "name": "stdout",
     "output_type": "stream",
     "text": [
      "Extracted Information for Fortified_Rice_Technician.pdf:\n",
      "Job Title: FIC/Q1010: Fortiﬁed Rice Technician\n",
      "Job Description: A fortiﬁed rice technician is responsible for producing fortiﬁed rice through extrusion method by operating extruder in synchronization with various tools and equipment as per the standard operating procedures of the organization to achieve uniform quality product with consistent output.\n",
      "Performance Criteria: \n",
      "================================================================================\n"
     ]
    },
    {
     "name": "stderr",
     "output_type": "stream",
     "text": [
      "Processing PDFs:  32%|███▏      | 264/838 [07:00<33:09,  3.47s/it]"
     ]
    },
    {
     "name": "stdout",
     "output_type": "stream",
     "text": [
      "Extracted Information for Millet_Products_Processor.pdf:\n",
      "Job Title: FIC/Q1011: Millet Products Processor\n",
      "Job Description: This course details the process of commercial production of various types of value-added millet products. The process involves the selection of millets and other raw materials, pre-processing, production, packaging, and storage.\n",
      "Performance Criteria: \n",
      "================================================================================\n"
     ]
    },
    {
     "name": "stderr",
     "output_type": "stream",
     "text": [
      "Processing PDFs:  32%|███▏      | 265/838 [07:01<27:41,  2.90s/it]"
     ]
    },
    {
     "name": "stdout",
     "output_type": "stream",
     "text": [
      "Extracted Information for Dairy_Products_Processor.pdf:\n",
      "Job Title: FIC/Q2001: Dairy Products Processor\n",
      "Job Description: A Dairy Products Processor is responsible for processing milk to produce various types of dairy products. S/he is responsible for carrying out processes such as homogenizing, pasteurizing, cooling, mixing, curdling, forming, cutting, churning, fermenting, freezing, condensing, drying and ﬂavoring of milk.\n",
      "Performance Criteria: \n",
      "================================================================================\n"
     ]
    },
    {
     "name": "stderr",
     "output_type": "stream",
     "text": [
      "Processing PDFs:  32%|███▏      | 266/838 [07:03<23:47,  2.50s/it]"
     ]
    },
    {
     "name": "stdout",
     "output_type": "stream",
     "text": [
      "Extracted Information for Dairy_Processing_Equipment_Operator.pdf:\n",
      "Job Title: FIC/Q2002: Dairy Processing Equipment Operator\n",
      "Job Description: A Dairy Processing Equipment Operator is responsible for operating various types of dairy processing machineries for producing dairy products such as ﬁlter, separator, homogenizer, pasteurizer, chiller, churner, clariﬁer, freezer etc. to ﬁlter, separate, homogenize, pasteurize, cool, churn, clarify, freeze milk\n",
      "Performance Criteria: \n",
      "================================================================================\n"
     ]
    },
    {
     "name": "stderr",
     "output_type": "stream",
     "text": [
      "Processing PDFs:  32%|███▏      | 267/838 [07:04<21:17,  2.24s/it]"
     ]
    },
    {
     "name": "stdout",
     "output_type": "stream",
     "text": [
      "Extracted Information for Butter_and_Ghee_Processing_Operator.pdf:\n",
      "Job Title: FIC/Q2003: Butter and Ghee Processing Operator\n",
      "Job Description: A Butter and Ghee Processing Operator is responsible for operating various dairy processing machineries (ﬁlter, separator, pasteurizer, etc.) to produce butter and ghee following speciﬁcations and standards of the organization.\n",
      "Performance Criteria: \n",
      "================================================================================\n"
     ]
    },
    {
     "name": "stderr",
     "output_type": "stream",
     "text": [
      "Processing PDFs:  32%|███▏      | 268/838 [07:06<19:45,  2.08s/it]"
     ]
    },
    {
     "name": "stdout",
     "output_type": "stream",
     "text": [
      "Extracted Information for Butter_and_Ghee_Processing_Operator.pdf:\n",
      "Job Title: FIC/Q2003: Butter and Ghee Processing Operator\n",
      "Job Description: A Butter and Ghee Processing Operator is responsible for operating various dairy processing machineries (ﬁlter, separator, pasteurizer, etc.) to produce butter and ghee following speciﬁcations and standards of the organization.\n",
      "Performance Criteria: \n",
      "================================================================================\n"
     ]
    },
    {
     "name": "stderr",
     "output_type": "stream",
     "text": [
      "Processing PDFs:  32%|███▏      | 269/838 [07:08<18:26,  1.95s/it]"
     ]
    },
    {
     "name": "stdout",
     "output_type": "stream",
     "text": [
      "Extracted Information for Ice_Cream_Processing_Technician.pdf:\n",
      "Job Title: FIC/Q2004: Ice Cream Processing Technician\n",
      "Job Description: An Ice Cream Processing Technician is responsible for producing ice cream by operating various ice cream processing machineries. S/he is responsible for homogenizing, pasteurizing, freezing, cutting, hardening, storing, ﬁlling and packing following speciﬁcations and standards of the organisation.\n",
      "Performance Criteria: \n",
      "================================================================================\n"
     ]
    },
    {
     "name": "stderr",
     "output_type": "stream",
     "text": [
      "Processing PDFs:  32%|███▏      | 270/838 [07:10<19:09,  2.02s/it]"
     ]
    },
    {
     "name": "stdout",
     "output_type": "stream",
     "text": [
      "Extracted Information for Ice_Cream_Processing_Technician.pdf:\n",
      "Job Title: FIC/Q2004: Ice Cream Processing Technician\n",
      "Job Description: An Ice Cream Processing Technician is responsible for producing ice cream by operating various ice cream processing machineries. S/he is responsible for homogenizing, pasteurizing, freezing, cutting, hardening, storing, ﬁlling and packing following speciﬁcations and standards of the organisation.\n",
      "Performance Criteria: \n",
      "================================================================================\n"
     ]
    },
    {
     "name": "stderr",
     "output_type": "stream",
     "text": [
      "Processing PDFs:  32%|███▏      | 271/838 [07:11<17:55,  1.90s/it]"
     ]
    },
    {
     "name": "stdout",
     "output_type": "stream",
     "text": [
      "Extracted Information for Cottage_Cheese_Maker.pdf:\n",
      "Job Title: FIC/Q2005: Cottage Cheese Maker\n",
      "Job Description: A Cottage Cheese (Paneer) Maker is responsible for production of cottage cheese from milk through the process of ﬁltration, homogenization, pasteurization, heating, cooling, coagulation, separation, compression by operating various machineries following speciﬁcations and standards of the organisation.\n",
      "Performance Criteria: \n",
      "================================================================================\n"
     ]
    },
    {
     "name": "stderr",
     "output_type": "stream",
     "text": [
      "Processing PDFs:  32%|███▏      | 272/838 [07:13<17:00,  1.80s/it]"
     ]
    },
    {
     "name": "stdout",
     "output_type": "stream",
     "text": [
      "Extracted Information for Cottage_Cheese_Maker.pdf:\n",
      "Job Title: FIC/Q2005: Cottage Cheese Maker\n",
      "Job Description: A Cottage Cheese (Paneer) Maker is responsible for production of cottage cheese from milk through the process of ﬁltration, homogenization, pasteurization, heating, cooling, coagulation, separation, compression by operating various machineries following speciﬁcations and standards of the organisation.\n",
      "Performance Criteria: \n",
      "================================================================================\n"
     ]
    },
    {
     "name": "stderr",
     "output_type": "stream",
     "text": [
      "Processing PDFs:  33%|███▎      | 273/838 [07:14<15:46,  1.68s/it]"
     ]
    },
    {
     "name": "stdout",
     "output_type": "stream",
     "text": [
      "Extracted Information for Artisanal_Cheese_Maker-_Entrepreneur.pdf:\n",
      "Job Title: FIC/Q2008: Artisanal Cheese Maker- Entrepreneur\n",
      "Job Description: A Cheese Maker is responsible for manufacturing and ripening of cheese from milk by following speciﬁcations and standards of the organization. The individual is also responsible for receiving good quality of milk, maintaining curing conditions (temperature, humidity, time, etc.) and handling starter cultures, cheese yield, quality, packaging, storage and distribution of cheese as well as undertaking all the preventive measures to avoid defects & contamination in cheese.\n",
      "Performance Criteria: \n",
      "================================================================================\n"
     ]
    },
    {
     "name": "stderr",
     "output_type": "stream",
     "text": [
      "Processing PDFs:  33%|███▎      | 274/838 [07:16<16:20,  1.74s/it]"
     ]
    },
    {
     "name": "stdout",
     "output_type": "stream",
     "text": [
      "Extracted Information for Fish_and_Seafood_Processing_Technician.pdf:\n",
      "Job Title: FIC/Q4001: Fish and Seafood Processing Technician\n",
      "Job Description: A Fish and Seafood Processing Technician is responsible for processing ﬁsh and sea food to achieve quality and quantity of products along with maintaining food safety and hygiene in work environment\n",
      "Performance Criteria: \n",
      "================================================================================\n"
     ]
    },
    {
     "name": "stderr",
     "output_type": "stream",
     "text": [
      "Processing PDFs:  33%|███▎      | 275/838 [07:18<17:02,  1.82s/it]"
     ]
    },
    {
     "name": "stdout",
     "output_type": "stream",
     "text": [
      "Extracted Information for Fish_and_Seafood_Processing_Technician.pdf:\n",
      "Job Title: FIC/Q4001: Fish and Seafood Processing Technician\n",
      "Job Description: A Fish and Seafood Processing Technician is responsible for processing ﬁsh and sea food to achieve quality and quantity of products along with maintaining food safety and hygiene in work environment\n",
      "Performance Criteria: \n",
      "================================================================================\n"
     ]
    },
    {
     "name": "stderr",
     "output_type": "stream",
     "text": [
      "Processing PDFs:  33%|███▎      | 276/838 [07:24<28:04,  3.00s/it]"
     ]
    },
    {
     "name": "stdout",
     "output_type": "stream",
     "text": [
      "Extracted Information for Fish_and_Sea_food__Processor.pdf:\n",
      "Job Title: FIC/Q4002: Fish and Sea food Processor\n",
      "Job Description: A Fish and Sea Food Processor is responsible for processing ﬁsh and sea food to achieve quality and quantity of products along with maintaining food safety and hygiene in work environment.\n",
      "Performance Criteria: \n",
      "================================================================================\n"
     ]
    },
    {
     "name": "stderr",
     "output_type": "stream",
     "text": [
      "Processing PDFs:  33%|███▎      | 277/838 [07:25<23:13,  2.48s/it]"
     ]
    },
    {
     "name": "stdout",
     "output_type": "stream",
     "text": [
      "Extracted Information for Plant_Baker.pdf:\n",
      "Job Title: FIC/Q5001: Plant Baker\n",
      "Job Description: A Plant Baker produces/supervises the production of baked products (breads, biscuits, cakes, etc.) in industrial units by weighing, mixing, kneading, fermenting, shaping, rolling/sheeting, cutting, moulding, baking, cooling, etc. using various industrial equipments.\n",
      "Performance Criteria: \n",
      "================================================================================\n"
     ]
    },
    {
     "name": "stderr",
     "output_type": "stream",
     "text": [
      "Processing PDFs:  33%|███▎      | 278/838 [07:27<20:37,  2.21s/it]"
     ]
    },
    {
     "name": "stdout",
     "output_type": "stream",
     "text": [
      "Extracted Information for Craft_Baker.pdf:\n",
      "Job Title: FIC/Q5002: Craft Baker\n",
      "Job Description: A Craft Baker produces baked products (breads, puﬀs, cookies, cakes/pastries, desserts, specialty baked products etc.) in artisan bakeries and patisseries by measuring raw materials and ingredients, mixing, kneading, fermenting, shaping, and baking in order to achieve the desired quality and quantity of products.\n",
      "Performance Criteria: \n",
      "================================================================================\n"
     ]
    },
    {
     "name": "stderr",
     "output_type": "stream",
     "text": [
      "Processing PDFs:  33%|███▎      | 279/838 [07:29<18:58,  2.04s/it]"
     ]
    },
    {
     "name": "stdout",
     "output_type": "stream",
     "text": [
      "Extracted Information for Craft_Baker.pdf:\n",
      "Job Title: FIC/Q5002: Craft Baker\n",
      "Job Description: A Craft Baker produces a variety of artisanal bakery products on a small scale for the retail market. The incumbent is also responsible for procuring good quality raw materials, producing desired quality of products and coordinating with vendors for the delivery of the product. During the entire work process, the individual adheres to good working practices and employs appropriate measures to ensure food safety at the workplace.\n",
      "Performance Criteria: \n",
      "================================================================================\n"
     ]
    },
    {
     "name": "stderr",
     "output_type": "stream",
     "text": [
      "Processing PDFs:  33%|███▎      | 280/838 [07:30<17:51,  1.92s/it]"
     ]
    },
    {
     "name": "stdout",
     "output_type": "stream",
     "text": [
      "Extracted Information for Craft_Baker.pdf:\n",
      "Job Title: FIC/Q5002: Craft Baker\n",
      "Job Description: A Craft Baker produces a variety of artisanal bakery products on a small scale for the retail market. The incumbent is also responsible for procuring good quality raw materials, producing desired quality of products and coordinating with vendors for the delivery of the product. During the entire work process, the individual adheres to good working practices and employs appropriate measures to ensure food safety at the workplace.\n",
      "Performance Criteria: \n",
      "================================================================================\n"
     ]
    },
    {
     "name": "stderr",
     "output_type": "stream",
     "text": [
      "Processing PDFs:  34%|███▎      | 281/838 [07:32<17:14,  1.86s/it]"
     ]
    },
    {
     "name": "stdout",
     "output_type": "stream",
     "text": [
      "Extracted Information for Plant_Biscuit_Production_Specialist.pdf:\n",
      "Job Title: FIC/Q5003: Plant Biscuit Production Specialist\n",
      "Job Description: A Plant Biscuit Production Specialist produces biscuits in industrial units as per deﬁned SOPs in synchronisation with rest of the plant/unit by weighing, mixing, kneading, rolling/sheeting, cutting, moulding, baking, cooling, etc. either manually or using machineries following the deﬁned SOPs of the plant/unit.\n",
      "Performance Criteria: \n",
      "================================================================================\n"
     ]
    },
    {
     "name": "stderr",
     "output_type": "stream",
     "text": [
      "Processing PDFs:  34%|███▎      | 282/838 [07:34<16:33,  1.79s/it]"
     ]
    },
    {
     "name": "stdout",
     "output_type": "stream",
     "text": [
      "Extracted Information for Plant_Biscuit_Production_Specialist.pdf:\n",
      "Job Title: FIC/Q5003: Plant Biscuit Production Specialist\n",
      "Job Description: A Plant Biscuit Production Specialist produces biscuits in industrial units as per deﬁned SOPs in synchronisation with rest of the plant/unit by weighing, mixing, kneading, rolling/sheeting, cutting, moulding, baking, cooling, etc. either manually or using machineries following the deﬁned SOPs of the plant/unit.\n",
      "Performance Criteria: \n",
      "================================================================================\n"
     ]
    },
    {
     "name": "stderr",
     "output_type": "stream",
     "text": [
      "Processing PDFs:  34%|███▍      | 285/838 [07:39<16:38,  1.81s/it]"
     ]
    },
    {
     "name": "stdout",
     "output_type": "stream",
     "text": [
      "Extracted Information for Industrial_Baker.pdf:\n",
      "Job Title: FIC/Q5006: Industrial Baker\n",
      "Job Description: An Industrial baker is responsible for production of a variety of baked products, deploying the skills required to operate various baking equipment in line with other machines and tools as per the Standard Operating Procedures of the organization and achieving consistent quality and output.\n",
      "Performance Criteria: \n",
      "================================================================================\n"
     ]
    },
    {
     "name": "stderr",
     "output_type": "stream",
     "text": [
      "Processing PDFs:  34%|███▍      | 286/838 [07:40<15:02,  1.63s/it]"
     ]
    },
    {
     "name": "stdout",
     "output_type": "stream",
     "text": [
      "Extracted Information for Baking_Assistant.pdf:\n",
      "Job Title: FIC/Q5007: Baking Assistant\n",
      "Job Description: A Baking Assistant is responsible for Assisting the Baking technician for baking of products, maintaining their consistency and quality, while meeting deﬁned SOPs and leveraging his/ her skill to operate ovens in synchronization with process line.\n",
      "Performance Criteria: \n",
      "================================================================================\n"
     ]
    },
    {
     "name": "stderr",
     "output_type": "stream",
     "text": [
      "Processing PDFs:  34%|███▍      | 287/838 [07:42<16:32,  1.80s/it]"
     ]
    },
    {
     "name": "stdout",
     "output_type": "stream",
     "text": [
      "Extracted Information for Food_Products_Packaging_Technician.pdf:\n",
      "Job Title: FIC/Q7001: Food Products Packaging Technician\n",
      "Job Description: A Food Products Packaging Technician performs various packaging functions and handles all categories of packaging such as primary, secondary and tertiary packaging for food products.\n",
      "Performance Criteria: \n",
      "================================================================================\n"
     ]
    },
    {
     "name": "stderr",
     "output_type": "stream",
     "text": [
      "Processing PDFs:  34%|███▍      | 288/838 [07:43<15:06,  1.65s/it]"
     ]
    },
    {
     "name": "stdout",
     "output_type": "stream",
     "text": [
      "Extracted Information for Packing_Machine_Worker__Food_Processing.pdf:\n",
      "Job Title: FIC/Q7002: Packing Machine Worker Food Processing\n",
      "Job Description: This job holder monitors the packing machine, loads the packing material, removes the packed food items, checks the quality of the packing visually and segregates the pieces that are not properly packed. The candidates works under supervision and in shifts.\n",
      "Performance Criteria: \n",
      "================================================================================\n"
     ]
    },
    {
     "name": "stderr",
     "output_type": "stream",
     "text": [
      "Processing PDFs:  34%|███▍      | 289/838 [07:45<14:07,  1.54s/it]"
     ]
    },
    {
     "name": "stdout",
     "output_type": "stream",
     "text": [
      "Extracted Information for Packing_Machine_Worker-Food_Processing.pdf:\n",
      "Job Title: FIC/Q7002: Packing Machine Worker-Food Processing\n",
      "Job Description: This job holder monitors the packing machine, loads the packing material, removes the packed food items, checks the quality of the packing visually and segregates the pieces that are not properly packed. The candidates works under supervision and in shifts.\n",
      "Performance Criteria: \n",
      "================================================================================\n"
     ]
    },
    {
     "name": "stderr",
     "output_type": "stream",
     "text": [
      "Processing PDFs:  35%|███▍      | 290/838 [07:46<14:58,  1.64s/it]"
     ]
    },
    {
     "name": "stdout",
     "output_type": "stream",
     "text": [
      "Extracted Information for Cold_Storage_Technician.pdf:\n",
      "Job Title: FIC/Q7004: Cold Storage Technician\n",
      "Job Description: A Cold Storage Technician is responsible for handling installation of refrigeration system and components, refrigerant charging and storage of food in the cold storage room by maintaining storage parameters such as temperature and relative humidity in food processing units.\n",
      "Performance Criteria: \n",
      "================================================================================\n"
     ]
    },
    {
     "name": "stderr",
     "output_type": "stream",
     "text": [
      "Processing PDFs:  35%|███▍      | 291/838 [07:48<15:47,  1.73s/it]"
     ]
    },
    {
     "name": "stdout",
     "output_type": "stream",
     "text": [
      "Extracted Information for Cold_Storage_Technician.pdf:\n",
      "Job Title: FIC/Q7004: Cold Storage Technician\n",
      "Job Description: A Cold Storage Technician is responsible for handling installation of refrigeration system and components, refrigerant charging and storage of food in the cold storage room by maintaining storage parameters such as temperature and relative humidity in food processing units.\n",
      "Performance Criteria: \n",
      "================================================================================\n"
     ]
    },
    {
     "name": "stderr",
     "output_type": "stream",
     "text": [
      "Processing PDFs:  35%|███▍      | 292/838 [07:50<14:34,  1.60s/it]"
     ]
    },
    {
     "name": "stdout",
     "output_type": "stream",
     "text": [
      "Extracted Information for Purchase_Assistant__Food_and_Agricultural_Commodities.pdf:\n",
      "Job Title: FIC/Q7005: Purchase Assistant Food and Agricultural Commodities\n",
      "Job Description: A Purchase Assistant Food and Agricultural Commodities is responsible for purchase of food and agricultural commodities. S/he carries out activities such as processing purchase requisitions, raising purchase orders, identifying vendors and raising orders, ensuring timely delivery of orders, and maintaining inventories.\n",
      "Performance Criteria: \n",
      "================================================================================\n"
     ]
    },
    {
     "name": "stderr",
     "output_type": "stream",
     "text": [
      "Processing PDFs:  35%|███▍      | 293/838 [07:51<13:18,  1.47s/it]"
     ]
    },
    {
     "name": "stdout",
     "output_type": "stream",
     "text": [
      "Extracted Information for Food_Packer.pdf:\n",
      "Job Title: FIC/Q7006: Food Packer\n",
      "Job Description: This job holder monitors the packing machine, loads the packing material, removes the packed food items, checks the quality of the packing visually and segregates the pieces that are not properly packed. The candidates works under supervision and in shifts.\n",
      "Performance Criteria: \n",
      "================================================================================\n"
     ]
    },
    {
     "name": "stderr",
     "output_type": "stream",
     "text": [
      "Processing PDFs:  35%|███▌      | 294/838 [07:54<17:41,  1.95s/it]"
     ]
    },
    {
     "name": "stdout",
     "output_type": "stream",
     "text": [
      "Extracted Information for Artisanal_Chocolate_Maker-Entrepreneur.pdf:\n",
      "Job Title: FIC/Q7101: Artisanal Chocolate Maker-Entrepreneur\n",
      "Job Description: The Artisanal Chocolate Maker prepares a variety of artisanal chocolates in appropriate batches. This involves devising a recipe, selection of ingredients, processing them to produce the ﬁnal product and packaging as per production needs. During the entire process, the individual ensures strict adherence to standardised food safety guidelines and work practices.\n",
      "Performance Criteria: \n",
      "================================================================================\n"
     ]
    },
    {
     "name": "stderr",
     "output_type": "stream",
     "text": [
      "Processing PDFs:  35%|███▌      | 295/838 [07:56<16:41,  1.84s/it]"
     ]
    },
    {
     "name": "stdout",
     "output_type": "stream",
     "text": [
      "Extracted Information for Assistant_Lab_Technician_-_Food_and_Agricultural_Commodities.pdf:\n",
      "Job Title: FIC/Q7601: Assistant Lab Technician - Food and Agricultural Commodities\n",
      "Job Description: An Assistant Lab Technician - Food and Agricultural Commodities is responsible for ensuring quality products through sampling of raw materials, packaging materials, ﬁnished products and shelf-life samples for quantitative and qualitative analysis.\n",
      "Performance Criteria: \n",
      "================================================================================\n"
     ]
    },
    {
     "name": "stderr",
     "output_type": "stream",
     "text": [
      "Processing PDFs:  35%|███▌      | 296/838 [07:57<14:46,  1.64s/it]"
     ]
    },
    {
     "name": "stdout",
     "output_type": "stream",
     "text": [
      "Extracted Information for Quality_Assurance_Manager.pdf:\n",
      "Job Title: FIC/Q7602: Quality Assurance Manager\n",
      "Job Description: A Quality Assurance Manager is responsible for implementing and ensuring that food products produced meet quality standards set by both the organisation and regulatory authorities, develop and review quality and safety policies, manage audits and oversee manufacturing and production processes.\n",
      "Performance Criteria: \n",
      "================================================================================\n"
     ]
    },
    {
     "name": "stderr",
     "output_type": "stream",
     "text": [
      "Processing PDFs:  35%|███▌      | 297/838 [07:58<13:54,  1.54s/it]"
     ]
    },
    {
     "name": "stdout",
     "output_type": "stream",
     "text": [
      "Extracted Information for Food_Microbiologist.pdf:\n",
      "Job Title: FIC/Q7603: Food Microbiologist\n",
      "Job Description: A Food Microbiologist is responsible for reporting the microbiological analysis of raw materials, packaging materials, ﬁnished products, shelf-life samples and market complaint samples through microbiological procedures such as sampling, preparing culture media, sterilization of culture media etc.\n",
      "Performance Criteria: \n",
      "================================================================================\n"
     ]
    },
    {
     "name": "stderr",
     "output_type": "stream",
     "text": [
      "Processing PDFs:  36%|███▌      | 298/838 [07:59<13:19,  1.48s/it]"
     ]
    },
    {
     "name": "stdout",
     "output_type": "stream",
     "text": [
      "Extracted Information for Food_Microbiologist.pdf:\n",
      "Job Title: FIC/Q7603: Food Microbiologist\n",
      "Job Description: A Food Microbiologist is responsible for investigating the growth, structure development and other characteristics of microscopic organisms such as bacteria, fungi and algae. They undertake laboratory analysis and monitoring of microbial growth, cultures, raw materials, packaging materials, ﬁnished products, shelf-life samples and market complaint samples using range of identiﬁcation methods and clinical trials.\n",
      "Performance Criteria: \n",
      "================================================================================\n"
     ]
    },
    {
     "name": "stderr",
     "output_type": "stream",
     "text": [
      "Processing PDFs:  36%|███▌      | 299/838 [08:02<16:50,  1.87s/it]"
     ]
    },
    {
     "name": "stdout",
     "output_type": "stream",
     "text": [
      "Extracted Information for Food_Safety_Team_Leader.pdf:\n",
      "Job Title: FIC/Q7604: Food Safety Team Leader\n",
      "Job Description: A Food Safety Team Leader (FSTL) manages the food safety and management system (FSMS) of the factory including continuous monitoring, conducting risk assessments, establishing levels of acceptable risks against hazard overseeing food safety processes, audits, corrective actions, reporting variances to senior management and thereby ensuring adequate implementation and eﬀectiveness of the food safety and management system (FSMS).\n",
      "Performance Criteria: \n",
      "================================================================================\n"
     ]
    },
    {
     "name": "stderr",
     "output_type": "stream",
     "text": [
      "Processing PDFs:  36%|███▌      | 300/838 [08:04<15:28,  1.73s/it]"
     ]
    },
    {
     "name": "stdout",
     "output_type": "stream",
     "text": [
      "Extracted Information for Technical_Lead_-_Food_Analysis.pdf:\n",
      "Job Title: FIC/Q7605: Technical Lead - Food Analysis\n",
      "Job Description: The individual is responsible for managing food samples analytical work, interpretation of results and maintenance of records. The individual is also responsible for managing laboratory safety and housekeeping practices, recommending new processes, analysing problems and conducting audits for maintaining the quality standards in the food manufacturing facility.\n",
      "Performance Criteria: \n",
      "================================================================================\n"
     ]
    },
    {
     "name": "stderr",
     "output_type": "stream",
     "text": [
      "Processing PDFs:  36%|███▌      | 301/838 [08:05<14:13,  1.59s/it]"
     ]
    },
    {
     "name": "stdout",
     "output_type": "stream",
     "text": [
      "Extracted Information for Hygiene_Coordinator.pdf:\n",
      "Job Title: FIC/Q7606: Hygiene Coordinator\n",
      "Job Description: The individual must be able to communicate and work with others eﬀectively. The individual must possess manual dexterity and be able to plan and prioritize tasks eﬀectively.\n",
      "Performance Criteria: \n",
      "================================================================================\n"
     ]
    },
    {
     "name": "stderr",
     "output_type": "stream",
     "text": [
      "Processing PDFs:  36%|███▌      | 302/838 [08:06<13:21,  1.50s/it]"
     ]
    },
    {
     "name": "stdout",
     "output_type": "stream",
     "text": [
      "Extracted Information for Hygiene_Coordinator.pdf:\n",
      "Job Title: FIC/Q7606: Hygiene Coordinator\n",
      "Job Description: The individual must be able to communicate and work with others eﬀectively. The individual must possess manual dexterity and be able to plan and prioritize tasks eﬀectively.\n",
      "Performance Criteria: \n",
      "================================================================================\n"
     ]
    },
    {
     "name": "stderr",
     "output_type": "stream",
     "text": [
      "Processing PDFs:  36%|███▌      | 303/838 [08:08<14:31,  1.63s/it]"
     ]
    },
    {
     "name": "stdout",
     "output_type": "stream",
     "text": [
      "Extracted Information for Food_Analyst.pdf:\n",
      "Job Title: FIC/Q7607: Food Analyst\n",
      "Job Description: A food analyst is responsible for conducting qualitative and quantitative tests to determine the physical and chemical properties of food. They are also responsible for recording and compiling the test results, preparing charts and reports as well preparing and incubating plates with cultures. They deﬁne quality assurance targets and procedures and see to their maintenance and continued improvement by reviewing targets, protocols, supplies, processes, equipment, and technologies for quality standards.\n",
      "Performance Criteria: \n",
      "================================================================================\n"
     ]
    },
    {
     "name": "stderr",
     "output_type": "stream",
     "text": [
      "Processing PDFs:  36%|███▋      | 304/838 [08:10<14:18,  1.61s/it]"
     ]
    },
    {
     "name": "stdout",
     "output_type": "stream",
     "text": [
      "Extracted Information for Internal_Food_Auditor-Food_Processing.pdf:\n",
      "Job Title: FIC/Q7608: Internal Food Auditor-Food Processing\n",
      "Job Description: This qualiﬁcation reﬂects the role of individuals who apply specialist knowledge and skills in food safety for auditing purposes. They conduct a range of audits in diﬀerent environments to monitor food quality and safety according to relevant legislation, including food standards.\n",
      "Performance Criteria: \n",
      "================================================================================\n"
     ]
    },
    {
     "name": "stderr",
     "output_type": "stream",
     "text": [
      "Processing PDFs:  36%|███▋      | 305/838 [08:11<13:13,  1.49s/it]"
     ]
    },
    {
     "name": "stdout",
     "output_type": "stream",
     "text": [
      "Extracted Information for Food_Sampler.pdf:\n",
      "Job Title: FIC/Q7609: Food Sampler\n",
      "Job Description: The food Sample Preparation Technician is responsible for carrying out sample preparation for laboratory testing. Their duties include the preparation of food samples and equipment for lab testing. The person is also responsible for monitoring, calibration of equipment, and sample return and disposal.\n",
      "Performance Criteria: \n",
      "================================================================================\n"
     ]
    },
    {
     "name": "stderr",
     "output_type": "stream",
     "text": [
      "Processing PDFs:  37%|███▋      | 306/838 [08:12<12:44,  1.44s/it]"
     ]
    },
    {
     "name": "stdout",
     "output_type": "stream",
     "text": [
      "Extracted Information for Food_Lab_Instrumentation_Specialist.pdf:\n",
      "Job Title: FIC/Q7610: Food Lab Instrumentation Specialist\n",
      "Job Description: A Lab Instrumentation Specialist is responsible for writing and executing of validation documents for laboratory instrumentation in compliance with Good Manufacturing Practices (GMP). An individual coordinates with instrument vendors and works with a cross-functional team to deliver all system lifecycle documents for the laboratory. In addition, writing Standard Operating Procedures (SOPs) to support the running of the laboratory and supporting containment veriﬁcation of the laboratory. An individual also participates in setting up the general running of the laboratory and supporting contaminent veriﬁcation pf the lab. An individual also participates in setting up the general running of the lab- glassware,reagents, consumables, 5S, etc,. and ensure the safety, consistency and reliability of chemical testing following the Good Laboratory Practices (GLP)\n",
      "Performance Criteria: \n",
      "================================================================================\n"
     ]
    },
    {
     "name": "stderr",
     "output_type": "stream",
     "text": [
      "Processing PDFs:  37%|███▋      | 307/838 [08:18<23:27,  2.65s/it]"
     ]
    },
    {
     "name": "stdout",
     "output_type": "stream",
     "text": [
      "Extracted Information for Soya_Products_Processor.pdf:\n",
      "Job Title: FIC/Q8004: Soya Products Processor\n",
      "Job Description: The individual at work is responsible for processing soy to produce various types of soya products such as soya milk and ﬂavoured beverages, paneer (tofu), texturized soya protein, etc. as per standard work practices.\n",
      "Performance Criteria: \n",
      "================================================================================\n"
     ]
    },
    {
     "name": "stderr",
     "output_type": "stream",
     "text": [
      "Processing PDFs:  37%|███▋      | 308/838 [08:19<20:54,  2.37s/it]"
     ]
    },
    {
     "name": "stdout",
     "output_type": "stream",
     "text": [
      "Extracted Information for Traditional_Snack_and_Savoury_Maker.pdf:\n",
      "Job Title: FIC/Q8501: Traditional Snack and Savoury Maker\n",
      "Job Description: A Traditional Snack and Savoury Maker is responsible for making various types of snack and savoury products. S/he is is responsible for receiving raw materials, checking quality, cleaning, grinding, sieving, mixing, frying, cooking, heating, cooling, blending, packing and storing.\n",
      "Performance Criteria: \n",
      "================================================================================\n"
     ]
    },
    {
     "name": "stderr",
     "output_type": "stream",
     "text": [
      "Processing PDFs:  37%|███▋      | 309/838 [08:21<19:12,  2.18s/it]"
     ]
    },
    {
     "name": "stdout",
     "output_type": "stream",
     "text": [
      "Extracted Information for Traditional_Snack_and_Savoury_Maker.pdf:\n",
      "Job Title: FIC/Q8501: Traditional Snack and Savoury Maker\n",
      "Job Description: A Traditional Snack and Savoury Maker is responsible for making various types of snack and savoury products. S/he is is responsible for receiving raw materials, checking quality, cleaning, grinding, sieving, mixing, frying, cooking, heating, cooling, blending, packing and storing.\n",
      "Performance Criteria: \n",
      "================================================================================\n"
     ]
    },
    {
     "name": "stderr",
     "output_type": "stream",
     "text": [
      "Processing PDFs:  37%|███▋      | 310/838 [08:23<18:31,  2.10s/it]"
     ]
    },
    {
     "name": "stdout",
     "output_type": "stream",
     "text": [
      "Extracted Information for Spice_Processing_Technician.pdf:\n",
      "Job Title: FIC/Q8502: Spice Processing Technician\n",
      "Job Description: A Spice Processing Technician is responsible for processing various spices to produce spice products by carrying out activities such as receiving raw materials, cleaning, drying, roasting, grinding, blending, packing, sterilizing and storing.\n",
      "Performance Criteria: \n",
      "================================================================================\n"
     ]
    },
    {
     "name": "stderr",
     "output_type": "stream",
     "text": [
      "Processing PDFs:  37%|███▋      | 311/838 [08:25<17:59,  2.05s/it]"
     ]
    },
    {
     "name": "stdout",
     "output_type": "stream",
     "text": [
      "Extracted Information for Spice_Processing_Technician.pdf:\n",
      "Job Title: FIC/Q8502: Spice Processing Technician\n",
      "Job Description: A Spice Processing Technician is responsible forprocessing various types of whole and powdered spices and seasonings by operating diﬀerent equipment in synchronization with other tools and machineries as per the Standard Operating Procedures of the organisation and achieving consistent quality and output.\n",
      "Performance Criteria: \n",
      "================================================================================\n"
     ]
    },
    {
     "name": "stderr",
     "output_type": "stream",
     "text": [
      "Processing PDFs:  37%|███▋      | 312/838 [08:26<16:45,  1.91s/it]"
     ]
    },
    {
     "name": "stdout",
     "output_type": "stream",
     "text": [
      "Extracted Information for Convenience_Food_Maker-Ready_To_Eat_and_Instant_Food.pdf:\n",
      "Job Title: FIC/Q8503: Convenience Food Maker-Ready To Eat and Instant Food\n",
      "Job Description: A 'Convenience Food Maker' is responsible for the production of ready to eat and ready to cook food products from food grains and vegetables as per standard organizational practices.\n",
      "Performance Criteria: \n",
      "================================================================================\n"
     ]
    },
    {
     "name": "stderr",
     "output_type": "stream",
     "text": [
      "Processing PDFs:  37%|███▋      | 313/838 [08:32<26:53,  3.07s/it]"
     ]
    },
    {
     "name": "stdout",
     "output_type": "stream",
     "text": [
      "Extracted Information for Traditional_Sweet_and_Savoury_Product_Maker.pdf:\n",
      "Job Title: FIC/Q8504: Traditional Sweet and Savoury Product Maker\n",
      "Job Description: A Traditional Sweet and Savoury Product Maker is responsible for making various types of sweet and savoury snack products. The individual is responsible for using their skills to carry out day to day activities in preparing variety of food items while meeting deﬁned SOPs.\n",
      "Performance Criteria: \n",
      "================================================================================\n"
     ]
    },
    {
     "name": "stderr",
     "output_type": "stream",
     "text": [
      "Processing PDFs:  37%|███▋      | 314/838 [08:33<22:02,  2.52s/it]"
     ]
    },
    {
     "name": "stdout",
     "output_type": "stream",
     "text": [
      "Extracted Information for Processed_Food_Entrepreneur.pdf:\n",
      "Job Title: FIC/Q9001: Processed Food Entrepreneur\n",
      "Job Description: A Processed Food Entrepreneur is responsible for starting and managing a food processing organization by exploring the market, identifying opportunities in food processing, innovating, giving a diﬀerent dimension to product/s, sizing up its value and working towards/making proﬁt.\n",
      "Performance Criteria: \n",
      "================================================================================\n"
     ]
    },
    {
     "name": "stderr",
     "output_type": "stream",
     "text": [
      "Processing PDFs:  38%|███▊      | 315/838 [08:35<19:52,  2.28s/it]"
     ]
    },
    {
     "name": "stdout",
     "output_type": "stream",
     "text": [
      "Extracted Information for Processed_Food_Entrepreneur.pdf:\n",
      "Job Title: FIC/Q9001: Processed Food Entrepreneur\n",
      "Job Description: A Processed Food Entrepreneur is responsible for starting and managing a food processing organization by exploring the market, identifying opportunities in food processing, innovating, giving a diﬀerent dimension to product/s, sizing up its value and working towards/making proﬁt.\n",
      "Performance Criteria: \n",
      "================================================================================\n"
     ]
    },
    {
     "name": "stderr",
     "output_type": "stream",
     "text": [
      "Processing PDFs:  38%|███▊      | 316/838 [08:37<18:30,  2.13s/it]"
     ]
    },
    {
     "name": "stdout",
     "output_type": "stream",
     "text": [
      "Extracted Information for Processed_Food_Entrepreneur.pdf:\n",
      "Job Title: FIC/Q9001: Processed Food Entrepreneur\n",
      "Job Description: A Processed Food Entrepreneur is responsible for starting and managing a food processing organization by exploring the market, identifying opportunities in food processing, innovating, giving a diﬀerent dimension to product/s, sizing up its value and working towards/making proﬁt.\n",
      "Performance Criteria: \n",
      "================================================================================\n"
     ]
    },
    {
     "name": "stderr",
     "output_type": "stream",
     "text": [
      "Processing PDFs:  38%|███▊      | 317/838 [08:38<16:14,  1.87s/it]"
     ]
    },
    {
     "name": "stdout",
     "output_type": "stream",
     "text": [
      "Extracted Information for Food_Regulatory_Affairs_Manager.pdf:\n",
      "Job Title: FIC/Q9002: Food Regulatory Aﬀairs Manager\n",
      "Job Description: A Food Regulatory Aﬀairs Manager is responsible for designing, developing, implementing and changing food regulatory systems in the organisation. S/he acts as a liaison between organisation and government regulatory agencies and authorities to ensure that the products produced and distributed comply with regulatory standards.\n",
      "Performance Criteria: \n",
      "================================================================================\n"
     ]
    },
    {
     "name": "stderr",
     "output_type": "stream",
     "text": [
      "Processing PDFs:  38%|███▊      | 318/838 [08:40<15:04,  1.74s/it]"
     ]
    },
    {
     "name": "stdout",
     "output_type": "stream",
     "text": [
      "Extracted Information for Food_Regulatory_Affairs_Manager.pdf:\n",
      "Job Title: FIC/Q9002: Food Regulatory Aﬀairs Manager\n",
      "Job Description: A Food Regulatory Aﬀairs Manager is responsible for designing, developing, implementing and changing food regulatory systems in the organisation. S/he acts as a liaison between organisation and government regulatory agencies and authorities to ensure that the products produced and distributed comply with regulatory standards.\n",
      "Performance Criteria: \n",
      "================================================================================\n"
     ]
    },
    {
     "name": "stderr",
     "output_type": "stream",
     "text": [
      "Processing PDFs:  38%|███▊      | 319/838 [08:43<20:11,  2.33s/it]"
     ]
    },
    {
     "name": "stdout",
     "output_type": "stream",
     "text": [
      "Extracted Information for Production_Manager.pdf:\n",
      "Job Title: FIC/Q9003: Production Manager\n",
      "Job Description: A Production Manager is responsible for production of food products through the process of production planning, coordinating and controlling production process to achieve desired quantity and quality of products.\n",
      "Performance Criteria: \n",
      "================================================================================\n"
     ]
    },
    {
     "name": "stderr",
     "output_type": "stream",
     "text": [
      "Processing PDFs:  38%|███▊      | 320/838 [08:45<18:26,  2.14s/it]"
     ]
    },
    {
     "name": "stdout",
     "output_type": "stream",
     "text": [
      "Extracted Information for Production_Manager.pdf:\n",
      "Job Title: FIC/Q9003: Production Manager\n",
      "Job Description: A Production Manager is responsible for production of food products through the process of production planning, coordinating and controlling production process to achieve desired quantity and quality of products.\n",
      "Performance Criteria: \n",
      "================================================================================\n"
     ]
    },
    {
     "name": "stderr",
     "output_type": "stream",
     "text": [
      "Processing PDFs:  38%|███▊      | 321/838 [08:46<15:49,  1.84s/it]"
     ]
    },
    {
     "name": "stdout",
     "output_type": "stream",
     "text": [
      "Extracted Information for Plant_Manager.pdf:\n",
      "Job Title: FIC/Q9004: Plant Manager\n",
      "Job Description: A Plant Manager is responsible for daily management and coordination of food processing unit operations including production planning, managing human resources, supply chain, production operation, maintenance, quality assurance, storage and distribution of ﬁnished products from the plant warehouse within scheduled timeline and budget. S/he is responsible for developing policies and procedures to increase productivity, assure quality, and reduce overall costs.\n",
      "Performance Criteria: \n",
      "================================================================================\n"
     ]
    },
    {
     "name": "stderr",
     "output_type": "stream",
     "text": [
      "Processing PDFs:  38%|███▊      | 322/838 [08:48<15:53,  1.85s/it]"
     ]
    },
    {
     "name": "stdout",
     "output_type": "stream",
     "text": [
      "Extracted Information for Industrial_Production_Worker.pdf:\n",
      "Job Title: FIC/Q9005: Industrial Production Worker\n",
      "Job Description: The duties of an Industrial production worker consist of a limited range of tasks such as preparation for production, monitoring production; winding up etc. in a mechanised unit and as per instructions and speciﬁcations provided. The candidate is expected to carry out these assigned duties in line with quality standards and organizational policies. This role also requires adherence to food and personal safety guidelines at every stage during production.\n",
      "Performance Criteria: \n",
      "================================================================================\n"
     ]
    },
    {
     "name": "stderr",
     "output_type": "stream",
     "text": [
      "Processing PDFs:  39%|███▊      | 323/838 [08:50<16:06,  1.88s/it]"
     ]
    },
    {
     "name": "stdout",
     "output_type": "stream",
     "text": [
      "Extracted Information for Industrial_Production_Worker.pdf:\n",
      "Job Title: FIC/Q9005: Industrial Production Worker\n",
      "Job Description: The duties of an Industrial production worker consist of a limited range of tasks such as preparation for production, monitoring production; winding up etc. in a mechanised unit and as per instructions and speciﬁcations provided. The candidate is expected to carry out these assigned duties in line with quality standards and organizational policies. This role also requires adherence to food and personal safety guidelines at every stage during production.\n",
      "Performance Criteria: \n",
      "================================================================================\n"
     ]
    },
    {
     "name": "stderr",
     "output_type": "stream",
     "text": [
      "Processing PDFs:  39%|███▊      | 324/838 [08:52<15:29,  1.81s/it]"
     ]
    },
    {
     "name": "stdout",
     "output_type": "stream",
     "text": [
      "Extracted Information for Multi_Skill_Technician_(Food_Processing).pdf:\n",
      "Job Title: FIC/Q9007: Multi Skill Technician (Food Processing)\n",
      "Job Description: A Multi Skill Technician is able to perform multiple roles like sorting, grading, processing and canning of various types of fruits and vegetables to produce pickle, jam, jelly, squash, ketchup and juices. The person can also produce spice products and baked products like breads, puﬀs, cookies, cakes/ pastries, desserts, specialty baked products etc.\n",
      "Performance Criteria: \n",
      "================================================================================\n"
     ]
    },
    {
     "name": "stderr",
     "output_type": "stream",
     "text": [
      "Processing PDFs:  39%|███▉      | 325/838 [08:55<18:57,  2.22s/it]"
     ]
    },
    {
     "name": "stdout",
     "output_type": "stream",
     "text": [
      "Extracted Information for Sanitation_worker.pdf:\n",
      "Job Title: FIC/Q9008: Sanitation worker\n",
      "Job Description: A sanitation worker is responsible for carrying out cleaning and sanitation of the various parts and areas of a food processing facility in adherence with standard work practices.\n",
      "Performance Criteria: \n",
      "================================================================================\n"
     ]
    },
    {
     "name": "stderr",
     "output_type": "stream",
     "text": [
      "Processing PDFs:  39%|███▉      | 326/838 [08:57<17:44,  2.08s/it]"
     ]
    },
    {
     "name": "stdout",
     "output_type": "stream",
     "text": [
      "Extracted Information for Supervisor-Food_Processing_Industries.pdf:\n",
      "Job Title: FIC/Q9009: Supervisor-Food Processing Industries\n",
      "Job Description: The individual at work is responsible for supervising of the production process in food manufacturing facility as per the organizational standards. The individual monitors equipment performance to ascertain proper utilization and carries out preventive maintenance in a processing unit compliance with food safety standards of the organization.\n",
      "Performance Criteria: \n",
      "================================================================================\n"
     ]
    },
    {
     "name": "stderr",
     "output_type": "stream",
     "text": [
      "Processing PDFs:  39%|███▉      | 327/838 [08:58<15:29,  1.82s/it]"
     ]
    },
    {
     "name": "stdout",
     "output_type": "stream",
     "text": [
      "Extracted Information for Food_Product_Handler.pdf:\n",
      "Job Title: FIC/Q9010: Food Product Handler\n",
      "Job Description: The duties of a Food Product Handler consist of a limited range of tasks such as preparation for production, monitoring production, winding up, etc. in a mechanized unit and as per instructions and speciﬁcations provided. The candidate is expected to carry out these assigned duties in line with quality standards and organizational policies. This role also requires adherence to food and personal safety guidelines at every stage during production.\n",
      "Performance Criteria: \n",
      "================================================================================\n"
     ]
    },
    {
     "name": "stderr",
     "output_type": "stream",
     "text": [
      "Processing PDFs:  39%|███▉      | 328/838 [08:59<13:54,  1.64s/it]"
     ]
    },
    {
     "name": "stdout",
     "output_type": "stream",
     "text": [
      "Extracted Information for Honey_Processor.pdf:\n",
      "Job Title: FIC/Q9011: Honey Processor\n",
      "Job Description: A Honey Processor is responsible to prepare comb and safely operate equipment that is used to extract honey ﬁt for human consumption, subject to food safety legislation and regulations. Individuals work under broad direction and take responsibility for their own work.\n",
      "Performance Criteria: \n",
      "================================================================================\n"
     ]
    },
    {
     "name": "stderr",
     "output_type": "stream",
     "text": [
      "Processing PDFs:  39%|███▉      | 329/838 [09:02<17:02,  2.01s/it]"
     ]
    },
    {
     "name": "stdout",
     "output_type": "stream",
     "text": [
      "Extracted Information for Store_Assistant-Food_Manufacturing_Facility.pdf:\n",
      "Job Title: FIC/Q9101: Store Assistant-Food Manufacturing Facility\n",
      "Job Description: The Stores Assistant working in a food manufacturing facility receives, stores and maintains various essential elements of production line such as raw materials, ﬂavours, preservatives, chemicals, packaging materials, engineering spare parts, etc. The individual also issues required materials to the concerned personnel, takes appropriate action against defective ones and records necessary information as per standard work practices.\n",
      "Performance Criteria: \n",
      "================================================================================\n"
     ]
    },
    {
     "name": "stderr",
     "output_type": "stream",
     "text": [
      "Processing PDFs:  39%|███▉      | 330/838 [09:03<15:18,  1.81s/it]"
     ]
    },
    {
     "name": "stdout",
     "output_type": "stream",
     "text": [
      "Extracted Information for Food_Product_Developer.pdf:\n",
      "Job Title: FIC/Q9301: Food Product Developer\n",
      "Job Description: A Food Product Developer is responsible for recipe formulation and product development so that company can meet customers’ needs more eﬀectively. The task involves doing innovation in current product oﬀerings and customer services to enhance the brand image and gain competitive edge in the market. The job will typically include lab scale trials and make sure that the speciﬁcations are documented for each new product.\n",
      "Performance Criteria: \n",
      "================================================================================\n"
     ]
    },
    {
     "name": "stderr",
     "output_type": "stream",
     "text": [
      "Processing PDFs:  39%|███▉      | 331/838 [09:05<13:59,  1.66s/it]"
     ]
    },
    {
     "name": "stdout",
     "output_type": "stream",
     "text": [
      "Extracted Information for Food_Packaging_Developer.pdf:\n",
      "Job Title: FIC/Q9302: Food Packaging Developer\n",
      "Job Description: A Food Packaging Developer is responsible to identify and design new packaging technologies. The person is responsible for changing the existing packaging of a product, modify the existing packaging material or change the material altogether meeting the standards set by FSSAI and organization.\n",
      "Performance Criteria: \n",
      "================================================================================\n"
     ]
    },
    {
     "name": "stderr",
     "output_type": "stream",
     "text": [
      "Processing PDFs:  40%|███▉      | 332/838 [09:06<14:22,  1.71s/it]"
     ]
    },
    {
     "name": "stdout",
     "output_type": "stream",
     "text": [
      "Extracted Information for Food_Technologist_-_Plant_based_proteins.pdf:\n",
      "Job Title: FIC/Q9303: Food Technologist - Plant based proteins\n",
      "Job Description: A Food Technologist- Plant based proteins is responsible for executing the product development of plant- based products from bench to product launch. The individual will be required to work on existing and newly discovered ingredients to invent new recipes and concepts, while keeping up with the ever-changing regulations governing food development and production by ensuring that food is safe and meets the prescribed standards.\n",
      "Performance Criteria: \n",
      "================================================================================\n"
     ]
    },
    {
     "name": "stderr",
     "output_type": "stream",
     "text": [
      "Processing PDFs:  40%|███▉      | 333/838 [09:08<14:08,  1.68s/it]"
     ]
    },
    {
     "name": "stdout",
     "output_type": "stream",
     "text": [
      "Extracted Information for Effluent_Treatment_Plant_Operator_-_Food_Processing_Facility.pdf:\n",
      "Job Title: FIC/Q9501: Eﬄuent Treatment Plant Operator - Food Processing Facility\n",
      "Job Description: The individual is responsible for the operation and maintenance of eﬄuent treatment plant while ensuring compliance with statutory and regulatory requirements in a food processing facility.\n",
      "Performance Criteria: \n",
      "================================================================================\n"
     ]
    },
    {
     "name": "stderr",
     "output_type": "stream",
     "text": [
      "Processing PDFs:  40%|███▉      | 334/838 [09:09<13:06,  1.56s/it]"
     ]
    },
    {
     "name": "stdout",
     "output_type": "stream",
     "text": [
      "Extracted Information for Refrigeration_Technician_-_Food_Processing_Facility.pdf:\n",
      "Job Title: FIC/Q9502: Refrigeration Technician - Food Processing Facility\n",
      "Job Description: The incumbent in the job is responsible for the operation and maintenance of refrigeration system in a food processing facility. The individual also performs inspection, testing and repair of refrigeration system to ensure it is operating eﬀectively.\n",
      "Performance Criteria: \n",
      "================================================================================\n"
     ]
    },
    {
     "name": "stderr",
     "output_type": "stream",
     "text": [
      "Processing PDFs:  40%|███▉      | 335/838 [09:12<15:05,  1.80s/it]"
     ]
    },
    {
     "name": "stdout",
     "output_type": "stream",
     "text": [
      "Extracted Information for Fitter-Food_manufacturing_facility.pdf:\n",
      "Job Title: FIC/Q9503: Fitter-Food manufacturing facility\n",
      "Job Description: The individual is responsible for carrying out ﬁtting and assembly operations for the machinery utilised at a food processing workplace in adherence with standard work practices. The individual must ensure that the machinery is functioning as per desired standards post completion of ﬁtting and assembly operations.\n",
      "Performance Criteria: \n",
      "================================================================================\n"
     ]
    },
    {
     "name": "stderr",
     "output_type": "stream",
     "text": [
      "Processing PDFs:  40%|████      | 336/838 [09:15<18:15,  2.18s/it]"
     ]
    },
    {
     "name": "stdout",
     "output_type": "stream",
     "text": [
      "Extracted Information for Assistant_Electrician-_Food_manufacturing_facility.pdf:\n",
      "Job Title: FIC/Q9504: Assistant Electrician- Food manufacturing facility\n",
      "Job Description: The individual is responsible for the installation of electrical utilities required in a food processing environment. In addition to it, the individual repairs and maintains the installed electrical utilities (such as electrical wiring, equipment, control panels, ﬁxtures, outdoor lighting, intercom systems, electrical control systems etc.) in production, utilities, laboratory, stores, etc. while ensuring compliance with statutory and regulatory requirements in a food processing facility.\n",
      "Performance Criteria: \n",
      "================================================================================\n"
     ]
    },
    {
     "name": "stderr",
     "output_type": "stream",
     "text": [
      "Processing PDFs:  40%|████      | 337/838 [09:20<25:15,  3.03s/it]"
     ]
    },
    {
     "name": "stdout",
     "output_type": "stream",
     "text": [
      "Extracted Information for Food_Sales_Promoter.pdf:\n",
      "Job Title: FIC/Q9701: Food Sales Promoter\n",
      "Job Description: The Food Sales Promoter is responsible for implementation of product promotion campaigns and selling of food products in a retail environment. The individual organizes the food products in designated places, sets up food exhibitions and visual merchandise, facilitates the customer during sales, maintains the food retail stores, records necessary information as required and promotes new launches in adherence with standard work practices.\n",
      "Performance Criteria: \n",
      "================================================================================\n"
     ]
    },
    {
     "name": "stderr",
     "output_type": "stream",
     "text": [
      "Processing PDFs:  40%|████      | 338/838 [09:25<30:03,  3.61s/it]"
     ]
    },
    {
     "name": "stdout",
     "output_type": "stream",
     "text": [
      "Extracted Information for Food_Sales_Promoter.pdf:\n",
      "Job Title: FIC/Q9701: Food Sales Promoter\n",
      "Job Description: The Food Sales Promoter is responsible for implementation of product promotion campaigns and selling of food products in a retail environment. The individual organizes the food products in designated places, sets up food exhibitions and visual merchandise, facilitates the customer during sales, maintains the food retail stores, records necessary information as required and promotes new launches in adherence with standard work practices.\n",
      "Performance Criteria: \n",
      "================================================================================\n"
     ]
    },
    {
     "name": "stderr",
     "output_type": "stream",
     "text": [
      "Processing PDFs:  40%|████      | 339/838 [09:26<24:03,  2.89s/it]"
     ]
    },
    {
     "name": "stdout",
     "output_type": "stream",
     "text": [
      "Extracted Information for Small_Food_Business_Operator.pdf:\n",
      "Job Title: FIC/Q9702: Small Food Business Operator\n",
      "Job Description: Petty Food Business Operator at work is responsible for the preparation and selling of food products at a particular location. Petty food business operators (FBO) himself manufacture, sells, any article of food or a petty retailers, hawkers, itinerant vendor or a temporary stall holder or small scale or cottage or any such other industries relating to food business operator. The Retail/ Street/ Petty Food Business Operator needs to eﬀectively communicate with the guests and follow the basic food and health safety practices.He should also know and understand the FSSAI registration and licensing requirements.\n",
      "Performance Criteria: \n",
      "================================================================================\n"
     ]
    },
    {
     "name": "stderr",
     "output_type": "stream",
     "text": [
      "Processing PDFs:  41%|████      | 340/838 [09:27<19:39,  2.37s/it]"
     ]
    },
    {
     "name": "stdout",
     "output_type": "stream",
     "text": [
      "Extracted Information for Basic_sculptor_and_stone_artist_(Moortikar).pdf:\n",
      "Error: No valid job information extracted from the text.\n",
      "================================================================================\n"
     ]
    },
    {
     "name": "stderr",
     "output_type": "stream",
     "text": [
      "Processing PDFs:  41%|████      | 341/838 [09:28<16:43,  2.02s/it]"
     ]
    },
    {
     "name": "stdout",
     "output_type": "stream",
     "text": [
      "Extracted Information for Traditional_Glass_Toy_Maker.pdf:\n",
      "Error: No valid job information extracted from the text.\n",
      "================================================================================\n"
     ]
    },
    {
     "name": "stderr",
     "output_type": "stream",
     "text": [
      "Processing PDFs:  41%|████      | 342/838 [09:29<14:32,  1.76s/it]"
     ]
    },
    {
     "name": "stdout",
     "output_type": "stream",
     "text": [
      "Extracted Information for Traditional_Mat_Weaver.pdf:\n",
      "Error: No valid job information extracted from the text.\n",
      "================================================================================\n"
     ]
    },
    {
     "name": "stderr",
     "output_type": "stream",
     "text": [
      "Processing PDFs:  41%|████      | 343/838 [09:31<13:08,  1.59s/it]"
     ]
    },
    {
     "name": "stdout",
     "output_type": "stream",
     "text": [
      "Extracted Information for Traditional_Wooden_Toy_Maker.pdf:\n",
      "Error: No valid job information extracted from the text.\n",
      "================================================================================\n"
     ]
    },
    {
     "name": "stderr",
     "output_type": "stream",
     "text": [
      "Processing PDFs:  41%|████      | 344/838 [09:32<12:17,  1.49s/it]"
     ]
    },
    {
     "name": "stdout",
     "output_type": "stream",
     "text": [
      "Extracted Information for Basic_Program_on_Hand_Block_Printing.pdf:\n",
      "Error: No valid job information extracted from the text.\n",
      "================================================================================\n"
     ]
    },
    {
     "name": "stderr",
     "output_type": "stream",
     "text": [
      "Processing PDFs:  41%|████      | 345/838 [09:33<11:50,  1.44s/it]"
     ]
    },
    {
     "name": "stdout",
     "output_type": "stream",
     "text": [
      "Extracted Information for Basic_Program_on_Traditional_Hand_Embroidery.pdf:\n",
      "Error: No valid job information extracted from the text.\n",
      "================================================================================\n"
     ]
    },
    {
     "name": "stderr",
     "output_type": "stream",
     "text": [
      "Processing PDFs:  41%|████▏     | 346/838 [09:34<11:06,  1.35s/it]"
     ]
    },
    {
     "name": "stdout",
     "output_type": "stream",
     "text": [
      "Extracted Information for Traditional_Soft_Toy_Maker.pdf:\n",
      "Error: No valid job information extracted from the text.\n",
      "================================================================================\n"
     ]
    },
    {
     "name": "stderr",
     "output_type": "stream",
     "text": [
      "Processing PDFs:  41%|████▏     | 347/838 [09:36<10:54,  1.33s/it]"
     ]
    },
    {
     "name": "stdout",
     "output_type": "stream",
     "text": [
      "Extracted Information for Coir_Weaver.pdf:\n",
      "Error: No valid job information extracted from the text.\n",
      "================================================================================\n"
     ]
    },
    {
     "name": "stderr",
     "output_type": "stream",
     "text": [
      "Processing PDFs:  42%|████▏     | 348/838 [09:37<10:51,  1.33s/it]"
     ]
    },
    {
     "name": "stdout",
     "output_type": "stream",
     "text": [
      "Extracted Information for Advanced_Program_on_Hand_Block_Printing.pdf:\n",
      "Error: No valid job information extracted from the text.\n",
      "================================================================================\n"
     ]
    },
    {
     "name": "stderr",
     "output_type": "stream",
     "text": [
      "Processing PDFs:  42%|████▏     | 349/838 [09:38<10:46,  1.32s/it]"
     ]
    },
    {
     "name": "stdout",
     "output_type": "stream",
     "text": [
      "Extracted Information for Advanced_Program_on_Traditional_Hand_Embroidery.pdf:\n",
      "Error: No valid job information extracted from the text.\n",
      "================================================================================\n"
     ]
    },
    {
     "name": "stderr",
     "output_type": "stream",
     "text": [
      "Processing PDFs:  42%|████▏     | 350/838 [09:40<10:41,  1.32s/it]"
     ]
    },
    {
     "name": "stdout",
     "output_type": "stream",
     "text": [
      "Extracted Information for Traditional_Basket_Maker.pdf:\n",
      "Error: No valid job information extracted from the text.\n",
      "================================================================================\n"
     ]
    },
    {
     "name": "stderr",
     "output_type": "stream",
     "text": [
      "Processing PDFs:  42%|████▏     | 351/838 [09:41<10:21,  1.28s/it]"
     ]
    },
    {
     "name": "stdout",
     "output_type": "stream",
     "text": [
      "Extracted Information for Traditional_Malakar.pdf:\n",
      "Error: No valid job information extracted from the text.\n",
      "================================================================================\n"
     ]
    },
    {
     "name": "stderr",
     "output_type": "stream",
     "text": [
      "Processing PDFs:  42%|████▏     | 352/838 [09:42<10:01,  1.24s/it]"
     ]
    },
    {
     "name": "stdout",
     "output_type": "stream",
     "text": [
      "Extracted Information for Traditional_broom_maker.pdf:\n",
      "Error: No valid job information extracted from the text.\n",
      "================================================================================\n"
     ]
    },
    {
     "name": "stderr",
     "output_type": "stream",
     "text": [
      "Processing PDFs:  42%|████▏     | 353/838 [09:43<09:50,  1.22s/it]"
     ]
    },
    {
     "name": "stdout",
     "output_type": "stream",
     "text": [
      "Extracted Information for Potter_(Kumhar)_including_traditional_ceramics_and_terracotta_product_maker.pdf:\n",
      "Error: No valid job information extracted from the text.\n",
      "================================================================================\n"
     ]
    },
    {
     "name": "stderr",
     "output_type": "stream",
     "text": [
      "Processing PDFs:  42%|████▏     | 354/838 [09:44<09:38,  1.19s/it]"
     ]
    },
    {
     "name": "stdout",
     "output_type": "stream",
     "text": [
      "Extracted Information for Traditional_Leather_Toy_maker.pdf:\n",
      "Error: No valid job information extracted from the text.\n",
      "================================================================================\n"
     ]
    },
    {
     "name": "stderr",
     "output_type": "stream",
     "text": [
      "Processing PDFs:  42%|████▏     | 355/838 [09:46<10:41,  1.33s/it]"
     ]
    },
    {
     "name": "stdout",
     "output_type": "stream",
     "text": [
      "Extracted Information for Floor_Supervisor_(Ceramics).pdf:\n",
      "Job Title: HCS/Q0101: Floor Supervisor (Ceramics)\n",
      "Job Description: The ﬂoor supervisor needs to manage and monitor the overall production process by interfacing with all departments of the production ﬂoor and continuously checking the products for quality in the production cycle\n",
      "Performance Criteria: \n",
      "================================================================================\n"
     ]
    },
    {
     "name": "stderr",
     "output_type": "stream",
     "text": [
      "Processing PDFs:  42%|████▏     | 356/838 [09:47<11:22,  1.42s/it]"
     ]
    },
    {
     "name": "stdout",
     "output_type": "stream",
     "text": [
      "Extracted Information for Modeller_(Ceramics).pdf:\n",
      "Job Title: HCS/Q0201: Modeller (Ceramics)\n",
      "Job Description: The modeller, based on market cues, creates the master model with a design that will be used for creating product lines\n",
      "Performance Criteria: \n",
      "================================================================================\n"
     ]
    },
    {
     "name": "stderr",
     "output_type": "stream",
     "text": [
      "Processing PDFs:  43%|████▎     | 357/838 [09:49<11:35,  1.45s/it]"
     ]
    },
    {
     "name": "stdout",
     "output_type": "stream",
     "text": [
      "Extracted Information for Ceramics_and_Terracotta_Toy_Maker_-_Artisan.pdf:\n",
      "Job Title: HCS/Q0402: Ceramics and Terracotta Toy Maker - Artisan\n",
      "Job Description: This OS unit is about mixing various raw materials, mold making shaping, baking and coloring toys to make a ﬁnal ceramic toy product.\n",
      "Performance Criteria: \n",
      "================================================================================\n"
     ]
    },
    {
     "name": "stderr",
     "output_type": "stream",
     "text": [
      "Processing PDFs:  43%|████▎     | 358/838 [09:50<11:39,  1.46s/it]"
     ]
    },
    {
     "name": "stdout",
     "output_type": "stream",
     "text": [
      "Extracted Information for Assistant_Ceramics_and_Terracotta_Toy_Maker.pdf:\n",
      "Job Title: HCS/Q0403: Assistant Ceramics and Terracotta Toy Maker\n",
      "Job Description: This OS unit is about assisting senior in mixing various raw materials, mold making shaping, baking and coloring toys to make a ﬁnal ceramic toy product.\n",
      "Performance Criteria: \n",
      "================================================================================\n"
     ]
    },
    {
     "name": "stderr",
     "output_type": "stream",
     "text": [
      "Processing PDFs:  43%|████▎     | 359/838 [09:52<11:17,  1.41s/it]"
     ]
    },
    {
     "name": "stdout",
     "output_type": "stream",
     "text": [
      "Extracted Information for Material_Preparation_Worker_(Ceramics).pdf:\n",
      "Job Title: HCS/Q0702: Material Preparation Worker (Ceramics)\n",
      "Job Description: The individual at work is responsible for ﬁltering out the unwanted particles from the grounded raw material using the iron sieve for further processing.\n",
      "Performance Criteria: \n",
      "================================================================================\n"
     ]
    },
    {
     "name": "stderr",
     "output_type": "stream",
     "text": [
      "Processing PDFs:  43%|████▎     | 360/838 [09:53<11:30,  1.45s/it]"
     ]
    },
    {
     "name": "stdout",
     "output_type": "stream",
     "text": [
      "Extracted Information for Ceramics_Preparation_Artisan.pdf:\n",
      "Job Title: HCS/Q0801: Ceramics Preparation Artisan\n",
      "Job Description: Ceramics Preparation Artisan prepares ceramics in various steps and various methods to make ﬁnal prepared ceramic for further processes.\n",
      "Performance Criteria: \n",
      "================================================================================\n"
     ]
    },
    {
     "name": "stderr",
     "output_type": "stream",
     "text": [
      "Processing PDFs:  43%|████▎     | 361/838 [09:55<11:07,  1.40s/it]"
     ]
    },
    {
     "name": "stdout",
     "output_type": "stream",
     "text": [
      "Extracted Information for Sketching_and_painting_artisan_(Ceramics).pdf:\n",
      "Job Title: HCS/Q0802: Sketching and painting artisan (Ceramics)\n",
      "Job Description: The sketching and painting operator, based on the model/design provided to him sketches the outline and colours the same to have colourful and attractive designs on the ceramic products\n",
      "Performance Criteria: \n",
      "================================================================================\n"
     ]
    },
    {
     "name": "stderr",
     "output_type": "stream",
     "text": [
      "Processing PDFs:  43%|████▎     | 362/838 [09:56<12:00,  1.51s/it]"
     ]
    },
    {
     "name": "stdout",
     "output_type": "stream",
     "text": [
      "Extracted Information for Leather_Toy_Maker_-_Artisan.pdf:\n",
      "Job Title: HCS/Q0804: Leather Toy Maker - Artisan\n",
      "Job Description: The Leather Toy Maker-Artisan selects galvanized wires or iron and mild steel and makes grass and wood strands while using threads along with diﬀerent synthetic water colors to make the ﬁnal toy.\n",
      "Performance Criteria: \n",
      "================================================================================\n"
     ]
    },
    {
     "name": "stderr",
     "output_type": "stream",
     "text": [
      "Processing PDFs:  43%|████▎     | 363/838 [09:58<11:50,  1.50s/it]"
     ]
    },
    {
     "name": "stdout",
     "output_type": "stream",
     "text": [
      "Extracted Information for Traditional_Painting_Maker_-_Artisan.pdf:\n",
      "Error: No valid job information extracted from the text.\n",
      "================================================================================\n"
     ]
    },
    {
     "name": "stderr",
     "output_type": "stream",
     "text": [
      "Processing PDFs:  43%|████▎     | 364/838 [09:59<11:35,  1.47s/it]"
     ]
    },
    {
     "name": "stdout",
     "output_type": "stream",
     "text": [
      "Extracted Information for Assistant_Leather_Toy_Maker_-_Artisan.pdf:\n",
      "Job Title: HCS/Q0806: Assistant Leather Toy Maker - Artisan\n",
      "Job Description: The Assistant Leather Toy Maker-Artisan assists senior in various tasks like selecting galvanized wires, etc. to make ﬁnal leather toy.\n",
      "Performance Criteria: \n",
      "================================================================================\n"
     ]
    },
    {
     "name": "stderr",
     "output_type": "stream",
     "text": [
      "Processing PDFs:  44%|████▎     | 365/838 [10:00<11:01,  1.40s/it]"
     ]
    },
    {
     "name": "stdout",
     "output_type": "stream",
     "text": [
      "Extracted Information for Quality_Check_Technician_(Ceramics).pdf:\n",
      "Job Title: HCS/Q1001: Quality Check Technician (Ceramics)\n",
      "Job Description: The individual at the job receives and checks the product against the predeﬁned quality parameters Random samples received from various product lines are checked for conformity to the predeﬁned quality parameters.\n",
      "Performance Criteria: \n",
      "================================================================================\n"
     ]
    },
    {
     "name": "stderr",
     "output_type": "stream",
     "text": [
      "Processing PDFs:  44%|████▎     | 366/838 [10:02<10:46,  1.37s/it]"
     ]
    },
    {
     "name": "stdout",
     "output_type": "stream",
     "text": [
      "Extracted Information for Lab_assistant_(Ceramics).pdf:\n",
      "Job Title: HCS/Q1002: Lab assistant (Ceramics)\n",
      "Job Description: The lab assistant receives and understands the incoming materials tests, defects and acceptance parameters after which he/she performs the associated tests on the materials to determine the acceptance and issue/share test tesults for records\n",
      "Performance Criteria: \n",
      "================================================================================\n"
     ]
    },
    {
     "name": "stderr",
     "output_type": "stream",
     "text": [
      "Processing PDFs:  44%|████▍     | 368/838 [10:04<10:08,  1.29s/it]"
     ]
    },
    {
     "name": "stdout",
     "output_type": "stream",
     "text": [
      "Extracted Information for Product_Maker_(Fashion_Jewellery).pdf:\n",
      "Job Title: HCS/Q1102: Product Maker (Fashion Jewellery)\n",
      "Job Description: The individual at work is responsible to assemble variety of materials to the jewel for ﬁnal ﬁnish. The person has to ensure the ﬁnal ﬁnished jewel is defect free, meets speciﬁed requirement and customer satisfaction level.\n",
      "Performance Criteria: \n",
      "================================================================================\n"
     ]
    },
    {
     "name": "stderr",
     "output_type": "stream",
     "text": [
      "Processing PDFs:  44%|████▍     | 369/838 [10:05<10:01,  1.28s/it]"
     ]
    },
    {
     "name": "stdout",
     "output_type": "stream",
     "text": [
      "Extracted Information for Quality_Checker_(Fashion_Jewellery).pdf:\n",
      "Job Title: HCS/Q1201: Quality Checker (Fashion Jewellery)\n",
      "Job Description: The individual at work is responsible to check the ﬁnished jewel to be dispatched is defect free, meets special volumes and packing requirements. The person is responsible to ensure the jewel meets the customer satisfaction level and speciﬁed requirements.\n",
      "Performance Criteria: \n",
      "================================================================================\n"
     ]
    },
    {
     "name": "stderr",
     "output_type": "stream",
     "text": [
      "Processing PDFs:  44%|████▍     | 370/838 [10:07<10:40,  1.37s/it]"
     ]
    },
    {
     "name": "stdout",
     "output_type": "stream",
     "text": [
      "Extracted Information for Stone_Preparation_Artisan.pdf:\n",
      "Job Title: HCS/Q1401: Stone Preparation Artisan\n",
      "Job Description: The individual at work is responsible for preparing stone by cutting, drilling, grinding, and chiseling stone to make the stone of appropriate size and shape as per the requirement.\n",
      "Performance Criteria: \n",
      "================================================================================\n"
     ]
    },
    {
     "name": "stderr",
     "output_type": "stream",
     "text": [
      "Processing PDFs:  44%|████▍     | 371/838 [10:08<11:10,  1.44s/it]"
     ]
    },
    {
     "name": "stdout",
     "output_type": "stream",
     "text": [
      "Extracted Information for Design_Marker_-_Stonecraft.pdf:\n",
      "Job Title: HCS/Q1501: Design Marker - Stonecraft\n",
      "Job Description: The individual at work is responsible for allocating work to subordinates workers training them instructing about the job to be performed every day checking quality of their output and then drawing the product design on the stone for further processing.\n",
      "Performance Criteria: \n",
      "================================================================================\n"
     ]
    },
    {
     "name": "stderr",
     "output_type": "stream",
     "text": [
      "Processing PDFs:  44%|████▍     | 372/838 [10:10<11:16,  1.45s/it]"
     ]
    },
    {
     "name": "stdout",
     "output_type": "stream",
     "text": [
      "Extracted Information for Carving_Artisan_(Stonecraft).pdf:\n",
      "Job Title: HCS/Q1502: Carving Artisan (Stonecraft)\n",
      "Job Description: The individual at work envisions the stoneware product, sketches it on the stone, cut, shape, size the stone to create the desired stoneware product and ﬁnish it with paint or polish before selling it to customer.\n",
      "Performance Criteria: \n",
      "================================================================================\n"
     ]
    },
    {
     "name": "stderr",
     "output_type": "stream",
     "text": [
      "Processing PDFs:  45%|████▍     | 373/838 [10:11<11:25,  1.47s/it]"
     ]
    },
    {
     "name": "stdout",
     "output_type": "stream",
     "text": [
      "Extracted Information for Inlay_Artisan_-_Stonecraft.pdf:\n",
      "Job Title: HCS/Q1504: Inlay Artisan - Stonecraft\n",
      "Job Description: The individual at work is responsible for cutting many diﬀerent coloured semiprecious and precious gem stones into various sizes as per the predecided pattern, engrave the base marble as per the sizes of these gem stones followed by laying the gem stones into the groves of that base marble with adhesive very precisely.\n",
      "Performance Criteria: \n",
      "================================================================================\n"
     ]
    },
    {
     "name": "stderr",
     "output_type": "stream",
     "text": [
      "Processing PDFs:  45%|████▍     | 374/838 [10:13<11:18,  1.46s/it]"
     ]
    },
    {
     "name": "stdout",
     "output_type": "stream",
     "text": [
      "Extracted Information for Quality_checker_-_Stonecraft.pdf:\n",
      "Job Title: HCS/Q1601: Quality checker - Stonecraft\n",
      "Job Description: The individual at work is responsible for examining the stoneware visually for cut, shape, design, colour, polish and stability along with its weight to separate the defective pieces from the good ones. End product should be checked keeping in mind the end product usage and buyer / market quality standards.\n",
      "Performance Criteria: \n",
      "================================================================================\n"
     ]
    },
    {
     "name": "stderr",
     "output_type": "stream",
     "text": [
      "Processing PDFs:  45%|████▍     | 375/838 [10:14<11:12,  1.45s/it]"
     ]
    },
    {
     "name": "stdout",
     "output_type": "stream",
     "text": [
      "Extracted Information for Glass_Blowing_Operator_(Glassware).pdf:\n",
      "Job Title: HCS/Q2205: Glass Blowing Operator (Glassware)\n",
      "Job Description: The individual at work is responsible for blowing the glass gob through a hollow pipe to give shape to the product. The individual understands the shapes produced through blowing, blow moulding and quality of gob required to produce diﬀerent kinds of products. The individual is also responsible for cooling of the ball of gob and ensures that the oriﬁce of the ball is not closed\n",
      "Performance Criteria: \n",
      "================================================================================\n"
     ]
    },
    {
     "name": "stderr",
     "output_type": "stream",
     "text": [
      "Processing PDFs:  45%|████▍     | 376/838 [10:16<11:36,  1.51s/it]"
     ]
    },
    {
     "name": "stdout",
     "output_type": "stream",
     "text": [
      "Extracted Information for Glass_Toy_Maker_-_Artisan.pdf:\n",
      "Job Title: HCS/Q2206: Glass Toy Maker - Artisan\n",
      "Job Description: The Glass Toy Maker-Artisan selects the toys made out of fabrication work from either colored or transparent glass tubes or rods respectively highest degree of ﬂexibility for shaping into a wide variety of products varying in design, forms, color and appearance.\n",
      "Performance Criteria: \n",
      "================================================================================\n"
     ]
    },
    {
     "name": "stderr",
     "output_type": "stream",
     "text": [
      "Processing PDFs:  45%|████▍     | 377/838 [10:18<12:00,  1.56s/it]"
     ]
    },
    {
     "name": "stdout",
     "output_type": "stream",
     "text": [
      "Extracted Information for Assistant_Glass_Toy_Maker_-_Artisan.pdf:\n",
      "Job Title: HCS/Q2207: Assistant Glass Toy Maker - Artisan\n",
      "Job Description: The Assistant Glass Toy Maker-Artisan assists senior in performing various tasks like collecting and preparing raw materials, and preparing ﬁnal glass toy product.\n",
      "Performance Criteria: \n",
      "================================================================================\n"
     ]
    },
    {
     "name": "stderr",
     "output_type": "stream",
     "text": [
      "Processing PDFs:  45%|████▌     | 378/838 [10:19<11:44,  1.53s/it]"
     ]
    },
    {
     "name": "stdout",
     "output_type": "stream",
     "text": [
      "Extracted Information for Abrasion_&_Grinding_Machine_Operator.pdf:\n",
      "Job Title: HCS/Q2304: Abrasion & Grinding Machine Operator\n",
      "Job Description: The individual at work is responsible for making the surface of the raw product smooth for further processing. The individual understands the diﬀerent kindsof abrasion machines used in glass manufacturing and how to operate the abrasion machine.The individual understands the diﬀerent kinds of grinders used in glass manufacturing and how to operate the grinding machine.\n",
      "Performance Criteria: \n",
      "================================================================================\n"
     ]
    },
    {
     "name": "stderr",
     "output_type": "stream",
     "text": [
      "Processing PDFs:  45%|████▌     | 379/838 [10:20<11:09,  1.46s/it]"
     ]
    },
    {
     "name": "stdout",
     "output_type": "stream",
     "text": [
      "Extracted Information for Silver_Coating-Junior_Technician_(Glassware).pdf:\n",
      "Job Title: HCS/Q2401: Silver Coating-Junior Technician (Glassware)\n",
      "Job Description: The individual at work is responsible for mixing of raw materials for the glass production as per the prescribed formulations. The individual understands the diﬀerent kinds of mixers used in glass manufacturing and how to operate the mixing machine. He mixes various chemicals including tin ﬂuoride, acids, and glucose in appropriate amount as per prescribed procedure for coating of glass.\n",
      "Performance Criteria: \n",
      "================================================================================\n"
     ]
    },
    {
     "name": "stderr",
     "output_type": "stream",
     "text": [
      "Processing PDFs:  45%|████▌     | 380/838 [10:22<10:58,  1.44s/it]"
     ]
    },
    {
     "name": "stdout",
     "output_type": "stream",
     "text": [
      "Extracted Information for Decorative_Glass_Cutter_(Glassware).pdf:\n",
      "Job Title: HCS/Q2501: Decorative Glass Cutter (Glassware)\n",
      "Job Description: The decorative cutter-glassware makes required decorative shapes on glass articles with the help of cutting machine. To perform the work competently the person is required to work with precision in delivering outcomes with the help of appropriate cutting techniques. The individual works under supervision and follows instructions related to the work. The individual understands the diﬀerent kinds of etching machines used in glass manufacturing and how to operate the etching matchines.\n",
      "Performance Criteria: \n",
      "================================================================================\n"
     ]
    },
    {
     "name": "stderr",
     "output_type": "stream",
     "text": [
      "Processing PDFs:  45%|████▌     | 381/838 [10:23<10:45,  1.41s/it]"
     ]
    },
    {
     "name": "stdout",
     "output_type": "stream",
     "text": [
      "Extracted Information for Decorative_Painter_-_Glassware.pdf:\n",
      "Job Title: HCS/Q2502: Decorative Painter - Glassware\n",
      "Job Description: The decorative painter-glassware prepares the glass article, paint and apply the color on the surface of the glassware. He/She decorates the glassware. To perform the work competently the person is required to work with precision in delivering outcomes with the help of appropriate painting techniques. The individual works under the supervision and follows instructions related to the work.\n",
      "Performance Criteria: \n",
      "================================================================================\n"
     ]
    },
    {
     "name": "stderr",
     "output_type": "stream",
     "text": [
      "Processing PDFs:  46%|████▌     | 382/838 [10:25<10:35,  1.39s/it]"
     ]
    },
    {
     "name": "stdout",
     "output_type": "stream",
     "text": [
      "Extracted Information for Casting_Operator_(Metal_Handicrafts).pdf:\n",
      "Job Title: HCS/Q2801: Casting Operator (Metal Handicrafts)\n",
      "Job Description: The individual at work is responsible for preparing the mold, melting metal, pouring the liquid metal into a mold, solidify and cool to attain the desired shape as per the requirement. The person often uses this method for complex shapes choosing from the diﬀerent methods of casting.\n",
      "Performance Criteria: \n",
      "================================================================================\n"
     ]
    },
    {
     "name": "stderr",
     "output_type": "stream",
     "text": [
      "Processing PDFs:  46%|████▌     | 383/838 [10:26<10:28,  1.38s/it]"
     ]
    },
    {
     "name": "stdout",
     "output_type": "stream",
     "text": [
      "Extracted Information for Engraving_and_Stamping_Artisan.pdf:\n",
      "Job Title: HCS/Q2802: Engraving and Stamping Artisan\n",
      "Job Description: The individual at work is responsible for performing engraving and stamping on metal using tools, equipment and raw material as per the product requirement, to create/design the metal product.\n",
      "Performance Criteria: \n",
      "================================================================================\n"
     ]
    },
    {
     "name": "stderr",
     "output_type": "stream",
     "text": [
      "Processing PDFs:  46%|████▌     | 384/838 [10:27<10:09,  1.34s/it]"
     ]
    },
    {
     "name": "stdout",
     "output_type": "stream",
     "text": [
      "Extracted Information for Embossing_Artisan_(Metalware).pdf:\n",
      "Job Title: HCS/Q2901: Embossing Artisan (Metalware)\n",
      "Job Description: The individual at work is responsible to create designs on the metal surface by raising one side of the metal using embossing tools, creating a raised design on the surface.\n",
      "Performance Criteria: \n",
      "================================================================================\n"
     ]
    },
    {
     "name": "stderr",
     "output_type": "stream",
     "text": [
      "Processing PDFs:  46%|████▌     | 385/838 [10:29<10:14,  1.36s/it]"
     ]
    },
    {
     "name": "stdout",
     "output_type": "stream",
     "text": [
      "Extracted Information for Inlay_Artisan_(Metalware).pdf:\n",
      "Job Title: HCS/Q2903: Inlay Artisan (Metalware)\n",
      "Job Description: The individual at work is responsible to inlay the silver / gold wire into the metal grooves by hammering and chiselling. He / she is also responsible for creating a design through the inlay process.\n",
      "Performance Criteria: \n",
      "================================================================================\n"
     ]
    },
    {
     "name": "stderr",
     "output_type": "stream",
     "text": [
      "Processing PDFs:  46%|████▌     | 386/838 [10:30<10:24,  1.38s/it]"
     ]
    },
    {
     "name": "stdout",
     "output_type": "stream",
     "text": [
      "Extracted Information for Etching_Artisan_-_Metalware.pdf:\n",
      "Job Title: HCS/Q2909: Etching Artisan - Metalware\n",
      "Job Description: An etching artisan uses appropriate tools and techniques to manually etch traditional designs on brass ware/metal ware from a given range of existing traditional designs or based on clients speciﬁcations. To meet given production target the individual must comply with service level agreement.\n",
      "Performance Criteria: \n",
      "================================================================================\n"
     ]
    },
    {
     "name": "stderr",
     "output_type": "stream",
     "text": [
      "Processing PDFs:  46%|████▌     | 387/838 [10:31<10:38,  1.41s/it]"
     ]
    },
    {
     "name": "stdout",
     "output_type": "stream",
     "text": [
      "Extracted Information for Cutting_and_Threading_Operator_(Metalware).pdf:\n",
      "Job Title: HCS/Q2911: Cutting and Threading Operator (Metalware)\n",
      "Job Description: The job holder typically works in a team and carries out job duties based on job instructions received. The key job responsibility is to accurately measure and cut metal sheets into desired shape and dimensions within agreed timelines. The worker works under supervision. The individual at work is responsible to drill and create screw threads in the metal craft as per speciﬁcation.\n",
      "Performance Criteria: \n",
      "================================================================================\n"
     ]
    },
    {
     "name": "stderr",
     "output_type": "stream",
     "text": [
      "Processing PDFs:  46%|████▋     | 388/838 [10:33<10:31,  1.40s/it]"
     ]
    },
    {
     "name": "stdout",
     "output_type": "stream",
     "text": [
      "Extracted Information for Planishing_Artisan_(Metalware).pdf:\n",
      "Job Title: HCS/Q2912: Planishing Artisan (Metalware)\n",
      "Job Description: The individual at work is responsible to hammer holes and designs on the surface of the metal as per the design and requirement .The individual at work is responsible to remove excess metal from the product. The person reshapes, resizes and smoothens the metal product as per the design and requirement.\n",
      "Performance Criteria: \n",
      "================================================================================\n"
     ]
    },
    {
     "name": "stderr",
     "output_type": "stream",
     "text": [
      "Processing PDFs:  46%|████▋     | 389/838 [10:34<10:35,  1.41s/it]"
     ]
    },
    {
     "name": "stdout",
     "output_type": "stream",
     "text": [
      "Extracted Information for Acid_Cleaner_(Metalware).pdf:\n",
      "Job Title: HCS/Q3001: Acid Cleaner (Metalware)\n",
      "Job Description: The individual at work is responsible for cleaning the metal by dipping it in speciﬁed acid, rinsing the metal with water and ensure good quality cleaning as per the speciﬁcations.\n",
      "Performance Criteria: \n",
      "================================================================================\n"
     ]
    },
    {
     "name": "stderr",
     "output_type": "stream",
     "text": [
      "Processing PDFs:  47%|████▋     | 390/838 [10:36<10:10,  1.36s/it]"
     ]
    },
    {
     "name": "stdout",
     "output_type": "stream",
     "text": [
      "Extracted Information for Polisher_(Metalware).pdf:\n",
      "Job Title: HCS/Q3002: Polisher (Metalware)\n",
      "Job Description: The individual at work is responsible to polish and provide ﬁnishing to the metal surface as per requirements with appropriate abrasives. The polisher is also responsible to clean the workplace subsequently.\n",
      "Performance Criteria: \n",
      "================================================================================\n"
     ]
    },
    {
     "name": "stderr",
     "output_type": "stream",
     "text": [
      "Processing PDFs:  47%|████▋     | 391/838 [10:37<10:07,  1.36s/it]"
     ]
    },
    {
     "name": "stdout",
     "output_type": "stream",
     "text": [
      "Extracted Information for Painter_(Metal_Handicrafts).pdf:\n",
      "Job Title: HCS/Q3101: Painter (Metal Handicrafts)\n",
      "Job Description: The individual at work is responsible to prepare the paint, apply the color paint and then lacquer on the surface of the metal. He/She decorates and protects the metal surface with a ﬁxed color stamping on it. This hardens the metal and extends its working life by preventing rusting and wear out of the metal.\n",
      "Performance Criteria: \n",
      "================================================================================\n"
     ]
    },
    {
     "name": "stderr",
     "output_type": "stream",
     "text": [
      "Processing PDFs:  47%|████▋     | 392/838 [10:38<10:19,  1.39s/it]"
     ]
    },
    {
     "name": "stdout",
     "output_type": "stream",
     "text": [
      "Extracted Information for Paper_Mache_Products_Artisan.pdf:\n",
      "Job Title: HCS/Q4401: Paper Mache Products Artisan\n",
      "Job Description: The Sakhta maker is responsible for making sakhta out of paper pulp passing through various stages of preparation beginning from paper cutting, paper soaking etc.\n",
      "Performance Criteria: \n",
      "================================================================================\n"
     ]
    },
    {
     "name": "stderr",
     "output_type": "stream",
     "text": [
      "Processing PDFs:  47%|████▋     | 393/838 [10:40<09:56,  1.34s/it]"
     ]
    },
    {
     "name": "stdout",
     "output_type": "stream",
     "text": [
      "Extracted Information for Fitter_and_Rubbing_Operator_(Paper_Mache).pdf:\n",
      "Job Title: HCS/Q4404: Fitter and Rubbing Operator (Paper Mache)\n",
      "Job Description: The Fitter and rubbing oeprator is responsible for creating wooden frame through various stages of wood cutting, polishing, joining and assembling which is subsequently embellished with artistic handiworks of paper mache. The ﬁtter is thus expected to be skilled carpenter well aware of conﬁguration and size of the frame so as to be suitable for subsequent work of paper mache over them. He is responsible for making suitable solutions out of various ingredients in deﬁned proportion and applying the same to sakhta prepared by sakhta saaz and subsequent process of polishing to impart a smoother looks to the surface\n",
      "Performance Criteria: \n",
      "================================================================================\n"
     ]
    },
    {
     "name": "stderr",
     "output_type": "stream",
     "text": [
      "Processing PDFs:  47%|████▋     | 394/838 [10:41<09:51,  1.33s/it]"
     ]
    },
    {
     "name": "stdout",
     "output_type": "stream",
     "text": [
      "Extracted Information for Natural_Fibre_Maker.pdf:\n",
      "Job Title: HCS/Q4405: Natural Fibre Maker\n",
      "Job Description: A Natural Fibre Maker is responsible for making diﬀerent products such as grass coasters, mirror frames, bangles, toys, containers, bowls, bags, baskets, mats and other utility items, by using diﬀerent grasses like palm leaves, sheetal patti, reed, sikki grass, kasi grass, cona, jute kenaf, ﬂax, hemp, sisal and palmyra etc. The Grass Craft Maker shall be able to make diﬀerent products of diﬀerent speciﬁcations by using diﬀerent types of grasses. This job requires the individual to have understanding and knowledge of raw materials to be used for making speciﬁc products and techniques used for the same.\n",
      "Performance Criteria: \n",
      "================================================================================\n"
     ]
    },
    {
     "name": "stderr",
     "output_type": "stream",
     "text": [
      "Processing PDFs:  47%|████▋     | 395/838 [10:42<10:11,  1.38s/it]"
     ]
    },
    {
     "name": "stdout",
     "output_type": "stream",
     "text": [
      "Extracted Information for Craft_Specialist-_Paper_Mache.pdf:\n",
      "Job Title: HCS/Q4501: Craft Specialist- Paper Mache\n",
      "Job Description: The span of job for a paper mache craft specialist involves market study, perceiving trends underline, predict and forecast trends setting in for the product, identify theme and based on theme and forecast, develop designs for broad range of paper mache products in relation to the theme.\n",
      "Performance Criteria: \n",
      "================================================================================\n"
     ]
    },
    {
     "name": "stderr",
     "output_type": "stream",
     "text": [
      "Processing PDFs:  47%|████▋     | 396/838 [10:44<10:11,  1.38s/it]"
     ]
    },
    {
     "name": "stdout",
     "output_type": "stream",
     "text": [
      "Extracted Information for Lacquerer_(Paper_Mache).pdf:\n",
      "Job Title: HCS/Q4505: Lacquerer (Paper Mache)\n",
      "Job Description: The Lacquerer (Paper Mache) is responsible for improvising the surface of painted paper mache objects with application of lacquer to add shine and enhance look. He should be capable of preparation suitable concentration of lacquer out of lacquer available in the market.\n",
      "Performance Criteria: \n",
      "================================================================================\n"
     ]
    },
    {
     "name": "stderr",
     "output_type": "stream",
     "text": [
      "Processing PDFs:  47%|████▋     | 397/838 [10:45<10:01,  1.37s/it]"
     ]
    },
    {
     "name": "stdout",
     "output_type": "stream",
     "text": [
      "Extracted Information for Paper_Mache_Art_Designer.pdf:\n",
      "Job Title: HCS/Q4506: Paper Mache Art Designer\n",
      "Job Description: The Paper Mache Art designer is a job role belonging to designing section. The responsibility of designer is to create or produce design on suitable paper as per motif and then transforming design onto wooden base by cutting, joining and ﬁnishing.\n",
      "Performance Criteria: \n",
      "================================================================================\n"
     ]
    },
    {
     "name": "stderr",
     "output_type": "stream",
     "text": [
      "Processing PDFs:  47%|████▋     | 398/838 [10:46<09:41,  1.32s/it]"
     ]
    },
    {
     "name": "stdout",
     "output_type": "stream",
     "text": [
      "Extracted Information for Paint_Line_Operator_(Paper_Mache).pdf:\n",
      "Job Title: HCS/Q4507: Paint Line Operator (Paper Mache)\n",
      "Job Description: The Paint Line Operator is responsible for painting papermache objects with diﬀerent shades of colour as per requirement. He should be capable of making appropriate colour combinations with the shades available in the market. The Brushing is responsible for applying paints as per design requirement of ﬁnal pieces required by buyer\n",
      "Performance Criteria: \n",
      "================================================================================\n"
     ]
    },
    {
     "name": "stderr",
     "output_type": "stream",
     "text": [
      "Processing PDFs:  48%|████▊     | 399/838 [10:48<09:37,  1.31s/it]"
     ]
    },
    {
     "name": "stdout",
     "output_type": "stream",
     "text": [
      "Extracted Information for Sakhta_Saaz_(Paper_Pulp).pdf:\n",
      "Job Title: HCS/Q4508: Sakhta Saaz (Paper Pulp)\n",
      "Job Description: The sakhta maker is responsible for making sakhta out of paper pulp passing through various stages of preparation beginning from paper cutting, paper soaking, to putting the pulp on suitable material shape former etc.\n",
      "Performance Criteria: \n",
      "================================================================================\n"
     ]
    },
    {
     "name": "stderr",
     "output_type": "stream",
     "text": [
      "Processing PDFs:  48%|████▊     | 400/838 [10:49<09:31,  1.31s/it]"
     ]
    },
    {
     "name": "stdout",
     "output_type": "stream",
     "text": [
      "Extracted Information for Paper_Mache_Art_Promoter_(Paper_Mache).pdf:\n",
      "Job Title: HCS/Q4601: Paper Mache Art Promoter (Paper Mache)\n",
      "Job Description: Paper mache Art Promoter plays major role right from the process beginning with strategic planning for order booking to ﬁnal shipment. The span of tasks for Paper mache Art Promoter involves getting the right merchandise, in the right place, at the right time, in the right quantities at the right price.\n",
      "Performance Criteria: \n",
      "================================================================================\n"
     ]
    },
    {
     "name": "stderr",
     "output_type": "stream",
     "text": [
      "Processing PDFs:  48%|████▊     | 401/838 [10:50<09:27,  1.30s/it]"
     ]
    },
    {
     "name": "stdout",
     "output_type": "stream",
     "text": [
      "Extracted Information for Dyer_(Rangsaaz)_(Carpets).pdf:\n",
      "Job Title: HCS/Q5101: Dyer (Rangsaaz) (Carpets)\n",
      "Job Description: The Dyer is a job role responsible for dyeing of yarn of various chemical origins like cotton, viscose, wool, silk to synthetic materials either with traditional methods with little automation to specially developed hank dyeing machines. The dyed materials are expected to match with standard shades for hue, tone as well as conform to requirements for desired level of fastness.\n",
      "Performance Criteria: \n",
      "================================================================================\n"
     ]
    },
    {
     "name": "stderr",
     "output_type": "stream",
     "text": [
      "Processing PDFs:  48%|████▊     | 402/838 [10:51<09:28,  1.30s/it]"
     ]
    },
    {
     "name": "stdout",
     "output_type": "stream",
     "text": [
      "Extracted Information for CAD_Designer_for_Carpets.pdf:\n",
      "Job Title: HCS/Q5202: CAD Designer for Carpets\n",
      "Job Description: The designer is a job role in designing department. The responsibility of designer is to create or produce design with the aid of Auto CAD as per repeat and carpet size and quality.\n",
      "Performance Criteria: \n",
      "================================================================================\n"
     ]
    },
    {
     "name": "stderr",
     "output_type": "stream",
     "text": [
      "Processing PDFs:  48%|████▊     | 404/838 [10:54<09:01,  1.25s/it]"
     ]
    },
    {
     "name": "stdout",
     "output_type": "stream",
     "text": [
      "Extracted Information for Assistant_Designer_&_Shade_Writer_(Carpets).pdf:\n",
      "Job Title: HCS/Q5205: Assistant Designer & Shade Writer (Carpets)\n",
      "Job Description: The designer shade writer is a job role in weaving department. The responsibility of shade writer is to write comprehensive information on to the design map which is indispensable for interpreting design and communicating with the weaver. It includes information regarding colour, count, material and other relevant information about threads to be used for knotting and tufting of carpet body as well as border. It also communicates about tuft density and knots/inch2 etc. The designer & sketcher is a job role in designing department. The responsibility of designer is to create or reproduce design on suitable graph papers as per repeat and carpet size and quality.\n",
      "Performance Criteria: \n",
      "================================================================================\n"
     ]
    },
    {
     "name": "stderr",
     "output_type": "stream",
     "text": [
      "Processing PDFs:  48%|████▊     | 405/838 [10:55<09:43,  1.35s/it]"
     ]
    },
    {
     "name": "stdout",
     "output_type": "stream",
     "text": [
      "Extracted Information for Namda_Craft_Maker.pdf:\n",
      "Job Title: HCS/Q5206: Namda Craft Maker\n",
      "Job Description: In making a patterned Namda, the craftsmen need to felt in the design into the Namda ﬁbre itself. This involves a dual process of felting. First, a pattern is laid on the grass or jute mat which is then surfaced with wool spread evenly with the help of a broom locally called manzyen. Then the same process of sprinkling soap water and rolling of the mat is again carried out. On untying, it reveals a beautiful Namda drawn over with colorful patterns.\n",
      "Performance Criteria: \n",
      "================================================================================\n"
     ]
    },
    {
     "name": "stderr",
     "output_type": "stream",
     "text": [
      "Processing PDFs:  48%|████▊     | 406/838 [10:57<09:38,  1.34s/it]"
     ]
    },
    {
     "name": "stdout",
     "output_type": "stream",
     "text": [
      "Extracted Information for Washer_(Carpets).pdf:\n",
      "Job Title: HCS/Q5301: Washer (Carpets)\n",
      "Job Description: The washer is responsible for washing the carpet by applying chemicals and cleansing agents with scraper. He will ensure the excess dirt and color should be removed to make the carpet softer.\n",
      "Performance Criteria: \n",
      "================================================================================\n"
     ]
    },
    {
     "name": "stderr",
     "output_type": "stream",
     "text": [
      "Processing PDFs:  49%|████▊     | 407/838 [10:58<09:43,  1.35s/it]"
     ]
    },
    {
     "name": "stdout",
     "output_type": "stream",
     "text": [
      "Extracted Information for Latexing_Man_(Carpets).pdf:\n",
      "Job Title: HCS/Q5402: Latexing Man (Carpets)\n",
      "Job Description: The Latexing man spreads latex uniformly (emulsion of mixture based on synthetic, natural with various composition of inorganic compounds) so as to ﬁx the third backing ﬁrmly and smoothly on to the carpet adding strength, protection against damages and enhancing look.\n",
      "Performance Criteria: \n",
      "================================================================================\n"
     ]
    },
    {
     "name": "stderr",
     "output_type": "stream",
     "text": [
      "Processing PDFs:  49%|████▊     | 408/838 [10:59<09:39,  1.35s/it]"
     ]
    },
    {
     "name": "stdout",
     "output_type": "stream",
     "text": [
      "Extracted Information for Clipper_and_Embosser_(Carpets).pdf:\n",
      "Job Title: HCS/Q5404: Clipper and Embosser (Carpets)\n",
      "Job Description: The clipper and embosser is responsible for clipping and cutting the loops in order to create an engraved appearance of the design\n",
      "Performance Criteria: \n",
      "================================================================================\n"
     ]
    },
    {
     "name": "stderr",
     "output_type": "stream",
     "text": [
      "Processing PDFs:  49%|████▉     | 409/838 [11:01<09:58,  1.40s/it]"
     ]
    },
    {
     "name": "stdout",
     "output_type": "stream",
     "text": [
      "Extracted Information for Finisher_(Carpets).pdf:\n",
      "Job Title: HCS/Q5407: Finisher (Carpets)\n",
      "Job Description: The ﬁnisher removes dust particles, chemicals and unnecessary yarn particles which would have accumulated subsequent to tufting, drying, embossing and latexing.\n",
      "Performance Criteria: \n",
      "================================================================================\n"
     ]
    },
    {
     "name": "stderr",
     "output_type": "stream",
     "text": [
      "Processing PDFs:  49%|████▉     | 410/838 [11:02<10:03,  1.41s/it]"
     ]
    },
    {
     "name": "stdout",
     "output_type": "stream",
     "text": [
      "Extracted Information for Tufting_Gun_Operator_(Carpets).pdf:\n",
      "Job Title: HCS/Q5409: Tufting Gun Operator (Carpets)\n",
      "Job Description: The Tufting Gun Master commonly called as Mistree is a job role with expert in attending breakdown maintenance of the equipment as well as operates tufting gun as skilled operator. As a mistee, he repairs tufting guns identiﬁed with defects or malfunctioning. He corrects the faults and/or improvises functionality and ﬂexibility of the equipment. He uses grinding and other similar machines and devices and hand tools to execute the task.\n",
      "Performance Criteria: \n",
      "================================================================================\n"
     ]
    },
    {
     "name": "stderr",
     "output_type": "stream",
     "text": [
      "Processing PDFs:  49%|████▉     | 411/838 [11:04<10:16,  1.44s/it]"
     ]
    },
    {
     "name": "stdout",
     "output_type": "stream",
     "text": [
      "Extracted Information for Loom_Supervisor__Knotted_Carpet.pdf:\n",
      "Job Title: HCS/Q5410: Loom Supervisor Knotted Carpet\n",
      "Job Description: The loom supervisor is a job role in Weaving department. The responsibility of Loom supervisor is to ensure production of knotted carpets as per speciﬁed quality and productivity level as per prescribed timelines while maintaining cohesive team of weavers performing with commitment. He also ensures keeping in order the safety and security of workplace and working in compliance with organization policies and practices.\n",
      "Performance Criteria: \n",
      "================================================================================\n"
     ]
    },
    {
     "name": "stderr",
     "output_type": "stream",
     "text": [
      "Processing PDFs:  49%|████▉     | 412/838 [11:05<10:19,  1.45s/it]"
     ]
    },
    {
     "name": "stdout",
     "output_type": "stream",
     "text": [
      "Extracted Information for Tufted_Weaving_Assistant_Supervisor_(Carpets).pdf:\n",
      "Job Title: HCS/Q5411: Tufted Weaving Assistant Supervisor (Carpets)\n",
      "Job Description: The Tufted Weaving Supervisor is a job role in Weaving department. The responsibility of supervisor is to ensure production of tufted carpets as per speciﬁed quality and productivity level while maintaining cohesive team of Tufting gun operators performing with commitment. He also ensures keeping in order the safety and security of workplace and working in compliance with organization policies and practices.\n",
      "Performance Criteria: \n",
      "================================================================================\n"
     ]
    },
    {
     "name": "stderr",
     "output_type": "stream",
     "text": [
      "Processing PDFs:  49%|████▉     | 413/838 [11:07<09:58,  1.41s/it]"
     ]
    },
    {
     "name": "stdout",
     "output_type": "stream",
     "text": [
      "Extracted Information for Carpet_Quality_Checker.pdf:\n",
      "Job Title: HCS/Q5601: Carpet Quality Checker\n",
      "Job Description: A Carpet Final Inspector performs physical checks, ensures complainces to buyers requirements, ensure that carpet is free from any technical defects and carries out ﬁnished products inspection\n",
      "Performance Criteria: \n",
      "================================================================================\n"
     ]
    },
    {
     "name": "stderr",
     "output_type": "stream",
     "text": [
      "Processing PDFs:  49%|████▉     | 414/838 [11:08<09:51,  1.39s/it]"
     ]
    },
    {
     "name": "stdout",
     "output_type": "stream",
     "text": [
      "Extracted Information for Carpet_Weaver.pdf:\n",
      "Job Title: HCS/Q5701: Carpet Weaver\n",
      "Job Description: A carpet weaver weaves carpet and other materials by using diﬀerent methods/procedures like tufted weaving using a tufting gun, knotted weaving may use the loom, and weaving with handloom to provide the required weaved product.\n",
      "Performance Criteria: \n",
      "================================================================================\n"
     ]
    },
    {
     "name": "stderr",
     "output_type": "stream",
     "text": [
      "Processing PDFs:  50%|████▉     | 415/838 [11:09<09:40,  1.37s/it]"
     ]
    },
    {
     "name": "stdout",
     "output_type": "stream",
     "text": [
      "Extracted Information for Designer_(Woodware_Products).pdf:\n",
      "Job Title: HCS/Q6601: Designer (Woodware Products)\n",
      "Job Description: The individual is responsible for the ﬁnalization of the design with respect to dimensions, colour, texture etc. A complete and ﬁrst hand knowledge of all the designer softwares and materials required in the production process is required to come up with a perfect product.\n",
      "Performance Criteria: \n",
      "================================================================================\n"
     ]
    },
    {
     "name": "stderr",
     "output_type": "stream",
     "text": [
      "Processing PDFs:  50%|████▉     | 416/838 [11:12<11:33,  1.64s/it]"
     ]
    },
    {
     "name": "stdout",
     "output_type": "stream",
     "text": [
      "Extracted Information for Leaf_Utility_Products_Artisan.pdf:\n",
      "Job Title: HCS/Q6603: Leaf Utility Products Artisan\n",
      "Job Description: A leaf artisan uses appropriate tools and techniques to manually prepare leaf craft products and form a given range of existing traditional designs on leaf craft products or based on clients speciﬁcations.\n",
      "Performance Criteria: \n",
      "================================================================================\n"
     ]
    },
    {
     "name": "stderr",
     "output_type": "stream",
     "text": [
      "Processing PDFs:  50%|████▉     | 417/838 [11:14<13:26,  1.92s/it]"
     ]
    },
    {
     "name": "stdout",
     "output_type": "stream",
     "text": [
      "Extracted Information for Wooden_Toy_Maker_-_Artisan.pdf:\n",
      "Job Title: HCS/Q6703: Wooden Toy Maker - Artisan\n",
      "Job Description: The wooden toy maker - artisan selects wood, carves log into a toy using various tools, and applies color to the toy to make the ﬁnal toy product.\n",
      "Performance Criteria: \n",
      "================================================================================\n"
     ]
    },
    {
     "name": "stderr",
     "output_type": "stream",
     "text": [
      "Processing PDFs:  50%|████▉     | 418/838 [11:16<12:23,  1.77s/it]"
     ]
    },
    {
     "name": "stdout",
     "output_type": "stream",
     "text": [
      "Extracted Information for Assistant_Wooden_Toy_Maker.pdf:\n",
      "Job Title: HCS/Q6704: Assistant Wooden Toy Maker\n",
      "Job Description: The assistant wooden toy maker assists senior to select wood, carving log into a toy using various tools, and helping in applying color to the toy to make the ﬁnal toy product.\n",
      "Performance Criteria: \n",
      "================================================================================\n"
     ]
    },
    {
     "name": "stderr",
     "output_type": "stream",
     "text": [
      "Processing PDFs:  50%|█████     | 419/838 [11:17<11:28,  1.64s/it]"
     ]
    },
    {
     "name": "stdout",
     "output_type": "stream",
     "text": [
      "Extracted Information for Seasoning_and_Chemical_Treatment_Assistant_(Woodware).pdf:\n",
      "Job Title: HCS/Q6801: Seasoning and Chemical Treatment Assistant (Woodware)\n",
      "Job Description: The individual is responsible for chemical treatment and seasoning of wood preparing it for further processing and works under supervision. The individual loads and unloads the chemical and heat treatment chambers, ensures correct maintenance of pressure and temperature, operates these chambers and is responsible for ensuring safe working. The person possesses knowledge of various wood species and relevant wood treatment.\n",
      "Performance Criteria: \n",
      "================================================================================\n"
     ]
    },
    {
     "name": "stderr",
     "output_type": "stream",
     "text": [
      "Processing PDFs:  50%|█████     | 420/838 [11:18<10:55,  1.57s/it]"
     ]
    },
    {
     "name": "stdout",
     "output_type": "stream",
     "text": [
      "Extracted Information for Assembly_Machine_Operator_(Woodware).pdf:\n",
      "Job Title: HCS/Q6902: Assembly Machine Operator (Woodware)\n",
      "Job Description: The individual is responsible for all the assembly operations by putting all discrete wood pieces together as per ﬁt to replicate the sample.\n",
      "Performance Criteria: \n",
      "================================================================================\n"
     ]
    },
    {
     "name": "stderr",
     "output_type": "stream",
     "text": [
      "Processing PDFs:  50%|█████     | 422/838 [11:21<09:33,  1.38s/it]"
     ]
    },
    {
     "name": "stdout",
     "output_type": "stream",
     "text": [
      "Extracted Information for Finisher_(Woodware).pdf:\n",
      "Job Title: HCS/Q7101: Finisher (Woodware)\n",
      "Job Description: The individual will carry out ﬁnishing techniques on various types of wood material using a range of hand tools. The job involves attaining the required ﬁnish on wooden pieces. The incumbent will need to carry out cost eﬀective application of material in an optimal way, to minimize wastage and achieve product speciﬁcations.\n",
      "Performance Criteria: \n",
      "================================================================================\n"
     ]
    },
    {
     "name": "stderr",
     "output_type": "stream",
     "text": [
      "Processing PDFs:  50%|█████     | 423/838 [11:22<09:35,  1.39s/it]"
     ]
    },
    {
     "name": "stdout",
     "output_type": "stream",
     "text": [
      "Extracted Information for Lacquerer_(Woodware).pdf:\n",
      "Job Title: HCS/Q7102: Lacquerer (Woodware)\n",
      "Job Description: The worker has to carry out lacquer mixing and ﬁnishing operations by preparing and applying lacquer to wood products. The incumbent has to work with chemicals, follow health and safety guidelines and work with precision.\n",
      "Performance Criteria: \n",
      "================================================================================\n"
     ]
    },
    {
     "name": "stderr",
     "output_type": "stream",
     "text": [
      "Processing PDFs:  51%|█████     | 424/838 [11:24<09:51,  1.43s/it]"
     ]
    },
    {
     "name": "stdout",
     "output_type": "stream",
     "text": [
      "Extracted Information for Hand_Block_Printer.pdf:\n",
      "Job Title: HCS/Q7201: Hand Block Printer\n",
      "Job Description: A Hand Block Printer prints on fabric and other materials by stamping carved blocks by hand. Hand Block Printer uses diﬀerent carved blocks to print in diﬀerent colours and layouts as per given speciﬁcations. The job requires the Hand Block Printer to have the skill to prepare the printing table and blocks along with the skill to place and apply the blocks with a stable hand.\n",
      "Performance Criteria: \n",
      "================================================================================\n"
     ]
    },
    {
     "name": "stderr",
     "output_type": "stream",
     "text": [
      "Processing PDFs:  51%|█████     | 425/838 [11:25<09:33,  1.39s/it]"
     ]
    },
    {
     "name": "stdout",
     "output_type": "stream",
     "text": [
      "Extracted Information for Block_Print_Supervisor.pdf:\n",
      "Job Title: HCS/Q7202: Block Print Supervisor\n",
      "Job Description: A Block Print Supervisor supervises the entire process of block printing, both for sampling as well as production, as per requirements. Block Print Supervisor should be able to supervise the matching of colour of the printing paste, preparation of fabric and blocks, block printing and post printing processes. The job requires the Block Print Supervisor to have the skill to carry out and supervise block printing processes along with an understanding of printing designs/ layouts to produce suitable outcomes.\n",
      "Performance Criteria: \n",
      "================================================================================\n"
     ]
    },
    {
     "name": "stderr",
     "output_type": "stream",
     "text": [
      "Processing PDFs:  51%|█████     | 426/838 [11:26<09:26,  1.38s/it]"
     ]
    },
    {
     "name": "stdout",
     "output_type": "stream",
     "text": [
      "Extracted Information for Traditional_Hand_Embroiderer.pdf:\n",
      "Job Title: HCS/Q7301: Traditional Hand Embroiderer\n",
      "Job Description: A Traditional Hand Embroiderer embroiders various types of designs on fabric by hand, using diﬀerent types of needle and thread. The Traditional Hand Embroiderer should have the skill to embroider stitches typical to the traditional repertoire on diﬀerent types of fabrics as per speciﬁcations/ design details provided.\n",
      "Performance Criteria: \n",
      "================================================================================\n"
     ]
    },
    {
     "name": "stderr",
     "output_type": "stream",
     "text": [
      "Processing PDFs:  51%|█████     | 427/838 [11:28<09:22,  1.37s/it]"
     ]
    },
    {
     "name": "stdout",
     "output_type": "stream",
     "text": [
      "Extracted Information for Traditional_Hand_Embroiderer-_Supervisor.pdf:\n",
      "Error: No valid job information extracted from the text.\n",
      "================================================================================\n"
     ]
    },
    {
     "name": "stderr",
     "output_type": "stream",
     "text": [
      "Processing PDFs:  51%|█████     | 428/838 [11:29<10:07,  1.48s/it]"
     ]
    },
    {
     "name": "stdout",
     "output_type": "stream",
     "text": [
      "Extracted Information for Applique_Artisan.pdf:\n",
      "Job Title: HCS/Q7303: Applique Artisan\n",
      "Job Description: An Applique Artisan creates diﬀerent patterns and designs by tracing, cutting and attaching/ applying fabrics cut in diﬀerent shapes on a base fabric by hand, using needle and thread. The Applique Artisans uses the varied stitching techniques to make forms & shapes using fabric on fabric technique. The Applique Artisans should have the skills use diﬀerent stitches and make the applique design as per requirement.\n",
      "Performance Criteria: \n",
      "================================================================================\n"
     ]
    },
    {
     "name": "stderr",
     "output_type": "stream",
     "text": [
      "Processing PDFs:  51%|█████     | 429/838 [11:31<09:51,  1.45s/it]"
     ]
    },
    {
     "name": "stdout",
     "output_type": "stream",
     "text": [
      "Extracted Information for Traditional_Soft_Toy_Maker-Artisan.pdf:\n",
      "Job Title: HCS/Q7308: Traditional Soft Toy Maker-Artisan\n",
      "Job Description: Traditional soft toy maker creates soft toy by using various fabrics, threads, decorative materials, etc. The artisan performs various tasks like cutting, stitching to make the end product.\n",
      "Performance Criteria: \n",
      "================================================================================\n"
     ]
    },
    {
     "name": "stderr",
     "output_type": "stream",
     "text": [
      "Processing PDFs:  51%|█████▏    | 430/838 [11:32<09:37,  1.41s/it]"
     ]
    },
    {
     "name": "stdout",
     "output_type": "stream",
     "text": [
      "Extracted Information for Jute_Yarn_Hank_Dyer.pdf:\n",
      "Job Title: HCS/Q7401: Jute Yarn Hank Dyer\n",
      "Job Description: A Jute Yarn Hank Dyer is responsible for dyeing of yarns of diﬀerent grades of jute ﬁbers in colours and lustres, either with traditional methods or with methods having a little automation specially developed for hank dyeing operations. He is also responsible to complete the dyeing cycle in strict sequence and harmony in accordance with materials, environmental conditions and machines/method of dyeing in consideration. The dyed materials are expected to match with standard shades for hue and tone and conform to requirements for desired level of fastness.\n",
      "Performance Criteria: \n",
      "================================================================================\n"
     ]
    },
    {
     "name": "stderr",
     "output_type": "stream",
     "text": [
      "Processing PDFs:  51%|█████▏    | 431/838 [11:34<09:39,  1.42s/it]"
     ]
    },
    {
     "name": "stdout",
     "output_type": "stream",
     "text": [
      "Extracted Information for Jute_Handloom_Weaver.pdf:\n",
      "Job Title: HCS/Q7402: Jute Handloom Weaver\n",
      "Job Description: A jute handloom weaver should be able to produce good quality of jute cloth eﬃciently with the knowledge of weavers knot, wastage reduction and basic care and maintenance of weaving machines.\n",
      "Performance Criteria: \n",
      "================================================================================\n"
     ]
    },
    {
     "name": "stderr",
     "output_type": "stream",
     "text": [
      "Processing PDFs:  52%|█████▏    | 432/838 [11:35<09:18,  1.37s/it]"
     ]
    },
    {
     "name": "stdout",
     "output_type": "stream",
     "text": [
      "Extracted Information for Jute_Products_Stitching_Operator.pdf:\n",
      "Job Title: HCS/Q7403: Jute Products Stitching Operator\n",
      "Job Description: A Jute product stitching operator has a job to produce a product of deﬁnite shape and size by sewing two open ends of cut fabric pieces as per sale advice note or standard bag product speciﬁcation. He/She should also know how to stitch diversiﬁed fancy jute products like bags, home furnishings, etc.\n",
      "Performance Criteria: \n",
      "================================================================================\n"
     ]
    },
    {
     "name": "stderr",
     "output_type": "stream",
     "text": [
      "Processing PDFs:  52%|█████▏    | 433/838 [11:36<09:04,  1.34s/it]"
     ]
    },
    {
     "name": "stdout",
     "output_type": "stream",
     "text": [
      "Extracted Information for Jute_Screen_Printer.pdf:\n",
      "Job Title: HCS/Q7404: Jute Screen Printer\n",
      "Job Description: A jute Screen Printer is responsible for preparation of Screen and Printing Paste and applying that Printing Paste through Screens of speciﬁc design. He is also responsible for printing Jute fabric as per speciﬁc design without damaging either fabric or screen. He/She should know how to print without any print defect or design distortion.\n",
      "Performance Criteria: \n",
      "================================================================================\n"
     ]
    },
    {
     "name": "stderr",
     "output_type": "stream",
     "text": [
      "Processing PDFs:  52%|█████▏    | 434/838 [11:37<09:02,  1.34s/it]"
     ]
    },
    {
     "name": "stdout",
     "output_type": "stream",
     "text": [
      "Extracted Information for Jute_Products_Artisan.pdf:\n",
      "Job Title: HCS/Q7405: Jute Products Artisan\n",
      "Job Description: Jute Products Artisan has a job to produce diversiﬁed jute product of deﬁnite shape and size as per sale advice note or as per market demand. For all such products to be popularised nationally and/or internationally, they need to be produced as per the customers given standards. The job holder should know how to produce quality jute crafted products as per the market demand and set standards.\n",
      "Performance Criteria: \n",
      "================================================================================\n"
     ]
    },
    {
     "name": "stderr",
     "output_type": "stream",
     "text": [
      "Processing PDFs:  52%|█████▏    | 435/838 [11:39<09:47,  1.46s/it]"
     ]
    },
    {
     "name": "stdout",
     "output_type": "stream",
     "text": [
      "Extracted Information for Hand_Crochet_Lace_Maker.pdf:\n",
      "Job Title: HCS/Q7703: Hand Crochet Lace Maker\n",
      "Job Description: A Hand Crochet Lace Maker is responsible for crocheting lace components. A Hand Crochet Lace Maker should be able to make diﬀerent kind of crochets using diﬀerent yarns as per the given speciﬁcations. This job requires the individual to have knowledge of crochet lace making raw materials used for making apparel, accessories and furnishing products and the techniques used for the same.\n",
      "Performance Criteria: \n",
      "================================================================================\n"
     ]
    },
    {
     "name": "stderr",
     "output_type": "stream",
     "text": [
      "Processing PDFs:  52%|█████▏    | 436/838 [11:41<10:04,  1.50s/it]"
     ]
    },
    {
     "name": "stdout",
     "output_type": "stream",
     "text": [
      "Extracted Information for Crochet_Lace_-_Supervisor.pdf:\n",
      "Job Title: HCS/Q7704: Crochet Lace - Supervisor\n",
      "Job Description: A Master Crochet Lace Maker is responsible for making samples of crochet lace products according to the requirements and speciﬁcations given by the client/ designer. A Master Crochet Lace Maker should be able to crochet the sample, detail out instructions for production and make the master pattern of the sample. She/ He must be able to crochet diﬀerent products with diﬀerent designs and yarns. This job requires the individual to have knowledge of crochet lace making, raw materials and the techniques used for making crochet lace products.\n",
      "Performance Criteria: \n",
      "================================================================================\n"
     ]
    },
    {
     "name": "stderr",
     "output_type": "stream",
     "text": [
      "Processing PDFs:  52%|█████▏    | 437/838 [11:42<10:13,  1.53s/it]"
     ]
    },
    {
     "name": "stdout",
     "output_type": "stream",
     "text": [
      "Extracted Information for Crochet_Lace_Tailor.pdf:\n",
      "Job Title: HCS/Q7705: Crochet Lace Tailor\n",
      "Job Description: A Crochet Lace Tailor is responsible for developing/ tailoring crochet lace products as per the given speciﬁcations/ instructions. A crochet lace tailor should be able to perform basic cutting and stitching operations for developing crochet products of diﬀerent designs as per quality standards. This job requires the individual to have knowledge of measurements, sewing and ﬁnishing for making quality crochet lace products.\n",
      "Performance Criteria: \n",
      "================================================================================\n"
     ]
    },
    {
     "name": "stderr",
     "output_type": "stream",
     "text": [
      "Processing PDFs:  52%|█████▏    | 439/838 [11:45<09:45,  1.47s/it]"
     ]
    },
    {
     "name": "stdout",
     "output_type": "stream",
     "text": [
      "Extracted Information for Agarbatti_Maker.pdf:\n",
      "Job Title: HCS/Q7901: Agarbatti Maker\n",
      "Job Description: Agarbatti Maker is the one who produces agarbatti (perfumed or un-perfumed depending on ingredients) by rolling agarbatti masala dough over bamboo stick manually using hand. The major ingredient for hand rolled agarbatti are bamboo stick and agarbatti masala.\n",
      "Performance Criteria: \n",
      "================================================================================\n"
     ]
    },
    {
     "name": "stderr",
     "output_type": "stream",
     "text": [
      "Processing PDFs:  53%|█████▎    | 440/838 [11:46<09:39,  1.46s/it]"
     ]
    },
    {
     "name": "stdout",
     "output_type": "stream",
     "text": [
      "Extracted Information for Coir_Fibre_Artisan.pdf:\n",
      "Job Title: HCS/Q8101: Coir Fibre Artisan\n",
      "Job Description: Coir Fibre Artisan, prepares raw material by extracting coir husk from coconut and performing various tasks to make coir ﬁbre and products.\n",
      "Performance Criteria: \n",
      "================================================================================\n"
     ]
    },
    {
     "name": "stderr",
     "output_type": "stream",
     "text": [
      "Processing PDFs:  53%|█████▎    | 441/838 [11:48<10:15,  1.55s/it]"
     ]
    },
    {
     "name": "stdout",
     "output_type": "stream",
     "text": [
      "Extracted Information for Bamboo_Work_Artisan.pdf:\n",
      "Job Title: HCS/Q8702: Bamboo Work Artisan\n",
      "Job Description: Bamboo Work Artisan prepares bamboo by performing various steps and using various methods to make a ﬁnal prepared bamboo product.\n",
      "Performance Criteria: \n",
      "================================================================================\n"
     ]
    },
    {
     "name": "stderr",
     "output_type": "stream",
     "text": [
      "Processing PDFs:  53%|█████▎    | 442/838 [11:50<10:10,  1.54s/it]"
     ]
    },
    {
     "name": "stdout",
     "output_type": "stream",
     "text": [
      "Extracted Information for Puppet_Maker_-_Artisan.pdf:\n",
      "Job Title: HCS/Q9001: Puppet Maker - Artisan\n",
      "Job Description: Puppet Maker - Artisan makes puppet toy using various raw materials to make a ﬁnal end product.\n",
      "Performance Criteria: \n",
      "================================================================================\n"
     ]
    },
    {
     "name": "stderr",
     "output_type": "stream",
     "text": [
      "Processing PDFs:  53%|█████▎    | 443/838 [11:51<10:17,  1.56s/it]"
     ]
    },
    {
     "name": "stdout",
     "output_type": "stream",
     "text": [
      "Extracted Information for Kolhapuri_Chappal_Maker.pdf:\n",
      "Job Title: HCS/Q9002: Kolhapuri Chappal Maker\n",
      "Job Description: Kolhapuri chappal maker makes kolhapuri chappal by performing basic operations of slicing, cutting and sewing of the leather, polishing to make the end product.\n",
      "Performance Criteria: \n",
      "================================================================================\n"
     ]
    },
    {
     "name": "stderr",
     "output_type": "stream",
     "text": [
      "Processing PDFs:  53%|█████▎    | 444/838 [11:53<10:07,  1.54s/it]"
     ]
    },
    {
     "name": "stdout",
     "output_type": "stream",
     "text": [
      "Extracted Information for Upcycling_Scraps_and_E-waste_Artisan.pdf:\n",
      "Job Title: HCS/Q9003: Upcycling Scraps and E-waste Artisan\n",
      "Job Description: Upcycling Scraps and E-waste Artisan prepares scraps and e-waste and perform assembling, molding, of prepared scraps and e-waste to make an end product.\n",
      "Performance Criteria: \n",
      "================================================================================\n"
     ]
    },
    {
     "name": "stderr",
     "output_type": "stream",
     "text": [
      "Processing PDFs:  53%|█████▎    | 445/838 [11:54<09:34,  1.46s/it]"
     ]
    },
    {
     "name": "stdout",
     "output_type": "stream",
     "text": [
      "Extracted Information for Moonjh_Craft_Maker.pdf:\n",
      "Job Title: HCS/Q9004: Moonjh Craft Maker\n",
      "Job Description: This OS unit is about performing various steps to make moonjh grass craft.\n",
      "Performance Criteria: \n",
      "================================================================================\n"
     ]
    },
    {
     "name": "stderr",
     "output_type": "stream",
     "text": [
      "Processing PDFs:  53%|█████▎    | 446/838 [11:55<09:20,  1.43s/it]"
     ]
    },
    {
     "name": "stdout",
     "output_type": "stream",
     "text": [
      "Extracted Information for Willow_Craft_Artisan.pdf:\n",
      "Job Title: HCS/Q9005: Willow Craft Artisan\n",
      "Job Description: Willow crafts artisan prepare willow by performing various steps to make a ﬁnal willow product.\n",
      "Performance Criteria: \n",
      "================================================================================\n"
     ]
    },
    {
     "name": "stderr",
     "output_type": "stream",
     "text": [
      "Processing PDFs:  53%|█████▎    | 447/838 [11:57<09:15,  1.42s/it]"
     ]
    },
    {
     "name": "stdout",
     "output_type": "stream",
     "text": [
      "Extracted Information for Handcrafted_Candle_Maker.pdf:\n",
      "Job Title: HCS/Q9201: Handcrafted Candle Maker\n",
      "Job Description: Candle Makers are responsible for using a combination of wax and wicks in a ﬂame to create a product by using manual dipping methods. They use their artistic and design skills to create custom candle designs and work to ensure all products conform to manufacturing standards\n",
      "Performance Criteria: \n",
      "================================================================================\n"
     ]
    },
    {
     "name": "stderr",
     "output_type": "stream",
     "text": [
      "Processing PDFs:  53%|█████▎    | 448/838 [11:58<09:14,  1.42s/it]"
     ]
    },
    {
     "name": "stdout",
     "output_type": "stream",
     "text": [
      "Extracted Information for Merchandiser.pdf:\n",
      "Job Title: HCS/Q9801: Merchandiser\n",
      "Job Description: The merchandiser liaisons with stakeholders to identify end customers product requirements as well as glean the market trends which will be reﬂected in the organizations product lines. His/her job is to plan production, focusing on three important factors quality, time, and price of the product.\n",
      "Performance Criteria: \n",
      "================================================================================\n"
     ]
    },
    {
     "name": "stderr",
     "output_type": "stream",
     "text": [
      "Processing PDFs:  54%|█████▎    | 449/838 [11:59<08:32,  1.32s/it]"
     ]
    },
    {
     "name": "stdout",
     "output_type": "stream",
     "text": [
      "Extracted Information for Introduction_to_Electric_Vehicle.pdf:\n",
      "Error: No valid job information extracted from the text.\n",
      "================================================================================\n"
     ]
    },
    {
     "name": "stderr",
     "output_type": "stream",
     "text": [
      "Processing PDFs:  54%|█████▎    | 450/838 [12:01<09:19,  1.44s/it]"
     ]
    },
    {
     "name": "stdout",
     "output_type": "stream",
     "text": [
      "Extracted Information for Safety_Supervisor_-_Steel_Plant.pdf:\n",
      "Job Title: ISC/Q0105: Safety Supervisor - Steel Plant\n",
      "Job Description: The job is about supervising equipment, plant and processes in a Steel plant, to ensure the safety of the personnel working as well as that of the plant & property, through proactive steps\n",
      "Performance Criteria: \n",
      "================================================================================\n"
     ]
    },
    {
     "name": "stderr",
     "output_type": "stream",
     "text": [
      "Processing PDFs:  54%|█████▍    | 451/838 [12:02<09:09,  1.42s/it]"
     ]
    },
    {
     "name": "stdout",
     "output_type": "stream",
     "text": [
      "Extracted Information for Battery_Operator.pdf:\n",
      "Job Title: ISC/Q0201: Battery Operator\n",
      "Job Description: The job is all about carrying out all enabling activities which are integral part of coke making in a slotted coke oven battery for producing metallurgical coke.\n",
      "Performance Criteria: \n",
      "================================================================================\n"
     ]
    },
    {
     "name": "stderr",
     "output_type": "stream",
     "text": [
      "Processing PDFs:  54%|█████▍    | 452/838 [12:04<09:34,  1.49s/it]"
     ]
    },
    {
     "name": "stdout",
     "output_type": "stream",
     "text": [
      "Extracted Information for Supervisor_-_Battery_Operations.pdf:\n",
      "Job Title: ISC/Q0201: Supervisor - Battery Operations\n",
      "Job Description: The individual in this role carrying out all enabling activities which are integral part of coke making in a slotted coke oven battery for producing metallurgical coke.\n",
      "Performance Criteria: \n",
      "================================================================================\n"
     ]
    },
    {
     "name": "stderr",
     "output_type": "stream",
     "text": [
      "Processing PDFs:  54%|█████▍    | 453/838 [12:06<09:39,  1.50s/it]"
     ]
    },
    {
     "name": "stdout",
     "output_type": "stream",
     "text": [
      "Extracted Information for Operator_-_Heating_regulator.pdf:\n",
      "Job Title: ISC/Q0203: Operator - Heating regulator\n",
      "Job Description: The individual in this role monitor, control and maintain all set values of various technological parameters attributed to \"Technological Regime\" of a coke oven battery\n",
      "Performance Criteria: \n",
      "================================================================================\n"
     ]
    },
    {
     "name": "stderr",
     "output_type": "stream",
     "text": [
      "Processing PDFs:  54%|█████▍    | 454/838 [12:07<09:21,  1.46s/it]"
     ]
    },
    {
     "name": "stdout",
     "output_type": "stream",
     "text": [
      "Extracted Information for Mobile_Equipment_Operator.pdf:\n",
      "Job Title: ISC/Q0401: Mobile Equipment Operator\n",
      "Job Description: The job involves inspection of mobile equipment like Fork Lift truck, Skidloader/Bob Cat, Pay Loader and JCB, as used in Steel Plant for proper working condition, loading & driving the vehicle for carrying materials from one place to another inside the plant. This job also involves carrying out basic maintenance of the equipment.\n",
      "Performance Criteria: \n",
      "================================================================================\n"
     ]
    },
    {
     "name": "stderr",
     "output_type": "stream",
     "text": [
      "Processing PDFs:  54%|█████▍    | 455/838 [12:09<09:37,  1.51s/it]"
     ]
    },
    {
     "name": "stdout",
     "output_type": "stream",
     "text": [
      "Extracted Information for Operator_-_Mobile_Equipment.pdf:\n",
      "Job Title: ISC/Q0401: Operator - Mobile Equipment\n",
      "Job Description: The individual in this role operate and maintain mobile equipment such as forklift, JCB, Skid Loader, Pay Loader etc. available in a steel plant.\n",
      "Performance Criteria: \n",
      "================================================================================\n"
     ]
    },
    {
     "name": "stderr",
     "output_type": "stream",
     "text": [
      "Processing PDFs:  54%|█████▍    | 456/838 [12:10<09:54,  1.56s/it]"
     ]
    },
    {
     "name": "stdout",
     "output_type": "stream",
     "text": [
      "Extracted Information for Operator_-_Mobile_Equipment.pdf:\n",
      "Job Title: ISC/Q0401: Operator - Mobile Equipment\n",
      "Job Description: The individual in this role operate and maintain mobile equipment such as forklift, JCB, Skid Loader, Pay Loader etc. available in a steel plant.\n",
      "Performance Criteria: \n",
      "================================================================================\n"
     ]
    },
    {
     "name": "stderr",
     "output_type": "stream",
     "text": [
      "Processing PDFs:  55%|█████▍    | 457/838 [12:12<09:27,  1.49s/it]"
     ]
    },
    {
     "name": "stdout",
     "output_type": "stream",
     "text": [
      "Extracted Information for Locomotive_Driver.pdf:\n",
      "Job Title: ISC/Q0402: Locomotive Driver\n",
      "Job Description: The job is all about operating the locomotive to ensure movement of raw materials, intermediates, ﬁnished products within the plant. It includes maintaining log book for performance parameters and working condition of locomotive.\n",
      "Performance Criteria: \n",
      "================================================================================\n"
     ]
    },
    {
     "name": "stderr",
     "output_type": "stream",
     "text": [
      "Processing PDFs:  55%|█████▍    | 458/838 [12:13<09:36,  1.52s/it]"
     ]
    },
    {
     "name": "stdout",
     "output_type": "stream",
     "text": [
      "Extracted Information for Locomotive_Driver.pdf:\n",
      "Job Title: ISC/Q0402: Locomotive Driver\n",
      "Job Description: The individual in this role operate locomotive for carry and move material, intermediaries and ﬁnished products within the plant.\n",
      "Performance Criteria: \n",
      "================================================================================\n"
     ]
    },
    {
     "name": "stderr",
     "output_type": "stream",
     "text": [
      "Processing PDFs:  55%|█████▍    | 459/838 [12:15<09:11,  1.46s/it]"
     ]
    },
    {
     "name": "stdout",
     "output_type": "stream",
     "text": [
      "Extracted Information for House_Keeping_with_Mechanised_Equipments.pdf:\n",
      "Job Title: ISC/Q0408: House Keeping with Mechanised Equipments\n",
      "Job Description: This job is all about regular House Keeping, maintaining the cleanliness of diﬀerent areas like control room, oﬃces, blast furnace proper including cast house, stock house (charging side) rail tracks of hot metal (H.M.) side/slag side for proper movement of rolling stock to maintain casting schedule.\n",
      "Performance Criteria: \n",
      "================================================================================\n"
     ]
    },
    {
     "name": "stderr",
     "output_type": "stream",
     "text": [
      "Processing PDFs:  55%|█████▍    | 460/838 [12:16<09:16,  1.47s/it]"
     ]
    },
    {
     "name": "stdout",
     "output_type": "stream",
     "text": [
      "Extracted Information for House_Keeper_-_Mechanised_Equipments.pdf:\n",
      "Job Title: ISC/Q0408: House Keeper - Mechanised Equipments\n",
      "Job Description: The individual in this performs housekeeping and maintains the cleanliness of diﬀerent areas of steel plant i.e. control rooms, oﬃces, blast furnace proper including cast house, stock house etc.\n",
      "Performance Criteria: \n",
      "================================================================================\n"
     ]
    },
    {
     "name": "stderr",
     "output_type": "stream",
     "text": [
      "Processing PDFs:  55%|█████▌    | 461/838 [12:18<09:22,  1.49s/it]"
     ]
    },
    {
     "name": "stdout",
     "output_type": "stream",
     "text": [
      "Extracted Information for House_Keeper_-_Mechanised_Equipments.pdf:\n",
      "Job Title: ISC/Q0408: House Keeper - Mechanised Equipments\n",
      "Job Description: The individual in this performs housekeeping and maintains the cleanliness of diﬀerent areas of steel plant i.e. control rooms, oﬃces, blast furnace proper including cast house, stock house etc.\n",
      "Performance Criteria: \n",
      "================================================================================\n"
     ]
    },
    {
     "name": "stderr",
     "output_type": "stream",
     "text": [
      "Processing PDFs:  55%|█████▌    | 462/838 [12:19<09:37,  1.54s/it]"
     ]
    },
    {
     "name": "stdout",
     "output_type": "stream",
     "text": [
      "Extracted Information for House_Keeper_-_Mechanised_Equipments.pdf:\n",
      "Job Title: ISC/Q0408: House Keeper - Mechanised Equipments\n",
      "Job Description: The individual in this performs housekeeping and maintains the cleanliness of diﬀerent areas of steel plant i.e. control rooms, oﬃces, blast furnace proper including cast house, stock house etc.\n",
      "Performance Criteria: \n",
      "================================================================================\n"
     ]
    },
    {
     "name": "stderr",
     "output_type": "stream",
     "text": [
      "Processing PDFs:  55%|█████▌    | 463/838 [12:21<09:43,  1.56s/it]"
     ]
    },
    {
     "name": "stdout",
     "output_type": "stream",
     "text": [
      "Extracted Information for Supervisor_-_Control_Room_(Steel_Melting_Shop).pdf:\n",
      "Job Title: ISC/Q0409: Supervisor - Control Room (Steel Melting Shop)\n",
      "Job Description: The individual in this role coordinate and monitor the operation of various functions of steel plant (blast furnace, sinter plant, coke making, steel making, ﬁnishing etc.) for steel making through control panels, computer terminals or other control systems, usually from a central control room.\n",
      "Performance Criteria: \n",
      "================================================================================\n"
     ]
    },
    {
     "name": "stderr",
     "output_type": "stream",
     "text": [
      "Processing PDFs:  55%|█████▌    | 464/838 [12:22<09:22,  1.50s/it]"
     ]
    },
    {
     "name": "stdout",
     "output_type": "stream",
     "text": [
      "Extracted Information for Iron_&_Steel__Utility_Hand_Plant_Operations.pdf:\n",
      "Job Title: ISC/Q0410: Iron & Steel Utility Hand Plant Operations\n",
      "Job Description: The job is all about carrying tools and tackles to job site as per requirement, assisting for smooth and safe operation/repair/maintenance of the equipment at site, cleaning the assembly/equipment before dismantling and providing necessary help during dismantling/assembling operation of diﬀerent manual valves. This also includes cleaning the work site after completion of the job and carrying back the tools and tackles to departments/stores.\n",
      "Performance Criteria: \n",
      "================================================================================\n"
     ]
    },
    {
     "name": "stderr",
     "output_type": "stream",
     "text": [
      "Processing PDFs:  55%|█████▌    | 465/838 [12:24<09:32,  1.53s/it]"
     ]
    },
    {
     "name": "stdout",
     "output_type": "stream",
     "text": [
      "Extracted Information for Helper_-_Utility_Hand_Plant_Operations.pdf:\n",
      "Job Title: ISC/Q0410: Helper - Utility Hand Plant Operations\n",
      "Job Description: The individual in this role arrange required tools and tackles at job site as per requirement, assist the supervisor/operators during work and maintain the cleanliness at worksite.\n",
      "Performance Criteria: \n",
      "================================================================================\n"
     ]
    },
    {
     "name": "stderr",
     "output_type": "stream",
     "text": [
      "Processing PDFs:  56%|█████▌    | 466/838 [12:25<09:35,  1.55s/it]"
     ]
    },
    {
     "name": "stdout",
     "output_type": "stream",
     "text": [
      "Extracted Information for Helper_-_Utility_Hand_Plant_Operations.pdf:\n",
      "Job Title: ISC/Q0410: Helper - Utility Hand Plant Operations\n",
      "Job Description: The individual in this role arrange required tools and tackles at job site as per requirement, assist the supervisor/operators during work and maintain the cleanliness at worksite.\n",
      "Performance Criteria: \n",
      "================================================================================\n"
     ]
    },
    {
     "name": "stderr",
     "output_type": "stream",
     "text": [
      "Processing PDFs:  56%|█████▌    | 467/838 [12:27<09:40,  1.56s/it]"
     ]
    },
    {
     "name": "stdout",
     "output_type": "stream",
     "text": [
      "Extracted Information for Helper_-_Utility_Hand_Plant_Operations.pdf:\n",
      "Job Title: ISC/Q0410: Helper - Utility Hand Plant Operations\n",
      "Job Description: The individual in this role arrange required tools and tackles at job site as per requirement, assist the supervisor/operators during work and maintain the cleanliness at worksite.\n",
      "Performance Criteria: \n",
      "================================================================================\n"
     ]
    },
    {
     "name": "stderr",
     "output_type": "stream",
     "text": [
      "Processing PDFs:  56%|█████▌    | 469/838 [12:30<09:16,  1.51s/it]"
     ]
    },
    {
     "name": "stdout",
     "output_type": "stream",
     "text": [
      "Extracted Information for Process_Operator_Rolling_Mills.pdf:\n",
      "Job Title: ISC/Q0701: Process Operator Rolling Mills\n",
      "Job Description: This job is all about keeping diﬀerent process lines functional by ensuringcontinuity of process. It also involves providing the actual commands for diﬀerent operations as needed and monitor the operations for any deviations. It includes inspecting the material between processes to ensure alignment to speciﬁcations.\n",
      "Performance Criteria: \n",
      "================================================================================\n"
     ]
    },
    {
     "name": "stderr",
     "output_type": "stream",
     "text": [
      "Processing PDFs:  56%|█████▌    | 470/838 [12:32<09:15,  1.51s/it]"
     ]
    },
    {
     "name": "stdout",
     "output_type": "stream",
     "text": [
      "Extracted Information for Supervisor_-_Rolling_Mills.pdf:\n",
      "Job Title: ISC/Q0701: Supervisor - Rolling Mills\n",
      "Job Description: The individual in this role provide commands for diﬀerent operations of rolling mills as needed and monitor them for any deviations\n",
      "Performance Criteria: \n",
      "================================================================================\n"
     ]
    },
    {
     "name": "stderr",
     "output_type": "stream",
     "text": [
      "Processing PDFs:  56%|█████▌    | 471/838 [12:33<09:18,  1.52s/it]"
     ]
    },
    {
     "name": "stdout",
     "output_type": "stream",
     "text": [
      "Extracted Information for Operator_-_Fluid_Controls.pdf:\n",
      "Job Title: ISC/Q0703: Operator - Fluid Controls\n",
      "Job Description: The individual in this role prepare, supply, collect, evaluate and operate ﬂow of all ﬂuids connected with rolling operation in a steel plant.\n",
      "Performance Criteria: \n",
      "================================================================================\n"
     ]
    },
    {
     "name": "stderr",
     "output_type": "stream",
     "text": [
      "Processing PDFs:  56%|█████▋    | 472/838 [12:34<08:56,  1.47s/it]"
     ]
    },
    {
     "name": "stdout",
     "output_type": "stream",
     "text": [
      "Extracted Information for Assistant_-_Packaging_&_Marking_Operation.pdf:\n",
      "Job Title: ISC/Q0704: Assistant - Packaging & Marking Operation\n",
      "Job Description: The job is all about manually packing material in steel plant and then marking the ﬁnished pack with the correct identiﬁcation code or tag.\n",
      "Performance Criteria: \n",
      "================================================================================\n"
     ]
    },
    {
     "name": "stderr",
     "output_type": "stream",
     "text": [
      "Processing PDFs:  56%|█████▋    | 473/838 [12:36<09:09,  1.51s/it]"
     ]
    },
    {
     "name": "stdout",
     "output_type": "stream",
     "text": [
      "Extracted Information for Assistant_Laboratory_Technician.pdf:\n",
      "Job Title: ISC/Q0801: Assistant Laboratory Technician\n",
      "Job Description: The individual in this role prepare steel samples, test them for diﬀerent physical properties against national/international standards, appropriately record and report the test results to the concerned department of the steel plant in order to ensure consistent product quality.\n",
      "Performance Criteria: \n",
      "================================================================================\n"
     ]
    },
    {
     "name": "stderr",
     "output_type": "stream",
     "text": [
      "Processing PDFs:  57%|█████▋    | 474/838 [12:37<08:45,  1.44s/it]"
     ]
    },
    {
     "name": "stdout",
     "output_type": "stream",
     "text": [
      "Extracted Information for EOT_Overhead_Crane_Operator.pdf:\n",
      "Job Title: ISC/Q0901: EOT Overhead Crane Operator\n",
      "Job Description: This job involves operating overhead cranes for safe transfer of raw material, intermediaries and ﬁnished products within the plant on receiving the signal.\n",
      "Performance Criteria: \n",
      "================================================================================\n"
     ]
    },
    {
     "name": "stderr",
     "output_type": "stream",
     "text": [
      "Processing PDFs:  57%|█████▋    | 475/838 [12:39<08:56,  1.48s/it]"
     ]
    },
    {
     "name": "stdout",
     "output_type": "stream",
     "text": [
      "Extracted Information for EOT_Overhead_Crane_Operator.pdf:\n",
      "Job Title: ISC/Q0901: EOT Overhead Crane Operator\n",
      "Job Description: The individual in this role operate overhead cranes for safe transfer of raw material, intermediaries and ﬁnished products within the plant on receiving the signal.\n",
      "Performance Criteria: \n",
      "================================================================================\n"
     ]
    },
    {
     "name": "stderr",
     "output_type": "stream",
     "text": [
      "Processing PDFs:  57%|█████▋    | 476/838 [12:40<09:05,  1.51s/it]"
     ]
    },
    {
     "name": "stdout",
     "output_type": "stream",
     "text": [
      "Extracted Information for EOT_Overhead_Crane_Operator.pdf:\n",
      "Job Title: ISC/Q0901: EOT Overhead Crane Operator\n",
      "Job Description: The individual in this role operate overhead cranes for safe transfer of raw material, intermediaries and ﬁnished products within the plant on receiving the signal.\n",
      "Performance Criteria: \n",
      "================================================================================\n"
     ]
    },
    {
     "name": "stderr",
     "output_type": "stream",
     "text": [
      "Processing PDFs:  57%|█████▋    | 477/838 [12:42<09:11,  1.53s/it]"
     ]
    },
    {
     "name": "stdout",
     "output_type": "stream",
     "text": [
      "Extracted Information for EOT_Overhead_Crane_Operator.pdf:\n",
      "Job Title: ISC/Q0901: EOT Overhead Crane Operator\n",
      "Job Description: The individual in this role operate overhead cranes for safe transfer of raw material, intermediaries and ﬁnished products within the plant on receiving the signal.\n",
      "Performance Criteria: \n",
      "================================================================================\n"
     ]
    },
    {
     "name": "stderr",
     "output_type": "stream",
     "text": [
      "Processing PDFs:  57%|█████▋    | 478/838 [12:43<08:49,  1.47s/it]"
     ]
    },
    {
     "name": "stdout",
     "output_type": "stream",
     "text": [
      "Extracted Information for Conveyor_Operation_&_Maintenance.pdf:\n",
      "Job Title: ISC/Q0902: Conveyor Operation & Maintenance\n",
      "Job Description: The job involves inspection of the total belt driving system including the controls of conveyor belt as per the required sequence for feeding diﬀerent raw materials (coal, lime stone, Iron ore etc.) in the service bunker through crushers/screener etc. This also involves basic maintenance and troubleshooting on Conveyor Belt system.\n",
      "Performance Criteria: \n",
      "================================================================================\n"
     ]
    },
    {
     "name": "stderr",
     "output_type": "stream",
     "text": [
      "Processing PDFs:  57%|█████▋    | 479/838 [12:45<09:07,  1.52s/it]"
     ]
    },
    {
     "name": "stdout",
     "output_type": "stream",
     "text": [
      "Extracted Information for Assistant_Mechanic_-_Conveyor_Operation_and_Maintenance.pdf:\n",
      "Job Title: ISC/Q0902: Assistant Mechanic - Conveyor Operation and Maintenance\n",
      "Job Description: The individual in this role operate and maintain conveyor system available in a steel plant.\n",
      "Performance Criteria: \n",
      "================================================================================\n"
     ]
    },
    {
     "name": "stderr",
     "output_type": "stream",
     "text": [
      "Processing PDFs:  57%|█████▋    | 480/838 [12:46<08:44,  1.47s/it]"
     ]
    },
    {
     "name": "stdout",
     "output_type": "stream",
     "text": [
      "Extracted Information for Fitter:_Hydraulic_&_Pneumatic_System.pdf:\n",
      "Job Title: ISC/Q0903: Fitter: Hydraulic & Pneumatic System\n",
      "Job Description: The job is all about regular upkeep of hydraulic/pneumatic equipment/system, checking of hydraulic medium (hydraulic mineral oil), air under pressure and rectifying breakdowns including; identifying problems, dismantling equipment, cleaning parts, rectifying root causes , re assembling equipment, checking alignment, vibration, etc. to ensure ﬁtness of equipment prior to handover and informing supervisor, operations, stores etc. as appropriate in a hydraulic and pneumatic system.\n",
      "Performance Criteria: \n",
      "================================================================================\n"
     ]
    },
    {
     "name": "stderr",
     "output_type": "stream",
     "text": [
      "Processing PDFs:  57%|█████▋    | 481/838 [12:48<08:54,  1.50s/it]"
     ]
    },
    {
     "name": "stdout",
     "output_type": "stream",
     "text": [
      "Extracted Information for Mechanic:_Hydraulic_&_Pneumatic_System.pdf:\n",
      "Job Title: ISC/Q0903: Mechanic: Hydraulic & Pneumatic System\n",
      "Job Description: The individual in this role performs installation, assembling and maintenance of the hydraulic and pneumatic equipment available in the plant.\n",
      "Performance Criteria: \n",
      "================================================================================\n"
     ]
    },
    {
     "name": "stderr",
     "output_type": "stream",
     "text": [
      "Processing PDFs:  58%|█████▊    | 482/838 [12:49<08:59,  1.52s/it]"
     ]
    },
    {
     "name": "stdout",
     "output_type": "stream",
     "text": [
      "Extracted Information for Mechanic:_Hydraulic_&_Pneumatic_System.pdf:\n",
      "Job Title: ISC/Q0903: Mechanic: Hydraulic & Pneumatic System\n",
      "Job Description: The individual in this role performs installation, assembling and maintenance of the hydraulic and pneumatic equipment available in the plant.\n",
      "Performance Criteria: \n",
      "================================================================================\n"
     ]
    },
    {
     "name": "stderr",
     "output_type": "stream",
     "text": [
      "Processing PDFs:  58%|█████▊    | 483/838 [12:51<09:14,  1.56s/it]"
     ]
    },
    {
     "name": "stdout",
     "output_type": "stream",
     "text": [
      "Extracted Information for Mechanic:_Hydraulic_&_Pneumatic_System.pdf:\n",
      "Job Title: ISC/Q0903: Mechanic: Hydraulic & Pneumatic System\n",
      "Job Description: The individual in this role performs installation, assembling and maintenance of the hydraulic and pneumatic equipment available in the plant.\n",
      "Performance Criteria: \n",
      "================================================================================\n"
     ]
    },
    {
     "name": "stderr",
     "output_type": "stream",
     "text": [
      "Processing PDFs:  58%|█████▊    | 484/838 [12:53<09:12,  1.56s/it]"
     ]
    },
    {
     "name": "stdout",
     "output_type": "stream",
     "text": [
      "Extracted Information for Mechanic_-_Belt_Conveyor.pdf:\n",
      "Job Title: ISC/Q0904: Mechanic - Belt Conveyor\n",
      "Job Description: The individual in this role perform maintenance of belt conveyor system including belts, idlers, motors, interlocking of belts, bunkers and control systems.\n",
      "Performance Criteria: \n",
      "================================================================================\n"
     ]
    },
    {
     "name": "stderr",
     "output_type": "stream",
     "text": [
      "Processing PDFs:  58%|█████▊    | 485/838 [12:54<09:11,  1.56s/it]"
     ]
    },
    {
     "name": "stdout",
     "output_type": "stream",
     "text": [
      "Extracted Information for Mechanic_-_Belt_Conveyor.pdf:\n",
      "Job Title: ISC/Q0904: Mechanic - Belt Conveyor\n",
      "Job Description: The individual in this role perform maintenance of belt conveyor system including belts, idlers, motors, interlocking of belts, bunkers and control systems.\n",
      "Performance Criteria: \n",
      "================================================================================\n"
     ]
    },
    {
     "name": "stderr",
     "output_type": "stream",
     "text": [
      "Processing PDFs:  58%|█████▊    | 486/838 [12:56<09:09,  1.56s/it]"
     ]
    },
    {
     "name": "stdout",
     "output_type": "stream",
     "text": [
      "Extracted Information for Mechanic_-_Belt_Conveyor.pdf:\n",
      "Job Title: ISC/Q0904: Mechanic - Belt Conveyor\n",
      "Job Description: The individual in this role perform maintenance of belt conveyor system including belts, idlers, motors, interlocking of belts, bunkers and control systems.\n",
      "Performance Criteria: \n",
      "================================================================================\n"
     ]
    },
    {
     "name": "stderr",
     "output_type": "stream",
     "text": [
      "Processing PDFs:  58%|█████▊    | 487/838 [12:57<08:41,  1.49s/it]"
     ]
    },
    {
     "name": "stdout",
     "output_type": "stream",
     "text": [
      "Extracted Information for Fitter_:_Levelling,_Alignment_&_Balancing.pdf:\n",
      "Job Title: ISC/Q0905: Fitter : Levelling, Alignment & Balancing\n",
      "Job Description: The job is all about ensuring alignment of moving parts (e.g. pumps, blower fans, etc.) , checking the vibration of moving parts (blower fan, pumps, motor gear box etc.) & balancing of equipment shafts (input and output).\n",
      "Performance Criteria: \n",
      "================================================================================\n"
     ]
    },
    {
     "name": "stderr",
     "output_type": "stream",
     "text": [
      "Processing PDFs:  58%|█████▊    | 488/838 [12:59<09:12,  1.58s/it]"
     ]
    },
    {
     "name": "stdout",
     "output_type": "stream",
     "text": [
      "Extracted Information for Assistant_Fitter_-_Levelling,_Alignment_and_Balancing.pdf:\n",
      "Job Title: ISC/Q0905: Assistant Fitter - Levelling, Alignment and Balancing\n",
      "Job Description: The individual in this role performs checking and correction of levelling, alignment and balancing of rotary equipment\n",
      "Performance Criteria: \n",
      "================================================================================\n"
     ]
    },
    {
     "name": "stderr",
     "output_type": "stream",
     "text": [
      "Processing PDFs:  58%|█████▊    | 489/838 [13:01<09:34,  1.65s/it]"
     ]
    },
    {
     "name": "stdout",
     "output_type": "stream",
     "text": [
      "Extracted Information for Assistant_Fitter_-_Levelling,_Alignment_and_Balancing.pdf:\n",
      "Job Title: ISC/Q0905: Assistant Fitter - Levelling, Alignment and Balancing\n",
      "Job Description: The individual in this role performs checking and correction of levelling, alignment and balancing of rotary equipment\n",
      "Performance Criteria: \n",
      "================================================================================\n"
     ]
    },
    {
     "name": "stderr",
     "output_type": "stream",
     "text": [
      "Processing PDFs:  58%|█████▊    | 490/838 [13:02<09:44,  1.68s/it]"
     ]
    },
    {
     "name": "stdout",
     "output_type": "stream",
     "text": [
      "Extracted Information for Assistant_Fitter_-_Levelling,_Alignment_and_Balancing.pdf:\n",
      "Job Title: ISC/Q0905: Assistant Fitter - Levelling, Alignment and Balancing\n",
      "Job Description: The individual in this role performs checking and correction of levelling, alignment and balancing of rotary equipment\n",
      "Performance Criteria: \n",
      "================================================================================\n"
     ]
    },
    {
     "name": "stderr",
     "output_type": "stream",
     "text": [
      "Processing PDFs:  59%|█████▊    | 491/838 [13:04<09:08,  1.58s/it]"
     ]
    },
    {
     "name": "stdout",
     "output_type": "stream",
     "text": [
      "Extracted Information for Bearing_Maintenance.pdf:\n",
      "Job Title: ISC/Q0906: Bearing Maintenance\n",
      "Job Description: The job is to inspect, identify the problems in the equipment, rectify the root causes for e.g. leakages, replaces the bearings, lubricates the bearings, ensures ﬁtness of all types of bearings in the plant and carry out routine maintenance.\n",
      "Performance Criteria: \n",
      "================================================================================\n"
     ]
    },
    {
     "name": "stderr",
     "output_type": "stream",
     "text": [
      "Processing PDFs:  59%|█████▊    | 492/838 [13:06<09:54,  1.72s/it]"
     ]
    },
    {
     "name": "stdout",
     "output_type": "stream",
     "text": [
      "Extracted Information for Assistant_Mechanic_-_Bearing_Maintenance.pdf:\n",
      "Job Title: ISC/Q0906: Assistant Mechanic - Bearing Maintenance\n",
      "Job Description: The individual in this role performs inspection of the equipment to identify and rectify the problems related to bearings. The individual also carry out routine maintenance and ensure ﬁtness of all types of bearings in the plant.\n",
      "Performance Criteria: \n",
      "================================================================================\n"
     ]
    },
    {
     "name": "stderr",
     "output_type": "stream",
     "text": [
      "Processing PDFs:  59%|█████▉    | 493/838 [13:08<09:51,  1.71s/it]"
     ]
    },
    {
     "name": "stdout",
     "output_type": "stream",
     "text": [
      "Extracted Information for Assistant_Mechanic_-_Bearing_Maintenance.pdf:\n",
      "Job Title: ISC/Q0906: Assistant Mechanic - Bearing Maintenance\n",
      "Job Description: The individual in this role performs inspection of the equipment to identify and rectify the problems related to bearings. The individual also carry out routine maintenance and ensure ﬁtness of all types of bearings in the plant.\n",
      "Performance Criteria: \n",
      "================================================================================\n"
     ]
    },
    {
     "name": "stderr",
     "output_type": "stream",
     "text": [
      "Processing PDFs:  59%|█████▉    | 494/838 [13:09<09:52,  1.72s/it]"
     ]
    },
    {
     "name": "stdout",
     "output_type": "stream",
     "text": [
      "Extracted Information for Assistant_Mechanic_-_Bearing_Maintenance.pdf:\n",
      "Job Title: ISC/Q0906: Assistant Mechanic - Bearing Maintenance\n",
      "Job Description: The individual in this role performs inspection of the equipment to identify and rectify the problems related to bearings. The individual also carry out routine maintenance and ensure ﬁtness of all types of bearings in the plant.\n",
      "Performance Criteria: \n",
      "================================================================================\n"
     ]
    },
    {
     "name": "stderr",
     "output_type": "stream",
     "text": [
      "Processing PDFs:  59%|█████▉    | 495/838 [13:11<09:10,  1.60s/it]"
     ]
    },
    {
     "name": "stdout",
     "output_type": "stream",
     "text": [
      "Extracted Information for Rigger:_Rigging_of_Heavy_Material.pdf:\n",
      "Job Title: ISC/Q0908: Rigger: Rigging of Heavy Material\n",
      "Job Description: The job is all about selection of tools and tackles, understanding and analysis of load distribution and lifting, moving (to be tied with manila rope to arrest lateral movement) of loads safely as per needs of the group (Fitter, Welder etc.)\n",
      "Performance Criteria: \n",
      "================================================================================\n"
     ]
    },
    {
     "name": "stderr",
     "output_type": "stream",
     "text": [
      "Processing PDFs:  59%|█████▉    | 496/838 [13:12<08:33,  1.50s/it]"
     ]
    },
    {
     "name": "stdout",
     "output_type": "stream",
     "text": [
      "Extracted Information for Assistant_Rigger_-_Heavy_Material.pdf:\n",
      "Job Title: ISC/Q0908: Assistant Rigger - Heavy Material\n",
      "Job Description: The job is all about selection of tools and tackles, understanding and analysis of load distribution and lifting, moving (to be tied with manila rope to arrest lateral movement) of loads safely as per needs of the group (Fitter, Welder etc.)\n",
      "Performance Criteria: \n",
      "================================================================================\n"
     ]
    },
    {
     "name": "stderr",
     "output_type": "stream",
     "text": [
      "Processing PDFs:  59%|█████▉    | 497/838 [13:13<08:10,  1.44s/it]"
     ]
    },
    {
     "name": "stdout",
     "output_type": "stream",
     "text": [
      "Extracted Information for Assistant_Rigger_-_Heavy_Material.pdf:\n",
      "Job Title: ISC/Q0908: Assistant Rigger - Heavy Material\n",
      "Job Description: The job is all about selection of tools and tackles, understanding and analysis of load distribution and lifting, moving (to be tied with manila rope to arrest lateral movement) of loads safely as per needs of the group (Fitter, Welder etc.)\n",
      "Performance Criteria: \n",
      "================================================================================\n"
     ]
    },
    {
     "name": "stderr",
     "output_type": "stream",
     "text": [
      "Processing PDFs:  59%|█████▉    | 498/838 [13:14<07:55,  1.40s/it]"
     ]
    },
    {
     "name": "stdout",
     "output_type": "stream",
     "text": [
      "Extracted Information for Assistant_Rigger_-_Heavy_Material.pdf:\n",
      "Job Title: ISC/Q0908: Assistant Rigger - Heavy Material\n",
      "Job Description: The job is all about selection of tools and tackles, understanding and analysis of load distribution and lifting, moving (to be tied with manila rope to arrest lateral movement) of loads safely as per needs of the group (Fitter, Welder etc.)\n",
      "Performance Criteria: \n",
      "================================================================================\n"
     ]
    },
    {
     "name": "stderr",
     "output_type": "stream",
     "text": [
      "Processing PDFs:  60%|█████▉    | 499/838 [13:16<07:57,  1.41s/it]"
     ]
    },
    {
     "name": "stdout",
     "output_type": "stream",
     "text": [
      "Extracted Information for Iron_&_Steel-_Machinist.pdf:\n",
      "Job Title: ISC/Q0909: Iron & Steel- Machinist\n",
      "Job Description: This job is all about identifying the sequence of machining operations required to fabricate product components by studying their designs/ sample parts and fabricating the components using the appropriate tools and dies.\n",
      "Performance Criteria: \n",
      "================================================================================\n"
     ]
    },
    {
     "name": "stderr",
     "output_type": "stream",
     "text": [
      "Processing PDFs:  60%|█████▉    | 500/838 [13:18<08:27,  1.50s/it]"
     ]
    },
    {
     "name": "stdout",
     "output_type": "stream",
     "text": [
      "Extracted Information for Assistant_-_Machinist_-_Iron_and_Steel.pdf:\n",
      "Job Title: ISC/Q0909: Assistant - Machinist - Iron and Steel\n",
      "Job Description: This individual in is primarily involved in various machining and inspection work on conventional/manual machines such as quality veriﬁcation, minor repair work, change of worn out tools, re-setting of the tools, etc.\n",
      "Performance Criteria: \n",
      "================================================================================\n"
     ]
    },
    {
     "name": "stderr",
     "output_type": "stream",
     "text": [
      "Processing PDFs:  60%|█████▉    | 501/838 [13:19<08:45,  1.56s/it]"
     ]
    },
    {
     "name": "stdout",
     "output_type": "stream",
     "text": [
      "Extracted Information for Assistant_-_Machinist_-_Iron_and_Steel.pdf:\n",
      "Job Title: ISC/Q0909: Assistant - Machinist - Iron and Steel\n",
      "Job Description: This individual in is primarily involved in various machining and inspection work on conventional/manual machines such as quality veriﬁcation, minor repair work, change of worn out tools, re-setting of the tools, etc.\n",
      "Performance Criteria: \n",
      "================================================================================\n"
     ]
    },
    {
     "name": "stderr",
     "output_type": "stream",
     "text": [
      "Processing PDFs:  60%|█████▉    | 502/838 [13:21<09:07,  1.63s/it]"
     ]
    },
    {
     "name": "stdout",
     "output_type": "stream",
     "text": [
      "Extracted Information for Assistant_-_Machinist_-_Iron_and_Steel.pdf:\n",
      "Job Title: ISC/Q0909: Assistant - Machinist - Iron and Steel\n",
      "Job Description: This individual in is primarily involved in various machining and inspection work on conventional/manual machines such as quality veriﬁcation, minor repair work, change of worn out tools, re-setting of the tools, etc.\n",
      "Performance Criteria: \n",
      "================================================================================\n"
     ]
    },
    {
     "name": "stderr",
     "output_type": "stream",
     "text": [
      "Processing PDFs:  60%|██████    | 503/838 [13:22<08:38,  1.55s/it]"
     ]
    },
    {
     "name": "stdout",
     "output_type": "stream",
     "text": [
      "Extracted Information for Iron_&_Steel-_Plasma_Cutter:_Manual.pdf:\n",
      "Job Title: ISC/Q0910: Iron & Steel- Plasma Cutter: Manual\n",
      "Job Description: The job is about maintenance of diﬀerent types of EOT cranes used in Steel plant. This involves understanding their structure, mechanical/electrical systems and controls for diﬀerent functions. The job also involves necessary inspection and maintenance to reduce breakdown and rectiﬁcation of faults in case of breakdown.\n",
      "Performance Criteria: \n",
      "================================================================================\n"
     ]
    },
    {
     "name": "stderr",
     "output_type": "stream",
     "text": [
      "Processing PDFs:  60%|██████    | 504/838 [13:24<09:05,  1.63s/it]"
     ]
    },
    {
     "name": "stdout",
     "output_type": "stream",
     "text": [
      "Extracted Information for Operator_-_Plasma_Cutter.pdf:\n",
      "Job Title: ISC/Q0910: Operator - Plasma Cutter\n",
      "Job Description: The individual is primarily involved in performing cutting process and other activities such as inspection of equipment condition, gauging, testing and inspection of cut work pieces.\n",
      "Performance Criteria: \n",
      "================================================================================\n"
     ]
    },
    {
     "name": "stderr",
     "output_type": "stream",
     "text": [
      "Processing PDFs:  60%|██████    | 505/838 [13:26<09:15,  1.67s/it]"
     ]
    },
    {
     "name": "stdout",
     "output_type": "stream",
     "text": [
      "Extracted Information for Operator_-_Plasma_Cutter.pdf:\n",
      "Job Title: ISC/Q0910: Operator - Plasma Cutter\n",
      "Job Description: The individual is primarily involved in performing cutting process and other activities such as inspection of equipment condition, gauging, testing and inspection of cut work pieces.\n",
      "Performance Criteria: \n",
      "================================================================================\n"
     ]
    },
    {
     "name": "stderr",
     "output_type": "stream",
     "text": [
      "Processing PDFs:  60%|██████    | 506/838 [13:28<09:26,  1.71s/it]"
     ]
    },
    {
     "name": "stdout",
     "output_type": "stream",
     "text": [
      "Extracted Information for Operator_-_Plasma_Cutter.pdf:\n",
      "Job Title: ISC/Q0910: Operator - Plasma Cutter\n",
      "Job Description: The individual is primarily involved in performing cutting process and other activities such as inspection of equipment condition, gauging, testing and inspection of cut work pieces.\n",
      "Performance Criteria: \n",
      "================================================================================\n"
     ]
    },
    {
     "name": "stderr",
     "output_type": "stream",
     "text": [
      "Processing PDFs:  61%|██████    | 507/838 [13:29<09:00,  1.63s/it]"
     ]
    },
    {
     "name": "stdout",
     "output_type": "stream",
     "text": [
      "Extracted Information for Gas_Tungsten_Arc_Welding_(GTAW).pdf:\n",
      "Job Title: ISC/Q0911: Gas Tungsten Arc Welding (GTAW)\n",
      "Job Description: This job is all about performing manual TIG (GTAW) welding for a range of standard welding job requirements. This is for a skilled welder who can weld diﬀerent materials (carbon steel, aluminium, nickel, titanium, copper and stainless steel) in various positions and prepare various joints including corner, butt, ﬁllet and tee. Set-up and prepare for operations interpreting the right information from the WPS.\n",
      "Performance Criteria: \n",
      "================================================================================\n"
     ]
    },
    {
     "name": "stderr",
     "output_type": "stream",
     "text": [
      "Processing PDFs:  61%|██████    | 508/838 [13:31<08:19,  1.51s/it]"
     ]
    },
    {
     "name": "stdout",
     "output_type": "stream",
     "text": [
      "Extracted Information for Welder_-_(GTAW).pdf:\n",
      "Job Title: ISC/Q0911: Welder - (GTAW)\n",
      "Job Description: The individual is primarily involved in performing GTAW welding process and other welding activities such as inspection of equipment condition, gauging, testing and inspection of welded work pieces.\n",
      "Performance Criteria: \n",
      "================================================================================\n"
     ]
    },
    {
     "name": "stderr",
     "output_type": "stream",
     "text": [
      "Processing PDFs:  61%|██████    | 509/838 [13:32<07:57,  1.45s/it]"
     ]
    },
    {
     "name": "stdout",
     "output_type": "stream",
     "text": [
      "Extracted Information for Welder_-_(GTAW).pdf:\n",
      "Job Title: ISC/Q0911: Welder - (GTAW)\n",
      "Job Description: The individual is primarily involved in performing GTAW welding process and other welding activities such as inspection of equipment condition, gauging, testing and inspection of welded work pieces.\n",
      "Performance Criteria: \n",
      "================================================================================\n"
     ]
    },
    {
     "name": "stderr",
     "output_type": "stream",
     "text": [
      "Processing PDFs:  61%|██████    | 510/838 [13:33<07:36,  1.39s/it]"
     ]
    },
    {
     "name": "stdout",
     "output_type": "stream",
     "text": [
      "Extracted Information for Welder_-_(GTAW).pdf:\n",
      "Job Title: ISC/Q0911: Welder - (GTAW)\n",
      "Job Description: The individual is primarily involved in performing GTAW welding process and other welding activities such as inspection of equipment condition, gauging, testing and inspection of welded work pieces.\n",
      "Performance Criteria: \n",
      "================================================================================\n"
     ]
    },
    {
     "name": "stderr",
     "output_type": "stream",
     "text": [
      "Processing PDFs:  61%|██████    | 511/838 [13:35<08:53,  1.63s/it]"
     ]
    },
    {
     "name": "stdout",
     "output_type": "stream",
     "text": [
      "Extracted Information for Metal_Fabricator_-_Iron_and_Steel.pdf:\n",
      "Job Title: ISC/Q0914: Metal Fabricator - Iron and Steel\n",
      "Job Description: Perform manual fabrication operations for Steel like material cutting using oxy fuel gas cutting, welding using multiple welding processes like SMAW, Tungsten Inert Arc Welding (GTAW) and Metal Inert Gas Welding for welding joints in all positions as per Welding Procedure Speciﬁcation.\n",
      "Performance Criteria: \n",
      "================================================================================\n"
     ]
    },
    {
     "name": "stderr",
     "output_type": "stream",
     "text": [
      "Processing PDFs:  61%|██████    | 512/838 [13:37<08:27,  1.56s/it]"
     ]
    },
    {
     "name": "stdout",
     "output_type": "stream",
     "text": [
      "Extracted Information for Fitter_Electrical_Assembly.pdf:\n",
      "Job Title: ISC/Q1001: Fitter Electrical Assembly\n",
      "Job Description: This job is all about identifying the operations required to assemble various components of the machine by studying their engineering drawings, ﬁtting diﬀerent components of the machine and testing the assembled machine\n",
      "Performance Criteria: \n",
      "================================================================================\n"
     ]
    },
    {
     "name": "stderr",
     "output_type": "stream",
     "text": [
      "Processing PDFs:  61%|██████    | 513/838 [13:38<08:28,  1.56s/it]"
     ]
    },
    {
     "name": "stdout",
     "output_type": "stream",
     "text": [
      "Extracted Information for Assistant_-_Electrician.pdf:\n",
      "Job Title: ISC/Q1001: Assistant - Electrician\n",
      "Job Description: The individual in this role performs installation and assembly of machine/electrical panels and their various components.\n",
      "Performance Criteria: \n",
      "================================================================================\n"
     ]
    },
    {
     "name": "stderr",
     "output_type": "stream",
     "text": [
      "Processing PDFs:  61%|██████▏   | 514/838 [13:40<08:32,  1.58s/it]"
     ]
    },
    {
     "name": "stdout",
     "output_type": "stream",
     "text": [
      "Extracted Information for Assistant_-_Electrician.pdf:\n",
      "Job Title: ISC/Q1001: Assistant - Electrician\n",
      "Job Description: The individual in this role performs installation and assembly of machine/electrical panels and their various components.\n",
      "Performance Criteria: \n",
      "================================================================================\n"
     ]
    },
    {
     "name": "stderr",
     "output_type": "stream",
     "text": [
      "Processing PDFs:  61%|██████▏   | 515/838 [13:42<08:35,  1.59s/it]"
     ]
    },
    {
     "name": "stdout",
     "output_type": "stream",
     "text": [
      "Extracted Information for Assistant_-_Electrician.pdf:\n",
      "Job Title: ISC/Q1001: Assistant - Electrician\n",
      "Job Description: The individual in this role performs installation and assembly of machine/electrical panels and their various components.\n",
      "Performance Criteria: \n",
      "================================================================================\n"
     ]
    },
    {
     "name": "stderr",
     "output_type": "stream",
     "text": [
      "Processing PDFs:  62%|██████▏   | 516/838 [13:43<08:18,  1.55s/it]"
     ]
    },
    {
     "name": "stdout",
     "output_type": "stream",
     "text": [
      "Extracted Information for Fitter_Electronic_Assembly.pdf:\n",
      "Job Title: ISC/Q1101: Fitter Electronic Assembly\n",
      "Job Description: This job is all about assembling and wiring up electronic equipment and systems to mechanical equipment. It involves the assembly of the electronic products, inclusive of components, sub-assemblies, or completed equipment/systems. Along with soldering techniques and anti-static protection techniques assemble with the mechanical equipment.\n",
      "Performance Criteria: \n",
      "================================================================================\n"
     ]
    },
    {
     "name": "stderr",
     "output_type": "stream",
     "text": [
      "Processing PDFs:  62%|██████▏   | 517/838 [13:45<08:19,  1.56s/it]"
     ]
    },
    {
     "name": "stdout",
     "output_type": "stream",
     "text": [
      "Extracted Information for Assistant_Electronic_Mechanic.pdf:\n",
      "Job Title: ISC/Q1101: Assistant Electronic Mechanic\n",
      "Job Description: The individual in this role performs assembling and wiring up of electronic equipment and systems to mechanical equipment.\n",
      "Performance Criteria: \n",
      "================================================================================\n"
     ]
    },
    {
     "name": "stderr",
     "output_type": "stream",
     "text": [
      "Processing PDFs:  62%|██████▏   | 518/838 [13:46<08:17,  1.55s/it]"
     ]
    },
    {
     "name": "stdout",
     "output_type": "stream",
     "text": [
      "Extracted Information for Assistant_Electronic_Mechanic.pdf:\n",
      "Job Title: ISC/Q1101: Assistant Electronic Mechanic\n",
      "Job Description: The individual in this role performs assembling and wiring up of electronic equipment and systems to mechanical equipment.\n",
      "Performance Criteria: \n",
      "================================================================================\n"
     ]
    },
    {
     "name": "stderr",
     "output_type": "stream",
     "text": [
      "Processing PDFs:  62%|██████▏   | 519/838 [13:48<08:20,  1.57s/it]"
     ]
    },
    {
     "name": "stdout",
     "output_type": "stream",
     "text": [
      "Extracted Information for Assistant_Electronic_Mechanic.pdf:\n",
      "Job Title: ISC/Q1101: Assistant Electronic Mechanic\n",
      "Job Description: The individual in this role performs assembling and wiring up of electronic equipment and systems to mechanical equipment.\n",
      "Performance Criteria: \n",
      "================================================================================\n"
     ]
    },
    {
     "name": "stderr",
     "output_type": "stream",
     "text": [
      "Processing PDFs:  62%|██████▏   | 520/838 [13:49<07:53,  1.49s/it]"
     ]
    },
    {
     "name": "stdout",
     "output_type": "stream",
     "text": [
      "Extracted Information for Fitter_Instrumentation.pdf:\n",
      "Job Title: ISC/Q1102: Fitter Instrumentation\n",
      "Job Description: This job is all about installing, dismantling, removing, replacing a range of components down to subassembly level right from pick-up unit / point of measurement and linking either directly to the instrument or to the instrument panel. This also involves making suitable slot on panel and ﬁxing instrument and its associated parts under supervision of Technician Instrumentation.\n",
      "Performance Criteria: \n",
      "================================================================================\n"
     ]
    },
    {
     "name": "stderr",
     "output_type": "stream",
     "text": [
      "Processing PDFs:  62%|██████▏   | 521/838 [13:50<07:30,  1.42s/it]"
     ]
    },
    {
     "name": "stdout",
     "output_type": "stream",
     "text": [
      "Extracted Information for Assistant_Mechanic_-_Instrumentation.pdf:\n",
      "Job Title: ISC/Q1102: Assistant Mechanic - Instrumentation\n",
      "Job Description: The individual in this role performs installation, maintenance, testing and calibration of measuring and control equipment.\n",
      "Performance Criteria: \n",
      "================================================================================\n"
     ]
    },
    {
     "name": "stderr",
     "output_type": "stream",
     "text": [
      "Processing PDFs:  62%|██████▏   | 522/838 [13:52<07:26,  1.41s/it]"
     ]
    },
    {
     "name": "stdout",
     "output_type": "stream",
     "text": [
      "Extracted Information for Assistant_Mechanic_-_Instrumentation.pdf:\n",
      "Job Title: ISC/Q1102: Assistant Mechanic - Instrumentation\n",
      "Job Description: The individual in this role performs installation, maintenance, testing and calibration of measuring and control equipment.\n",
      "Performance Criteria: \n",
      "================================================================================\n"
     ]
    },
    {
     "name": "stderr",
     "output_type": "stream",
     "text": [
      "Processing PDFs:  62%|██████▏   | 523/838 [13:53<07:16,  1.39s/it]"
     ]
    },
    {
     "name": "stdout",
     "output_type": "stream",
     "text": [
      "Extracted Information for Assistant_Mechanic_-_Instrumentation.pdf:\n",
      "Job Title: ISC/Q1102: Assistant Mechanic - Instrumentation\n",
      "Job Description: The individual in this role performs installation, maintenance, testing and calibration of measuring and control equipment.\n",
      "Performance Criteria: \n",
      "================================================================================\n"
     ]
    },
    {
     "name": "stderr",
     "output_type": "stream",
     "text": [
      "Processing PDFs:  63%|██████▎   | 524/838 [13:55<07:30,  1.44s/it]"
     ]
    },
    {
     "name": "stdout",
     "output_type": "stream",
     "text": [
      "Extracted Information for Refractory_Brick_Layer.pdf:\n",
      "Job Title: ISC/Q1201: Refractory Brick Layer\n",
      "Job Description: The individual in this role performs laying of right quality of refractory bricks with the right mortar in the designated areas in a steel plant, according to design speciﬁcation.\n",
      "Performance Criteria: \n",
      "================================================================================\n"
     ]
    },
    {
     "name": "stderr",
     "output_type": "stream",
     "text": [
      "Processing PDFs:  63%|██████▎   | 525/838 [13:57<09:14,  1.77s/it]"
     ]
    },
    {
     "name": "stdout",
     "output_type": "stream",
     "text": [
      "Extracted Information for Process_Control_Engineer_-_Basic_Oxygen_Furnace_(BOF).pdf:\n",
      "Job Title: ISC/Q1401: Process Control Engineer - Basic Oxygen Furnace (BOF)\n",
      "Job Description: The individual in this role coordinate and monitor the operation of Basic Oxygen Furnace (BOF) and its associated functions.\n",
      "Performance Criteria: \n",
      "================================================================================\n"
     ]
    },
    {
     "name": "stderr",
     "output_type": "stream",
     "text": [
      "Processing PDFs:  63%|██████▎   | 526/838 [13:59<10:09,  1.95s/it]"
     ]
    },
    {
     "name": "stdout",
     "output_type": "stream",
     "text": [
      "Extracted Information for Electric_Arc_Furnace_(EAF)-_Process_Control_Engineer.pdf:\n",
      "Job Title: ISC/Q1403: Electric Arc Furnace (EAF)- Process Control Engineer\n",
      "Job Description: The individual in this role coordinate and monitor the operation of Electric Arc Furnace(EAF) and its associated functions.\n",
      "Performance Criteria: \n",
      "================================================================================\n"
     ]
    },
    {
     "name": "stderr",
     "output_type": "stream",
     "text": [
      "Processing PDFs:  63%|██████▎   | 527/838 [14:01<10:12,  1.97s/it]"
     ]
    },
    {
     "name": "stdout",
     "output_type": "stream",
     "text": [
      "Extracted Information for Prefabricated_Structure_Installer.pdf:\n",
      "Job Title: ISC/Q1601: Prefabricated Structure Installer\n",
      "Job Description: Individual at this job is responsible for Prefabrication structure Installation reﬂects the role of onsite installers and/or assemblers who install prefabricated or modular building elements onsite in a team and time constrained environment.\n",
      "Performance Criteria: \n",
      "================================================================================\n"
     ]
    },
    {
     "name": "stderr",
     "output_type": "stream",
     "text": [
      "Processing PDFs:  63%|██████▎   | 528/838 [14:03<09:20,  1.81s/it]"
     ]
    },
    {
     "name": "stdout",
     "output_type": "stream",
     "text": [
      "Extracted Information for Suraksha_Saathi.pdf:\n",
      "Job Title: ISC/Q1701: Suraksha Saathi\n",
      "Job Description: The individual in this role follows health and safety procedures speciﬁed by an organization to maintain safety of self and others at workplace.\n",
      "Performance Criteria: \n",
      "================================================================================\n"
     ]
    },
    {
     "name": "stderr",
     "output_type": "stream",
     "text": [
      "Processing PDFs:  63%|██████▎   | 529/838 [14:04<08:26,  1.64s/it]"
     ]
    },
    {
     "name": "stdout",
     "output_type": "stream",
     "text": [
      "Extracted Information for Kamgar_(Mining).pdf:\n",
      "Job Title: MIN/Q0502: Kamgar (Mining)\n",
      "Job Description: A Kamgar performs material handling and cleaning activities in the mining area.\n",
      "Performance Criteria: \n",
      "================================================================================\n"
     ]
    },
    {
     "name": "stderr",
     "output_type": "stream",
     "text": [
      "Processing PDFs:  63%|██████▎   | 530/838 [14:05<07:45,  1.51s/it]"
     ]
    },
    {
     "name": "stdout",
     "output_type": "stream",
     "text": [
      "Extracted Information for Assistant-Opencast_Mines.pdf:\n",
      "Job Title: MIN/Q1101: Assistant-Opencast Mines\n",
      "Job Description: The Assistant in an Open Cast Mine assists the Operator/ Fitter/ Technician in handling material, pre- operational checks, servicing Heavy Earth Moving Machinery (HEMM), shifting and operation of open cast machines, and installation and maintenance of electrical systems and equipment.\n",
      "Performance Criteria: \n",
      "================================================================================\n"
     ]
    },
    {
     "name": "stderr",
     "output_type": "stream",
     "text": [
      "Processing PDFs:  63%|██████▎   | 531/838 [14:07<07:28,  1.46s/it]"
     ]
    },
    {
     "name": "stdout",
     "output_type": "stream",
     "text": [
      "Extracted Information for Assistant-Underground_Mines.pdf:\n",
      "Job Title: MIN/Q1102: Assistant-Underground Mines\n",
      "Job Description: The Assistant in an Underground Mine assists the Operator/ Fitter/ Technician in handling material, pre- operational checks, servicing Heavy Earth Moving Machinery (HEMM), shifting and operation of underground machines, and installation and maintenance of electrical systems and equipment.\n",
      "Performance Criteria: \n",
      "================================================================================\n"
     ]
    },
    {
     "name": "stderr",
     "output_type": "stream",
     "text": [
      "Processing PDFs:  63%|██████▎   | 532/838 [14:08<07:08,  1.40s/it]"
     ]
    },
    {
     "name": "stdout",
     "output_type": "stream",
     "text": [
      "Extracted Information for Assistant-Mine_Surveyor.pdf:\n",
      "Job Title: MIN/Q1103: Assistant-Mine Surveyor\n",
      "Job Description: An Assistant-Mine Surveyor assists in measuring and setting out dimensional control, setting out secondary dimensional work control, and handling resources to assist surveyor\n",
      "Performance Criteria: \n",
      "================================================================================\n"
     ]
    },
    {
     "name": "stderr",
     "output_type": "stream",
     "text": [
      "Processing PDFs:  64%|██████▎   | 533/838 [14:09<07:02,  1.39s/it]"
     ]
    },
    {
     "name": "stdout",
     "output_type": "stream",
     "text": [
      "Extracted Information for Wire_Saw__Operator.pdf:\n",
      "Job Title: MIN/Q1201: Wire Saw Operator\n",
      "Job Description: Wire Saw operator drives and operates a Wire Saw machine to cut large dimension stone blocks of granite, marble, limestone, slate, sandstone etc. into smaller blocks.They also ensure that the safety systems are working correctly and perform essential maintenance on the Wire Saw.\n",
      "Performance Criteria: \n",
      "================================================================================\n"
     ]
    },
    {
     "name": "stderr",
     "output_type": "stream",
     "text": [
      "Processing PDFs:  64%|██████▎   | 534/838 [14:13<09:54,  1.96s/it]"
     ]
    },
    {
     "name": "stdout",
     "output_type": "stream",
     "text": [
      "Extracted Information for Jack__Hammer_Operator.pdf:\n",
      "Job Title: MIN/Q1202: Jack Hammer Operator\n",
      "Job Description: The Jack Hammer Operator drives and controls a Jack Hammer machine in mines (both opencast and underground) or construction site to drilling a hole in the rock and break up rocks, concretes or mines surfaces. Directs and facilities scaling of loose rocks and mucking of broken ore or waste rock from the worksite. Operators are also responsible to ensure all safety systems are in place and performing basic maintenance on the Jack Hammer.\n",
      "Performance Criteria: \n",
      "================================================================================\n"
     ]
    },
    {
     "name": "stderr",
     "output_type": "stream",
     "text": [
      "Processing PDFs:  64%|██████▍   | 535/838 [14:14<09:03,  1.79s/it]"
     ]
    },
    {
     "name": "stdout",
     "output_type": "stream",
     "text": [
      "Extracted Information for Jumbo_Drill_Operator.pdf:\n",
      "Job Title: MIN/Q1203: Jumbo Drill Operator\n",
      "Job Description: A Jumbo Drill operator is responsible for the operation of a single/double/multi boom jumbo drilling rig for underground mine development and installation of roof and side support. Jumbo drill operator requires the knowledge of layout of mine workings, cross-sectional dimensions of working face, drilling and blasting pattern and design, roof and side support plan as per approved SSR (Systematic Support Rule), operation and maintenance module of jumbo drill machine. Individual will be a major contributor in increasing and enhancing the productivity of machine and manpower safety at workplace.\n",
      "Performance Criteria: \n",
      "================================================================================\n"
     ]
    },
    {
     "name": "stderr",
     "output_type": "stream",
     "text": [
      "Processing PDFs:  64%|██████▍   | 537/838 [14:17<08:47,  1.75s/it]"
     ]
    },
    {
     "name": "stdout",
     "output_type": "stream",
     "text": [
      "Extracted Information for Rig-Mounted_Drill_Operator.pdf:\n",
      "Job Title: MIN/Q1205: Rig-Mounted Drill Operator\n",
      "Job Description: A rig-mounted drill operator prepares the drill rig, performs drill operations, carries out maintenance and troubleshooting, as well as follows proper reporting and documentation procedures.\n",
      "Performance Criteria: \n",
      "================================================================================\n"
     ]
    },
    {
     "name": "stderr",
     "output_type": "stream",
     "text": [
      "Processing PDFs:  64%|██████▍   | 538/838 [14:23<14:20,  2.87s/it]"
     ]
    },
    {
     "name": "stdout",
     "output_type": "stream",
     "text": [
      "Extracted Information for Driver_Special_Utility_Vehicle.pdf:\n",
      "Job Title: MIN/Q1301: Driver Special Utility Vehicle\n",
      "Job Description: Driver Special Utility Vehicle in mining industry is an ancillary job role. The individual assigned in this role could be driving a sprinkler truck to control dust on a haul-road or an explosive carrier truck used to deliver explosives to mine sites or other vehicle used in mining such as maintenance van, personal carrier, scissor lift etc. The role requires the individual to know and understand the basic of mining operations, traﬃc rules to be followed in the mining area and safety guidelines for mining operations in line with MVTR.\n",
      "Performance Criteria: \n",
      "================================================================================\n"
     ]
    },
    {
     "name": "stderr",
     "output_type": "stream",
     "text": [
      "Processing PDFs:  64%|██████▍   | 540/838 [14:25<09:52,  1.99s/it]"
     ]
    },
    {
     "name": "stdout",
     "output_type": "stream",
     "text": [
      "Extracted Information for Bulldozer__Operator.pdf:\n",
      "Job Title: MIN/Q1401: Bulldozer Operator\n",
      "Job Description: The bulldozer operator uses the bulldozer to scoop out soil, move rocks and ore to other site of the location and level the ground. They are also responsible for conﬁrming that the safety systems are working correctly and performing essential maintenance on the bulldozer.\n",
      "Performance Criteria: \n",
      "================================================================================\n"
     ]
    },
    {
     "name": "stderr",
     "output_type": "stream",
     "text": [
      "Processing PDFs:  65%|██████▍   | 542/838 [14:28<08:17,  1.68s/it]"
     ]
    },
    {
     "name": "stdout",
     "output_type": "stream",
     "text": [
      "Extracted Information for Loader__Operator_(Mining).pdf:\n",
      "Job Title: MIN/Q1403: Loader Operator (Mining)\n",
      "Job Description: The Loader operator uses the Loader - O/C (Opencast mines) for moving aside or loading ROM (Run-Of- Mine), product etc, into or onto diﬀerent types of machinery (such as dumper/tipper, conveyor belt, feed- hopper etc,).They also ensure that the safety systems are working correctly and perform essential maintenance on the Loader.\n",
      "Performance Criteria: \n",
      "================================================================================\n"
     ]
    },
    {
     "name": "stderr",
     "output_type": "stream",
     "text": [
      "Processing PDFs:  65%|██████▍   | 543/838 [14:29<07:51,  1.60s/it]"
     ]
    },
    {
     "name": "stdout",
     "output_type": "stream",
     "text": [
      "Extracted Information for Grader_Machine_Operator.pdf:\n",
      "Job Title: MIN/Q1405: Grader Machine Operator\n",
      "Job Description: A grader operator prepares the grader for operations, conducts routine maintenance, performs the grader operations, and transports the grader.\n",
      "Performance Criteria: \n",
      "================================================================================\n"
     ]
    },
    {
     "name": "stderr",
     "output_type": "stream",
     "text": [
      "Processing PDFs:  65%|██████▍   | 544/838 [14:30<07:20,  1.50s/it]"
     ]
    },
    {
     "name": "stdout",
     "output_type": "stream",
     "text": [
      "Extracted Information for Winding__Operator.pdf:\n",
      "Job Title: MIN/Q1503: Winding Operator\n",
      "Job Description: Winding Operator (Winding Engine Driver/Operator) operates steam, diesel, or electric-driven equipment to raise or lower cage or skip with men or materials through vertical or inclined mine shaft according to a signal from the surface or underground workers, and may attend to minor repairs.\n",
      "Performance Criteria: \n",
      "================================================================================\n"
     ]
    },
    {
     "name": "stderr",
     "output_type": "stream",
     "text": [
      "Processing PDFs:  65%|██████▌   | 545/838 [14:32<06:57,  1.42s/it]"
     ]
    },
    {
     "name": "stdout",
     "output_type": "stream",
     "text": [
      "Extracted Information for Loader_Operator-Underground.pdf:\n",
      "Job Title: MIN/Q1504: Loader Operator-Underground\n",
      "Job Description: A Side Discharge Loader (SDL)/ Load Haul Dump (LHD) operator prepares the SDL/LHD/Other loading machines for operation, operates the machine and performs routine maintenance and troubleshooting of the machine.\n",
      "Performance Criteria: \n",
      "================================================================================\n"
     ]
    },
    {
     "name": "stderr",
     "output_type": "stream",
     "text": [
      "Processing PDFs:  65%|██████▌   | 546/838 [14:35<09:40,  1.99s/it]"
     ]
    },
    {
     "name": "stdout",
     "output_type": "stream",
     "text": [
      "Extracted Information for Mine_Roof_Bolter.pdf:\n",
      "Job Title: MIN/Q1601: Mine Roof Bolter\n",
      "Job Description: A Mine Roof Bolter recognizes processes and equipment requirements for roof bolting and conducts the roof bolting process.\n",
      "Performance Criteria: \n",
      "================================================================================\n"
     ]
    },
    {
     "name": "stderr",
     "output_type": "stream",
     "text": [
      "Processing PDFs:  65%|██████▌   | 547/838 [14:36<08:40,  1.79s/it]"
     ]
    },
    {
     "name": "stdout",
     "output_type": "stream",
     "text": [
      "Extracted Information for Ventilation_Checker_cum_Fan_Operator.pdf:\n",
      "Job Title: MIN/Q1602: Ventilation Checker cum Fan Operator\n",
      "Job Description: A Ventilation Checker cum Fan Operator conducts pre-operation checks of ventilation fans and operates and runs them.\n",
      "Performance Criteria: \n",
      "================================================================================\n"
     ]
    },
    {
     "name": "stderr",
     "output_type": "stream",
     "text": [
      "Processing PDFs:  65%|██████▌   | 548/838 [14:38<08:32,  1.77s/it]"
     ]
    },
    {
     "name": "stdout",
     "output_type": "stream",
     "text": [
      "Extracted Information for Coal_Bed_Methane_(CBM)_Extraction_Operator.pdf:\n",
      "Job Title: MIN/Q1605: Coal Bed Methane (CBM) Extraction Operator\n",
      "Job Description: The individual in this role is responsible for operating and maintaining methane extraction unit to extract methane from the coal bed.\n",
      "Performance Criteria: \n",
      "================================================================================\n"
     ]
    },
    {
     "name": "stderr",
     "output_type": "stream",
     "text": [
      "Processing PDFs:  66%|██████▌   | 549/838 [14:41<10:21,  2.15s/it]"
     ]
    },
    {
     "name": "stdout",
     "output_type": "stream",
     "text": [
      "Extracted Information for Mining_Rescuer.pdf:\n",
      "Job Title: MIN/Q1701: Mining Rescuer\n",
      "Job Description: This job role refers to any person who rescues people who have come under accident by ﬁre, gaseous hazards, work at height, inundation, conﬁned space hazards, etc.\n",
      "Performance Criteria: \n",
      "================================================================================\n"
     ]
    },
    {
     "name": "stderr",
     "output_type": "stream",
     "text": [
      "Processing PDFs:  66%|██████▌   | 550/838 [14:43<09:59,  2.08s/it]"
     ]
    },
    {
     "name": "stdout",
     "output_type": "stream",
     "text": [
      "Extracted Information for Mineral_Processing_Technician.pdf:\n",
      "Job Title: MIN/Q1804: Mineral Processing Technician\n",
      "Job Description: A Mineral Processing Technician eﬃciently processes mineral ores and employs specialized techniques, including magnetic and electrostatic separation, to extract valuable minerals while adhering to quality and safety standards in the industry.\n",
      "Performance Criteria: \n",
      "================================================================================\n"
     ]
    },
    {
     "name": "stderr",
     "output_type": "stream",
     "text": [
      "Processing PDFs:  66%|██████▌   | 551/838 [14:44<08:59,  1.88s/it]"
     ]
    },
    {
     "name": "stdout",
     "output_type": "stream",
     "text": [
      "Extracted Information for Mining_Supervisor_(Mineral_Sands).pdf:\n",
      "Job Title: MIN/Q1805: Mining Supervisor (Mineral Sands)\n",
      "Job Description: A Mining Supervisor (Mineral Sands) supervises mine workers and coordinates various mine activities, including organizing and monitoring workﬂow for various processes. The individual is responsible for ensuring compliance with the applicable regulatory requirements and safety procedures at mining sites.\n",
      "Performance Criteria: \n",
      "================================================================================\n"
     ]
    },
    {
     "name": "stderr",
     "output_type": "stream",
     "text": [
      "Processing PDFs:  66%|██████▌   | 552/838 [14:49<13:17,  2.79s/it]"
     ]
    },
    {
     "name": "stdout",
     "output_type": "stream",
     "text": [
      "Extracted Information for Rare_Earths_Extraction_Plant_Operator.pdf:\n",
      "Job Title: MIN/Q1806: Rare Earths Extraction Plant Operator\n",
      "Job Description: A Rare Earths Extraction Plant Operator is responsible for conducting the extraction of rare earth using appropriate equipment and following the applicable processes including health and safety at the worksite.\n",
      "Performance Criteria: \n",
      "================================================================================\n"
     ]
    },
    {
     "name": "stderr",
     "output_type": "stream",
     "text": [
      "Processing PDFs:  66%|██████▌   | 553/838 [14:51<11:59,  2.53s/it]"
     ]
    },
    {
     "name": "stdout",
     "output_type": "stream",
     "text": [
      "Extracted Information for Mine__Electrician.pdf:\n",
      "Job Title: MIN/Q3101: Mine Electrician\n",
      "Job Description: Mine Electrician ensures installation, operation and maintenance (O&M) of the electrical substations, equipment and electrical supply system. The role holder also ensures that all the electrical systems and machinery work is in accordance with relevant speciﬁcations for opencast and underground mines (including gassy mines).\n",
      "Performance Criteria: \n",
      "================================================================================\n"
     ]
    },
    {
     "name": "stderr",
     "output_type": "stream",
     "text": [
      "Processing PDFs:  66%|██████▌   | 554/838 [14:52<10:15,  2.17s/it]"
     ]
    },
    {
     "name": "stdout",
     "output_type": "stream",
     "text": [
      "Extracted Information for HEMM_Electrician.pdf:\n",
      "Job Title: MIN/Q3102: HEMM Electrician\n",
      "Job Description: The individual in this role is responsible for the service, maintenance, repair and overhaul of electrical and electronic aggregates of HEMM available in mine.\n",
      "Performance Criteria: \n",
      "================================================================================\n"
     ]
    },
    {
     "name": "stderr",
     "output_type": "stream",
     "text": [
      "Processing PDFs:  66%|██████▌   | 555/838 [14:54<09:01,  1.91s/it]"
     ]
    },
    {
     "name": "stdout",
     "output_type": "stream",
     "text": [
      "Extracted Information for Electrician_(Mineral_Sands).pdf:\n",
      "Job Title: MIN/Q3104: Electrician (Mineral Sands)\n",
      "Job Description: An Electrician (Mineral Sands) is responsible for the Operation and Maintenance (O&M) of the installed equipment and electrical supply system.\n",
      "Performance Criteria: \n",
      "================================================================================\n"
     ]
    },
    {
     "name": "stderr",
     "output_type": "stream",
     "text": [
      "Processing PDFs:  66%|██████▋   | 556/838 [14:55<08:09,  1.73s/it]"
     ]
    },
    {
     "name": "stdout",
     "output_type": "stream",
     "text": [
      "Extracted Information for Mine__Welder.pdf:\n",
      "Job Title: MIN/Q3201: Mine Welder\n",
      "Job Description: A mine welder is responsible for joining various types of metallic frames, structures, jigs, plates, sheets etc. using heating and melting process created through electrical power and gaseous discharge, maintaining process parameters, conducting quality checks on output product and maintaining a safe and healthy working environment.\n",
      "Performance Criteria: \n",
      "================================================================================\n"
     ]
    },
    {
     "name": "stderr",
     "output_type": "stream",
     "text": [
      "Processing PDFs:  66%|██████▋   | 557/838 [14:56<07:36,  1.63s/it]"
     ]
    },
    {
     "name": "stdout",
     "output_type": "stream",
     "text": [
      "Extracted Information for HEMM__Mechanic.pdf:\n",
      "Job Title: MIN/Q3202: HEMM Mechanic\n",
      "Job Description: The HEMM mechanic is responsible for diagnoses, repairs, overhauls and services of Heavy Earth Moving Machinery (HEMM) to keep them in good running order. Also carries out repairs and maintenance of internal combustion engines and the various components of a Heavy Earth Moving Machine like transmission, torque converter, power train, ﬁnal drive, compressor, hydraulic systems and operational control systems etc. also maintains all the relevant records, draws requirements of consumables and spare parts.\n",
      "Performance Criteria: \n",
      "================================================================================\n"
     ]
    },
    {
     "name": "stderr",
     "output_type": "stream",
     "text": [
      "Processing PDFs:  67%|██████▋   | 559/838 [15:01<09:27,  2.03s/it]"
     ]
    },
    {
     "name": "stdout",
     "output_type": "stream",
     "text": [
      "Extracted Information for Compressor__Operator.pdf:\n",
      "Job Title: MIN/Q3204: Compressor Operator\n",
      "Job Description: A Compressor Operator recognizes processes and equipment requirements, prepares the compressor, and operates the compression apparatus.\n",
      "Performance Criteria: \n",
      "================================================================================\n"
     ]
    },
    {
     "name": "stderr",
     "output_type": "stream",
     "text": [
      "Processing PDFs:  67%|██████▋   | 560/838 [15:04<11:14,  2.43s/it]"
     ]
    },
    {
     "name": "stdout",
     "output_type": "stream",
     "text": [
      "Extracted Information for Pump_Operator-Mining.pdf:\n",
      "Job Title: MIN/Q3205: Pump Operator-Mining\n",
      "Job Description: A Pump Operator-Mining conducts the pre-operation checks, and operates the pump, taking care of health, safety, and environment.\n",
      "Performance Criteria: \n",
      "================================================================================\n"
     ]
    },
    {
     "name": "stderr",
     "output_type": "stream",
     "text": [
      "Processing PDFs:  67%|██████▋   | 561/838 [15:06<09:58,  2.16s/it]"
     ]
    },
    {
     "name": "stdout",
     "output_type": "stream",
     "text": [
      "Extracted Information for Mechanic_-Fitter_(Mineral_Sands).pdf:\n",
      "Job Title: MIN/Q3211: Mechanic -Fitter (Mineral Sands)\n",
      "Job Description: A Mechanic Fitter (Mineral Sands) is responsible for the maintenance and repair of diﬀerent types of processing and material handling equipment used in dredging and SMPs unit, mineral separation plant, and rare earth extraction plant.\n",
      "Performance Criteria: \n",
      "================================================================================\n"
     ]
    },
    {
     "name": "stderr",
     "output_type": "stream",
     "text": [
      "Processing PDFs:  67%|██████▋   | 562/838 [15:07<08:43,  1.90s/it]"
     ]
    },
    {
     "name": "stdout",
     "output_type": "stream",
     "text": [
      "Extracted Information for Instrumentation_Technician_(Mineral_Sands).pdf:\n",
      "Job Title: MIN/Q3302: Instrumentation Technician (Mineral Sands)\n",
      "Job Description: An Instrumentation Technician (Mineral Sands) is responsible for monitoring, maintaining and repairing the processing tools and equipment used in rare earth mining.\n",
      "Performance Criteria: \n",
      "================================================================================\n"
     ]
    },
    {
     "name": "stderr",
     "output_type": "stream",
     "text": [
      "Processing PDFs:  67%|██████▋   | 563/838 [15:09<08:01,  1.75s/it]"
     ]
    },
    {
     "name": "stdout",
     "output_type": "stream",
     "text": [
      "Extracted Information for Mineral_Processing_Operator.pdf:\n",
      "Job Title: MIN/Q4101: Mineral Processing Operator\n",
      "Job Description: Mineral Processing Operator is engaged in mineral beneﬁciation in setting up crushing, screening, straining, washing, precipitating and other processes like leaching, ﬂoating and tailing management according to section in which posted and duties assigned and ensures proper working condition.\n",
      "Performance Criteria: \n",
      "================================================================================\n"
     ]
    },
    {
     "name": "stderr",
     "output_type": "stream",
     "text": [
      "Processing PDFs:  67%|██████▋   | 564/838 [15:10<07:08,  1.56s/it]"
     ]
    },
    {
     "name": "stdout",
     "output_type": "stream",
     "text": [
      "Extracted Information for GHG_Accounting_and_Sustainability_Reporting.pdf:\n",
      "Error: No valid job information extracted from the text.\n",
      "================================================================================\n"
     ]
    },
    {
     "name": "stderr",
     "output_type": "stream",
     "text": [
      "Processing PDFs:  67%|██████▋   | 565/838 [15:12<07:54,  1.74s/it]"
     ]
    },
    {
     "name": "stdout",
     "output_type": "stream",
     "text": [
      "Extracted Information for Green_Logistics_Practices.pdf:\n",
      "Error: No valid job information extracted from the text.\n",
      "================================================================================\n"
     ]
    },
    {
     "name": "stderr",
     "output_type": "stream",
     "text": [
      "Processing PDFs:  68%|██████▊   | 566/838 [15:14<08:00,  1.77s/it]"
     ]
    },
    {
     "name": "stdout",
     "output_type": "stream",
     "text": [
      "Extracted Information for Solar_PV_Installer_(Suryamitra).pdf:\n",
      "Job Title: SGJ/Q0101: Solar PV Installer (Suryamitra)\n",
      "Job Description: Solar PV Installer checks, adapts, implements, conﬁgures, installs, inspects, tests and commissions diﬀerent components of photovoltaic systems, that meet the performance and reliability needs of customers by incorporating quality craftsmanship and compliance with all applicable codes, standards and safety requirements.\n",
      "Performance Criteria: \n",
      "================================================================================\n"
     ]
    },
    {
     "name": "stderr",
     "output_type": "stream",
     "text": [
      "Processing PDFs:  68%|██████▊   | 567/838 [15:15<07:11,  1.59s/it]"
     ]
    },
    {
     "name": "stdout",
     "output_type": "stream",
     "text": [
      "Extracted Information for Solar_PV_Installer_-_Electrical.pdf:\n",
      "Job Title: SGJ/Q0102: Solar PV Installer - Electrical\n",
      "Job Description: Solar PV Installer - Electrical installs, tests and commissions diﬀerent electrical components of photovoltaic systems, that meet the performance and reliability needs of customers. The work is performed by incorporating quality craftsmanship while complying with all applicable codes, standards and safety requirements.\n",
      "Performance Criteria: \n",
      "================================================================================\n"
     ]
    },
    {
     "name": "stderr",
     "output_type": "stream",
     "text": [
      "Processing PDFs:  68%|██████▊   | 568/838 [15:17<07:31,  1.67s/it]"
     ]
    },
    {
     "name": "stdout",
     "output_type": "stream",
     "text": [
      "Extracted Information for Solar_PV_Installer_-_Electrical.pdf:\n",
      "Job Title: SGJ/Q0102: Solar PV Installer - Electrical\n",
      "Job Description: Solar PV Installer - Electrical installs, tests and commissions diﬀerent electrical components of photovoltaic systems, that meet the performance and reliability needs of customers. The work is performed by incorporating quality craftsmanship while complying with all applicable codes, standards and safety requirements.\n",
      "Performance Criteria: \n",
      "================================================================================\n"
     ]
    },
    {
     "name": "stderr",
     "output_type": "stream",
     "text": [
      "Processing PDFs:  68%|██████▊   | 569/838 [15:18<06:46,  1.51s/it]"
     ]
    },
    {
     "name": "stdout",
     "output_type": "stream",
     "text": [
      "Extracted Information for Solar_PV_Installer_-_Civil.pdf:\n",
      "Job Title: SGJ/Q0103: Solar PV Installer - Civil\n",
      "Job Description: Solar PV Installer - Civil installs diﬀerent civil and mechanical components of photovoltaic systems by meeting the performance and reliability needs of customers. This is done by incorporating quality craftsmanship and complying with all applicable codes, standards and safety requirements..\n",
      "Performance Criteria: \n",
      "================================================================================\n"
     ]
    },
    {
     "name": "stderr",
     "output_type": "stream",
     "text": [
      "Processing PDFs:  68%|██████▊   | 570/838 [15:19<06:08,  1.37s/it]"
     ]
    },
    {
     "name": "stdout",
     "output_type": "stream",
     "text": [
      "Extracted Information for Solar_Proposal_Evaluation_Specialist.pdf:\n",
      "Job Title: SGJ/Q0105: Solar Proposal Evaluation Specialist\n",
      "Job Description: Solar Proposal Evaluation Specialist reviews the feasibility of the site for installation along with assess the techno - commercial feasibility and ﬁnancial viability of setting up a Solar PV Power Plant.\n",
      "Performance Criteria: \n",
      "================================================================================\n"
     ]
    },
    {
     "name": "stderr",
     "output_type": "stream",
     "text": [
      "Processing PDFs:  68%|██████▊   | 571/838 [15:20<05:47,  1.30s/it]"
     ]
    },
    {
     "name": "stdout",
     "output_type": "stream",
     "text": [
      "Extracted Information for Rooftop_Solar_Grid_Engineer.pdf:\n",
      "Job Title: SGJ/Q0106: Rooftop Solar Grid Engineer\n",
      "Job Description: Rooftop Solar Grid Engineer inspects, interconnects and tests diﬀerent components of the grid connected Solar PV Power Plant in compliance with all relevant codes, standards and safety requirements. To eﬀectively perform the activities, the individual requires a good understanding of design, evaluation, and other technical aspects of solar PV power plant.\n",
      "Performance Criteria: \n",
      "================================================================================\n"
     ]
    },
    {
     "name": "stderr",
     "output_type": "stream",
     "text": [
      "Processing PDFs:  68%|██████▊   | 572/838 [15:21<05:29,  1.24s/it]"
     ]
    },
    {
     "name": "stdout",
     "output_type": "stream",
     "text": [
      "Extracted Information for Solar_PV_Business_Development_Executive.pdf:\n",
      "Job Title: SGJ/Q0107: Solar PV Business Development Executive\n",
      "Job Description: Solar PV Business Development Executive highlights the beneﬁts of using solar power to develop and generate the business for the organization. He/she has the understanding of the rooftop market, ground mount market and decentralized solutions market to propose the right kind of solution to meet the speciﬁc needs of the respective clients. He/she keeps track of central and state solar policies/programs and has good understanding of the solar PV technology, its applications and economics.\n",
      "Performance Criteria: \n",
      "================================================================================\n"
     ]
    },
    {
     "name": "stderr",
     "output_type": "stream",
     "text": [
      "Processing PDFs:  68%|██████▊   | 573/838 [15:22<05:15,  1.19s/it]"
     ]
    },
    {
     "name": "stdout",
     "output_type": "stream",
     "text": [
      "Extracted Information for Solar_PV_Structural_Assistant_Design_Engineer.pdf:\n",
      "Job Title: SGJ/Q0109: Solar PV Structural Assistant Design Engineer\n",
      "Job Description: Solar PV Assistant Structural Design Engineer designs the module mounting structures, foundations , inverters and transformers and the complete layout of the solar PV power plant. The individual also design walkways between the module mounting structures, civil/ structural work for the control room along with all other allied structural works for the rooftop or ground mount solar PV power plant.\n",
      "Performance Criteria: \n",
      "================================================================================\n"
     ]
    },
    {
     "name": "stderr",
     "output_type": "stream",
     "text": [
      "Processing PDFs:  68%|██████▊   | 574/838 [15:23<05:05,  1.16s/it]"
     ]
    },
    {
     "name": "stdout",
     "output_type": "stream",
     "text": [
      "Extracted Information for Solar_PV_Designer.pdf:\n",
      "Job Title: SGJ/Q0110: Solar PV Designer\n",
      "Job Description: Solar PV Designer reviews the solar civil , structural and electrical design of the Solar PV power plant & prepares the energy simulation report\n",
      "Performance Criteria: \n",
      "================================================================================\n"
     ]
    },
    {
     "name": "stderr",
     "output_type": "stream",
     "text": [
      "Processing PDFs:  69%|██████▊   | 575/838 [15:25<05:17,  1.21s/it]"
     ]
    },
    {
     "name": "stdout",
     "output_type": "stream",
     "text": [
      "Extracted Information for Solar_PV_Project_Helper.pdf:\n",
      "Job Title: SGJ/Q0111: Solar PV Project Helper\n",
      "Job Description: Solar PV Project Helper assists in site survey, erection, commissioning and maintenance activities for solar PV power plants and oﬀ grid solar systems.\n",
      "Performance Criteria: \n",
      "================================================================================\n"
     ]
    },
    {
     "name": "stderr",
     "output_type": "stream",
     "text": [
      "Processing PDFs:  69%|██████▊   | 576/838 [15:26<05:22,  1.23s/it]"
     ]
    },
    {
     "name": "stdout",
     "output_type": "stream",
     "text": [
      "Extracted Information for Solar_PV_Engineer_(Option:_Solar_Water_Pumping_System).pdf:\n",
      "Job Title: SGJ/Q0112: Solar PV Engineer (Option: Solar Water Pumping System)\n",
      "Job Description: A Solar PV Engineer specializes in the design, installation and commissioning of the solar PV power plant, its quality assurance and health & safety issues. He/she also specializes in designing, installation and commissioning of solar water pumping systems.\n",
      "Performance Criteria: \n",
      "================================================================================\n"
     ]
    },
    {
     "name": "stderr",
     "output_type": "stream",
     "text": [
      "Processing PDFs:  69%|██████▉   | 577/838 [15:27<05:15,  1.21s/it]"
     ]
    },
    {
     "name": "stdout",
     "output_type": "stream",
     "text": [
      "Extracted Information for Solar_PV_Project_Manager_(E&C).pdf:\n",
      "Job Title: SGJ/Q0114: Solar PV Project Manager (E&C)\n",
      "Job Description: Solar PV Project Manager (E&C) is responsible for managing erection and commissioning of one/ multiple solar PV power plants at one site or diﬀerent sites. He/She with his/her team of site in-charge and commercial manager, receives diﬀerent components of the solar PV power plant (modules, inverter, transformers etc.) procured as per the design, checks the components for speciﬁcations and quality, installs the solar PV power plant as per the design, construct the substation and grid interface incorporating grid code and regulatory provisions incorporated in the design\n",
      "Performance Criteria: \n",
      "================================================================================\n"
     ]
    },
    {
     "name": "stderr",
     "output_type": "stream",
     "text": [
      "Processing PDFs:  69%|██████▉   | 578/838 [15:28<05:01,  1.16s/it]"
     ]
    },
    {
     "name": "stdout",
     "output_type": "stream",
     "text": [
      "Extracted Information for Solar_PV_Maintenance_Technician_-_Electrical_(Ground_Mount).pdf:\n",
      "Job Title: SGJ/Q0115: Solar PV Maintenance Technician - Electrical (Ground Mount)\n",
      "Job Description: Solar PV Maintenance Technician Electrical (Ground Mount) periodically checks and maintains all the electrical components of the solar PV power plant. This is done to ensure for proper electrical connectivity, incorporating quality craftsmanship while complying with all applicable codes, standards and safety requirements.\n",
      "Performance Criteria: \n",
      "================================================================================\n"
     ]
    },
    {
     "name": "stderr",
     "output_type": "stream",
     "text": [
      "Processing PDFs:  69%|██████▉   | 579/838 [15:29<05:00,  1.16s/it]"
     ]
    },
    {
     "name": "stdout",
     "output_type": "stream",
     "text": [
      "Extracted Information for Solar_PV_Manufacturing_Technician.pdf:\n",
      "Job Title: SGJ/Q0119: Solar PV Manufacturing Technician\n",
      "Job Description: Solar PV Module Manufacturing Technician checks the front glass cover for the PV module, monitors the process of soldering solar cells to the strings to make interconnect, lamination of modules, framing of solar PV module, module testing and packaging for transit.\n",
      "Performance Criteria: \n",
      "================================================================================\n"
     ]
    },
    {
     "name": "stderr",
     "output_type": "stream",
     "text": [
      "Processing PDFs:  69%|██████▉   | 580/838 [15:31<05:19,  1.24s/it]"
     ]
    },
    {
     "name": "stdout",
     "output_type": "stream",
     "text": [
      "Extracted Information for Green_Hydrogen_Plant_Technician.pdf:\n",
      "Job Title: SGJ/Q0120: Green Hydrogen Plant Technician\n",
      "Job Description: Green Hydrogen Plant Technician shall perform testing, installation and facility integration of electrolyser, repairs, troubleshooting, upkeep and maintenance of electrical control systems, protection systems, and other auxiliary equipment and associated tools in Green hydrogen generation facilities. The job holder will be responsible for the continuous supply of renewable power for its integration with the electrolysers and the other process equipment for generating Green Hydrogen. This role works closely with the power supply project, testing, plant engineering, process operation, control & operation across the green hydrogen generation plant.\n",
      "Performance Criteria: \n",
      "================================================================================\n"
     ]
    },
    {
     "name": "stderr",
     "output_type": "stream",
     "text": [
      "Processing PDFs:  69%|██████▉   | 581/838 [15:32<05:40,  1.32s/it]"
     ]
    },
    {
     "name": "stdout",
     "output_type": "stream",
     "text": [
      "Extracted Information for Green_Hydrogen_Plant_Entrepreneur.pdf:\n",
      "Job Title: SGJ/Q0121: Green Hydrogen Plant Entrepreneur\n",
      "Job Description: Green Hydrogen Plant Entrepreneur would identify the potential market and the client needs/ requirements to propose the right kind of technically and economically feasible solution to set up green hydrogen plant. He/she is also expected to undertake speciﬁc works/sub component installations of a green hydrogen plant.\n",
      "Performance Criteria: \n",
      "================================================================================\n"
     ]
    },
    {
     "name": "stderr",
     "output_type": "stream",
     "text": [
      "Processing PDFs:  70%|██████▉   | 584/838 [15:35<04:33,  1.08s/it]"
     ]
    },
    {
     "name": "stdout",
     "output_type": "stream",
     "text": [
      "Extracted Information for Solar_PV_Cell_Manufacturing_Technician.pdf:\n",
      "Job Title: SGJ/Q0203: Solar PV Cell Manufacturing Technician\n",
      "Job Description: Solar PV Cell Manufacturing Technician performs the solar cell manufacturing tasks in a production line, cleans silicon wafer, undertake chemical and thermal processing in making solar cells. The job holder operates various stations including metallization processes and is also responsible for testing and packaging of solar cells.\n",
      "Performance Criteria: \n",
      "================================================================================\n"
     ]
    },
    {
     "name": "stderr",
     "output_type": "stream",
     "text": [
      "Processing PDFs:  70%|██████▉   | 585/838 [15:36<04:55,  1.17s/it]"
     ]
    },
    {
     "name": "stdout",
     "output_type": "stream",
     "text": [
      "Extracted Information for Feedstock_Manager_-_Procurement_and_Composition.pdf:\n",
      "Job Title: SGJ/Q0501: Feedstock Manager - Procurement and Composition\n",
      "Job Description: The individual at work is responsible for managing the feedstock supply, analyzing the supply chain, controlling the cost, managing suppliers as well as maintaining all documentation pertaining to feed supply of a CBG plant.\n",
      "Performance Criteria: \n",
      "================================================================================\n"
     ]
    },
    {
     "name": "stderr",
     "output_type": "stream",
     "text": [
      "Processing PDFs:  70%|██████▉   | 586/838 [15:39<06:19,  1.51s/it]"
     ]
    },
    {
     "name": "stdout",
     "output_type": "stream",
     "text": [
      "Extracted Information for Small_Hydro_Power_Plant_Technician-(Jal_Urja_Mitra).pdf:\n",
      "Job Title: SGJ/Q0604: Small Hydro Power Plant Technician-(Jal Urja Mitra)\n",
      "Job Description: Small Hydro Power Plant Technician (Jal Urja Mitra) is specialized to operate, test and maintain diﬀerent electrical, hydro-mechanical, civil components of Small Hydro Power plant to meet the performance and reliability needs by incorporating quality workmanship and complying with all applicable codes, standards and safety requirements.\n",
      "Performance Criteria: \n",
      "================================================================================\n"
     ]
    },
    {
     "name": "stderr",
     "output_type": "stream",
     "text": [
      "Processing PDFs:  70%|███████   | 587/838 [15:41<07:20,  1.76s/it]"
     ]
    },
    {
     "name": "stdout",
     "output_type": "stream",
     "text": [
      "Extracted Information for Small_Hydro_Power_Plant_Technician-(Jal_Urja_Mitra).pdf:\n",
      "Job Title: SGJ/Q0604: Small Hydro Power Plant Technician-(Jal Urja Mitra)\n",
      "Job Description: Small Hydro Power Plant Technician (Jal Urja Mitra) is specialized to operate, test and maintain diﬀerent electrical, hydro-mechanical, civil components of Small Hydro Power plant to meet the performance and reliability needs by incorporating quality workmanship and complying with all applicable codes, standards and safety requirements.\n",
      "Performance Criteria: \n",
      "================================================================================\n"
     ]
    },
    {
     "name": "stderr",
     "output_type": "stream",
     "text": [
      "Processing PDFs:  71%|███████   | 591/838 [15:50<11:28,  2.79s/it]"
     ]
    },
    {
     "name": "stdout",
     "output_type": "stream",
     "text": [
      "Extracted Information for Solar_Photovoltaic_Entrepreneur.pdf:\n",
      "Job Title: SGJ/Q0901: Solar Photovoltaic Entrepreneur\n",
      "Job Description: Solar Photovoltaic Entrepreneur is an individual who ventures into Solar market to lead an enterprise. He/ She has the understanding of solar business models, market, technical knowledge of rooftop solar PV plants, along with components procurement and ﬁnancing. Solar Photovoltaic Entrepreneur can prepare the feasibility study report and perform basic energy generation forecasting using simulation software and is also responsible for the managing the complete Solar PV project lifecycle.\n",
      "Performance Criteria: \n",
      "================================================================================\n"
     ]
    },
    {
     "name": "stderr",
     "output_type": "stream",
     "text": [
      "Processing PDFs:  71%|███████   | 592/838 [15:52<09:51,  2.40s/it]"
     ]
    },
    {
     "name": "stdout",
     "output_type": "stream",
     "text": [
      "Extracted Information for Solar_Photovoltaic_Entrepreneur.pdf:\n",
      "Job Title: SGJ/Q0901: Solar Photovoltaic Entrepreneur\n",
      "Job Description: Solar Photovoltaic Entrepreneur is an individual who ventures into Solar market to lead an enterprise. He/ She has the understanding of solar business models, market, technical knowledge of rooftop solar PV plants, along with components procurement and ﬁnancing. Solar Photovoltaic Entrepreneur can prepare the feasibility study report and perform basic energy generation forecasting using simulation software and is also responsible for the managing the complete Solar PV project lifecycle.\n",
      "Performance Criteria: \n",
      "================================================================================\n"
     ]
    },
    {
     "name": "stderr",
     "output_type": "stream",
     "text": [
      "Processing PDFs:  71%|███████   | 593/838 [15:53<08:24,  2.06s/it]"
     ]
    },
    {
     "name": "stdout",
     "output_type": "stream",
     "text": [
      "Extracted Information for Project_Assistant_Planner_-_Wind_Power_Plant.pdf:\n",
      "Job Title: SGJ/Q1201: Project Assistant Planner - Wind Power Plant\n",
      "Job Description: The Job holder assists in carrying out planning of workﬂow for turbines & electrical systems, Erection & Commissioning (E&C), help in conducting statistical studies of product quality and time usage and support to analyze production costs while complying with all operational manuals, applicable codes, standards and safety requirements.\n",
      "Performance Criteria: \n",
      "================================================================================\n"
     ]
    },
    {
     "name": "stderr",
     "output_type": "stream",
     "text": [
      "Processing PDFs:  71%|███████   | 594/838 [15:55<07:55,  1.95s/it]"
     ]
    },
    {
     "name": "stdout",
     "output_type": "stream",
     "text": [
      "Extracted Information for Wind_Resource_Assessor_and_Site_Surveyor_-_Wind_Power_Plant.pdf:\n",
      "Job Title: SGJ/Q1202: Wind Resource Assessor and Site Surveyor - Wind Power Plant\n",
      "Job Description: Wind Resource Assessor and Site Surveyor - Wind Power Plant carries out site inspection, site assessment, checking site access, approach roads, grid availability for power evacuation, substation availability & its capacity and other relevant functions at the proximity of site.\n",
      "Performance Criteria: \n",
      "================================================================================\n"
     ]
    },
    {
     "name": "stderr",
     "output_type": "stream",
     "text": [
      "Processing PDFs:  71%|███████   | 595/838 [15:56<07:35,  1.88s/it]"
     ]
    },
    {
     "name": "stdout",
     "output_type": "stream",
     "text": [
      "Extracted Information for Wind_Resource_Assessor_and_Site_Surveyor_-_Wind_Power_Plant.pdf:\n",
      "Job Title: SGJ/Q1202: Wind Resource Assessor and Site Surveyor - Wind Power Plant\n",
      "Job Description: Wind Resource Assessor and Site Surveyor - Wind Power Plant carries out site inspection, site assessment, checking site access, approach roads, grid availability for power evacuation, substation availability & its capacity and other relevant functions at the proximity of site.\n",
      "Performance Criteria: \n",
      "================================================================================\n"
     ]
    },
    {
     "name": "stderr",
     "output_type": "stream",
     "text": [
      "Processing PDFs:  71%|███████   | 596/838 [15:58<06:55,  1.72s/it]"
     ]
    },
    {
     "name": "stdout",
     "output_type": "stream",
     "text": [
      "Extracted Information for Solar_Photovoltaic_Site_Survey_Assistant.pdf:\n",
      "Job Title: SGJ/Q1203: Solar Photovoltaic Site Survey Assistant\n",
      "Job Description: Solar Photovoltaic Site Survey Assistant performs basic solar site survey and assessment for the installation of small solar system. He/She conducts a physical solar site survey using various tools and ensures compliance with state and national regulations, guidelines, along with industry and safety standards for solar PV installations. The job holder must show a high level of attention to while surveying and have good written and verbal skills to communicate with supervisor, solar consumers and fellow team members.\n",
      "Performance Criteria: \n",
      "================================================================================\n"
     ]
    },
    {
     "name": "stderr",
     "output_type": "stream",
     "text": [
      "Processing PDFs:  71%|███████   | 597/838 [15:59<06:31,  1.63s/it]"
     ]
    },
    {
     "name": "stdout",
     "output_type": "stream",
     "text": [
      "Extracted Information for Construction_Technician-Wind_Power_Plant.pdf:\n",
      "Error: No valid job information extracted from the text.\n",
      "================================================================================\n"
     ]
    },
    {
     "name": "stderr",
     "output_type": "stream",
     "text": [
      "Processing PDFs:  71%|███████▏  | 598/838 [16:00<06:06,  1.53s/it]"
     ]
    },
    {
     "name": "stdout",
     "output_type": "stream",
     "text": [
      "Extracted Information for CMS_Engineer_-_Wind_Power_Plant.pdf:\n",
      "Job Title: SGJ/Q1501: CMS Engineer - Wind Power Plant\n",
      "Job Description: CMS Engineer-Wind Power Plant responsible for carrying out installation and commissioning of Condition Monitoring System (CMS) of the wind power plant. S/he further, plans and monitors the operation and maintenance of the CMS with a continuous stream of system data, mostly based on vibration monitoring and other operating conditions\n",
      "Performance Criteria: \n",
      "================================================================================\n"
     ]
    },
    {
     "name": "stderr",
     "output_type": "stream",
     "text": [
      "Processing PDFs:  71%|███████▏  | 599/838 [16:02<05:47,  1.45s/it]"
     ]
    },
    {
     "name": "stdout",
     "output_type": "stream",
     "text": [
      "Extracted Information for O&M_Mechanical_Technician-Wind_Power_Plant.pdf:\n",
      "Job Title: SGJ/Q1502: O&M Mechanical Technician-Wind Power Plant\n",
      "Job Description: The O&M Mechanical Technician Wind Power Plant, carries out operation and maintenance of mechanical components of wind power plant, complying with all operational manuals, applicable codes, standards and safety requirements.\n",
      "Performance Criteria: \n",
      "================================================================================\n"
     ]
    },
    {
     "name": "stderr",
     "output_type": "stream",
     "text": [
      "Processing PDFs:  72%|███████▏  | 600/838 [16:03<05:35,  1.41s/it]"
     ]
    },
    {
     "name": "stdout",
     "output_type": "stream",
     "text": [
      "Extracted Information for O&M_Mechanical_Technician-Wind_Power_Plant.pdf:\n",
      "Job Title: SGJ/Q1502: O&M Mechanical Technician-Wind Power Plant\n",
      "Job Description: The O&M Mechanical Technician Wind Power Plant, carries out operation and maintenance of mechanical components of wind power plant, complying with all operational manuals, applicable codes, standards and safety requirements.\n",
      "Performance Criteria: \n",
      "================================================================================\n"
     ]
    },
    {
     "name": "stderr",
     "output_type": "stream",
     "text": [
      "Processing PDFs:  72%|███████▏  | 601/838 [16:04<05:29,  1.39s/it]"
     ]
    },
    {
     "name": "stdout",
     "output_type": "stream",
     "text": [
      "Extracted Information for O&M_Electrical_&_Instrumentation_Technician-_Wind_Power_Plant.pdf:\n",
      "Job Title: SGJ/Q1503: O&M Electrical & Instrumentation Technician- Wind Power Plant\n",
      "Job Description: O&M Electrical & Instrumentation Technician- wind power plant is expected to inspect, diagnose, troubleshoot and repair electrical & instrumentation systems of wind power plant. S/he is expected to perform operation and maintenance of switchgear, transformer, overhead and underground lines, SCADA, communication system (Fiber Optics) and complying with all operational manuals, applicable codes/standards and safety requirements.\n",
      "Performance Criteria: \n",
      "================================================================================\n"
     ]
    },
    {
     "name": "stderr",
     "output_type": "stream",
     "text": [
      "Processing PDFs:  72%|███████▏  | 602/838 [16:06<05:32,  1.41s/it]"
     ]
    },
    {
     "name": "stdout",
     "output_type": "stream",
     "text": [
      "Extracted Information for O&M_Electrical_&_Instrumentation_Technician-_Wind_Power_Plant.pdf:\n",
      "Job Title: SGJ/Q1503: O&M Electrical & Instrumentation Technician- Wind Power Plant\n",
      "Job Description: O&M Electrical & Instrumentation Technician- wind power plant is expected to inspect, diagnose, troubleshoot and repair electrical & instrumentation systems of wind power plant. S/he is expected to perform operation and maintenance of switchgear, transformer, overhead and underground lines, SCADA, communication system (Fiber Optics) and complying with all operational manuals, applicable codes/standards and safety requirements.\n",
      "Performance Criteria: \n",
      "================================================================================\n"
     ]
    },
    {
     "name": "stderr",
     "output_type": "stream",
     "text": [
      "Processing PDFs:  72%|███████▏  | 603/838 [16:07<05:27,  1.39s/it]"
     ]
    },
    {
     "name": "stdout",
     "output_type": "stream",
     "text": [
      "Extracted Information for Solar_EV_Charging_Entrepreneur.pdf:\n",
      "Job Title: SGJ/Q1801: Solar EV Charging Entrepreneur\n",
      "Job Description: Solar EV Charging Entrepreneur sets up an enterprise with an aim to provide a charging service to EV users while utilising solar energy (along with Grid power). This entrepreneur shall establish, setup and operate solar integrated EV charging stations/ Charging Point(s) for charging of electric vehicles at various locations to enable faster adoption of EVs across the country by ensuring safe, reliable, accessible, low cost and sustainable EV charging infrastructure.\n",
      "Performance Criteria: \n",
      "================================================================================\n"
     ]
    },
    {
     "name": "stderr",
     "output_type": "stream",
     "text": [
      "Processing PDFs:  72%|███████▏  | 604/838 [16:08<05:23,  1.38s/it]"
     ]
    },
    {
     "name": "stdout",
     "output_type": "stream",
     "text": [
      "Extracted Information for Solar_Cold_Storage_Entrepreneur.pdf:\n",
      "Job Title: SGJ/Q1802: Solar Cold Storage Entrepreneur\n",
      "Job Description: Solar Cold Storage Entrepreneur sets up an enterprise with an aim to provide a service (to Farmers/FPOs etc) for storing perishable agricultural and horticultural produce for increasing their shelf life and realise better price of the produce. This entrepreneur shall use an innovative solar based cold storage solution that can also be powered through the Grid and has thermal energy storage for providing backup during non-sunny hours.\n",
      "Performance Criteria: \n",
      "================================================================================\n"
     ]
    },
    {
     "name": "stderr",
     "output_type": "stream",
     "text": [
      "Processing PDFs:  72%|███████▏  | 605/838 [16:10<05:07,  1.32s/it]"
     ]
    },
    {
     "name": "stdout",
     "output_type": "stream",
     "text": [
      "Extracted Information for Improved_Cookstove_Installer.pdf:\n",
      "Job Title: SGJ/Q2101: Improved Cookstove Installer\n",
      "Job Description: Improved Cookstove installer select materials, prepare appropriate mixture, construct cookstove as per standard mould(s), embedding non-masonry items, ﬁre for curing, installation at the appropriate site and demonstrate functioning of the Cookstove.\n",
      "Performance Criteria: \n",
      "================================================================================\n"
     ]
    },
    {
     "name": "stderr",
     "output_type": "stream",
     "text": [
      "Processing PDFs:  72%|███████▏  | 606/838 [16:11<04:55,  1.27s/it]"
     ]
    },
    {
     "name": "stdout",
     "output_type": "stream",
     "text": [
      "Extracted Information for Portable_Improved_Cookstove_Assembler.pdf:\n",
      "Job Title: SGJ/Q2102: Portable Improved Cookstove Assembler\n",
      "Job Description: He/she assembles and ﬁts the various parts of the cookstove to manufacture the ﬁnal product which meets performance and reliability standards. He /She incorporates quality craftsmanship and complies with all applicable standards.\n",
      "Performance Criteria: \n",
      "================================================================================\n"
     ]
    },
    {
     "name": "stderr",
     "output_type": "stream",
     "text": [
      "Processing PDFs:  72%|███████▏  | 607/838 [16:12<05:11,  1.35s/it]"
     ]
    },
    {
     "name": "stdout",
     "output_type": "stream",
     "text": [
      "Extracted Information for Clean_Cookstove_Sales_and_Maintenance_Executive.pdf:\n",
      "Job Title: SGJ/Q2104: Clean Cookstove Sales and Maintenance Executive\n",
      "Job Description: Clean cookstove sales and maintenance executive is responsible for marketing, selling and aftersales service of cookstove. He/she visits prospective customers, demonstrates the product, promotes sales and provides aftersales maintenance services.\n",
      "Performance Criteria: \n",
      "================================================================================\n"
     ]
    },
    {
     "name": "stderr",
     "output_type": "stream",
     "text": [
      "Processing PDFs:  73%|███████▎  | 608/838 [16:14<05:27,  1.42s/it]"
     ]
    },
    {
     "name": "stdout",
     "output_type": "stream",
     "text": [
      "Extracted Information for Clean_Cookstove_Distributor.pdf:\n",
      "Job Title: SGJ/Q2105: Clean Cookstove Distributor\n",
      "Job Description: A Clean Cookstove Distributor is responsible for increasing market for clean cookstoves through vendor selection, warehouse development, logistic and aftersales service support. He / She develops a portfolio of products, undertakes targeted promotion, and ensures availability of the products to potential customers\n",
      "Performance Criteria: \n",
      "================================================================================\n"
     ]
    },
    {
     "name": "stderr",
     "output_type": "stream",
     "text": [
      "Processing PDFs:  73%|███████▎  | 609/838 [16:15<05:36,  1.47s/it]"
     ]
    },
    {
     "name": "stdout",
     "output_type": "stream",
     "text": [
      "Extracted Information for Junior_Technician-_Solar_EV_charging_station.pdf:\n",
      "Job Title: SGJ/Q4001: Junior Technician- Solar EV charging station\n",
      "Job Description: This Qualiﬁcation contains National Occupation Standards for performing work related to the Installation along with Operation & Maintenance (O&M) of Solar plus grid based Electric Vehicle (EV) Charging station. The job holder shall perform tasks while ensuring safety, quality and good workmanship for installation, usage along with O&M of solar powered EV charging station as per standard industry practices. He/She may also conduct site surveys and evaluate various parameters to decide the suitability of site for the installation of solar powered EV charging station. Also, the individual performs the regular maintenance for Solar powered charging station. The skilled workforce shall be employed with EV charging stations operators including at Public Charging Stations/ Captive Charging Stations along with EV manufacturers/OEMs or the companies who supply equipment for setting up EV charging infrastructure.\n",
      "Performance Criteria: \n",
      "================================================================================\n"
     ]
    },
    {
     "name": "stderr",
     "output_type": "stream",
     "text": [
      "Processing PDFs:  73%|███████▎  | 610/838 [16:17<05:17,  1.39s/it]"
     ]
    },
    {
     "name": "stdout",
     "output_type": "stream",
     "text": [
      "Extracted Information for Junior_Technician-_Solar_Cold_Storage.pdf:\n",
      "Job Title: SGJ/Q4002: Junior Technician- Solar Cold Storage\n",
      "Job Description: Junior Technician- Solar Cold Storage performs installation along with operations and maintenance (O&M) of a solar cold storage/cold room solution while meeting the performance and reliability needs of customers by incorporating quality craftsmanship and complying with all applicable industry standards, quality and safety requirements.\n",
      "Performance Criteria: \n",
      "================================================================================\n"
     ]
    },
    {
     "name": "stderr",
     "output_type": "stream",
     "text": [
      "Processing PDFs:  73%|███████▎  | 611/838 [16:18<05:04,  1.34s/it]"
     ]
    },
    {
     "name": "stdout",
     "output_type": "stream",
     "text": [
      "Extracted Information for Junior_Technician-Rooftop_Rainwater_Harvesting.pdf:\n",
      "Job Title: SGJ/Q4003: Junior Technician-Rooftop Rainwater Harvesting\n",
      "Job Description: The individual at work is responsible for performing site survey, and installation of rainwater harvesting systems across diﬀerent consumer categories/buildings types. The individual will also be responsible for routine maintenance of rainwater harvesting systems\n",
      "Performance Criteria: \n",
      "================================================================================\n"
     ]
    },
    {
     "name": "stderr",
     "output_type": "stream",
     "text": [
      "Processing PDFs:  73%|███████▎  | 612/838 [16:19<05:10,  1.37s/it]"
     ]
    },
    {
     "name": "stdout",
     "output_type": "stream",
     "text": [
      "Extracted Information for Solar_Photovoltaic_Technician.pdf:\n",
      "Job Title: SGJ/Q4004: Solar Photovoltaic Technician\n",
      "Job Description: Solar PV Technician shall perform testing, installation and facility integration of various parts, repairs, troubleshooting, upkeep and maintenance of electrical control systems, protection systems, and other auxiliary equipment and associated tools in Solar PV System. The job holder will be responsible for the complete installation, maintenance, electric wiring Solar Pv system for Production of Solar Power. This role works closely with the power supply project, testing, plant engineering, process operation, control & operation all types of solar Pv Plants.\n",
      "Performance Criteria: \n",
      "================================================================================\n"
     ]
    },
    {
     "name": "stderr",
     "output_type": "stream",
     "text": [
      "Processing PDFs:  73%|███████▎  | 613/838 [16:21<05:02,  1.35s/it]"
     ]
    },
    {
     "name": "stdout",
     "output_type": "stream",
     "text": [
      "Extracted Information for Plastic_Recycling_Operator.pdf:\n",
      "Job Title: SGJ/Q4005: Plastic Recycling Operator\n",
      "Job Description: Plastic Recycling Operator is responsible for overall manufacturing of recycled products from plastic waste. He/ she is responsible for ensuring that workers in the unit are working eﬀectively and machines/equipment are working eﬃciently. He/she is also responsible for making sure that right input in terms of raw material, energy, fuel, pressure, temperature, etc is fed in the machines. He/ she also keeps a check on the health of the machines. He/ she also monitors the quality of the process of recycling and recycled products. Once the products are ready, he/she ensure suitable packing of the products and for maintaining necessary documentation for facility and for dispatch of end product.\n",
      "Performance Criteria: \n",
      "================================================================================\n"
     ]
    },
    {
     "name": "stderr",
     "output_type": "stream",
     "text": [
      "Processing PDFs:  73%|███████▎  | 614/838 [16:22<05:08,  1.38s/it]"
     ]
    },
    {
     "name": "stdout",
     "output_type": "stream",
     "text": [
      "Extracted Information for Junior_Technician_-_Mechanized_Sewer_Cleaning.pdf:\n",
      "Job Title: SGJ/Q4006: Junior Technician - Mechanized Sewer Cleaning\n",
      "Job Description: Junior Technician- Mechanized Sewar Cleaning , is an individual, who is responsible for emptying, cleaning, transport and disposal of sludge from the sewer line to a speciﬁed site/Co-treatment plant. He /She has to operate and maintain Mechanized sewage cleaning machine, Sludge Vacuum tank with trucks, pumps, suction hoses, and other machinery/equipment to empty the manholes.\n",
      "Performance Criteria: \n",
      "================================================================================\n"
     ]
    },
    {
     "name": "stderr",
     "output_type": "stream",
     "text": [
      "Processing PDFs:  73%|███████▎  | 615/838 [16:24<05:14,  1.41s/it]"
     ]
    },
    {
     "name": "stdout",
     "output_type": "stream",
     "text": [
      "Extracted Information for Sewer_Entry_Professional.pdf:\n",
      "Job Title: SGJ/Q4007: Sewer Entry Professional\n",
      "Job Description: The Sewer Entry Professional, is an individual, who is responsible for emptying, Cleaning and transport and disposal of sludge from the sewer line to speciﬁed site/Co-treatment plant. He /She has to do manual sewage cleaning in the areas having space limitations He/She can use pumps, blowers, scrapper, Manila Rope and Cloth Ball, Sectional Sewer Rods and other tools/equipment to empty the sewage manholes.\n",
      "Performance Criteria: \n",
      "================================================================================\n"
     ]
    },
    {
     "name": "stderr",
     "output_type": "stream",
     "text": [
      "Processing PDFs:  74%|███████▎  | 616/838 [16:25<05:06,  1.38s/it]"
     ]
    },
    {
     "name": "stdout",
     "output_type": "stream",
     "text": [
      "Extracted Information for Renewable_Energy.pdf:\n",
      "Job Title: SGJ/Q4008: Renewable Energy\n",
      "Job Description: The course is designed to undertake training for World Skill competition. The Aspirant would be responsible for designing sub-system for the installation of on grid, oﬀ grid and hybrid renewable energy plants including wind and solar energy. The individual at work complete, commission, maintain and optimize the renewable energy plant with safety standards.\n",
      "Performance Criteria: \n",
      "================================================================================\n"
     ]
    },
    {
     "name": "stderr",
     "output_type": "stream",
     "text": [
      "Processing PDFs:  74%|███████▎  | 617/838 [16:26<04:55,  1.34s/it]"
     ]
    },
    {
     "name": "stdout",
     "output_type": "stream",
     "text": [
      "Extracted Information for Water_Technology.pdf:\n",
      "Job Title: SGJ/Q4009: Water Technology\n",
      "Job Description: The individual on the qualiﬁcation would be specialized to observe, identify, report, maintain, repair equipment and control processes at the water treatment plant and across the networks. The individual would work within sewer networks, for wastewater and sludge treatment in local or industrial wastewater treatment plants. He/She would carry out their work independently based on technical documents, regulations, and legal requirements. They acquire information, plan, and coordinate their work.\n",
      "Performance Criteria: \n",
      "================================================================================\n"
     ]
    },
    {
     "name": "stderr",
     "output_type": "stream",
     "text": [
      "Processing PDFs:  74%|███████▎  | 618/838 [16:27<04:55,  1.34s/it]"
     ]
    },
    {
     "name": "stdout",
     "output_type": "stream",
     "text": [
      "Extracted Information for Rooftop_Rainwater_Harvesting_Entrepreneur.pdf:\n",
      "Job Title: SGJ/Q4101: Rooftop Rainwater Harvesting Entrepreneur\n",
      "Job Description: Rooftop Rainwater Harvesting Entrepreneur shall analyse key parameters for rain water harvesting system, estimate cost parameters and oversee its installation and maintenance\n",
      "Performance Criteria: \n",
      "================================================================================\n"
     ]
    },
    {
     "name": "stderr",
     "output_type": "stream",
     "text": [
      "Processing PDFs:  74%|███████▍  | 619/838 [16:29<04:52,  1.34s/it]"
     ]
    },
    {
     "name": "stdout",
     "output_type": "stream",
     "text": [
      "Extracted Information for Bio-Energy_Micro_Entrepreneur.pdf:\n",
      "Job Title: SGJ/Q4102: Bio-Energy Micro Entrepreneur\n",
      "Job Description: Bio-Energy Micro Entrepreneur (Biomass Pellet/Small Biogas) is responsible for setting up a production unit for manufacturing biomass pellets from agriculture waste or setting up small biogas unit at site. He/She would be responsible for developing a business plan, hiring the human resources, acquiring ﬁnancial and material resources, providing leadership, and their vision drives the company's strategy.\n",
      "Performance Criteria: \n",
      "================================================================================\n"
     ]
    },
    {
     "name": "stderr",
     "output_type": "stream",
     "text": [
      "Processing PDFs:  74%|███████▍  | 620/838 [16:30<04:48,  1.32s/it]"
     ]
    },
    {
     "name": "stdout",
     "output_type": "stream",
     "text": [
      "Extracted Information for Plastic_Recycling_Micro_Entrepreneur.pdf:\n",
      "Job Title: SGJ/Q4104: Plastic Recycling Micro Entrepreneur\n",
      "Job Description: A Plastic Recycling Micro Entrepreneur sets up a unit for recycling of plastic waste and converting into diﬀerent recycled products. He/she deals with suppliers of raw material, technology, and other input material required for the recycling process. He has a sound understanding of the recycling process, technologies/ machines used and the end recycled product. During the same, ensures compliance related to setting up the business, statutory compliance for running the business and other type of environmental compliance that are required in the sector. He/she is responsible for ﬁnancial management, people management, networking, market analysis and overall maintenance and sustenance of the business. He also manages the sales and customers of the recycled products.\n",
      "Performance Criteria: \n",
      "================================================================================\n"
     ]
    },
    {
     "name": "stderr",
     "output_type": "stream",
     "text": [
      "Processing PDFs:  74%|███████▍  | 621/838 [16:32<05:10,  1.43s/it]"
     ]
    },
    {
     "name": "stdout",
     "output_type": "stream",
     "text": [
      "Extracted Information for Biomass_Pellet_Manufacturing_Junior_Technician.pdf:\n",
      "Job Title: SGJ/Q4201: Biomass Pellet Manufacturing Junior Technician\n",
      "Job Description: Biomass Pellet Manufacturing Junior Technician is responsible for production, storage, and management of biomass pellets at the plant. He/she looks after activities such as biomass receiving, pre- processing/densiﬁcation and storage in a manner to maintain its quality and safety as per standards.\n",
      "Performance Criteria: \n",
      "================================================================================\n"
     ]
    },
    {
     "name": "stderr",
     "output_type": "stream",
     "text": [
      "Processing PDFs:  74%|███████▍  | 622/838 [16:33<05:08,  1.43s/it]"
     ]
    },
    {
     "name": "stdout",
     "output_type": "stream",
     "text": [
      "Extracted Information for Green_Hydrogen_Plant_Junior_Technician_-_Power_Sources.pdf:\n",
      "Job Title: SGJ/Q4301: Green Hydrogen Plant Junior Technician - Power Sources\n",
      "Job Description: The job holder shall perform testing, installation and facility integration of various parts, repairs, troubleshooting, upkeep and maintenance of electrical control systems, protection systems, and other auxiliary equipment and associated tools in integrating power sources with electrolyser for production of Green Hydrogen. He/She will be responsible for the complete installation, maintenance, electric wiring for integrating power sources with electrolyser. This role works closely with the power supply project, testing, plant engineering, process operation, control & operation all types power sources integrating with electrolyser.\n",
      "Performance Criteria: \n",
      "================================================================================\n"
     ]
    },
    {
     "name": "stderr",
     "output_type": "stream",
     "text": [
      "Processing PDFs:  74%|███████▍  | 623/838 [16:35<05:04,  1.41s/it]"
     ]
    },
    {
     "name": "stdout",
     "output_type": "stream",
     "text": [
      "Extracted Information for Green_Hydrogen_Plant_Junior_Technician-Electrolyzer.pdf:\n",
      "Job Title: SGJ/Q4302: Green Hydrogen Plant Junior Technician-Electrolyzer\n",
      "Job Description: Green Hydrogen Plant Junior Technician-Electrolyzer would primarily install electrolyzer units along with other Mechanical and Electrical equipment of a green hydrogen plant and perform the associated civil works. He/She would also assist in performing Pre-commissioning checks/tests and install & commission electrolyzer unit along with other sub system in a green hydrogen/green ammonia plant.\n",
      "Performance Criteria: \n",
      "================================================================================\n"
     ]
    },
    {
     "name": "stderr",
     "output_type": "stream",
     "text": [
      "Processing PDFs:  74%|███████▍  | 624/838 [16:36<05:09,  1.45s/it]"
     ]
    },
    {
     "name": "stdout",
     "output_type": "stream",
     "text": [
      "Extracted Information for Green_Hydrogen_Plant_Junior_Technician_(Desalination).pdf:\n",
      "Job Title: SGJ/Q4303: Green Hydrogen Plant Junior Technician (Desalination)\n",
      "Job Description: Green Hydrogen Plant Junior Technician-Desalination would install Mechanical and Electrical equipment of Desalination Unit in green hydrogen plant unit along with associated civil works. He/She would assist in performing Pre-commissioning checks/tests and subsequent commission, operation and maintenance of desalination unit in green hydrogen/green ammonia plant.\n",
      "Performance Criteria: \n",
      "================================================================================\n"
     ]
    },
    {
     "name": "stderr",
     "output_type": "stream",
     "text": [
      "Processing PDFs:  75%|███████▍  | 625/838 [16:37<04:58,  1.40s/it]"
     ]
    },
    {
     "name": "stdout",
     "output_type": "stream",
     "text": [
      "Extracted Information for Green_Hydrogen_Plant_Junior_Technician-_Storage.pdf:\n",
      "Job Title: SGJ/Q4304: Green Hydrogen Plant Junior Technician- Storage\n",
      "Job Description: Green Hydrogen Plant Junior Technician- Storage would assist in installing Mechanical and Electrical equipment of a green hydrogen/green ammonia storage system along with perform the associated civil works. He/She would also assist in performing Pre-commissioning checks/tests and accordingly commission green hydrogen/green ammonia plant storage system.\n",
      "Performance Criteria: \n",
      "================================================================================\n"
     ]
    },
    {
     "name": "stderr",
     "output_type": "stream",
     "text": [
      "Processing PDFs:  75%|███████▍  | 626/838 [16:39<04:57,  1.40s/it]"
     ]
    },
    {
     "name": "stdout",
     "output_type": "stream",
     "text": [
      "Extracted Information for Electrolyzer_Manufacturing_Plant_Supervisor.pdf:\n",
      "Job Title: SGJ/Q4305: Electrolyzer Manufacturing Plant Supervisor\n",
      "Job Description: Electrolyzer manufacturing Plant Supervisor responsibility involves overseeing various aspects of the electrloyzer manufacturing process to ensure eﬃciency, safety, and quality. Their work is essential to maintaining the manufacturing process and meeting production goals while adhering to safety and environmental standards. He/She plays a vital role in ensuring the eﬃcient and safe production of high- quality electrolyzer for green hydrogen production for various industrial applications. They play a pivotal role in managing the manufacturing process and contributing to the success of the plant.\n",
      "Performance Criteria: \n",
      "================================================================================\n"
     ]
    },
    {
     "name": "stderr",
     "output_type": "stream",
     "text": [
      "Processing PDFs:  75%|███████▍  | 627/838 [16:40<04:45,  1.35s/it]"
     ]
    },
    {
     "name": "stdout",
     "output_type": "stream",
     "text": [
      "Extracted Information for Electrolyzer_Manufacturing_Plant_Technician.pdf:\n",
      "Job Title: SGJ/Q4306: Electrolyzer Manufacturing Plant Technician\n",
      "Job Description: Electrolyzer Manufacturing Plant technician is responsible for supporting the safe, eﬃcient, and high- quality production of electrolyzer system. Their work is essential to provide technical support to maintain the manufacturing process of electrolyzer and meeting production goals while adhering to safety and environmental standards. He/She plays a vital role in producing and maintaining electrolyzer along with associated subsystems and is accordingly responsible for various electrical components and systems- related tasks within the Electrolyzer manufacturing facility.\n",
      "Performance Criteria: \n",
      "================================================================================\n"
     ]
    },
    {
     "name": "stderr",
     "output_type": "stream",
     "text": [
      "Processing PDFs:  75%|███████▍  | 628/838 [16:41<04:32,  1.30s/it]"
     ]
    },
    {
     "name": "stdout",
     "output_type": "stream",
     "text": [
      "Extracted Information for Solar_Manufacturing_Junior_Technician.pdf:\n",
      "Job Title: SGJ/Q4901: Solar Manufacturing Junior Technician\n",
      "Job Description: Junior Technician Solar Manufacturing is responsible for basic preparation, handling and supply of materials for solar manufacturing. The job holder must adhere to all safety procedures and practice good housekeeping, safe operation of speciﬁc equipment, material or processes. This is an entry level position for solar manufacturing\n",
      "Performance Criteria: \n",
      "================================================================================\n"
     ]
    },
    {
     "name": "stderr",
     "output_type": "stream",
     "text": [
      "Processing PDFs:  75%|███████▌  | 629/838 [16:42<04:29,  1.29s/it]"
     ]
    },
    {
     "name": "stdout",
     "output_type": "stream",
     "text": [
      "Extracted Information for Solar_Domestic_Product_Assembler.pdf:\n",
      "Job Title: SGJ/Q4902: Solar Domestic Product Assembler\n",
      "Job Description: Solar Domestic Product Assembler assembles fabricated parts of small DC light sub assembly units by operating required tools. He/She also test and calibrate the assembled units to ensure the small DC based solar products meet the required quality and safety speciﬁcations. The job holder also repairs, reﬁts and handles warranty claims for the concerned assembled units.\n",
      "Performance Criteria: \n",
      "================================================================================\n"
     ]
    },
    {
     "name": "stderr",
     "output_type": "stream",
     "text": [
      "Processing PDFs:  75%|███████▌  | 630/838 [16:44<04:32,  1.31s/it]"
     ]
    },
    {
     "name": "stdout",
     "output_type": "stream",
     "text": [
      "Extracted Information for Recyclable_Waste_Collector_&_Segregator.pdf:\n",
      "Job Title: SGJ/Q6101: Recyclable Waste Collector & Segregator\n",
      "Job Description: Recyclable Waste Collector and Segregator is responsible for collection and proper segregation of Recyclable waste. Recyclable Waste Collector should be able to properly collect, identify diﬀerent types of waste and segregate at source or at collection center as per recycling / reuse / disposal requirement.\n",
      "Performance Criteria: \n",
      "================================================================================\n"
     ]
    },
    {
     "name": "stderr",
     "output_type": "stream",
     "text": [
      "Processing PDFs:  75%|███████▌  | 631/838 [16:45<04:17,  1.25s/it]"
     ]
    },
    {
     "name": "stdout",
     "output_type": "stream",
     "text": [
      "Extracted Information for Safai_Karamchari.pdf:\n",
      "Job Title: SGJ/Q6102: Safai Karamchari\n",
      "Job Description: Safai Karamchari sweeps, cleans and removes garbage from public areas and buildings. In public areas and roads, Safai Karamchari sweeps with a broom and / or other suitable equipment to remove dust, debris and garbage. In buildings, he/she sweeps the ﬂoor, scrubs the ﬂoor using appropriate cleaning solution to remove the ﬁne dust. He/She removes the garbage and aggregates the garbage in the designated areas.\n",
      "Performance Criteria: \n",
      "================================================================================\n"
     ]
    },
    {
     "name": "stderr",
     "output_type": "stream",
     "text": [
      "Processing PDFs:  75%|███████▌  | 632/838 [16:46<04:18,  1.25s/it]"
     ]
    },
    {
     "name": "stdout",
     "output_type": "stream",
     "text": [
      "Extracted Information for Waste_Picker.pdf:\n",
      "Job Title: SGJ/Q6103: Waste Picker\n",
      "Job Description: Waste picker collects and recovers reusable and recyclable solid waste from the source of waste generation including the streets, bins, landﬁlls, material recovery facilities, processing and waste disposal facilities for sale to recyclers directly or through intermediaries to earn a livelihood. As per type of refuse, he/she would suitably modify the collected waste, possibly for a better value.\n",
      "Performance Criteria: \n",
      "================================================================================\n"
     ]
    },
    {
     "name": "stderr",
     "output_type": "stream",
     "text": [
      "Processing PDFs:  76%|███████▌  | 633/838 [16:49<05:23,  1.58s/it]"
     ]
    },
    {
     "name": "stdout",
     "output_type": "stream",
     "text": [
      "Extracted Information for Agri-residue_Aggregator.pdf:\n",
      "Job Title: SGJ/Q6201: Agri-residue Aggregator\n",
      "Job Description: Agri-residue Aggregator collects agri-residues from farmers through nodal collection points, assesses quality and quantity of agri-residues and accordingly decides price. He/she appropriately sorts, densiﬁes and stores the bales. He/she perform sales of the bales based on end requirements.\n",
      "Performance Criteria: \n",
      "================================================================================\n"
     ]
    },
    {
     "name": "stderr",
     "output_type": "stream",
     "text": [
      "Processing PDFs:  76%|███████▌  | 634/838 [16:50<05:33,  1.63s/it]"
     ]
    },
    {
     "name": "stdout",
     "output_type": "stream",
     "text": [
      "Extracted Information for Biomass_Depot_Operator.pdf:\n",
      "Job Title: SGJ/Q6207: Biomass Depot Operator\n",
      "Job Description: Biomass Depot Operator is responsible for handling, storage and management of biomass at the storage depot. He/she looks after activities such as biomass receipt from suppliers, biomass pre- processing/densiﬁcation and storage in a manner so as to ensure its quality and safety as per standards.\n",
      "Performance Criteria: \n",
      "================================================================================\n"
     ]
    },
    {
     "name": "stderr",
     "output_type": "stream",
     "text": [
      "Processing PDFs:  76%|███████▌  | 635/838 [16:52<05:24,  1.60s/it]"
     ]
    },
    {
     "name": "stdout",
     "output_type": "stream",
     "text": [
      "Extracted Information for Animal_Waste_Manure_Aggregator.pdf:\n",
      "Job Title: SGJ/Q6302: Animal Waste Manure Aggregator\n",
      "Job Description: Animal Waste Manure Aggregator is responsible for collection and aggregation of waste manure from diﬀerent sources and further supply it as input material for preparation of organic compost/vermi-compost, bio-gas etc.\n",
      "Performance Criteria: \n",
      "================================================================================\n"
     ]
    },
    {
     "name": "stderr",
     "output_type": "stream",
     "text": [
      "Processing PDFs:  76%|███████▌  | 636/838 [16:54<05:31,  1.64s/it]"
     ]
    },
    {
     "name": "stdout",
     "output_type": "stream",
     "text": [
      "Extracted Information for Desludging_Operator.pdf:\n",
      "Job Title: SGJ/Q6403: Desludging Operator\n",
      "Job Description: The Desludging Operator, also known as Sludge Emptier is an individual, who is responsible for emptying, transport and disposal of faecal sludge from the septic tank to desludging site / Faecal Sludge Treatment Plant. He/She has to operate pumps, suction hoses and other machinery/equipment to empty the septic tank and appropriately dispose the sludge. Desludging Operator will further specializes as an entrepreneur, he/she would be trained to venture into desludging services for managing Faecal Sludge\n",
      "Performance Criteria: \n",
      "================================================================================\n"
     ]
    },
    {
     "name": "stderr",
     "output_type": "stream",
     "text": [
      "Processing PDFs:  76%|███████▌  | 637/838 [16:55<04:57,  1.48s/it]"
     ]
    },
    {
     "name": "stdout",
     "output_type": "stream",
     "text": [
      "Extracted Information for Faecal_Sludge_Treatment_Plant_O&M_Technician.pdf:\n",
      "Job Title: SGJ/Q6404: Faecal Sludge Treatment Plant O&M Technician\n",
      "Job Description: The Faecal Sludge Treatment Plant (FSTP) operation and maintenance technician is responsible for carrying out day-to-day operations of the FSTP. He /She is also responsible for routine maintenance of pumps, engines, motors, ﬁlters, bar screens, valves, pipes and any other equipment used in FSTP.\n",
      "Performance Criteria: \n",
      "================================================================================\n"
     ]
    },
    {
     "name": "stderr",
     "output_type": "stream",
     "text": [
      "Processing PDFs:  76%|███████▌  | 638/838 [16:56<04:59,  1.50s/it]"
     ]
    },
    {
     "name": "stdout",
     "output_type": "stream",
     "text": [
      "Extracted Information for Manager-_Waste_Management.pdf:\n",
      "Job Title: SGJ/Q6501: Manager- Waste Management\n",
      "Job Description: Manager-Waste Management is responsible for carrying out market analysis and formulating business plan for the center. He/she is responsible for management of overall operation of the center and ensures health and safety at the workplace. He/she ensures compliance of applicable statutory laws, policies and procedures relating to the center.\n",
      "Performance Criteria: \n",
      "================================================================================\n"
     ]
    },
    {
     "name": "stderr",
     "output_type": "stream",
     "text": [
      "Processing PDFs:  76%|███████▋  | 639/838 [16:57<04:31,  1.36s/it]"
     ]
    },
    {
     "name": "stdout",
     "output_type": "stream",
     "text": [
      "Extracted Information for Wastewater_Treatment_Plant_Technician.pdf:\n",
      "Job Title: SGJ/Q6601: Wastewater Treatment Plant Technician\n",
      "Job Description: Wastewater Treatment Plant Technician specializes in operation & maintenance of the Industrial and Housing Societies Wastewater Treatment Plant.\n",
      "Performance Criteria: \n",
      "================================================================================\n"
     ]
    },
    {
     "name": "stderr",
     "output_type": "stream",
     "text": [
      "Processing PDFs:  76%|███████▋  | 640/838 [16:58<04:22,  1.32s/it]"
     ]
    },
    {
     "name": "stdout",
     "output_type": "stream",
     "text": [
      "Extracted Information for Wastewater_Treatment_Plant_Helper.pdf:\n",
      "Job Title: SGJ/Q6602: Wastewater Treatment Plant Helper\n",
      "Job Description: Wastewater Treatment Plant Helper assists in Operation and Maintenance of Industrial and Housing Societies Wastewater Treatment Plant.\n",
      "Performance Criteria: \n",
      "================================================================================\n"
     ]
    },
    {
     "name": "stderr",
     "output_type": "stream",
     "text": [
      "Processing PDFs:  76%|███████▋  | 641/838 [17:00<04:19,  1.32s/it]"
     ]
    },
    {
     "name": "stdout",
     "output_type": "stream",
     "text": [
      "Extracted Information for Washerman_(Dhobi).pdf:\n",
      "Error: No valid job information extracted from the text.\n",
      "================================================================================\n"
     ]
    },
    {
     "name": "stderr",
     "output_type": "stream",
     "text": [
      "Processing PDFs:  77%|███████▋  | 642/838 [17:01<04:03,  1.24s/it]"
     ]
    },
    {
     "name": "stdout",
     "output_type": "stream",
     "text": [
      "Extracted Information for Guest_Service_Associate_(Front_Office).pdf:\n",
      "Job Title: THC/Q0102: Guest Service Associate (Front Oﬃce)\n",
      "Job Description: The individual at work performs either front oﬃce associate or reservation desk associate operations as per organizational service standards.\n",
      "Performance Criteria: \n",
      "================================================================================\n"
     ]
    },
    {
     "name": "stderr",
     "output_type": "stream",
     "text": [
      "Processing PDFs:  77%|███████▋  | 643/838 [17:02<04:02,  1.24s/it]"
     ]
    },
    {
     "name": "stdout",
     "output_type": "stream",
     "text": [
      "Extracted Information for Guest_Service_Associate_(Front_Office).pdf:\n",
      "Job Title: THC/Q0102: Guest Service Associate (Front Oﬃce)\n",
      "Job Description: The individual at work performs the task of a front oﬃce associate and performs all reservation operations as per organizational service standards.\n",
      "Performance Criteria: \n",
      "================================================================================\n"
     ]
    },
    {
     "name": "stderr",
     "output_type": "stream",
     "text": [
      "Processing PDFs:  77%|███████▋  | 644/838 [17:03<03:53,  1.21s/it]"
     ]
    },
    {
     "name": "stdout",
     "output_type": "stream",
     "text": [
      "Extracted Information for Front_Office_Manager.pdf:\n",
      "Job Title: THC/Q0105: Front Oﬃce Manager\n",
      "Job Description: The individual at work is responsible for managing the front oﬃce staﬀ as well as operations along with preparation of departmental budget and relevant reports for senior management.\n",
      "Performance Criteria: \n",
      "================================================================================\n"
     ]
    },
    {
     "name": "stderr",
     "output_type": "stream",
     "text": [
      "Processing PDFs:  77%|███████▋  | 645/838 [17:04<03:52,  1.20s/it]"
     ]
    },
    {
     "name": "stdout",
     "output_type": "stream",
     "text": [
      "Extracted Information for Duty_Manager.pdf:\n",
      "Job Title: THC/Q0106: Duty Manager\n",
      "Job Description: The individual at work monitors the front oﬃce operations on a day-to-day basis and assists the management in managing the ﬁnancial and administrative work.\n",
      "Performance Criteria: \n",
      "================================================================================\n"
     ]
    },
    {
     "name": "stderr",
     "output_type": "stream",
     "text": [
      "Processing PDFs:  77%|███████▋  | 646/838 [17:06<03:57,  1.24s/it]"
     ]
    },
    {
     "name": "stdout",
     "output_type": "stream",
     "text": [
      "Extracted Information for Duty_Manager.pdf:\n",
      "Job Title: THC/Q0106: Duty Manager\n",
      "Job Description: The individual at work monitors the front oﬃce operations on a day-to-day basis and assists the management in managing the ﬁnancial and administrative work.\n",
      "Performance Criteria: \n",
      "================================================================================\n"
     ]
    },
    {
     "name": "stderr",
     "output_type": "stream",
     "text": [
      "Processing PDFs:  77%|███████▋  | 647/838 [17:07<03:57,  1.24s/it]"
     ]
    },
    {
     "name": "stdout",
     "output_type": "stream",
     "text": [
      "Extracted Information for Guest_Service_Executive_(Front_Office).pdf:\n",
      "Job Title: THC/Q0109: Guest Service Executive (Front Oﬃce)\n",
      "Job Description: The individual at work provides either front oﬃce executive or guest relations executive services as per organizational standards.\n",
      "Performance Criteria: \n",
      "================================================================================\n"
     ]
    },
    {
     "name": "stderr",
     "output_type": "stream",
     "text": [
      "Processing PDFs:  77%|███████▋  | 648/838 [17:08<03:58,  1.26s/it]"
     ]
    },
    {
     "name": "stdout",
     "output_type": "stream",
     "text": [
      "Extracted Information for Guest_Service_Executive_(Front_Office).pdf:\n",
      "Job Title: THC/Q0109: Guest Service Executive (Front Oﬃce)\n",
      "Job Description: The individual at work provides either front oﬃce executive or guest relations executive services as per organizational standards.\n",
      "Performance Criteria: \n",
      "================================================================================\n"
     ]
    },
    {
     "name": "stderr",
     "output_type": "stream",
     "text": [
      "Processing PDFs:  77%|███████▋  | 649/838 [17:09<03:42,  1.18s/it]"
     ]
    },
    {
     "name": "stdout",
     "output_type": "stream",
     "text": [
      "Extracted Information for Front_Office_Trainee.pdf:\n",
      "Job Title: THC/Q0110: Front Oﬃce Trainee\n",
      "Job Description: The individual at work assists front oﬃce associate in performing front oﬃce activities and also provides assistance in bell desk activities if required.\n",
      "Performance Criteria: \n",
      "================================================================================\n"
     ]
    },
    {
     "name": "stderr",
     "output_type": "stream",
     "text": [
      "Processing PDFs:  78%|███████▊  | 650/838 [17:11<04:37,  1.48s/it]"
     ]
    },
    {
     "name": "stdout",
     "output_type": "stream",
     "text": [
      "Extracted Information for Front_Office_Assistant.pdf:\n",
      "Job Title: THC/Q0110: Front Oﬃce Assistant\n",
      "Job Description: The individual at work assists front oﬃce associate in performing front oﬃce activities and also provides assistance in bell desk activities if required.\n",
      "Performance Criteria: \n",
      "================================================================================\n"
     ]
    },
    {
     "name": "stderr",
     "output_type": "stream",
     "text": [
      "Processing PDFs:  78%|███████▊  | 651/838 [17:13<04:29,  1.44s/it]"
     ]
    },
    {
     "name": "stdout",
     "output_type": "stream",
     "text": [
      "Extracted Information for Revenue_Manager.pdf:\n",
      "Job Title: THC/Q0112: Revenue Manager\n",
      "Job Description: The individual at work develops pricing strategies and forecasts the revenue for hotels and other lodging establishments while working closely with sales teams, reception desk employees and the hotel senior management in areas of promotion, business planning and reservation costs.\n",
      "Performance Criteria: \n",
      "================================================================================\n"
     ]
    },
    {
     "name": "stderr",
     "output_type": "stream",
     "text": [
      "Processing PDFs:  78%|███████▊  | 652/838 [17:14<04:26,  1.43s/it]"
     ]
    },
    {
     "name": "stdout",
     "output_type": "stream",
     "text": [
      "Extracted Information for Revenue_Manager.pdf:\n",
      "Job Title: THC/Q0112: Revenue Manager\n",
      "Job Description: The individual at work develops pricing strategies and forecasts the revenue for hotels and other lodging establishments while working closely with sales teams, reception desk employees and the hotel senior management in areas of promotion, business planning and reservation costs.\n",
      "Performance Criteria: \n",
      "================================================================================\n"
     ]
    },
    {
     "name": "stderr",
     "output_type": "stream",
     "text": [
      "Processing PDFs:  78%|███████▊  | 653/838 [17:16<04:25,  1.43s/it]"
     ]
    },
    {
     "name": "stdout",
     "output_type": "stream",
     "text": [
      "Extracted Information for Concierge_Manager.pdf:\n",
      "Job Title: THC/Q0114: Concierge Manager\n",
      "Job Description: The individual at work manages the concierge team to support delivery of guest services such as making reservations, booking transportations, arranging for local visits, and recommending sightseeing spots, etc.\n",
      "Performance Criteria: \n",
      "================================================================================\n"
     ]
    },
    {
     "name": "stderr",
     "output_type": "stream",
     "text": [
      "Processing PDFs:  78%|███████▊  | 654/838 [17:18<04:52,  1.59s/it]"
     ]
    },
    {
     "name": "stdout",
     "output_type": "stream",
     "text": [
      "Extracted Information for Front_Office_Assistant.pdf:\n",
      "Job Title: THC/Q0123: Front Oﬃce Assistant\n",
      "Job Description: The individual at work assists front oﬃce associate in performing front oﬃce activities and also provides assistance in bell desk activities if required.\n",
      "Performance Criteria: \n",
      "================================================================================\n"
     ]
    },
    {
     "name": "stderr",
     "output_type": "stream",
     "text": [
      "Processing PDFs:  78%|███████▊  | 655/838 [17:20<05:19,  1.75s/it]"
     ]
    },
    {
     "name": "stdout",
     "output_type": "stream",
     "text": [
      "Extracted Information for Hotel_Reception_(WorldSkills).pdf:\n",
      "Job Title: THC/Q0124: Hotel Reception (WorldSkills)\n",
      "Job Description: The role of Hotel Receptionist is key to every hotel establishment. At the hotel’s reception area guests receive their ﬁrst impression of the hotel and therefore of their probable hotel experience. The quality, courtesy and promptness of service can make a great diﬀerence, positively or negatively, to the guest’s relationship with the hotel and their satisfaction during their stay. This in turn aﬀects the hotel’s reputation and repeat business. The Hotel Receptionist works mainly in the hotel’s front oﬃce. Hotel receptionists need to use a wide range of skills continuously. These may include knowledge of local and general tourism information, good verbal and written English, computer literacy, good manners and conduct and grooming, excellent communication and social skills, problem solving, competence with ﬁgures and cash handling, and the application of procedures for reservations, reception, guest services and check out.\n",
      "Performance Criteria: \n",
      "================================================================================\n"
     ]
    },
    {
     "name": "stderr",
     "output_type": "stream",
     "text": [
      "Processing PDFs:  78%|███████▊  | 656/838 [17:21<04:44,  1.56s/it]"
     ]
    },
    {
     "name": "stdout",
     "output_type": "stream",
     "text": [
      "Extracted Information for Housekeeping_Supervisor.pdf:\n",
      "Job Title: THC/Q0201: Housekeeping Supervisor\n",
      "Job Description: The individual at work maintains inventory for housekeeping activities, assigns duties, monitors, and inspects work of housekeeping personnel to ensure a clean, orderly, and attractive workplace.\n",
      "Performance Criteria: \n",
      "================================================================================\n"
     ]
    },
    {
     "name": "stderr",
     "output_type": "stream",
     "text": [
      "Processing PDFs:  78%|███████▊  | 657/838 [17:22<04:29,  1.49s/it]"
     ]
    },
    {
     "name": "stdout",
     "output_type": "stream",
     "text": [
      "Extracted Information for Guest_Service_Executive_(Housekeeping).pdf:\n",
      "Job Title: THC/Q0201: Guest Service Executive (Housekeeping)\n",
      "Job Description: The individual at work maintains inventory for housekeeping activities, assigns duties, monitors, and inspects work of housekeeping personnel to ensure a clean, orderly, and attractive workplace.\n",
      "Performance Criteria: \n",
      "================================================================================\n"
     ]
    },
    {
     "name": "stderr",
     "output_type": "stream",
     "text": [
      "Processing PDFs:  79%|███████▊  | 658/838 [17:24<04:46,  1.59s/it]"
     ]
    },
    {
     "name": "stdout",
     "output_type": "stream",
     "text": [
      "Extracted Information for Guest_Service_Associate_(Housekeeping).pdf:\n",
      "Job Title: THC/Q0202: Guest Service Associate (Housekeeping)\n",
      "Job Description: The individual at work cleans the guest rooms and public areas. The individual may also clean the carpeted areas or polish various ﬂoors and surfaces.\n",
      "Performance Criteria: \n",
      "================================================================================\n"
     ]
    },
    {
     "name": "stderr",
     "output_type": "stream",
     "text": [
      "Processing PDFs:  79%|███████▊  | 659/838 [17:26<04:59,  1.67s/it]"
     ]
    },
    {
     "name": "stdout",
     "output_type": "stream",
     "text": [
      "Extracted Information for Guest_Service_Associate_(Housekeeping).pdf:\n",
      "Job Title: THC/Q0202: Guest Service Associate (Housekeeping)\n",
      "Job Description: The individual at work cleans the guest rooms and other public areas Additionally they also clean the carpeted areas or polish various ﬂoors and surfaces. The individual at work may also perform various guest and other hotel laundry operations.\n",
      "Performance Criteria: \n",
      "================================================================================\n"
     ]
    },
    {
     "name": "stderr",
     "output_type": "stream",
     "text": [
      "Processing PDFs:  79%|███████▉  | 660/838 [17:27<04:39,  1.57s/it]"
     ]
    },
    {
     "name": "stdout",
     "output_type": "stream",
     "text": [
      "Extracted Information for Laundry_Associate.pdf:\n",
      "Job Title: THC/Q0204: Laundry Associate\n",
      "Job Description: The individual at work collects in-house and guests' dirty laundry like clothes, bed linens, curtains, tablecloths, napkins, staﬀ uniforms, etc. and washes, irons and delivers them.\n",
      "Performance Criteria: \n",
      "================================================================================\n"
     ]
    },
    {
     "name": "stderr",
     "output_type": "stream",
     "text": [
      "Processing PDFs:  79%|███████▉  | 661/838 [17:29<04:35,  1.56s/it]"
     ]
    },
    {
     "name": "stdout",
     "output_type": "stream",
     "text": [
      "Extracted Information for Executive_Housekeeper.pdf:\n",
      "Job Title: THC/Q0206: Executive Housekeeper\n",
      "Job Description: The individual at work establishes standards, manages housekeeping operations and resources, prepares budget, builds and manages a eﬀective team to ensure operational excellence of the housekeeping department.\n",
      "Performance Criteria: \n",
      "================================================================================\n"
     ]
    },
    {
     "name": "stderr",
     "output_type": "stream",
     "text": [
      "Processing PDFs:  79%|███████▉  | 662/838 [17:30<04:34,  1.56s/it]"
     ]
    },
    {
     "name": "stdout",
     "output_type": "stream",
     "text": [
      "Extracted Information for Executive_Housekeeper.pdf:\n",
      "Job Title: THC/Q0206: Executive Housekeeper\n",
      "Job Description: The individual at work establishes standards, manages housekeeping operations and resources, prepares budget, builds and manages a eﬀective team to ensure operational excellence of the housekeeping department.\n",
      "Performance Criteria: \n",
      "================================================================================\n"
     ]
    },
    {
     "name": "stderr",
     "output_type": "stream",
     "text": [
      "Processing PDFs:  79%|███████▉  | 663/838 [17:32<04:56,  1.69s/it]"
     ]
    },
    {
     "name": "stdout",
     "output_type": "stream",
     "text": [
      "Extracted Information for HouseKeeping_Manager.pdf:\n",
      "Job Title: THC/Q0207: HouseKeeping Manager\n",
      "Job Description: The individual at work manages the operations of the housekeeping department, human resource, inventory, and control costs as per organizational standards.\n",
      "Performance Criteria: \n",
      "================================================================================\n"
     ]
    },
    {
     "name": "stderr",
     "output_type": "stream",
     "text": [
      "Processing PDFs:  79%|███████▉  | 664/838 [17:34<05:07,  1.77s/it]"
     ]
    },
    {
     "name": "stdout",
     "output_type": "stream",
     "text": [
      "Extracted Information for HouseKeeping_Manager.pdf:\n",
      "Job Title: THC/Q0207: HouseKeeping Manager\n",
      "Job Description: The individual at work manages the operations of the housekeeping department, human resource, inventory, and control costs as per organizational standards.\n",
      "Performance Criteria: \n",
      "================================================================================\n"
     ]
    },
    {
     "name": "stderr",
     "output_type": "stream",
     "text": [
      "Processing PDFs:  79%|███████▉  | 665/838 [17:35<04:25,  1.53s/it]"
     ]
    },
    {
     "name": "stdout",
     "output_type": "stream",
     "text": [
      "Extracted Information for Housekeeping_Trainee.pdf:\n",
      "Job Title: THC/Q0209: Housekeeping Trainee\n",
      "Job Description: The individual at work keeps all rooms and assigned areas clean and tidy to ensure that guests have a memorable experience at the hotel. The person also needs to carry out other housekeeping activities as required.\n",
      "Performance Criteria: \n",
      "================================================================================\n"
     ]
    },
    {
     "name": "stderr",
     "output_type": "stream",
     "text": [
      "Processing PDFs:  79%|███████▉  | 666/838 [17:36<04:10,  1.46s/it]"
     ]
    },
    {
     "name": "stdout",
     "output_type": "stream",
     "text": [
      "Extracted Information for Housekeeping_Assistant.pdf:\n",
      "Job Title: THC/Q0209: Housekeeping Assistant\n",
      "Job Description: The individual at work keeps all rooms and assigned areas clean and tidy to ensure that guests have a memorable experience at the hotel. The person also needs to carry out other housekeeping activities as required.\n",
      "Performance Criteria: \n",
      "================================================================================\n"
     ]
    },
    {
     "name": "stderr",
     "output_type": "stream",
     "text": [
      "Processing PDFs:  80%|███████▉  | 667/838 [17:38<04:01,  1.41s/it]"
     ]
    },
    {
     "name": "stdout",
     "output_type": "stream",
     "text": [
      "Extracted Information for Laundry_Supervisor.pdf:\n",
      "Job Title: THC/Q0210: Laundry Supervisor\n",
      "Job Description: The Individual at work assigns and reviews the work of laundry staﬀ engaged in receiving, washing, ironing, packaging and delivering laundry to various departments or guests and manages other daily operations of laundry service department.\n",
      "Performance Criteria: \n",
      "================================================================================\n"
     ]
    },
    {
     "name": "stderr",
     "output_type": "stream",
     "text": [
      "Processing PDFs:  80%|███████▉  | 668/838 [17:39<03:57,  1.40s/it]"
     ]
    },
    {
     "name": "stdout",
     "output_type": "stream",
     "text": [
      "Extracted Information for Laundry_Supervisor.pdf:\n",
      "Job Title: THC/Q0210: Laundry Supervisor\n",
      "Job Description: The Individual at work assigns and reviews the work of laundry staﬀ engaged in receiving, washing, ironing, packaging and delivering laundry to various departments or guests and manages other daily operations of laundry service department.\n",
      "Performance Criteria: \n",
      "================================================================================\n"
     ]
    },
    {
     "name": "stderr",
     "output_type": "stream",
     "text": [
      "Processing PDFs:  80%|███████▉  | 669/838 [17:41<04:16,  1.52s/it]"
     ]
    },
    {
     "name": "stdout",
     "output_type": "stream",
     "text": [
      "Extracted Information for Housekeeping_Attendant.pdf:\n",
      "Job Title: THC/Q0211: Housekeeping Attendant\n",
      "Job Description: The individual at work cleans the guest rooms and public areas. The individual may also clean the carpeted areas or polish various ﬂoors and surfaces.\n",
      "Performance Criteria: \n",
      "================================================================================\n"
     ]
    },
    {
     "name": "stderr",
     "output_type": "stream",
     "text": [
      "Processing PDFs:  80%|███████▉  | 670/838 [17:42<04:08,  1.48s/it]"
     ]
    },
    {
     "name": "stdout",
     "output_type": "stream",
     "text": [
      "Extracted Information for Food_&_Beverage_Service_-_Associate.pdf:\n",
      "Job Title: THC/Q0301: Food & Beverage Service - Associate\n",
      "Job Description: The individual at work is responsible for receiving the guests, taking orders, and serving food and beverages to guests. The person also carries out after dining activities like presenting the bill and sending oﬀ the guests.\n",
      "Performance Criteria: \n",
      "================================================================================\n"
     ]
    },
    {
     "name": "stderr",
     "output_type": "stream",
     "text": [
      "Processing PDFs:  80%|████████  | 671/838 [17:44<04:17,  1.54s/it]"
     ]
    },
    {
     "name": "stdout",
     "output_type": "stream",
     "text": [
      "Extracted Information for Guest_Service__Associate_(Food_&_Beverage).pdf:\n",
      "Job Title: THC/Q0301: Guest Service Associate (Food & Beverage)\n",
      "Job Description: The individual at work is responsible for receiving the guests, taking orders, and serving food and beverages to guests. The person also carries out after dining activities like presenting the bill and sending oﬀ the guests.\n",
      "Performance Criteria: \n",
      "================================================================================\n"
     ]
    },
    {
     "name": "stderr",
     "output_type": "stream",
     "text": [
      "Processing PDFs:  80%|████████  | 672/838 [17:45<03:57,  1.43s/it]"
     ]
    },
    {
     "name": "stdout",
     "output_type": "stream",
     "text": [
      "Extracted Information for Bartender.pdf:\n",
      "Job Title: THC/Q0302: Bartender\n",
      "Job Description: The individual at work welcomes the guest, takes down guest's order, prepares and serves the drink requested and assists in billing.\n",
      "Performance Criteria: \n",
      "================================================================================\n"
     ]
    },
    {
     "name": "stderr",
     "output_type": "stream",
     "text": [
      "Processing PDFs:  80%|████████  | 673/838 [17:47<04:36,  1.68s/it]"
     ]
    },
    {
     "name": "stdout",
     "output_type": "stream",
     "text": [
      "Extracted Information for Bartender.pdf:\n",
      "Job Title: THC/Q0302: Bartender\n",
      "Job Description: The individual at work welcomes the guest, takes down guest's order, prepares and serves the drink requested and assists in billing.\n",
      "Performance Criteria: \n",
      "================================================================================\n"
     ]
    },
    {
     "name": "stderr",
     "output_type": "stream",
     "text": [
      "Processing PDFs:  80%|████████  | 674/838 [17:49<04:52,  1.78s/it]"
     ]
    },
    {
     "name": "stdout",
     "output_type": "stream",
     "text": [
      "Extracted Information for Food_&_Beverage_Service_Manager.pdf:\n",
      "Job Title: THC/Q0303: Food & Beverage Service Manager\n",
      "Job Description: The individual at work is responsible for planning and implementing policies and budget for the food and beverage department, monitoring daily operation and managing the food & beverage staﬀ.\n",
      "Performance Criteria: \n",
      "================================================================================\n"
     ]
    },
    {
     "name": "stderr",
     "output_type": "stream",
     "text": [
      "Processing PDFs:  81%|████████  | 675/838 [17:51<04:17,  1.58s/it]"
     ]
    },
    {
     "name": "stdout",
     "output_type": "stream",
     "text": [
      "Extracted Information for Banquet_Manager_(Operation).pdf:\n",
      "Job Title: THC/Q0304: Banquet Manager (Operation)\n",
      "Job Description: The individual at work is responsible for developing and implementing business strategies, managing staﬀ, and budget for the department, preparing for the event, and managing the event to provide an eﬀective guest experience.\n",
      "Performance Criteria: \n",
      "================================================================================\n"
     ]
    },
    {
     "name": "stderr",
     "output_type": "stream",
     "text": [
      "Processing PDFs:  81%|████████  | 676/838 [17:52<03:57,  1.47s/it]"
     ]
    },
    {
     "name": "stdout",
     "output_type": "stream",
     "text": [
      "Extracted Information for Food_Outlet_Manager.pdf:\n",
      "Job Title: THC/Q0305: Food Outlet Manager\n",
      "Job Description: The individual at work manages daily food outlet operations as well as the staﬃng, ﬁnancial and administrative aspects of the outlet while enhancing the guest experience and ensuring business proﬁtability.\n",
      "Performance Criteria: \n",
      "================================================================================\n"
     ]
    },
    {
     "name": "stderr",
     "output_type": "stream",
     "text": [
      "Processing PDFs:  81%|████████  | 677/838 [17:53<03:40,  1.37s/it]"
     ]
    },
    {
     "name": "stdout",
     "output_type": "stream",
     "text": [
      "Extracted Information for Restaurant_Captain.pdf:\n",
      "Job Title: THC/Q0306: Restaurant Captain\n",
      "Job Description: The individual at work supervises food and beverage services, maintains the related inventory and ensures cleanliness in the food and beverage service area to provide an excellent dining experience to guests.\n",
      "Performance Criteria: \n",
      "================================================================================\n"
     ]
    },
    {
     "name": "stderr",
     "output_type": "stream",
     "text": [
      "Processing PDFs:  81%|████████  | 678/838 [17:54<03:32,  1.33s/it]"
     ]
    },
    {
     "name": "stdout",
     "output_type": "stream",
     "text": [
      "Extracted Information for Restaurant_Captain.pdf:\n",
      "Job Title: THC/Q0306: Restaurant Captain\n",
      "Job Description: The individual at work supervises food and beverage services, maintains the related inventory and ensures cleanliness in the food and beverage service area to provide an excellent dining experience to guests.\n",
      "Performance Criteria: \n",
      "================================================================================\n"
     ]
    },
    {
     "name": "stderr",
     "output_type": "stream",
     "text": [
      "Processing PDFs:  81%|████████  | 679/838 [17:55<03:21,  1.27s/it]"
     ]
    },
    {
     "name": "stdout",
     "output_type": "stream",
     "text": [
      "Extracted Information for Food_&_Beverage_Service_Assistant.pdf:\n",
      "Job Title: THC/Q0307: Food & Beverage Service Assistant\n",
      "Job Description: The individual at work carries out all the back-end activities and assists the food and beverage service team to execute service without any holdups.\n",
      "Performance Criteria: \n",
      "================================================================================\n"
     ]
    },
    {
     "name": "stderr",
     "output_type": "stream",
     "text": [
      "Processing PDFs:  81%|████████  | 680/838 [17:58<04:11,  1.59s/it]"
     ]
    },
    {
     "name": "stdout",
     "output_type": "stream",
     "text": [
      "Extracted Information for Food_and_Beverage_Service_Assistant.pdf:\n",
      "Job Title: THC/Q0307: Food and Beverage Service Assistant\n",
      "Job Description: The individual at work carries out all the back-end activities and assists the food and beverage service team to execute service without any holdups.\n",
      "Performance Criteria: \n",
      "================================================================================\n"
     ]
    },
    {
     "name": "stderr",
     "output_type": "stream",
     "text": [
      "Processing PDFs:  81%|████████▏ | 681/838 [17:59<03:54,  1.50s/it]"
     ]
    },
    {
     "name": "stdout",
     "output_type": "stream",
     "text": [
      "Extracted Information for Barista_Executive.pdf:\n",
      "Job Title: THC/Q0308: Barista Executive\n",
      "Job Description: The individual at work welcomes the guest, takes down guest's order, prepares and serves the drink requested and assists in billing.\n",
      "Performance Criteria: \n",
      "================================================================================\n"
     ]
    },
    {
     "name": "stderr",
     "output_type": "stream",
     "text": [
      "Processing PDFs:  81%|████████▏ | 682/838 [18:00<03:38,  1.40s/it]"
     ]
    },
    {
     "name": "stdout",
     "output_type": "stream",
     "text": [
      "Extracted Information for Food_&_Beverage_Service_Trainee.pdf:\n",
      "Job Title: THC/Q0309: Food & Beverage Service Trainee\n",
      "Job Description: The individual at work carries out all the back-end activities and assists the food and beverage service team to execute service without any holdups.\n",
      "Performance Criteria: \n",
      "================================================================================\n"
     ]
    },
    {
     "name": "stderr",
     "output_type": "stream",
     "text": [
      "Processing PDFs:  82%|████████▏ | 683/838 [18:01<03:30,  1.36s/it]"
     ]
    },
    {
     "name": "stdout",
     "output_type": "stream",
     "text": [
      "Extracted Information for Restaurant_Service_(WorldSkills).pdf:\n",
      "Job Title: THC/Q0310: Restaurant Service (WorldSkills)\n",
      "Job Description: The restaurant service practitioner provides high quality food and drink service to guests. A food service practitioner generally works in the commercial sector oﬀering a range of services to customers. There is a direct relationship between the nature and quality of the service required and the payment made by the guest. Therefore the practitioner has a continuing responsibility to work professionally and interactively with the guest in order to give satisfaction and thus maintain and grow the business. The waiter is the most important person in dealing with guests and creating the right atmosphere in restaurant. It is therefore necessary to have a complete command of serving rules and to know the preparation of special dishes and drinks at the guests table or in the bar. Basic requirements are skill and resourcefulness, good manners. good interaction with guests and practical ability.\n",
      "Performance Criteria: \n",
      "================================================================================\n"
     ]
    },
    {
     "name": "stderr",
     "output_type": "stream",
     "text": [
      "Processing PDFs:  82%|████████▏ | 684/838 [18:03<03:25,  1.33s/it]"
     ]
    },
    {
     "name": "stdout",
     "output_type": "stream",
     "text": [
      "Extracted Information for Kitchen_Steward.pdf:\n",
      "Job Title: THC/Q0401: Kitchen Steward\n",
      "Job Description: The individual at work cleans and sanitizes the kitchen, kitchen equipment, and appliances, and assists in maintaining inventory of kitchenware, dishware, and kitchen supplies for smooth kitchen operations.\n",
      "Performance Criteria: \n",
      "================================================================================\n"
     ]
    },
    {
     "name": "stderr",
     "output_type": "stream",
     "text": [
      "Processing PDFs:  82%|████████▏ | 685/838 [18:05<04:04,  1.60s/it]"
     ]
    },
    {
     "name": "stdout",
     "output_type": "stream",
     "text": [
      "Extracted Information for Kitchen_Steward.pdf:\n",
      "Job Title: THC/Q0401: Kitchen Steward\n",
      "Job Description: The individual at work cleans and sanitizes the kitchen, kitchen equipment, and appliances, and assists in maintaining inventory of kitchenware, dishware, and kitchen supplies for smooth kitchen operations.\n",
      "Performance Criteria: \n",
      "================================================================================\n"
     ]
    },
    {
     "name": "stderr",
     "output_type": "stream",
     "text": [
      "Processing PDFs:  82%|████████▏ | 686/838 [18:06<03:49,  1.51s/it]"
     ]
    },
    {
     "name": "stdout",
     "output_type": "stream",
     "text": [
      "Extracted Information for Executive_Chef.pdf:\n",
      "Job Title: THC/Q0402: Executive Chef\n",
      "Job Description: The individual at work is responsible for planning and implementing policies and budget for the food and beverage department, monitoring daily operation and managing the food & beverage staﬀ.\n",
      "Performance Criteria: \n",
      "================================================================================\n"
     ]
    },
    {
     "name": "stderr",
     "output_type": "stream",
     "text": [
      "Processing PDFs:  82%|████████▏ | 687/838 [18:13<07:55,  3.15s/it]"
     ]
    },
    {
     "name": "stdout",
     "output_type": "stream",
     "text": [
      "Extracted Information for Executive_Chef.pdf:\n",
      "Job Title: THC/Q0402: Executive Chef\n",
      "Job Description: The individual at work is responsible for planning and implementing policies and budget for the food and beverage department, monitoring daily operation and managing the food & beverage staﬀ.\n",
      "Performance Criteria: \n",
      "================================================================================\n"
     ]
    },
    {
     "name": "stderr",
     "output_type": "stream",
     "text": [
      "Processing PDFs:  82%|████████▏ | 688/838 [18:14<06:29,  2.60s/it]"
     ]
    },
    {
     "name": "stdout",
     "output_type": "stream",
     "text": [
      "Extracted Information for Sous_Chef.pdf:\n",
      "Job Title: THC/Q0403: Sous Chef\n",
      "Job Description: The individual at work is responsible for monitoring the kitchen operations, supervising the kitchen brigade and assisting the Executive Chef in preparation of menu and departmental budget.\n",
      "Performance Criteria: \n",
      "================================================================================\n"
     ]
    },
    {
     "name": "stderr",
     "output_type": "stream",
     "text": [
      "Processing PDFs:  82%|████████▏ | 689/838 [18:16<06:03,  2.44s/it]"
     ]
    },
    {
     "name": "stdout",
     "output_type": "stream",
     "text": [
      "Extracted Information for Sous_Chef.pdf:\n",
      "Job Title: THC/Q0403: Sous Chef\n",
      "Job Description: The individual at work is responsible for monitoring the kitchen operations, supervising the kitchen brigade and assisting the Executive Chef in preparation of menu and departmental budget.\n",
      "Performance Criteria: \n",
      "================================================================================\n"
     ]
    },
    {
     "name": "stderr",
     "output_type": "stream",
     "text": [
      "Processing PDFs:  82%|████████▏ | 690/838 [18:18<04:59,  2.02s/it]"
     ]
    },
    {
     "name": "stdout",
     "output_type": "stream",
     "text": [
      "Extracted Information for Chef_de_Partie.pdf:\n",
      "Job Title: THC/Q0404: Chef de Partie\n",
      "Job Description: The individual at work maintains the inventory and food production operations for the designated area in the kitchen and assists the Sous/Head Chef in managing the human resources and administrative operations.\n",
      "Performance Criteria: \n",
      "================================================================================\n"
     ]
    },
    {
     "name": "stderr",
     "output_type": "stream",
     "text": [
      "Processing PDFs:  82%|████████▏ | 691/838 [18:19<04:33,  1.86s/it]"
     ]
    },
    {
     "name": "stdout",
     "output_type": "stream",
     "text": [
      "Extracted Information for Chef_de_Partie.pdf:\n",
      "Job Title: THC/Q0404: Chef de Partie\n",
      "Job Description: The individual at work maintains the inventory and food production operations for the designated area in the kitchen and assists the Sous/Head Chef in managing the human resources and administrative operations.\n",
      "Performance Criteria: \n",
      "================================================================================\n"
     ]
    },
    {
     "name": "stderr",
     "output_type": "stream",
     "text": [
      "Processing PDFs:  83%|████████▎ | 692/838 [18:21<04:19,  1.78s/it]"
     ]
    },
    {
     "name": "stdout",
     "output_type": "stream",
     "text": [
      "Extracted Information for Demi_Chef_De_Partie.pdf:\n",
      "Job Title: THC/Q0405: Demi Chef De Partie\n",
      "Job Description: The individual at work prepares food ingredients in the allotted section of the kitchen, guides the Commis chef on kitchen operations, and assists the Chef de partie or Sous chef in preparing and presenting the food, monitoring stock of the inventory, and maintaining quality standards of the kitchen activities.\n",
      "Performance Criteria: \n",
      "================================================================================\n"
     ]
    },
    {
     "name": "stderr",
     "output_type": "stream",
     "text": [
      "Processing PDFs:  83%|████████▎ | 693/838 [18:23<04:49,  1.99s/it]"
     ]
    },
    {
     "name": "stdout",
     "output_type": "stream",
     "text": [
      "Extracted Information for Demi_Chef_De_Partie.pdf:\n",
      "Job Title: THC/Q0405: Demi Chef De Partie\n",
      "Job Description: The individual at work prepares food ingredients in the allotted section of the kitchen, guides the Commis chef on kitchen operations, and assists the Chef de partie or Sous chef in preparing and presenting the food, monitoring stock of the inventory, and maintaining quality standards of the kitchen activities.\n",
      "Performance Criteria: \n",
      "================================================================================\n"
     ]
    },
    {
     "name": "stderr",
     "output_type": "stream",
     "text": [
      "Processing PDFs:  83%|████████▎ | 694/838 [18:24<04:20,  1.81s/it]"
     ]
    },
    {
     "name": "stdout",
     "output_type": "stream",
     "text": [
      "Extracted Information for Commis_Chef.pdf:\n",
      "Job Title: THC/Q0406: Commis Chef\n",
      "Job Description: The individual at work sets up kitchen for operations and assists in food preparation and cooking. The person prepares sauces, salads, cold starters and other base items, monitors the stock in the kitchen, and closes the kitchen at the end of day's operations or shift end.\n",
      "Performance Criteria: \n",
      "================================================================================\n"
     ]
    },
    {
     "name": "stderr",
     "output_type": "stream",
     "text": [
      "Processing PDFs:  83%|████████▎ | 695/838 [18:27<04:50,  2.03s/it]"
     ]
    },
    {
     "name": "stdout",
     "output_type": "stream",
     "text": [
      "Extracted Information for Commis.pdf:\n",
      "Job Title: THC/Q0406: Commis\n",
      "Job Description: The individual at work sets up kitchen for operations and assists in food preparation and cooking. The person prepares sauces, salads, cold starters and other base items, monitors the stock in the kitchen, and closes the kitchen at the end of day's operations or shift end.\n",
      "Performance Criteria: \n",
      "================================================================================\n"
     ]
    },
    {
     "name": "stderr",
     "output_type": "stream",
     "text": [
      "Processing PDFs:  83%|████████▎ | 696/838 [18:29<04:25,  1.87s/it]"
     ]
    },
    {
     "name": "stdout",
     "output_type": "stream",
     "text": [
      "Extracted Information for Kitchen_Stewarding_Supervisor.pdf:\n",
      "Job Title: THC/Q0411: Kitchen Stewarding Supervisor\n",
      "Job Description: The individual at work directs and coordinates all activities of the kitchen stewarding department like assigning duties to kitchen stewards, monitoring cleanliness of kitchen area and equipment and managing inventory of kitchenware, dishware, and kitchen supplies for smooth kitchen operations.\n",
      "Performance Criteria: \n",
      "================================================================================\n"
     ]
    },
    {
     "name": "stderr",
     "output_type": "stream",
     "text": [
      "Processing PDFs:  83%|████████▎ | 697/838 [18:30<04:21,  1.85s/it]"
     ]
    },
    {
     "name": "stdout",
     "output_type": "stream",
     "text": [
      "Extracted Information for Kitchen_Stewarding_Shift_In_charge.pdf:\n",
      "Job Title: THC/Q0411: Kitchen Stewarding Shift In charge\n",
      "Job Description: The individual at work directs and coordinates all activities of the kitchen stewarding department like assigning duties to kitchen stewards, monitoring cleanliness of kitchen area and equipment and managing inventory of kitchenware, dishware, and kitchen supplies for smooth kitchen operations.\n",
      "Performance Criteria: \n",
      "================================================================================\n"
     ]
    },
    {
     "name": "stderr",
     "output_type": "stream",
     "text": [
      "Processing PDFs:  83%|████████▎ | 698/838 [18:31<03:49,  1.64s/it]"
     ]
    },
    {
     "name": "stdout",
     "output_type": "stream",
     "text": [
      "Extracted Information for Trainee_Chef..pdf:\n",
      "Job Title: THC/Q0414: Trainee Chef.\n",
      "Job Description: The individual at work helps the Commis Chefs in receiving and storing kitchen supplies, carrying out basic food preparation tasks as per instructions and maintaining cleanliness in the kitchen.\n",
      "Performance Criteria: \n",
      "================================================================================\n"
     ]
    },
    {
     "name": "stderr",
     "output_type": "stream",
     "text": [
      "Processing PDFs:  84%|████████▎ | 700/838 [18:34<03:11,  1.39s/it]"
     ]
    },
    {
     "name": "stdout",
     "output_type": "stream",
     "text": [
      "Extracted Information for Food_Styling_Photographer.pdf:\n",
      "Job Title: THC/Q0417: Food Styling Photographer\n",
      "Job Description: The individual at work plans, organizes, style, and photograph the food according to the camera perspective. The person can work as a food photographer / food stylist or prop stylist\n",
      "Performance Criteria: \n",
      "================================================================================\n"
     ]
    },
    {
     "name": "stderr",
     "output_type": "stream",
     "text": [
      "Processing PDFs:  84%|████████▎ | 701/838 [18:37<04:20,  1.90s/it]"
     ]
    },
    {
     "name": "stdout",
     "output_type": "stream",
     "text": [
      "Extracted Information for Bakery_(WorldSkills).pdf:\n",
      "Job Title: THC/Q0418: Bakery (WorldSkills)\n",
      "Job Description: The baker is a highly skilled professional, with a high level of knowledge about food and nutrition, who produces a wide range of bread and pastry items.The baker produces all varieties of fresh and tasty bakery products, made of any kind of grains. Diﬀerent types of fermentation and other processes will be used to turn the raw material into sweet or savory products. For example, wheat bread, rye bread, artisan bread, enriched breads, laminated products, and ingredients to ﬂavor their bakery products. Bakers also produces elaborate displays of decorative breads using creative skills and knowledge.\n",
      "Performance Criteria: \n",
      "================================================================================\n"
     ]
    },
    {
     "name": "stderr",
     "output_type": "stream",
     "text": [
      "Processing PDFs:  84%|████████▍ | 702/838 [18:40<05:01,  2.22s/it]"
     ]
    },
    {
     "name": "stdout",
     "output_type": "stream",
     "text": [
      "Extracted Information for Cooking_(WorldSkills).pdf:\n",
      "Job Title: THC/Q0419: Cooking (WorldSkills)\n",
      "Job Description: Professional chefs need to demonstrate outstanding skills in food preparation (with both speed and accuracy), in production (using varied cooking methods and techniques) and in the ﬁnal presentation and ﬂavor. They are expected to create and adapt dishes that meet the expectations of demanding customers with varying nutritional and religious dietary requirements. Fashions and trends in cuisine also ﬂuctuate, so it is important that the professional chef keeps abreast of these trends and adapts their product and service accordingly The Professional chef needs to be adept at managing food cost and maintaining environmentally-friendly sustainable food production by making use of locally sourced and seasonal ingredients, as well as controlling unnecessary waste by creatively re-using trimmings and reducing ingredient wastage.\n",
      "Performance Criteria: \n",
      "================================================================================\n"
     ]
    },
    {
     "name": "stderr",
     "output_type": "stream",
     "text": [
      "Processing PDFs:  84%|████████▍ | 703/838 [18:44<06:27,  2.87s/it]"
     ]
    },
    {
     "name": "stdout",
     "output_type": "stream",
     "text": [
      "Extracted Information for Patisserie_and_Confectionery_(WorldSkills).pdf:\n",
      "Job Title: THC/Q0420: Patisserie and Confectionery (WorldSkills)\n",
      "Job Description: The Patisserie and Confectionery trades have highly skilled professionals who produce a wide range of intricate and predominantly sweet items. They produce various confectionery products such as hand ﬁnished chocolates, candies, and petits fours for service in hotels and restaurants or for retail in specialist shops and outlets. Patissiers/Confectioners produce a full range of hot and cold desserts, cakes, biscuits, and iced products for service in luxury/boutique hotels, restaurants, and pastry shops for retail sale. They may also produce elaborate display pieces using chocolate, sugar, ice, marzipan, or other decorative materials and ingredients. Some may specialize in producing decorated and themed cakes for special events.\n",
      "Performance Criteria: \n",
      "================================================================================\n"
     ]
    },
    {
     "name": "stderr",
     "output_type": "stream",
     "text": [
      "Processing PDFs:  84%|████████▍ | 704/838 [18:45<05:11,  2.32s/it]"
     ]
    },
    {
     "name": "stdout",
     "output_type": "stream",
     "text": [
      "Extracted Information for Guest_House_Caretaker.pdf:\n",
      "Job Title: THC/Q0501: Guest House Caretaker\n",
      "Job Description: The individual at work registers guests during check-in and attends to their requirements, serves food, completes guest check-out, maintains the guest house, and performs general administrative duties.\n",
      "Performance Criteria: \n",
      "================================================================================\n"
     ]
    },
    {
     "name": "stderr",
     "output_type": "stream",
     "text": [
      "Processing PDFs:  84%|████████▍ | 705/838 [18:46<04:27,  2.01s/it]"
     ]
    },
    {
     "name": "stdout",
     "output_type": "stream",
     "text": [
      "Extracted Information for Guest_House_Caretaker.pdf:\n",
      "Job Title: THC/Q0501: Guest House Caretaker\n",
      "Job Description: The individual at work registers guests during check-in and attends to their requirements, serves food, completes guest check-out, maintains the guest house, and performs general administrative duties.\n",
      "Performance Criteria: \n",
      "================================================================================\n"
     ]
    },
    {
     "name": "stderr",
     "output_type": "stream",
     "text": [
      "Processing PDFs:  84%|████████▍ | 706/838 [18:48<03:55,  1.78s/it]"
     ]
    },
    {
     "name": "stdout",
     "output_type": "stream",
     "text": [
      "Extracted Information for Home_Stay_Host.pdf:\n",
      "Job Title: THC/Q0504: Home Stay Host\n",
      "Job Description: The individual at work prepares the home to share it with the guests, hosts the guests, and ensures providing them a wonderful experience of staying at home away from home.\n",
      "Performance Criteria: \n",
      "================================================================================\n"
     ]
    },
    {
     "name": "stderr",
     "output_type": "stream",
     "text": [
      "Processing PDFs:  84%|████████▍ | 707/838 [18:49<03:34,  1.64s/it]"
     ]
    },
    {
     "name": "stdout",
     "output_type": "stream",
     "text": [
      "Extracted Information for Store_Assistant-_Tourism_and_Hospitality.pdf:\n",
      "Job Title: THC/Q2602: Store Assistant- Tourism and Hospitality\n",
      "Job Description: The person is responsible for, procuring the required supplies from the vendors, ensuring proper storage, and issuing the supplies to the concerned departments of the restaurant/hotel for smooth business operations.\n",
      "Performance Criteria: \n",
      "================================================================================\n"
     ]
    },
    {
     "name": "stderr",
     "output_type": "stream",
     "text": [
      "Processing PDFs:  84%|████████▍ | 708/838 [18:50<03:22,  1.56s/it]"
     ]
    },
    {
     "name": "stdout",
     "output_type": "stream",
     "text": [
      "Extracted Information for Assistant_Chef.pdf:\n",
      "Job Title: THC/Q2702: Assistant Chef\n",
      "Job Description: The individual at work helps the Commis Chefs in receiving and storing kitchen supplies, carrying out basic food preparation tasks as per instructions and maintaining cleanliness in the kitchen.\n",
      "Performance Criteria: \n",
      "================================================================================\n"
     ]
    },
    {
     "name": "stderr",
     "output_type": "stream",
     "text": [
      "Processing PDFs:  85%|████████▍ | 709/838 [18:52<03:11,  1.49s/it]"
     ]
    },
    {
     "name": "stdout",
     "output_type": "stream",
     "text": [
      "Extracted Information for Kitchen_Trainee.pdf:\n",
      "Job Title: THC/Q2702: Kitchen Trainee\n",
      "Job Description: The individual at work helps the Commis Chefs in receiving and storing kitchen supplies, carrying out basic food preparation tasks as per instructions and maintaining cleanliness in the kitchen.\n",
      "Performance Criteria: \n",
      "================================================================================\n"
     ]
    },
    {
     "name": "stderr",
     "output_type": "stream",
     "text": [
      "Processing PDFs:  85%|████████▍ | 710/838 [18:53<03:03,  1.44s/it]"
     ]
    },
    {
     "name": "stdout",
     "output_type": "stream",
     "text": [
      "Extracted Information for Restaurant_Manager.pdf:\n",
      "Job Title: THC/Q2703: Restaurant Manager\n",
      "Job Description: The individual at work develops strategies to grow the restaurant and catering business. The incumbent operates existing and/or new business proﬁtably, besides managing ﬁnancial, administrative, security matters, and fulﬁlling legal compliances.\n",
      "Performance Criteria: \n",
      "================================================================================\n"
     ]
    },
    {
     "name": "stderr",
     "output_type": "stream",
     "text": [
      "Processing PDFs:  85%|████████▍ | 711/838 [18:59<06:00,  2.83s/it]"
     ]
    },
    {
     "name": "stdout",
     "output_type": "stream",
     "text": [
      "Extracted Information for Restaurant_Manager.pdf:\n",
      "Job Title: THC/Q2703: Restaurant Manager\n",
      "Job Description: The individual at work develops strategies to grow the restaurant and catering business. The incumbent operates existing and/or new business proﬁtably, besides managing ﬁnancial, administrative, security matters, and fulﬁlling legal compliances.\n",
      "Performance Criteria: \n",
      "================================================================================\n"
     ]
    },
    {
     "name": "stderr",
     "output_type": "stream",
     "text": [
      "Processing PDFs:  85%|████████▌ | 713/838 [19:02<04:38,  2.23s/it]"
     ]
    },
    {
     "name": "stdout",
     "output_type": "stream",
     "text": [
      "Extracted Information for Quality_Control_Manager-Tourism_and_Hospitality.pdf:\n",
      "Job Title: THC/Q2802: Quality Control Manager-Tourism and Hospitality\n",
      "Job Description: The individual at work implements as well as supervises the quality control processes and operations in a restaurant/hotel via monitoring quality across all departments, ensuring food safety standards are met.\n",
      "Performance Criteria: \n",
      "================================================================================\n"
     ]
    },
    {
     "name": "stderr",
     "output_type": "stream",
     "text": [
      "Processing PDFs:  85%|████████▌ | 714/838 [19:03<04:01,  1.95s/it]"
     ]
    },
    {
     "name": "stdout",
     "output_type": "stream",
     "text": [
      "Extracted Information for Food_Delivery_Associate.pdf:\n",
      "Job Title: THC/Q2902: Food Delivery Associate\n",
      "Job Description: The individual at work delivers food and beverage orders to customers at their place, on time and as per organization's policy.\n",
      "Performance Criteria: \n",
      "================================================================================\n"
     ]
    },
    {
     "name": "stderr",
     "output_type": "stream",
     "text": [
      "Processing PDFs:  85%|████████▌ | 715/838 [19:05<03:44,  1.82s/it]"
     ]
    },
    {
     "name": "stdout",
     "output_type": "stream",
     "text": [
      "Extracted Information for Counter_Sales_Executive_(Tourism_and_Hospitality).pdf:\n",
      "Job Title: THC/Q2903: Counter Sales Executive (Tourism and Hospitality)\n",
      "Job Description: The individual at work receives guests, answers their queries, takes down their orders, handle online food and beverage orders, transfers orders to the kitchen, instructs the kitchen staﬀ, serves guests, ensures timely delivery of the order to the customer and maintains the QSR as per organizational policy.\n",
      "Performance Criteria: \n",
      "================================================================================\n"
     ]
    },
    {
     "name": "stderr",
     "output_type": "stream",
     "text": [
      "Processing PDFs:  85%|████████▌ | 716/838 [19:06<03:30,  1.72s/it]"
     ]
    },
    {
     "name": "stdout",
     "output_type": "stream",
     "text": [
      "Extracted Information for Counter_Sales_Associate-Tourism_and_Hospitality.pdf:\n",
      "Job Title: THC/Q2909: Counter Sales Associate-Tourism and Hospitality\n",
      "Job Description: The individual at work receives guests, answers their queries, takes down their orders, handle online food and beverage orders, transfers orders to the kitchen, instructs the kitchen staﬀ, serves guests, ensures timely delivery of the order to the customer and maintains the QSR as per organizational policy.\n",
      "Performance Criteria: \n",
      "================================================================================\n"
     ]
    },
    {
     "name": "stderr",
     "output_type": "stream",
     "text": [
      "Processing PDFs:  86%|████████▌ | 717/838 [19:08<03:10,  1.58s/it]"
     ]
    },
    {
     "name": "stdout",
     "output_type": "stream",
     "text": [
      "Extracted Information for Guest_Service_Associate-_Food_&_Beverage_Service.pdf:\n",
      "Job Title: THC/Q2910: Guest Service Associate- Food & Beverage Service\n",
      "Job Description: The individual at work delivers food and beverage orders to customers at their place, on time and as per organization's policy.\n",
      "Performance Criteria: \n",
      "================================================================================\n"
     ]
    },
    {
     "name": "stderr",
     "output_type": "stream",
     "text": [
      "Processing PDFs:  86%|████████▌ | 718/838 [19:09<02:57,  1.48s/it]"
     ]
    },
    {
     "name": "stdout",
     "output_type": "stream",
     "text": [
      "Extracted Information for Food_Delivery_Professional.pdf:\n",
      "Job Title: THC/Q2911: Food Delivery Professional\n",
      "Job Description: The individual at work delivers food and beverage orders to customers at their place, on time and as per organization's policy.\n",
      "Performance Criteria: \n",
      "================================================================================\n"
     ]
    },
    {
     "name": "stderr",
     "output_type": "stream",
     "text": [
      "Processing PDFs:  86%|████████▌ | 719/838 [19:10<02:51,  1.44s/it]"
     ]
    },
    {
     "name": "stdout",
     "output_type": "stream",
     "text": [
      "Extracted Information for Cleaner-Roadside_Eatery.pdf:\n",
      "Job Title: THC/Q3002: Cleaner-Roadside Eatery\n",
      "Job Description: The individual at work performs day-to-day cleaning of ﬂoors, furniture, ﬁtments, kitchen and dining areas, and washrooms in a roadside eatery for a clean and hygienic customer-friendly environment.\n",
      "Performance Criteria: \n",
      "================================================================================\n"
     ]
    },
    {
     "name": "stderr",
     "output_type": "stream",
     "text": [
      "Processing PDFs:  86%|████████▌ | 720/838 [19:12<02:52,  1.46s/it]"
     ]
    },
    {
     "name": "stdout",
     "output_type": "stream",
     "text": [
      "Extracted Information for Eatery_Owner.pdf:\n",
      "Job Title: THC/Q3004: Eatery Owner\n",
      "Job Description: The individual at work operates roadside eatery by creating the necessary infrastructure and arranging resources, managing inventory, ﬁnances, staﬀ and its operations.\n",
      "Performance Criteria: \n",
      "================================================================================\n"
     ]
    },
    {
     "name": "stderr",
     "output_type": "stream",
     "text": [
      "Processing PDFs:  86%|████████▌ | 721/838 [19:13<02:46,  1.42s/it]"
     ]
    },
    {
     "name": "stdout",
     "output_type": "stream",
     "text": [
      "Extracted Information for Street_Food_Vendor-_Standalone.pdf:\n",
      "Job Title: THC/Q3008: Street Food Vendor- Standalone\n",
      "Job Description: The individual at work sets up standalone street food vending cart and sells food to customers at the chosen location, following all health and safety standards.\n",
      "Performance Criteria: \n",
      "================================================================================\n"
     ]
    },
    {
     "name": "stderr",
     "output_type": "stream",
     "text": [
      "Processing PDFs:  86%|████████▌ | 722/838 [19:14<02:45,  1.43s/it]"
     ]
    },
    {
     "name": "stdout",
     "output_type": "stream",
     "text": [
      "Extracted Information for Food_Server-Roadside_Eateries.pdf:\n",
      "Job Title: THC/Q3009: Food Server-Roadside Eateries\n",
      "Job Description: The individual at work takes orders from guests and serves the ordered food and beverage items, cleans and prepares tables, and carries out post dining activities in roadside eateries.\n",
      "Performance Criteria: \n",
      "================================================================================\n"
     ]
    },
    {
     "name": "stderr",
     "output_type": "stream",
     "text": [
      "Processing PDFs:  86%|████████▋ | 723/838 [19:16<02:50,  1.49s/it]"
     ]
    },
    {
     "name": "stdout",
     "output_type": "stream",
     "text": [
      "Extracted Information for Food_&_Beverage_Controller.pdf:\n",
      "Job Title: THC/Q3101: Food & Beverage Controller\n",
      "Job Description: The individual at work is responsible for controlling the cost and ordering, purchasing, and issuing of food and beverage products.\n",
      "Performance Criteria: \n",
      "================================================================================\n"
     ]
    },
    {
     "name": "stderr",
     "output_type": "stream",
     "text": [
      "Processing PDFs:  86%|████████▋ | 724/838 [19:18<03:02,  1.60s/it]"
     ]
    },
    {
     "name": "stdout",
     "output_type": "stream",
     "text": [
      "Extracted Information for Kitchen_Helper.pdf:\n",
      "Job Title: THC/Q3303: Kitchen Helper\n",
      "Job Description: The individual at work assists the cook in kitchen operations and maintaining the kitchen.\n",
      "Performance Criteria: \n",
      "================================================================================\n"
     ]
    },
    {
     "name": "stderr",
     "output_type": "stream",
     "text": [
      "Processing PDFs:  87%|████████▋ | 725/838 [19:20<03:05,  1.64s/it]"
     ]
    },
    {
     "name": "stdout",
     "output_type": "stream",
     "text": [
      "Extracted Information for Kitchen_Helper.pdf:\n",
      "Job Title: THC/Q3303: Kitchen Helper\n",
      "Job Description: The individual at work assists the cook in kitchen operations and maintaining the kitchen.\n",
      "Performance Criteria: \n",
      "================================================================================\n"
     ]
    },
    {
     "name": "stderr",
     "output_type": "stream",
     "text": [
      "Processing PDFs:  87%|████████▋ | 726/838 [19:21<02:56,  1.57s/it]"
     ]
    },
    {
     "name": "stdout",
     "output_type": "stream",
     "text": [
      "Extracted Information for Transport_Coordinator-Tourism_and_Hospitality.pdf:\n",
      "Job Title: THC/Q4201: Transport Coordinator-Tourism and Hospitality\n",
      "Job Description: The individual at work takes bookings for customer travel, arranges for vehicle, monitors the trip and collects payment.\n",
      "Performance Criteria: \n",
      "================================================================================\n"
     ]
    },
    {
     "name": "stderr",
     "output_type": "stream",
     "text": [
      "Processing PDFs:  87%|████████▋ | 727/838 [19:22<02:40,  1.45s/it]"
     ]
    },
    {
     "name": "stdout",
     "output_type": "stream",
     "text": [
      "Extracted Information for Transport_Duty_Manager.pdf:\n",
      "Job Title: THC/Q4203: Transport Duty Manager\n",
      "Job Description: The individual at work plans and implements policies manages the departmental staﬀ, handles the ﬁnancial aspects of the business, and monitors the transportation process to ensure smooth business performance.\n",
      "Performance Criteria: \n",
      "================================================================================\n"
     ]
    },
    {
     "name": "stderr",
     "output_type": "stream",
     "text": [
      "Processing PDFs:  87%|████████▋ | 728/838 [19:24<03:02,  1.66s/it]"
     ]
    },
    {
     "name": "stdout",
     "output_type": "stream",
     "text": [
      "Extracted Information for Customer_Service_Executive_(Meet_and_Greet).pdf:\n",
      "Job Title: THC/Q4205: Customer Service Executive (Meet and Greet)\n",
      "Job Description: The individual at work provides either meet and greet services or escort the tourist to the pre decided destinations.\n",
      "Performance Criteria: \n",
      "================================================================================\n"
     ]
    },
    {
     "name": "stderr",
     "output_type": "stream",
     "text": [
      "Processing PDFs:  87%|████████▋ | 729/838 [19:26<02:57,  1.63s/it]"
     ]
    },
    {
     "name": "stdout",
     "output_type": "stream",
     "text": [
      "Extracted Information for Meeting,_Conference_and_Event_Planner.pdf:\n",
      "Job Title: THC/Q4401: Meeting, Conference and Event Planner\n",
      "Job Description: The individual at work interacts with the clients to understand the purpose and type of event, meeting or conference to be arranged or conducted, deﬁnes the scope of work, plans the event, and coordinates with relevant third-party vendors to successfully organize events.\n",
      "Performance Criteria: \n",
      "================================================================================\n"
     ]
    },
    {
     "name": "stderr",
     "output_type": "stream",
     "text": [
      "Processing PDFs:  87%|████████▋ | 730/838 [19:28<03:13,  1.79s/it]"
     ]
    },
    {
     "name": "stdout",
     "output_type": "stream",
     "text": [
      "Extracted Information for Travel_Advisor.pdf:\n",
      "Job Title: THC/Q4404: Travel Advisor\n",
      "Job Description: The individual at work plans and prepares tour packages and itinerary, arranges for travel insurance and visa, and also assists the customer during the tour to ensure customer satisfaction. This person is also known as Travel Consultant.\n",
      "Performance Criteria: \n",
      "================================================================================\n"
     ]
    },
    {
     "name": "stderr",
     "output_type": "stream",
     "text": [
      "Processing PDFs:  87%|████████▋ | 731/838 [19:30<03:09,  1.77s/it]"
     ]
    },
    {
     "name": "stdout",
     "output_type": "stream",
     "text": [
      "Extracted Information for Tour_Manager.pdf:\n",
      "Job Title: THC/Q4405: Tour Manager\n",
      "Job Description: The individual at work is responsible for administering the staﬀ and administrative operations, managing the tour operations and ensuring proper execution of the planned tour.\n",
      "Performance Criteria: \n",
      "================================================================================\n"
     ]
    },
    {
     "name": "stderr",
     "output_type": "stream",
     "text": [
      "Processing PDFs:  87%|████████▋ | 732/838 [19:32<03:10,  1.79s/it]"
     ]
    },
    {
     "name": "stdout",
     "output_type": "stream",
     "text": [
      "Extracted Information for Tour_Manager.pdf:\n",
      "Job Title: THC/Q4405: Tour Manager\n",
      "Job Description: The individual at work is responsible for administering the staﬀ and administrative operations, managing the tour operations and ensuring proper execution of the planned tour.\n",
      "Performance Criteria: \n",
      "================================================================================\n"
     ]
    },
    {
     "name": "stderr",
     "output_type": "stream",
     "text": [
      "Processing PDFs:  87%|████████▋ | 733/838 [19:33<02:59,  1.71s/it]"
     ]
    },
    {
     "name": "stdout",
     "output_type": "stream",
     "text": [
      "Extracted Information for Tour__Guide.pdf:\n",
      "Job Title: THC/Q4407: Tour Guide\n",
      "Job Description: The individual at work coordinates with the travel partners, identify the tour requirements for tourists, drive the customers to the destination, guides them at the tourist spot, ensures safety of the tourists, collects payment, and records feedback from tourists.\n",
      "Performance Criteria: \n",
      "================================================================================\n"
     ]
    },
    {
     "name": "stderr",
     "output_type": "stream",
     "text": [
      "Processing PDFs:  88%|████████▊ | 734/838 [19:35<02:50,  1.64s/it]"
     ]
    },
    {
     "name": "stdout",
     "output_type": "stream",
     "text": [
      "Extracted Information for Walk_Tour_Facilitator.pdf:\n",
      "Job Title: THC/Q4408: Walk Tour Facilitator\n",
      "Job Description: The Walk Tour Facilitator prepares a detailed itinerary, describes the signiﬁcance of the site with stories and refreshments. In case of food walks, the regional cuisine related story should be given importance\n",
      "Performance Criteria: \n",
      "================================================================================\n"
     ]
    },
    {
     "name": "stderr",
     "output_type": "stream",
     "text": [
      "Processing PDFs:  88%|████████▊ | 735/838 [19:36<02:42,  1.57s/it]"
     ]
    },
    {
     "name": "stdout",
     "output_type": "stream",
     "text": [
      "Extracted Information for Naturalist_(wildlife_tourism).pdf:\n",
      "Job Title: THC/Q4505: Naturalist (wildlife tourism)\n",
      "Job Description: The primary role is to conﬁdently conduct general and thematic nature activities like walks and safaris in an ethical and responsible manner in a variety of sites. Beyond guiding, the individual strives to broaden interests and encourage guests to adopt sustainable lifestyles.\n",
      "Performance Criteria: \n",
      "================================================================================\n"
     ]
    },
    {
     "name": "stderr",
     "output_type": "stream",
     "text": [
      "Processing PDFs:  88%|████████▊ | 736/838 [19:37<02:31,  1.49s/it]"
     ]
    },
    {
     "name": "stdout",
     "output_type": "stream",
     "text": [
      "Extracted Information for Paragliding_Tandem_Pilot.pdf:\n",
      "Job Title: THC/Q4508: Paragliding Tandem Pilot\n",
      "Job Description: A paragliding tandem pilot is responsible for taking one student/client at a time on an assisted paragliding ﬂight in a controlled and evaluated environment. They plan and prepare for the ﬂight and are responsible for ﬂying along with the student/client while ensuring their safety.\n",
      "Performance Criteria: \n",
      "================================================================================\n"
     ]
    },
    {
     "name": "stderr",
     "output_type": "stream",
     "text": [
      "Processing PDFs:  88%|████████▊ | 737/838 [19:39<02:45,  1.64s/it]"
     ]
    },
    {
     "name": "stdout",
     "output_type": "stream",
     "text": [
      "Extracted Information for Ground_Crew_Chief_(Paragliding).pdf:\n",
      "Job Title: THC/Q4509: Ground Crew Chief (Paragliding)\n",
      "Job Description: The ground crew chief is responsible for the entire on ground operation of the concerned air-based activity. This includes crew training and management, equipment maintenance and repairs and coordination with the pilot and administration staﬀ.\n",
      "Performance Criteria: \n",
      "================================================================================\n"
     ]
    },
    {
     "name": "stderr",
     "output_type": "stream",
     "text": [
      "Processing PDFs:  88%|████████▊ | 739/838 [19:42<02:27,  1.49s/it]"
     ]
    },
    {
     "name": "stdout",
     "output_type": "stream",
     "text": [
      "Extracted Information for Parasailing_(Equipment)_Supervisor.pdf:\n",
      "Job Title: THC/Q4515: Parasailing (Equipment) Supervisor\n",
      "Job Description: A Parasailing (Equipment) Supervisor is responsible teaching as well as for safely conducting a parasailing activity for students/clients by monitoring the sources of danger at land/deck, sea and air during every ﬂight. The supervisor works in close coordination with the driver, launcher and receiver. In addition, a Parasailing (Equipment) Supervisor is also responsible for training the staﬀ.\n",
      "Performance Criteria: \n",
      "================================================================================\n"
     ]
    },
    {
     "name": "stderr",
     "output_type": "stream",
     "text": [
      "Processing PDFs:  88%|████████▊ | 740/838 [19:44<02:28,  1.52s/it]"
     ]
    },
    {
     "name": "stdout",
     "output_type": "stream",
     "text": [
      "Extracted Information for Parasailing_(Equipment)_Driver.pdf:\n",
      "Job Title: THC/Q4516: Parasailing (Equipment) Driver\n",
      "Job Description: A parasailing (equipment) driver is an experienced vehicle or boat driver who is responsible for towing parasailing students/clients to a certain height and bringing them down safely. The parasailing (equipment) driver works in close coordination with the parasailing supervisor who visually supervises the parasailing activity.\n",
      "Performance Criteria: \n",
      "================================================================================\n"
     ]
    },
    {
     "name": "stderr",
     "output_type": "stream",
     "text": [
      "Processing PDFs:  88%|████████▊ | 741/838 [19:50<04:52,  3.01s/it]"
     ]
    },
    {
     "name": "stdout",
     "output_type": "stream",
     "text": [
      "Extracted Information for Mountaineering_Instructor.pdf:\n",
      "Job Title: THC/Q4522: Mountaineering Instructor\n",
      "Job Description: A mountaineering instructor is responsible for teaching climbing techniques to students and clients and for guiding them safely on a mountaineering expedition in a controlled and evaluated environment. In addition, the Mountaineering Instructor is involved in supervising equipment maintenance.\n",
      "Performance Criteria: \n",
      "================================================================================\n"
     ]
    },
    {
     "name": "stderr",
     "output_type": "stream",
     "text": [
      "Processing PDFs:  89%|████████▊ | 742/838 [19:57<06:32,  4.09s/it]"
     ]
    },
    {
     "name": "stdout",
     "output_type": "stream",
     "text": [
      "Extracted Information for Mountain_Cuisine_Chef.pdf:\n",
      "Job Title: THC/Q4524: Mountain Cuisine Chef\n",
      "Job Description: A mountain cuisine chef is responsible for planning and cooking daily meals for the trekkers/climbers during a trek, raft trip or climbing expedition. The person is responsible for managing the kitchen helpers, cooking stations and ration supplies at every campsite during the trek.\n",
      "Performance Criteria: \n",
      "================================================================================\n"
     ]
    },
    {
     "name": "stderr",
     "output_type": "stream",
     "text": [
      "Processing PDFs:  89%|████████▊ | 743/838 [19:58<05:09,  3.25s/it]"
     ]
    },
    {
     "name": "stdout",
     "output_type": "stream",
     "text": [
      "Extracted Information for Facility_Manager.pdf:\n",
      "Job Title: THC/Q5707: Facility Manager\n",
      "Job Description: The individual at work is responsible for managing facility business operations, clients, vendors and staﬀ to ensure smooth functioning and achieve the business goals.\n",
      "Performance Criteria: \n",
      "================================================================================\n"
     ]
    },
    {
     "name": "stderr",
     "output_type": "stream",
     "text": [
      "Processing PDFs:  89%|████████▉ | 744/838 [19:59<04:10,  2.66s/it]"
     ]
    },
    {
     "name": "stdout",
     "output_type": "stream",
     "text": [
      "Extracted Information for Facility_Management_Executive.pdf:\n",
      "Job Title: THC/Q5708: Facility Management Executive\n",
      "Job Description: The individual at work is responsible for managing and providing soft facility services, ensuring the availability of necessary resources at the client site, project planning, creating budgets, negotiating contracts for facility services, liaising with suppliers and vendors, and performing related administrative duties.\n",
      "Performance Criteria: \n",
      "================================================================================\n"
     ]
    },
    {
     "name": "stderr",
     "output_type": "stream",
     "text": [
      "Processing PDFs:  89%|████████▉ | 745/838 [20:01<03:28,  2.24s/it]"
     ]
    },
    {
     "name": "stdout",
     "output_type": "stream",
     "text": [
      "Extracted Information for Facility_Management_Executive.pdf:\n",
      "Job Title: THC/Q5708: Facility Management Executive\n",
      "Job Description: The individual at work is responsible for managing and providing soft facility services, ensuring the availability of necessary resources at the client site, project planning, creating budgets, negotiating contracts for facility services, liaising with suppliers and vendors, and performing related administrative duties.\n",
      "Performance Criteria: \n",
      "================================================================================\n"
     ]
    },
    {
     "name": "stderr",
     "output_type": "stream",
     "text": [
      "Processing PDFs:  89%|████████▉ | 746/838 [20:02<02:58,  1.94s/it]"
     ]
    },
    {
     "name": "stdout",
     "output_type": "stream",
     "text": [
      "Extracted Information for Billing_Executive.pdf:\n",
      "Job Title: THC/Q5801: Billing Executive\n",
      "Job Description: The individual at work manages and maintains accounts payable and receivables, calculates, prepares and processes bills and invoices, maintains budgets and other ﬁnancial records and issues cheques, and receives payments.\n",
      "Performance Criteria: \n",
      "================================================================================\n"
     ]
    },
    {
     "name": "stderr",
     "output_type": "stream",
     "text": [
      "Processing PDFs:  89%|████████▉ | 748/838 [20:04<02:14,  1.50s/it]"
     ]
    },
    {
     "name": "stdout",
     "output_type": "stream",
     "text": [
      "Extracted Information for Property_Manager_(FM).pdf:\n",
      "Job Title: THC/Q5803: Property Manager (FM)\n",
      "Job Description: The individual at work assists the senior management in developing the policies for proﬁtable business and implement them to operate the business proﬁtably. The incumbent also manages the resources, staﬀ, ﬁnances, service contracts, and administrative tasks.\n",
      "Performance Criteria: \n",
      "================================================================================\n"
     ]
    },
    {
     "name": "stderr",
     "output_type": "stream",
     "text": [
      "Processing PDFs:  89%|████████▉ | 749/838 [20:05<02:12,  1.49s/it]"
     ]
    },
    {
     "name": "stdout",
     "output_type": "stream",
     "text": [
      "Extracted Information for Multi-Purpose_Associate.pdf:\n",
      "Job Title: THC/Q5808: Multi-Purpose Associate\n",
      "Job Description: The individual at work cleans the internal and external infrastructure, furniture and installations in residential and commercial areas and run oﬃcial errands.\n",
      "Performance Criteria: \n",
      "================================================================================\n"
     ]
    },
    {
     "name": "stderr",
     "output_type": "stream",
     "text": [
      "Processing PDFs:  89%|████████▉ | 750/838 [20:07<01:59,  1.36s/it]"
     ]
    },
    {
     "name": "stdout",
     "output_type": "stream",
     "text": [
      "Extracted Information for Catering_Manager.pdf:\n",
      "Job Title: THC/Q5901: Catering Manager\n",
      "Job Description: The individual at work is responsible for planning, administering, and supervising the organization's catering operations and services.\n",
      "Performance Criteria: \n",
      "================================================================================\n"
     ]
    },
    {
     "name": "stderr",
     "output_type": "stream",
     "text": [
      "Processing PDFs:  90%|████████▉ | 751/838 [20:10<02:43,  1.88s/it]"
     ]
    },
    {
     "name": "stdout",
     "output_type": "stream",
     "text": [
      "Extracted Information for Cafeteria_Supervisor.pdf:\n",
      "Job Title: THC/Q5905: Cafeteria Supervisor\n",
      "Job Description: The individual at work receives a variety of food items and displays them for sale, serves the guests, and manages day-to-day operations of the cafeteria. The person also arranges for resources and supervises the on-site catering operations.\n",
      "Performance Criteria: \n",
      "================================================================================\n"
     ]
    },
    {
     "name": "stderr",
     "output_type": "stream",
     "text": [
      "Processing PDFs:  90%|████████▉ | 752/838 [20:11<02:22,  1.65s/it]"
     ]
    },
    {
     "name": "stdout",
     "output_type": "stream",
     "text": [
      "Extracted Information for Pantry_Associate.pdf:\n",
      "Job Title: THC/Q6011: Pantry Associate\n",
      "Job Description: The individual at work is responsible for serving staﬀ and visitors while maintaining pantry as per organizational service standards.\n",
      "Performance Criteria: \n",
      "================================================================================\n"
     ]
    },
    {
     "name": "stderr",
     "output_type": "stream",
     "text": [
      "Processing PDFs:  90%|████████▉ | 753/838 [20:18<04:39,  3.29s/it]"
     ]
    },
    {
     "name": "stdout",
     "output_type": "stream",
     "text": [
      "Extracted Information for Adventure_Travel_Guide.pdf:\n",
      "Job Title: THC/Q8601: Adventure Travel Guide\n",
      "Job Description: An adventure travel guide is responsible for coordination with local logistics, transportation, route ﬁnding, navigating and leading small groups across various terrains like desserts, forests, hills and mountains (up to 4,000 mts), in consultation with the trek leader. Usually a local, a adventure travel guide / low altitude trekking guide is well acquainted with the ﬂora, fauna, culture and natural history of a particular region. An adventure travel guide ensures that the safety of the group is maintained while on the route.\n",
      "Performance Criteria: \n",
      "================================================================================\n"
     ]
    },
    {
     "name": "stderr",
     "output_type": "stream",
     "text": [
      "Processing PDFs:  90%|████████▉ | 754/838 [20:24<05:53,  4.20s/it]"
     ]
    },
    {
     "name": "stdout",
     "output_type": "stream",
     "text": [
      "Extracted Information for Camp_Helper.pdf:\n",
      "Job Title: THC/Q8602: Camp Helper\n",
      "Job Description: A camp helper is a staﬀ member present on a ﬁxed campsite, expedition or a trek. The prime responsibility of a camp helper is to set up the campsite with tents and dismantle them, cater to the requirements of tourists at a campsite, as well as help in the kitchen. A camp helper also ensures that a clean and hygienic environment is maintained at the campsite and during expeditions.\n",
      "Performance Criteria: \n",
      "================================================================================\n"
     ]
    },
    {
     "name": "stderr",
     "output_type": "stream",
     "text": [
      "Processing PDFs:  90%|█████████ | 755/838 [20:28<05:28,  3.95s/it]"
     ]
    },
    {
     "name": "stdout",
     "output_type": "stream",
     "text": [
      "Extracted Information for High_Altitude_Trekking_Guide.pdf:\n",
      "Job Title: THC/Q8603: High Altitude Trekking Guide\n",
      "Job Description: A high altitude trekking guide is usually a local who is well acquainted with the ﬂora, fauna, culture and natural history of a particular area or region especially at high altitudes, (4,000 mts and above) trained in advanced mountaineering and wilderness ﬁrst aid. The guide is responsible for route ﬁnding, navigation, leading small groups in the mountains and assisting the expedition leader in carrying out the trekking or mountaineering expedition. A high altitude trekking guide is also responsible for coordination with local logistics, transportation, porters, pony men, etc., in consultation with the trip/expedition leader.\n",
      "Performance Criteria: \n",
      "================================================================================\n"
     ]
    },
    {
     "name": "stderr",
     "output_type": "stream",
     "text": [
      "Processing PDFs:  90%|█████████ | 756/838 [20:34<06:28,  4.74s/it]"
     ]
    },
    {
     "name": "stdout",
     "output_type": "stream",
     "text": [
      "Extracted Information for Sardar.pdf:\n",
      "Job Title: THC/Q8604: Sardar\n",
      "Job Description: A sardar is the senior most camp staﬀ who reports directly to the trip leader or trip guide - who ever is more senior. The main responsibilities of a sardar include - hiring porters for trek/expedition, ensuring that experienced and suitable camp and kitchen staﬀ is chosen for the trek/expedition. The sardar also takes over as the expedition camp in charge and looks after camp set up.\n",
      "Performance Criteria: \n",
      "================================================================================\n"
     ]
    },
    {
     "name": "stderr",
     "output_type": "stream",
     "text": [
      "Processing PDFs:  90%|█████████ | 757/838 [20:42<07:45,  5.75s/it]"
     ]
    },
    {
     "name": "stdout",
     "output_type": "stream",
     "text": [
      "Extracted Information for Himalayan_Expedition_Logistics_and_Pathfinder_(HAP).pdf:\n",
      "Job Title: THC/Q8605: Himalayan Expedition Logistics and Pathﬁnder (HAP)\n",
      "Job Description: A Himalayan Expedition Logistics and Pathﬁnder (HAP) is responsible for carrying equipment, gear and provisions for trekking and mountaineering expeditions in high altitude regions beyond 4,500 metres. They are qualiﬁed mountaineers and assist the high altitude trekking guide/mountaineering instructor with setting up ropes and equipment on technical sections of the route.\n",
      "Performance Criteria: \n",
      "================================================================================\n"
     ]
    },
    {
     "name": "stderr",
     "output_type": "stream",
     "text": [
      "Processing PDFs:  90%|█████████ | 758/838 [20:44<05:54,  4.43s/it]"
     ]
    },
    {
     "name": "stdout",
     "output_type": "stream",
     "text": [
      "Extracted Information for Nature_Guide.pdf:\n",
      "Job Title: THC/Q8701: Nature Guide\n",
      "Job Description: The Nature Guide accompanies all the groups on every wildlife safari and nature activity and when required, also assists the naturalist to add value to the guest experience.\n",
      "Performance Criteria: \n",
      "================================================================================\n"
     ]
    },
    {
     "name": "stderr",
     "output_type": "stream",
     "text": [
      "Processing PDFs:  91%|█████████ | 759/838 [20:49<06:17,  4.78s/it]"
     ]
    },
    {
     "name": "stdout",
     "output_type": "stream",
     "text": [
      "Extracted Information for Ski_Instructor.pdf:\n",
      "Job Title: THC/Q8702: Ski Instructor\n",
      "Job Description: A ski instructor is responsible for teaching people of all ages how to ski, or how to improve their skills. The job requires planning and preparation for skiing, handling equipment, following drills and techniques which will help their students/clients improve their skiing skills without putting them in risky situations and ensuring that safety practices are followed.\n",
      "Performance Criteria: \n",
      "================================================================================\n"
     ]
    },
    {
     "name": "stderr",
     "output_type": "stream",
     "text": [
      "Processing PDFs:  91%|█████████ | 760/838 [20:53<05:53,  4.54s/it]"
     ]
    },
    {
     "name": "stdout",
     "output_type": "stream",
     "text": [
      "Extracted Information for Instructor_-_Rope_Activities.pdf:\n",
      "Job Title: THC/Q8801: Instructor - Rope Activities\n",
      "Job Description: An instructor is responsible for conducting the particular activity safely in a controlled and evaluated environment. They supervise and guide the assistant instructors in ropes/cable set up for rock climbing and abseiling, zip lines, high ropes course/low ropes course/challenge course, assessing the condition of the climbing ropes and cables, equipment maintenance, instructing and coaching the tourists on the procedures and techniques of the climb and ensuring the safety of the students/clients.\n",
      "Performance Criteria: \n",
      "================================================================================\n"
     ]
    },
    {
     "name": "stderr",
     "output_type": "stream",
     "text": [
      "Processing PDFs:  91%|█████████ | 761/838 [20:57<05:42,  4.44s/it]"
     ]
    },
    {
     "name": "stdout",
     "output_type": "stream",
     "text": [
      "Extracted Information for Assistant_Instructor_-_Rope_Activities.pdf:\n",
      "Job Title: THC/Q8802: Assistant Instructor - Rope Activities\n",
      "Job Description: A rope activities or allied activity assistant instructor is responsible for assisting the instructor in conducting the particular activity safely in a controlled and evaluated environment. An assistant instructor manages/maintains equipment, sets up ropes/cables for rock climbing & abseiling, zip lines, high ropes course/low ropes course/challenge course under the guidance of the instructor. They also assist the students/clients in wearing the equipment, demonstrating activity techniques and guiding the activity.\n",
      "Performance Criteria: \n",
      "================================================================================\n"
     ]
    },
    {
     "name": "stderr",
     "output_type": "stream",
     "text": [
      "Processing PDFs:  91%|█████████ | 762/838 [21:00<05:00,  3.95s/it]"
     ]
    },
    {
     "name": "stdout",
     "output_type": "stream",
     "text": [
      "Extracted Information for Assistant_Rafting_Guide.pdf:\n",
      "Job Title: THC/Q8901: Assistant Rafting Guide\n",
      "Job Description: An assistant rafting guide is responsible for assisting the rafting guide or senior rafting guide in carrying out the rafting activity, loading, unloading and maintaining the equipment. The assistant rafting guide should have adequate knowledge of river reading, guest management, ﬁrst-aid and the ability to guide at least Class 2-3 white water.\n",
      "Performance Criteria: \n",
      "================================================================================\n"
     ]
    },
    {
     "name": "stderr",
     "output_type": "stream",
     "text": [
      "Processing PDFs:  91%|█████████ | 764/838 [21:03<03:18,  2.69s/it]"
     ]
    },
    {
     "name": "stdout",
     "output_type": "stream",
     "text": [
      "Extracted Information for Ground_Staff_(Paratrike,_Paramotoring,_Paragliding).pdf:\n",
      "Job Title: THC/Q9002: Ground Staﬀ (Paratrike, Paramotoring, Paragliding)\n",
      "Job Description: The ground staﬀ is responsible for completing all pre and post ﬂight ground duties of the concerned aero activity. This includes equipment clean up, assembling and repair work under close supervision of the ground crew chief/equipment in charge.\n",
      "Performance Criteria: \n",
      "================================================================================\n"
     ]
    },
    {
     "name": "stderr",
     "output_type": "stream",
     "text": [
      "Processing PDFs:  91%|█████████▏| 765/838 [21:05<02:53,  2.38s/it]"
     ]
    },
    {
     "name": "stdout",
     "output_type": "stream",
     "text": [
      "Extracted Information for Ground_Staff_(Paratrike,_Paramotoring,_Paragliding).pdf:\n",
      "Job Title: THC/Q9002: Ground Staﬀ (Paratrike, Paramotoring, Paragliding)\n",
      "Job Description: The ground staﬀ is responsible for completing all pre and post ﬂight ground duties of the concerned aero activity. This includes equipment clean up, assembling and repair work under close supervision of the ground crew chief/equipment in charge.\n",
      "Performance Criteria: \n",
      "================================================================================\n"
     ]
    },
    {
     "name": "stderr",
     "output_type": "stream",
     "text": [
      "Processing PDFs:  91%|█████████▏| 766/838 [21:06<02:28,  2.06s/it]"
     ]
    },
    {
     "name": "stdout",
     "output_type": "stream",
     "text": [
      "Extracted Information for Blowroom_Operator.pdf:\n",
      "Job Title: TSC/Q0101: Blowroom Operator\n",
      "Job Description: A blowroom operator is responsible to carry out activities in the sequence of machines in blowroom department. A blowroom operator should be able to operate the sequence of machines in blowroom department, carry out routine cleaning and preventive maintenance activities, ascertaining proper functioning of all machines thus ensuring the opened and cleaned ﬁbre gets transported to the carding department via chute/lap feed system.\n",
      "Performance Criteria: \n",
      "================================================================================\n"
     ]
    },
    {
     "name": "stderr",
     "output_type": "stream",
     "text": [
      "Processing PDFs:  92%|█████████▏| 767/838 [21:07<02:12,  1.86s/it]"
     ]
    },
    {
     "name": "stdout",
     "output_type": "stream",
     "text": [
      "Extracted Information for Carding_Operator.pdf:\n",
      "Job Title: TSC/Q0102: Carding Operator\n",
      "Job Description: A carding operator should be able to operate the carding machine, ensure proper feeding of material in chute/lap feed system, piece the sliver on breakage, doﬀ the cans and transport to the storage area.\n",
      "Performance Criteria: \n",
      "================================================================================\n"
     ]
    },
    {
     "name": "stderr",
     "output_type": "stream",
     "text": [
      "Processing PDFs:  92%|█████████▏| 768/838 [21:09<01:59,  1.71s/it]"
     ]
    },
    {
     "name": "stdout",
     "output_type": "stream",
     "text": [
      "Extracted Information for Combing_Preparatory_Operator.pdf:\n",
      "Job Title: TSC/Q0103: Combing Preparatory Operator\n",
      "Job Description: A combing preparatory tenter is responsible to carry out tenting activities in the combing preparatory machine. He should be able to operate the combing preparatory machine, ensure proper feeding of carded or drawing sliver, piece the sliver on breakage, doﬀ the comber laps and transport to the combing area.\n",
      "Performance Criteria: \n",
      "================================================================================\n"
     ]
    },
    {
     "name": "stderr",
     "output_type": "stream",
     "text": [
      "Processing PDFs:  92%|█████████▏| 769/838 [21:10<01:50,  1.61s/it]"
     ]
    },
    {
     "name": "stdout",
     "output_type": "stream",
     "text": [
      "Extracted Information for Combing_Operator.pdf:\n",
      "Job Title: TSC/Q0104: Combing Operator\n",
      "Job Description: A combing operator is responsible to carry out tenting activities in the comber machine. He should be able to operate the comber, ensure proper feeding of laps, piece the comber lap and sliver on breakage, doﬀ the sliver cans and transport the delivery cans to the storage area\n",
      "Performance Criteria: \n",
      "================================================================================\n"
     ]
    },
    {
     "name": "stderr",
     "output_type": "stream",
     "text": [
      "Processing PDFs:  92%|█████████▏| 770/838 [21:11<01:43,  1.52s/it]"
     ]
    },
    {
     "name": "stdout",
     "output_type": "stream",
     "text": [
      "Extracted Information for Draw_Frame_Operator.pdf:\n",
      "Job Title: TSC/Q0105: Draw Frame Operator\n",
      "Job Description: A draw frame operator is responsible to carry out tenting activities on the draw frame machines. The operator should be able to operate the breaker and ﬁnisher passage draw frame machines, replenish the sliver cans, piece the sliver on breakage, doﬀ the sliver cans and transport the delivery cans to the storage area.\n",
      "Performance Criteria: \n",
      "================================================================================\n"
     ]
    },
    {
     "name": "stderr",
     "output_type": "stream",
     "text": [
      "Processing PDFs:  92%|█████████▏| 771/838 [21:13<01:39,  1.48s/it]"
     ]
    },
    {
     "name": "stdout",
     "output_type": "stream",
     "text": [
      "Extracted Information for Speed_Frame_Operator_-_Tenter_and_Doffer.pdf:\n",
      "Job Title: TSC/Q0106: Speed Frame Operator - Tenter and Doﬀer\n",
      "Job Description: A Speed frame operator is responsible for carrying out tenting and doﬃng activities in a speed frame machine. The operator should be able to replenish the sliver cans, piece the broken sliver, piece the broken roving, perform doﬃng and carry out routine cleaning activities to produce quality roving bobbins in speed frame machine.\n",
      "Performance Criteria: \n",
      "================================================================================\n"
     ]
    },
    {
     "name": "stderr",
     "output_type": "stream",
     "text": [
      "Processing PDFs:  92%|█████████▏| 772/838 [21:14<01:39,  1.51s/it]"
     ]
    },
    {
     "name": "stdout",
     "output_type": "stream",
     "text": [
      "Extracted Information for Jute_Selector_cum_Assorter.pdf:\n",
      "Job Title: TSC/Q0107: Jute Selector cum Assorter\n",
      "Job Description: The role of a Jute selector cum assorter is to open Jute bale & assort raw jute as per grade, to prepare jute morah of uniform size with due importance to defects & other quality parameters ensuring environmental health and safety aspects. A Jute selector cum assorter can seek employment in a Jute factory.\n",
      "Performance Criteria: \n",
      "================================================================================\n"
     ]
    },
    {
     "name": "stderr",
     "output_type": "stream",
     "text": [
      "Processing PDFs:  92%|█████████▏| 773/838 [21:16<01:36,  1.48s/it]"
     ]
    },
    {
     "name": "stdout",
     "output_type": "stream",
     "text": [
      "Extracted Information for Jute_Carding_Operator.pdf:\n",
      "Job Title: TSC/Q0108: Jute Carding Operator\n",
      "Job Description: A Jute carding operator should be able to operate eﬃciently the Jute Carding Machine so as to maintain the desired productivity and quality of the carded slivers of jute. A Jute Carding Operator can seek employment in a Jute factory.\n",
      "Performance Criteria: \n",
      "================================================================================\n"
     ]
    },
    {
     "name": "stderr",
     "output_type": "stream",
     "text": [
      "Processing PDFs:  92%|█████████▏| 774/838 [21:17<01:33,  1.46s/it]"
     ]
    },
    {
     "name": "stdout",
     "output_type": "stream",
     "text": [
      "Extracted Information for Ring_Frame_Tenter.pdf:\n",
      "Job Title: TSC/Q0201: Ring Frame Tenter\n",
      "Job Description: A ring frame tenter is responsible for carrying out tenting activities in a ring frame machine. A ring frame tenter should be able to creel the roving bobbin, piece the yarn and carry out routine cleaning and preventive maintenance activities to produce defect free yarn and ensure quality ring cops are produced in ring frame machine. This job requires the individual to have thorough knowledge of process ﬂow and material ﬂow in a spinning mill for yarn production and should know about the important functions and operations of a ring frame machine.\n",
      "Performance Criteria: \n",
      "================================================================================\n"
     ]
    },
    {
     "name": "stderr",
     "output_type": "stream",
     "text": [
      "Processing PDFs:  92%|█████████▏| 775/838 [21:19<01:32,  1.46s/it]"
     ]
    },
    {
     "name": "stdout",
     "output_type": "stream",
     "text": [
      "Extracted Information for Ring_Frame_Doffer.pdf:\n",
      "Job Title: TSC/Q0202: Ring Frame Doﬀer\n",
      "Job Description: A ring frame tenter is responsible for carrying out tenting activities in a ring frame machine. A ring frame tenter should be able to creel the roving bobbin, piece the yarn and carry out routine cleaning and preventive maintenance activities to produce defect free yarn and ensure quality ring cops are produced in ring frame machine. This job requires the individual to have thorough knowledge of process ﬂow and material ﬂow in a spinning mill for yarn production and should know about the important functions and operations of a ring frame machine.\n",
      "Performance Criteria: \n",
      "================================================================================\n"
     ]
    },
    {
     "name": "stderr",
     "output_type": "stream",
     "text": [
      "Processing PDFs:  93%|█████████▎| 776/838 [21:20<01:30,  1.46s/it]"
     ]
    },
    {
     "name": "stdout",
     "output_type": "stream",
     "text": [
      "Extracted Information for Ring_Frame_Doffer.pdf:\n",
      "Job Title: TSC/Q0202: Ring Frame Doﬀer\n",
      "Job Description: A ring frame tenter is responsible for carrying out tenting activities in a ring frame machine. A ring frame tenter should be able to creel the roving bobbin, piece the yarn and carry out routine cleaning and preventive maintenance activities to produce defect free yarn and ensure quality ring cops are produced in ring frame machine. This job requires the individual to have thorough knowledge of process ﬂow and material ﬂow in a spinning mill for yarn production and should know about the important functions and operations of a ring frame machine.\n",
      "Performance Criteria: \n",
      "================================================================================\n"
     ]
    },
    {
     "name": "stderr",
     "output_type": "stream",
     "text": [
      "Processing PDFs:  93%|█████████▎| 777/838 [21:22<01:30,  1.49s/it]"
     ]
    },
    {
     "name": "stdout",
     "output_type": "stream",
     "text": [
      "Extracted Information for Open-End_Spinning_Tenter.pdf:\n",
      "Job Title: TSC/Q0203: Open-End Spinning Tenter\n",
      "Job Description: An open end spinning tenter is responsible for carrying out tenting activities. This activity ensures minimum machine stoppage and maximum production in an open end spinning machine. An open end spinning tenter should be able to creel the sliver cans, piece the sliver on breakage, doﬀ the cone /cheese package and carry out cleaning and preventive maintenance activities thus producing defect free yarn. This job requires the individual to have thorough knowledge in process ﬂow and material ﬂow in a textile mill for yarn production and should be able to know the important functions and operations of an open end spinning machine.\n",
      "Performance Criteria: \n",
      "================================================================================\n"
     ]
    },
    {
     "name": "stderr",
     "output_type": "stream",
     "text": [
      "Processing PDFs:  93%|█████████▎| 778/838 [21:23<01:27,  1.47s/it]"
     ]
    },
    {
     "name": "stdout",
     "output_type": "stream",
     "text": [
      "Extracted Information for Jute_spinning_Sardar_(Jobber)_cum_Jr._Supervisor.pdf:\n",
      "Job Title: TSC/Q0204: Jute spinning Sardar (Jobber) cum Jr. Supervisor\n",
      "Job Description: The role of a Jute Spinning Sardar (Jobber) cum Jr. Supervisor is to assist the supervisor and to guide the workers for smooth running of jute Spinning and Winding Machines in the Spinning and Winding Departments in jute industry. A Jute Spinning Sardar (Jobber) cum Jr. Supervisor can seek employment in a Jute factory.\n",
      "Performance Criteria: \n",
      "================================================================================\n"
     ]
    },
    {
     "name": "stderr",
     "output_type": "stream",
     "text": [
      "Processing PDFs:  93%|█████████▎| 779/838 [21:25<01:25,  1.46s/it]"
     ]
    },
    {
     "name": "stdout",
     "output_type": "stream",
     "text": [
      "Extracted Information for Ring_Frame_Operator.pdf:\n",
      "Job Title: TSC/Q0205: Ring Frame Operator\n",
      "Job Description: A Ring Frame Operator is responsible for carrying out tenting and doﬃng activities in Ring Frame machine. The operator should be able to creel the roving bobbin, piece the broken yarn, perform doﬃng and carry out routine cleaning activities to produce defect free yarn and ensure quality ring cops are produced in Ring Frame machine.\n",
      "Performance Criteria: \n",
      "================================================================================\n"
     ]
    },
    {
     "name": "stderr",
     "output_type": "stream",
     "text": [
      "Processing PDFs:  93%|█████████▎| 780/838 [21:26<01:24,  1.46s/it]"
     ]
    },
    {
     "name": "stdout",
     "output_type": "stream",
     "text": [
      "Extracted Information for Autoconer_Tenter.pdf:\n",
      "Job Title: TSC/Q0301: Autoconer Tenter\n",
      "Job Description: An autoconer tenter is responsible to carry out tenting activities in an autoconer machine. An autoconer tenter should be able to segregate quality cops, creel the cops, ensure proper splicing carry out routine cleaning and maintenance activities, thus producing defect free cone package and ensure proper functioning of autoconer machine. This job requires the individual to have thorough knowledge of process ﬂow and material ﬂow in a spinning mill for yarn production and should know about the important functions and operations of autoconer machine.\n",
      "Performance Criteria: \n",
      "================================================================================\n"
     ]
    },
    {
     "name": "stderr",
     "output_type": "stream",
     "text": [
      "Processing PDFs:  93%|█████████▎| 781/838 [21:27<01:22,  1.44s/it]"
     ]
    },
    {
     "name": "stdout",
     "output_type": "stream",
     "text": [
      "Extracted Information for Cone_Winding_Operator_-_Manual_&_Assembly_Winding.pdf:\n",
      "Job Title: TSC/Q0302: Cone Winding Operator - Manual & Assembly Winding\n",
      "Job Description: A cone winding operator is responsible to carry out tenting activities in cone winding / assembly winding machine. he/she should be able to segregate quality cops, creel the cops, knotting the yarn, doﬀ the cones, carry out routine cleaning and maintenance activities thus producing defect free cone package and ensure proper functioning of winding machine. This job requires the individual to have thorough knowledge of process ﬂow and material ﬂow in a textile mill for yarn production and should know about the important functions and operations of winding machine.\n",
      "Performance Criteria: \n",
      "================================================================================\n"
     ]
    },
    {
     "name": "stderr",
     "output_type": "stream",
     "text": [
      "Processing PDFs:  93%|█████████▎| 782/838 [21:29<01:19,  1.43s/it]"
     ]
    },
    {
     "name": "stdout",
     "output_type": "stream",
     "text": [
      "Extracted Information for TFO_Tenter.pdf:\n",
      "Job Title: TSC/Q0303: TFO Tenter\n",
      "Job Description: A Two For One Twister (TFO) tenter is responsible for carrying out tenting activities and ensuring minimum machine stoppage and achieving maximum production in TFO machine. He should be able to creel the paralleled yarn, piece the yarn on breakage, doﬀ the doubled cone package, carry out cleaning and preventive maintenance activities thus producing defect free doubled yarn. This job requires the individual to have thorough knowledge in process ﬂow and material ﬂow in a textile mill for yarn production and should be able to know the important functions and operations of a TFO machine\n",
      "Performance Criteria: \n",
      "================================================================================\n"
     ]
    },
    {
     "name": "stderr",
     "output_type": "stream",
     "text": [
      "Processing PDFs:  93%|█████████▎| 783/838 [21:30<01:18,  1.43s/it]"
     ]
    },
    {
     "name": "stdout",
     "output_type": "stream",
     "text": [
      "Extracted Information for Jute_Weft_Winding_Operator.pdf:\n",
      "Job Title: TSC/Q0304: Jute Weft Winding Operator\n",
      "Job Description: A jute weft winding operator is responsible to operate eﬃciently the Weft Winding Machine so as to maintain the desired productivity and quality of the Cops of Jute Weft Yarn. A jute weft winding operator can seek employment in a Jute factory.\n",
      "Performance Criteria: \n",
      "================================================================================\n"
     ]
    },
    {
     "name": "stderr",
     "output_type": "stream",
     "text": [
      "Processing PDFs:  94%|█████████▎| 784/838 [21:32<01:16,  1.41s/it]"
     ]
    },
    {
     "name": "stdout",
     "output_type": "stream",
     "text": [
      "Extracted Information for Winding_Tenter.pdf:\n",
      "Job Title: TSC/Q0305: Winding Tenter\n",
      "Job Description: A Winding Tenter is responsible for carryout tenting activities in winding machine. A Winding Tenter should be able to replenish the feed material, attend the malfunctions, perform doﬃng and carry out routine cleaning activities and ensure defect free cone/ cheese packages are produced in winding machine.\n",
      "Performance Criteria: \n",
      "================================================================================\n"
     ]
    },
    {
     "name": "stderr",
     "output_type": "stream",
     "text": [
      "Processing PDFs:  94%|█████████▎| 785/838 [21:34<01:35,  1.80s/it]"
     ]
    },
    {
     "name": "stdout",
     "output_type": "stream",
     "text": [
      "Extracted Information for Finished_Package_Checker-cum-Packer__-_Spinning.pdf:\n",
      "Job Title: TSC/Q0306: Finished Package Checker-cum-Packer - Spinning\n",
      "Job Description: A Finished Package Checker-cum-Packer - Spinning is responsible for inspecting all the ﬁnished yarn packages after yarn winding process (cone, cheese, etc.), packing inspected yarn packages according to the package speciﬁcations and ensuring ﬁnished package is within the prescribed limit of weight variation by following the safety and security protocols in a spinning mill.\n",
      "Performance Criteria: \n",
      "================================================================================\n"
     ]
    },
    {
     "name": "stderr",
     "output_type": "stream",
     "text": [
      "Processing PDFs:  94%|█████████▍| 786/838 [21:36<01:26,  1.66s/it]"
     ]
    },
    {
     "name": "stdout",
     "output_type": "stream",
     "text": [
      "Extracted Information for Fitter_Spinning_Preparatory.pdf:\n",
      "Job Title: TSC/Q0401: Fitter Spinning Preparatory\n",
      "Job Description: The spinning preparatory ﬁtter is responsible for carrying out maintenance activities in all the machines in preparatory department like blowroom, carding, draw frame, combing preparatory, comber and speed frame machines. He/she should carry out all the maintenance aspects such as erecting, dismantling, assembling, leveling, attending & resolving repairs and breakdowns in preparatory department. He/she should also carry out regular preventive maintenance activities thus ensuring proper functioning of all machines.\n",
      "Performance Criteria: \n",
      "================================================================================\n"
     ]
    },
    {
     "name": "stderr",
     "output_type": "stream",
     "text": [
      "Processing PDFs:  94%|█████████▍| 787/838 [21:37<01:21,  1.59s/it]"
     ]
    },
    {
     "name": "stdout",
     "output_type": "stream",
     "text": [
      "Extracted Information for Fitter_-_Ring_Spinning.pdf:\n",
      "Job Title: TSC/Q0402: Fitter - Ring Spinning\n",
      "Job Description: The ring spinning ﬁtter is responsible for carrying out all the maintenance activities in a ring spinning machine. He/she should be able to carry out all the maintenance activities such as erecting, dismantling, assembling, leveling, attending & resolving repairs and breakdowns in a ring spinning machine. The ﬁtter should also carry out regular maintenance activities thus ensuring proper functioning of the machines.\n",
      "Performance Criteria: \n",
      "================================================================================\n"
     ]
    },
    {
     "name": "stderr",
     "output_type": "stream",
     "text": [
      "Processing PDFs:  94%|█████████▍| 788/838 [21:38<01:16,  1.52s/it]"
     ]
    },
    {
     "name": "stdout",
     "output_type": "stream",
     "text": [
      "Extracted Information for Fitter_-_Post_Spinning.pdf:\n",
      "Job Title: TSC/Q0403: Fitter - Post Spinning\n",
      "Job Description: The post spinning ﬁtter is responsible for carrying out maintenance activities in all the machines in post spinning department such as autoconer, assembly winder, TFO machines etc. He/she should be able to carry out all the maintenance aspects like erecting, dismantling, assembling, leveling, attending & resolving repairs and breakdowns in post spinning department. He/she should also carry out regular preventive maintenance activities thus ensuring proper functioning of all machines.\n",
      "Performance Criteria: \n",
      "================================================================================\n"
     ]
    },
    {
     "name": "stderr",
     "output_type": "stream",
     "text": [
      "Processing PDFs:  94%|█████████▍| 789/838 [21:40<01:13,  1.50s/it]"
     ]
    },
    {
     "name": "stdout",
     "output_type": "stream",
     "text": [
      "Extracted Information for Ginning_Helper.pdf:\n",
      "Job Title: TSC/Q0901: Ginning Helper\n",
      "Job Description: The ginning helper is responsible for carrying out various labour intensive jobs in the ginning sector under supervision by maintaining health, safety and security in the ginning sector. The person can seek employment in a ginning factory.\n",
      "Performance Criteria: \n",
      "================================================================================\n"
     ]
    },
    {
     "name": "stderr",
     "output_type": "stream",
     "text": [
      "Processing PDFs:  94%|█████████▍| 790/838 [21:41<01:08,  1.43s/it]"
     ]
    },
    {
     "name": "stdout",
     "output_type": "stream",
     "text": [
      "Extracted Information for Assistant_Cotton_Grader_(Ginning).pdf:\n",
      "Job Title: TSC/Q0902: Assistant Cotton Grader (Ginning)\n",
      "Job Description: The assistant cotton grader(Ginning) is responsible for carrying out grading of cotton for ginning process under supervision by maintaining health, safety and security in the ginning sector. The person can seek employment in a ginning factory\n",
      "Performance Criteria: \n",
      "================================================================================\n"
     ]
    },
    {
     "name": "stderr",
     "output_type": "stream",
     "text": [
      "Processing PDFs:  94%|█████████▍| 791/838 [21:43<01:06,  1.43s/it]"
     ]
    },
    {
     "name": "stdout",
     "output_type": "stream",
     "text": [
      "Extracted Information for Assistant_Ginning_Fitter.pdf:\n",
      "Job Title: TSC/Q0903: Assistant Ginning Fitter\n",
      "Job Description: The assistant ginning ﬁtter is responsible for carrying out cotton ginning process under supervision by maintaining machineries, health, safety and security in the ginning sector. The person can seek employment in a ginning factory.\n",
      "Performance Criteria: \n",
      "================================================================================\n"
     ]
    },
    {
     "name": "stderr",
     "output_type": "stream",
     "text": [
      "Processing PDFs:  95%|█████████▍| 792/838 [21:44<01:07,  1.48s/it]"
     ]
    },
    {
     "name": "stdout",
     "output_type": "stream",
     "text": [
      "Extracted Information for Bale_Press_Operator.pdf:\n",
      "Job Title: TSC/Q0904: Bale Press Operator\n",
      "Job Description: The Bale press operator is responsible for carrying out pressing of cotton into bales after ginning process under supervision, maintaining the bale pressing machines by following health, safety and security protocols in the ginning sector.\n",
      "Performance Criteria: \n",
      "================================================================================\n"
     ]
    },
    {
     "name": "stderr",
     "output_type": "stream",
     "text": [
      "Processing PDFs:  95%|█████████▍| 793/838 [21:46<01:08,  1.52s/it]"
     ]
    },
    {
     "name": "stdout",
     "output_type": "stream",
     "text": [
      "Extracted Information for Warper_-_Direct_Warping_Machine.pdf:\n",
      "Job Title: TSC/Q2101: Warper - Direct Warping Machine\n",
      "Job Description: A Warper is a job-role in a weaving preparatory department. The responsibility of a Warper is to run the Warping Machine eﬃciently, carry out routine cleaning and maintenance activities to get maximum output with minimum defects giving due importance to safety. This job requires the individual to have thorough knowledge of process ﬂow and material ﬂow in a Weaving mill for fabric production and should know about the important functions and operations of Warping machine.\n",
      "Performance Criteria: \n",
      "================================================================================\n"
     ]
    },
    {
     "name": "stderr",
     "output_type": "stream",
     "text": [
      "Processing PDFs:  95%|█████████▍| 794/838 [21:47<01:03,  1.45s/it]"
     ]
    },
    {
     "name": "stdout",
     "output_type": "stream",
     "text": [
      "Extracted Information for Size_Mixer.pdf:\n",
      "Job Title: TSC/Q2102: Size Mixer\n",
      "Job Description: A Size Mixer is a job-role in a weaving preparatory department. The responsibility of a Size Mixer is to prepare the size mixing eﬃciently so as to get quality output with minimum defects giving due importance to safety and environment aspects.\n",
      "Performance Criteria: \n",
      "================================================================================\n"
     ]
    },
    {
     "name": "stderr",
     "output_type": "stream",
     "text": [
      "Processing PDFs:  95%|█████████▍| 795/838 [21:49<01:07,  1.58s/it]"
     ]
    },
    {
     "name": "stdout",
     "output_type": "stream",
     "text": [
      "Extracted Information for Sizing_Machine_Operator.pdf:\n",
      "Job Title: TSC/Q2103: Sizing Machine Operator\n",
      "Job Description: A Sizing machine operator is responsible for sizing of yarn as per the required parameters in the weaving preparatory department. The responsibility of a Sizing machine operator is to run the Sizing Machine eﬃciently so as to get maximum output with minimum defects giving due importance to safety and environment aspects. The job requires the individual to have thorough knowledge of process ﬂow and material ﬂow in a Weaving mill for fabric production and should know about the important functions and operations of Sizing machine.\n",
      "Performance Criteria: \n",
      "================================================================================\n"
     ]
    },
    {
     "name": "stderr",
     "output_type": "stream",
     "text": [
      "Processing PDFs:  95%|█████████▍| 796/838 [21:51<01:06,  1.59s/it]"
     ]
    },
    {
     "name": "stdout",
     "output_type": "stream",
     "text": [
      "Extracted Information for Jute_Beaming_Operator.pdf:\n",
      "Job Title: TSC/Q2104: Jute Beaming Operator\n",
      "Job Description: The role of a Jute beaming operator is to produce a sized weavers beam containing a wrapped sheet of parallelised wrap yarns of jute from large number of individual spools, according to the number of jute warp yarns required in cloth as per quality and make the weavers beam ready with jute yarns of desired quality. The person can seek employment in a Jute factory.\n",
      "Performance Criteria: \n",
      "================================================================================\n"
     ]
    },
    {
     "name": "stderr",
     "output_type": "stream",
     "text": [
      "Processing PDFs:  95%|█████████▌| 797/838 [21:52<01:06,  1.63s/it]"
     ]
    },
    {
     "name": "stdout",
     "output_type": "stream",
     "text": [
      "Extracted Information for Knotting_Machine_Operator.pdf:\n",
      "Job Title: TSC/Q2205: Knotting Machine Operator\n",
      "Job Description: A Knotting Machine Operator is a job-role in the weaving preparatory department. The responsibility of a Knotting Machine Operator is to Knot the warp ends in the run out beams with that of the fresh beams. eﬃciently so as to get quality output with minimum defects giving due importance to safety and environmental aspects.\n",
      "Performance Criteria: \n",
      "================================================================================\n"
     ]
    },
    {
     "name": "stderr",
     "output_type": "stream",
     "text": [
      "Processing PDFs:  95%|█████████▌| 798/838 [21:54<01:02,  1.57s/it]"
     ]
    },
    {
     "name": "stdout",
     "output_type": "stream",
     "text": [
      "Extracted Information for Pirn_Winding_Machine_Operator.pdf:\n",
      "Job Title: TSC/Q2206: Pirn Winding Machine Operator\n",
      "Job Description: Pirn Winding Machine Operator, is a job-role in a weaving department. The responsibility of Winder Automatic Pirn Winding Machine is to run the winding machine eﬃciently so as to get maximum output with minimum defects giving due importance to safety and environmental aspects.\n",
      "Performance Criteria: \n",
      "================================================================================\n"
     ]
    },
    {
     "name": "stderr",
     "output_type": "stream",
     "text": [
      "Processing PDFs:  95%|█████████▌| 799/838 [21:55<00:59,  1.54s/it]"
     ]
    },
    {
     "name": "stdout",
     "output_type": "stream",
     "text": [
      "Extracted Information for Shuttle_Loom_Operator_cum_Pirn_Winder.pdf:\n",
      "Job Title: TSC/Q2210: Shuttle Loom Operator cum Pirn Winder\n",
      "Job Description: A Shuttle loom operator cum Pirn winder is responsible for carrying out weaving activities in shuttle loom and pirn winding activity in pirn winding machine. The operator should be able to start and stop the shuttle loom, mend broken ends and picks and carry weft replenishment activities to produce defect free fabrics using shuttle loom and wind pirns using the pirn winding machine.\n",
      "Performance Criteria: \n",
      "================================================================================\n"
     ]
    },
    {
     "name": "stderr",
     "output_type": "stream",
     "text": [
      "Processing PDFs:  95%|█████████▌| 800/838 [21:57<00:59,  1.57s/it]"
     ]
    },
    {
     "name": "stdout",
     "output_type": "stream",
     "text": [
      "Extracted Information for Shuttleless_Loom_Operator.pdf:\n",
      "Job Title: TSC/Q2211: Shuttleless Loom Operator\n",
      "Job Description: Shuttleless loom operator is a job-role in the weaving department of a textile mill for carrying out weaving activity in shuttleless loom eﬃciently to get maximum output with minimum defects, giving due importance to safety and environmental aspects. The operator should be able to start the loom, mend broken ends and picks activities to produce defect-free fabrics using shuttleless loom.\n",
      "Performance Criteria: \n",
      "================================================================================\n"
     ]
    },
    {
     "name": "stderr",
     "output_type": "stream",
     "text": [
      "Processing PDFs:  96%|█████████▌| 801/838 [21:58<00:58,  1.58s/it]"
     ]
    },
    {
     "name": "stdout",
     "output_type": "stream",
     "text": [
      "Extracted Information for Fabric_Checker_-_Textiles.pdf:\n",
      "Job Title: TSC/Q2301: Fabric Checker - Textiles\n",
      "Job Description: A Fabric Checker is a job-role in a Weaving department. The responsibility of a fabric checker is to inspect the fabric produced for all types of defects due to yarn or weaving so as to get quality output with minimum defects giving due importance to safety and environment aspects.\n",
      "Performance Criteria: \n",
      "================================================================================\n"
     ]
    },
    {
     "name": "stderr",
     "output_type": "stream",
     "text": [
      "Processing PDFs:  96%|█████████▌| 802/838 [22:00<00:56,  1.57s/it]"
     ]
    },
    {
     "name": "stdout",
     "output_type": "stream",
     "text": [
      "Extracted Information for Fabric_Mender_-_Textiles.pdf:\n",
      "Job Title: TSC/Q2302: Fabric Mender - Textiles\n",
      "Job Description: A Fabric mender is a job-role in a Weaving department. The responsibility of a fabric mender is to check and remove / mend the repairable defects in fabric ensuring the fabrics should be defect free and only good quality fabrics are taken for further process.\n",
      "Performance Criteria: \n",
      "================================================================================\n"
     ]
    },
    {
     "name": "stderr",
     "output_type": "stream",
     "text": [
      "Processing PDFs:  96%|█████████▌| 803/838 [22:01<00:52,  1.49s/it]"
     ]
    },
    {
     "name": "stdout",
     "output_type": "stream",
     "text": [
      "Extracted Information for Fitter__Weaving_Preparatory.pdf:\n",
      "Job Title: TSC/Q2401: Fitter Weaving Preparatory\n",
      "Job Description: A Fitter-Weaving Preparatory, is a job-role in the weaving preparatory department. The responsibility of a Fitter (Weaving Preparatory) is to maintain all Weaving Preparatory Machines, eﬃciently so as to get maximum output with minimum defects giving due importance to safety and environment aspects. He/she should carry out all the maintenance aspects such as erecting, dismantling, assembling, leveling, attending & resolving repairs and breakdowns in preparatory department. He/she should also carry out regular preventive maintenance activities thus ensuring proper functioning of all machines.\n",
      "Performance Criteria: \n",
      "================================================================================\n"
     ]
    },
    {
     "name": "stderr",
     "output_type": "stream",
     "text": [
      "Processing PDFs:  96%|█████████▌| 804/838 [22:03<00:50,  1.48s/it]"
     ]
    },
    {
     "name": "stdout",
     "output_type": "stream",
     "text": [
      "Extracted Information for Fitter_-_Shuttleless_Weaving_Machine:_Projectile.pdf:\n",
      "Job Title: TSC/Q2404: Fitter - Shuttleless Weaving Machine: Projectile\n",
      "Job Description: A Fitter - Shuttleless Weaving Machine: Projectile is a job-role in a weaving department. The responsibility of Fitter - Shuttleless Weaving Machine: Projectile is to maintain the loom eﬃciently so as to get maximum output with minimum defects, with less cost of production giving due importance to safety and environment aspects. He/she should carry out all the maintenance aspects such as erecting, dismantling, assembling, leveling, attending & resolving repairs and breakdowns in preparatory department. He/she should also carry out regular preventive maintenance activities thus ensuring proper functioning of all machines.\n",
      "Performance Criteria: \n",
      "================================================================================\n"
     ]
    },
    {
     "name": "stderr",
     "output_type": "stream",
     "text": [
      "Processing PDFs:  96%|█████████▌| 805/838 [22:04<00:48,  1.46s/it]"
     ]
    },
    {
     "name": "stdout",
     "output_type": "stream",
     "text": [
      "Extracted Information for Fitter_-_Shuttleless_Weaving_Machine:_Air-Jet.pdf:\n",
      "Job Title: TSC/Q2405: Fitter - Shuttleless Weaving Machine: Air-Jet\n",
      "Job Description: A Fitter - Shuttleless Weaving Machine: Air-Jet is a job-role in a weaving department. The responsibility of Fitter - Shuttleless Weaving Machine: AirJet is to maintain the loom eﬃciently so as to get maximum output with minimum defects, with less cost of production giving due importance to safety and environment aspects. He/she should carry out all the maintenance aspects such as erecting, dismantling, assembling, leveling, attending & resolving repairs and breakdowns in preparatory department. He/she should also carry out regular preventive maintenance activities thus ensuring proper functioning of all machines.\n",
      "Performance Criteria: \n",
      "================================================================================\n"
     ]
    },
    {
     "name": "stderr",
     "output_type": "stream",
     "text": [
      "Processing PDFs:  96%|█████████▌| 806/838 [22:06<00:46,  1.45s/it]"
     ]
    },
    {
     "name": "stdout",
     "output_type": "stream",
     "text": [
      "Extracted Information for Fitter_Helper_-_Weaving.pdf:\n",
      "Job Title: TSC/Q2406: Fitter Helper - Weaving\n",
      "Job Description: An Fitter Helper - Weaving Machines, is a job-role in a weaving department. The responsibility of Oiler is to Lubricate the Weaving Machines eﬃciently so as to get maximum output with minimum defects giving due importance to safety and environment aspects.\n",
      "Performance Criteria: \n",
      "================================================================================\n"
     ]
    },
    {
     "name": "stderr",
     "output_type": "stream",
     "text": [
      "Processing PDFs:  96%|█████████▋| 807/838 [22:07<00:44,  1.44s/it]"
     ]
    },
    {
     "name": "stdout",
     "output_type": "stream",
     "text": [
      "Extracted Information for Beam_Carrier_-_Loader.pdf:\n",
      "Job Title: TSC/Q2601: Beam Carrier - Loader\n",
      "Job Description: A Beam Carrier / Loader is a job-role in the weaving preparatory department. The responsibility of a Beam Carrier/ Loader is to unload the materials from the vehicles, carry sized beams to the loom sheds, load the materials in the vehicles etc., without damage to material or machine parts and giving due importance to safety and environment aspects\n",
      "Performance Criteria: \n",
      "================================================================================\n"
     ]
    },
    {
     "name": "stderr",
     "output_type": "stream",
     "text": [
      "Processing PDFs:  96%|█████████▋| 808/838 [22:08<00:43,  1.44s/it]"
     ]
    },
    {
     "name": "stdout",
     "output_type": "stream",
     "text": [
      "Extracted Information for Knitting_Machine_Operator_Circular_Knitting.pdf:\n",
      "Job Title: TSC/Q4101: Knitting Machine Operator Circular Knitting\n",
      "Job Description: A Circular knitting machine operator is responsible for operating industrial Circular knitting machines, repair yarn related faults at the knitting head and fabric press-oﬀs, operate process machines ancillary to the knitting production, identify and sort wastes, and demonstrate knowledge of yarn-related faults in knitted fabrics. This job requires the individual to have thorough knowledge in process ﬂow and material ﬂow in a knitting machine for fabric production and should know the important functions and operations of knitting machines.\n",
      "Performance Criteria: \n",
      "================================================================================\n"
     ]
    },
    {
     "name": "stderr",
     "output_type": "stream",
     "text": [
      "Processing PDFs:  97%|█████████▋| 809/838 [22:10<00:41,  1.43s/it]"
     ]
    },
    {
     "name": "stdout",
     "output_type": "stream",
     "text": [
      "Extracted Information for Knitting_Machine_Operator_Flat_Bed_Knitting.pdf:\n",
      "Job Title: TSC/Q4102: Knitting Machine Operator Flat Bed Knitting\n",
      "Job Description: A Flat Knitting operator is responsible to operate industrial knitting machines, repair yarn-related faults at the knitting head and fabric press-oﬀs, operate process machines ancillary to the knitting production, identify and sort wastes, and demonstrate knowledge of yarn-related faults in knitted fabrics. This job requires the individual to have thorough knowledge in process ﬂow and material ﬂow in a knitting machine for fabric production and should know the important functions and operations of knitting machines.\n",
      "Performance Criteria: \n",
      "================================================================================\n"
     ]
    },
    {
     "name": "stderr",
     "output_type": "stream",
     "text": [
      "Processing PDFs:  97%|█████████▋| 810/838 [22:11<00:40,  1.44s/it]"
     ]
    },
    {
     "name": "stdout",
     "output_type": "stream",
     "text": [
      "Extracted Information for Knitting_Machine_Operator_Warp_Knitting.pdf:\n",
      "Job Title: TSC/Q4103: Knitting Machine Operator Warp Knitting\n",
      "Job Description: A Warp knitting machine operator is responsible for operating the warp knitting machine in a knittingmill. This job requires the individual to have thorough knowledge of process ﬂow and material ﬂow in a knitting mill for fabric production and should know the important functions and operations of warp knitting machines.\n",
      "Performance Criteria: \n",
      "================================================================================\n"
     ]
    },
    {
     "name": "stderr",
     "output_type": "stream",
     "text": [
      "Processing PDFs:  97%|█████████▋| 811/838 [22:13<00:38,  1.41s/it]"
     ]
    },
    {
     "name": "stdout",
     "output_type": "stream",
     "text": [
      "Extracted Information for Textile_Processing_Preparatory_Operator.pdf:\n",
      "Job Title: TSC/Q5103: Textile Processing Preparatory Operator\n",
      "Job Description: A Textile Processing Preparatory Operator is responsible to do the speciﬁed job of pre-treatment of fabric with proper control of parameters to get the desired eﬀect. This job requires the individual to have thorough knowledge of process ﬂow and material ﬂow in a processing mill for fabric production and should know the important functions and operations of machines used in preparatory department of textile processing.\n",
      "Performance Criteria: \n",
      "================================================================================\n"
     ]
    },
    {
     "name": "stderr",
     "output_type": "stream",
     "text": [
      "Processing PDFs:  97%|█████████▋| 812/838 [22:14<00:38,  1.48s/it]"
     ]
    },
    {
     "name": "stdout",
     "output_type": "stream",
     "text": [
      "Extracted Information for Dyestuff_&_Chemical_Preparation_Operator.pdf:\n",
      "Job Title: TSC/Q5205: Dyestuﬀ & Chemical Preparation Operator\n",
      "Job Description: A Dyestuﬀ & Chemical Preparation Operator is responsible for Weighing, Dissolving & Dispensing of Dyestuﬀ, Chemicals & other auxiliaries used for various purposes in a processing unit. This job requires the individual to have thorough knowledge of process ﬂow and material ﬂow in a processing unit for fabric/ﬁber/yarn production and should know the importance of weighing & dispensing of various types of dyes & chemicals used in a processing unit.\n",
      "Performance Criteria: \n",
      "================================================================================\n"
     ]
    },
    {
     "name": "stderr",
     "output_type": "stream",
     "text": [
      "Processing PDFs:  97%|█████████▋| 813/838 [22:16<00:38,  1.53s/it]"
     ]
    },
    {
     "name": "stdout",
     "output_type": "stream",
     "text": [
      "Extracted Information for Textile_Dyeing_Machine_Operator.pdf:\n",
      "Job Title: TSC/Q5207: Textile Dyeing Machine Operator\n",
      "Job Description: A Dyeing Machine Operator is responsible for pretreatment and dyeing operations. The job requires the individual to have thorough knowledge of process ﬂow and material ﬂow in a processing mill for fabric production and he should know the important functions and operations of textile dyeing machines.\n",
      "Performance Criteria: \n",
      "================================================================================\n"
     ]
    },
    {
     "name": "stderr",
     "output_type": "stream",
     "text": [
      "Processing PDFs:  97%|█████████▋| 814/838 [22:17<00:35,  1.47s/it]"
     ]
    },
    {
     "name": "stdout",
     "output_type": "stream",
     "text": [
      "Extracted Information for Textile_Printing_Machine_Operator.pdf:\n",
      "Job Title: TSC/Q5208: Textile Printing Machine Operator\n",
      "Job Description: A Textile Printing Machine operator is responsible for preparation of design screen for printing machine, printing of fabric & smooth operation of machine without damaging either fabric or machine. This job requires the individual to have thorough knowledge of process ﬂow and material ﬂow in a processing mill for fabric production and should know about the important functions and operations of textile printing machine\n",
      "Performance Criteria: \n",
      "================================================================================\n"
     ]
    },
    {
     "name": "stderr",
     "output_type": "stream",
     "text": [
      "Processing PDFs:  97%|█████████▋| 815/838 [22:19<00:33,  1.48s/it]"
     ]
    },
    {
     "name": "stdout",
     "output_type": "stream",
     "text": [
      "Extracted Information for Textile_Post_Processing_Machine_Operator.pdf:\n",
      "Error: No valid job information extracted from the text.\n",
      "================================================================================\n"
     ]
    },
    {
     "name": "stderr",
     "output_type": "stream",
     "text": [
      "Processing PDFs:  97%|█████████▋| 816/838 [22:20<00:32,  1.47s/it]"
     ]
    },
    {
     "name": "stdout",
     "output_type": "stream",
     "text": [
      "Extracted Information for Textile_Finishing_Machine_Operator.pdf:\n",
      "Job Title: TSC/Q5405: Textile Finishing Machine Operator\n",
      "Job Description: A Textile Finishing Machine Operator is responsible to do the speciﬁed job of drying, heat setting and ﬁnishing of fabric with proper control of parameters to get the desired eﬀect. This job requires the individual to have thorough knowledge of process ﬂow and material ﬂow in a processing mill for fabric production and should know the important functions and operations of a ﬁnishing machine.\n",
      "Performance Criteria: \n",
      "================================================================================\n"
     ]
    },
    {
     "name": "stderr",
     "output_type": "stream",
     "text": [
      "Processing PDFs:  97%|█████████▋| 817/838 [22:22<00:30,  1.45s/it]"
     ]
    },
    {
     "name": "stdout",
     "output_type": "stream",
     "text": [
      "Extracted Information for Fitter_-_Chemical_Processing_(Textiles).pdf:\n",
      "Job Title: TSC/Q5701: Fitter - Chemical Processing (Textiles)\n",
      "Job Description: A Fitter - Chemical Processing (Textiles) is responsible for carrying out maintenance activities of all the machines in processing department like Singeing, CBR, Mercerizing, Drying Range, Jigger, Stenter, Jet dyeing, Soft ﬂow, Calendaring, & ﬁnishing machines. He should carry out all the maintenance activities like erecting, dismantling, assembling, leveling, attending & resolving repairs and breakdowns in processing department. He should also carry out regular preventive maintenance activities thus ensuring proper functioning of all machines. This job requires the individual to have thorough knowledge of process ﬂow and material ﬂow in a processing unit for fabric production and should have sound technical knowledge on erecting the diﬀerent sequence of machines in processing department.\n",
      "Performance Criteria: \n",
      "================================================================================\n"
     ]
    },
    {
     "name": "stderr",
     "output_type": "stream",
     "text": [
      "Processing PDFs:  98%|█████████▊| 818/838 [22:23<00:28,  1.43s/it]"
     ]
    },
    {
     "name": "stdout",
     "output_type": "stream",
     "text": [
      "Extracted Information for Cocoon_tester_cum_purchaser.pdf:\n",
      "Job Title: TSC/Q7101: Cocoon tester cum purchaser\n",
      "Job Description: A Cocoon tester cum purchaser is responsible to prepare samples, deﬂoss the cocoon by hand or motorized deﬂosser, test cocoons, negotiate and purchase the green cocoons and from farmers by ensuring safety, security at the work place.\n",
      "Performance Criteria: \n",
      "================================================================================\n"
     ]
    },
    {
     "name": "stderr",
     "output_type": "stream",
     "text": [
      "Processing PDFs:  98%|█████████▊| 819/838 [22:24<00:26,  1.38s/it]"
     ]
    },
    {
     "name": "stdout",
     "output_type": "stream",
     "text": [
      "Extracted Information for Mulberry_cocoon_sorter,_drier_cum_grader.pdf:\n",
      "Job Title: TSC/Q7102: Mulberry cocoon sorter, drier cum grader\n",
      "Job Description: A Cocoon sorter, drier cum grader is responsible for carrying out green cocoon sorting, grading, conduct reelability test, carry out mixing of cocoons and drying as per the quality requirements by ensuring safety, security at the work place.\n",
      "Performance Criteria: \n",
      "================================================================================\n"
     ]
    },
    {
     "name": "stderr",
     "output_type": "stream",
     "text": [
      "Processing PDFs:  98%|█████████▊| 820/838 [22:26<00:24,  1.35s/it]"
     ]
    },
    {
     "name": "stdout",
     "output_type": "stream",
     "text": [
      "Extracted Information for Hank_Dyer.pdf:\n",
      "Job Title: TSC/Q7201: Hank Dyer\n",
      "Job Description: A Hank Dyer is responsible for pre-treatment, dyeing and ﬁnishing of yarns made of diﬀerent types ﬁbres such as cotton, viscose, wool, silk and synthetics in the handloom sector. The processes are carried either using traditional methods with little automation or with specially developed machines suitable for the purpose. The processed yarns are expected to match the standard shades for speciﬁed properties as well as conform to requirements for desired level of fastness.\n",
      "Performance Criteria: \n",
      "================================================================================\n"
     ]
    },
    {
     "name": "stderr",
     "output_type": "stream",
     "text": [
      "Processing PDFs:  98%|█████████▊| 821/838 [22:27<00:22,  1.33s/it]"
     ]
    },
    {
     "name": "stdout",
     "output_type": "stream",
     "text": [
      "Extracted Information for Cone_Winder-cum-Pirn_Winder.pdf:\n",
      "Job Title: TSC/Q7301: Cone Winder-cum-Pirn Winder\n",
      "Job Description: A cone winder-cum-pirn winder is responsible for winding activities in cone or pirn winding machine. The cone winder should be able to open the hank yarn properly, untangle it, wrap over the winding machine, knot the broken yarn, doﬀ the cones, carry out routine cleaning and maintenance activities thus producing defect free cone or pirn package and ensure proper functioning of the winding machine. This job requires the individual to have thorough knowledge of type of yarns, type of winding machines and should know about the important functions and operations of winding machine.\n",
      "Performance Criteria: \n",
      "================================================================================\n"
     ]
    },
    {
     "name": "stderr",
     "output_type": "stream",
     "text": [
      "Processing PDFs:  98%|█████████▊| 822/838 [22:28<00:21,  1.32s/it]"
     ]
    },
    {
     "name": "stdout",
     "output_type": "stream",
     "text": [
      "Extracted Information for Warper_-_Handloom.pdf:\n",
      "Job Title: TSC/Q7302: Warper - Handloom\n",
      "Job Description: The Warper - Handloom is responsible for running the warping machine eﬃciently, taking due safety precautions, in the handloom sector in order to ensure maximum output with minimum defects. The individual is also responsible for carrying out other activities like calculating raw material requirement, creeling, doﬃng of warp yarns, etc. under the supervision of the weaver.\n",
      "Performance Criteria: \n",
      "================================================================================\n"
     ]
    },
    {
     "name": "stderr",
     "output_type": "stream",
     "text": [
      "Processing PDFs:  98%|█████████▊| 823/838 [22:30<00:20,  1.34s/it]"
     ]
    },
    {
     "name": "stdout",
     "output_type": "stream",
     "text": [
      "Extracted Information for Two_Shaft_Handloom_Weaver.pdf:\n",
      "Job Title: TSC/Q7303: Two Shaft Handloom Weaver\n",
      "Job Description: A two shaft handloom weaver produces various types of fabrics in the basic weaves and its derivatives using diﬀerent kinds of yarns such as cotton, wool, silk, etc. by hand on a ﬂy-shuttle or a throw-shuttle handloom as per the provided yarn and pattern or design speciﬁcations.\n",
      "Performance Criteria: \n",
      "================================================================================\n"
     ]
    },
    {
     "name": "stderr",
     "output_type": "stream",
     "text": [
      "Processing PDFs:  98%|█████████▊| 824/838 [22:31<00:18,  1.35s/it]"
     ]
    },
    {
     "name": "stdout",
     "output_type": "stream",
     "text": [
      "Extracted Information for Hand_Knitting_Machine_Operator.pdf:\n",
      "Job Title: TSC/Q7304: Hand Knitting Machine Operator\n",
      "Job Description: The hand operated knitting machine operator is responsible for knitting by maintaining health, safety and security, and complying with the workplace requirements. The person can either work as a freelancer or seek employment in a cooperative/organization.\n",
      "Performance Criteria: \n",
      "================================================================================\n"
     ]
    },
    {
     "name": "stderr",
     "output_type": "stream",
     "text": [
      "Processing PDFs:  98%|█████████▊| 825/838 [22:32<00:18,  1.40s/it]"
     ]
    },
    {
     "name": "stdout",
     "output_type": "stream",
     "text": [
      "Extracted Information for Jacquard_Weaver_-_Handloom.pdf:\n",
      "Job Title: TSC/Q7306: Jacquard Weaver - Handloom\n",
      "Job Description: A Jacquard weaver - handloom weaves various types of jacquard woven fabrics and artistic textiles on a jacquard handloom, using diﬀerent kinds of yarns- cotton/raw silk on a ﬂy-shuttle or throw-shuttle handloom. The jacquard weaver is responsible for carrying out pre-weaving activities mend broken ends, weft picks, change jacquard punch cards and carry weft replenishment activities to produce defect-free jacquard woven fabrics.\n",
      "Performance Criteria: \n",
      "================================================================================\n"
     ]
    },
    {
     "name": "stderr",
     "output_type": "stream",
     "text": [
      "Processing PDFs:  99%|█████████▊| 826/838 [22:34<00:16,  1.38s/it]"
     ]
    },
    {
     "name": "stdout",
     "output_type": "stream",
     "text": [
      "Extracted Information for Loin_Loom_Weaver.pdf:\n",
      "Job Title: TSC/Q7307: Loin Loom Weaver\n",
      "Job Description: A Loin Loom Weaver is the one who weaves various types of fabrics and artistic textiles by hand using a Loin Loom. A weaver can weave basic weaves - Plain and its variations, using diﬀerent kinds of yarns - cotton/wool/silk on a ﬂy-shuttle or throw-shuttle Loin Loom as per pattern or design provided.\n",
      "Performance Criteria: \n",
      "================================================================================\n"
     ]
    },
    {
     "name": "stderr",
     "output_type": "stream",
     "text": [
      "Processing PDFs:  99%|█████████▊| 827/838 [22:35<00:15,  1.38s/it]"
     ]
    },
    {
     "name": "stdout",
     "output_type": "stream",
     "text": [
      "Extracted Information for Card_Puncher_(Automatic_Machine).pdf:\n",
      "Job Title: TSC/Q7401: Card Puncher (Automatic Machine)\n",
      "Job Description: The card puncher punches customized cards based on the designs created by the designer by special card punching machines using diﬀerent softwares, and may also do the lacing of the cards for jacquard weaving.\n",
      "Performance Criteria: \n",
      "================================================================================\n"
     ]
    },
    {
     "name": "stderr",
     "output_type": "stream",
     "text": [
      "Processing PDFs:  99%|█████████▉| 828/838 [22:37<00:14,  1.48s/it]"
     ]
    },
    {
     "name": "stdout",
     "output_type": "stream",
     "text": [
      "Extracted Information for Kalamkari_Artisan.pdf:\n",
      "Job Title: TSC/Q7402: Kalamkari Artisan\n",
      "Job Description: The kalamkari artisan is responsible for designing and creating a kalamkari painting by maintaining tools, health, safety and security, and complying with the workplace requirements in the handloom sector. The person can either work as a freelancer or seek employment in an handloom cooperative/organization.\n",
      "Performance Criteria: \n",
      "================================================================================\n"
     ]
    },
    {
     "name": "stderr",
     "output_type": "stream",
     "text": [
      "Processing PDFs:  99%|█████████▉| 829/838 [22:41<00:19,  2.21s/it]"
     ]
    },
    {
     "name": "stdout",
     "output_type": "stream",
     "text": [
      "Extracted Information for Assistant_Design_Maker_-_Textiles.pdf:\n",
      "Job Title: TSC/Q7403: Assistant Design Maker - Textiles\n",
      "Job Description: An Assistant design maker - textiles is responsible for developing design using the motif samples or references received from the clients involved in textile manufacturing. The individual may use references from designing books and develop design on the graph paper manually or on computers using diﬀerent CAD software. The designer needs to note down the preference of the end user in terms of design parameters. The individual is also responsible for sharing the ﬁnal design to the card puncher for punching jacquard cards.\n",
      "Performance Criteria: \n",
      "================================================================================\n"
     ]
    },
    {
     "name": "stderr",
     "output_type": "stream",
     "text": [
      "Processing PDFs:  99%|█████████▉| 830/838 [22:45<00:21,  2.74s/it]"
     ]
    },
    {
     "name": "stdout",
     "output_type": "stream",
     "text": [
      "Extracted Information for Assistant_Design_Maker_-_Textiles.pdf:\n",
      "Job Title: TSC/Q7403: Assistant Design Maker - Textiles\n",
      "Job Description: An Assistant design maker - textiles is responsible for developing design using the motif samples or references received from the clients involved in textile manufacturing. The individual may use references from designing books and develop design on the graph paper manually or on computers using diﬀerent CAD software. The designer needs to note down the preference of the end user in terms of design parameters. The individual is also responsible for sharing the ﬁnal design to the card puncher for punching jacquard cards.\n",
      "Performance Criteria: \n",
      "================================================================================\n"
     ]
    },
    {
     "name": "stderr",
     "output_type": "stream",
     "text": [
      "Processing PDFs:  99%|█████████▉| 831/838 [22:46<00:16,  2.37s/it]"
     ]
    },
    {
     "name": "stdout",
     "output_type": "stream",
     "text": [
      "Extracted Information for Ikkat_Artisan.pdf:\n",
      "Job Title: TSC/Q7404: Ikkat Artisan\n",
      "Job Description: The ikkat artisan is responsible for designing, dyeing and weaving by maintaining tools, health, safety and security, and complying with the workplace requirements in the handloom sector. The person can either work as a freelancer or seek employment in an handloom cooperative/organization.\n",
      "Performance Criteria: \n",
      "================================================================================\n"
     ]
    },
    {
     "name": "stderr",
     "output_type": "stream",
     "text": [
      "Processing PDFs:  99%|█████████▉| 832/838 [22:48<00:12,  2.09s/it]"
     ]
    },
    {
     "name": "stdout",
     "output_type": "stream",
     "text": [
      "Extracted Information for Jacquard_Harness_Builder.pdf:\n",
      "Job Title: TSC/Q7502: Jacquard Harness Builder\n",
      "Job Description: Builds the structure of the harness of handloom jacquard weaving and mounts it on the loom as per as per the loom fabric and design speciﬁcations\n",
      "Performance Criteria: \n",
      "================================================================================\n"
     ]
    },
    {
     "name": "stderr",
     "output_type": "stream",
     "text": [
      "Processing PDFs:  99%|█████████▉| 833/838 [22:49<00:09,  1.88s/it]"
     ]
    },
    {
     "name": "stdout",
     "output_type": "stream",
     "text": [
      "Extracted Information for Handloom_Entrepreneur.pdf:\n",
      "Job Title: TSC/Q7801: Handloom Entrepreneur\n",
      "Job Description: The handloom entrepreneur should be able to collect business related market information for planning and decision making, coordinate team, ﬁnance and administrative activities, design, deliver and supervise for quality products ensuring organizational health, safety and security\n",
      "Performance Criteria: \n",
      "================================================================================\n"
     ]
    },
    {
     "name": "stderr",
     "output_type": "stream",
     "text": [
      "Processing PDFs: 100%|█████████▉| 834/838 [22:50<00:06,  1.71s/it]"
     ]
    },
    {
     "name": "stdout",
     "output_type": "stream",
     "text": [
      "Extracted Information for Hand_Spinning_Operator.pdf:\n",
      "Job Title: TSC/Q7901: Hand Spinning Operator\n",
      "Job Description: The hand spinning operator is responsible for spinning ﬁbers under supervision by maintaining health, safety and security, and complying with the workplace requirements in the khadi sector.\n",
      "Performance Criteria: \n",
      "================================================================================\n"
     ]
    },
    {
     "name": "stderr",
     "output_type": "stream",
     "text": [
      "Processing PDFs: 100%|█████████▉| 835/838 [22:52<00:04,  1.61s/it]"
     ]
    },
    {
     "name": "stdout",
     "output_type": "stream",
     "text": [
      "Extracted Information for Twister_cum_Doubler_-_Handloom.pdf:\n",
      "Job Title: TSC/Q7902: Twister cum Doubler - Handloom\n",
      "Job Description: The person is responsible for twisting and doubling the yarn to improve yarn uniformity, abrasion resistance, tenacity and ﬂexural endurance by ensuring health, safety and security, and complying with the workplace requirements. The person can either work as a freelancer or seek employment in a cooperative/organization.\n",
      "Performance Criteria: \n",
      "================================================================================\n"
     ]
    },
    {
     "name": "stderr",
     "output_type": "stream",
     "text": [
      "Processing PDFs: 100%|█████████▉| 836/838 [22:53<00:03,  1.55s/it]"
     ]
    },
    {
     "name": "stdout",
     "output_type": "stream",
     "text": [
      "Extracted Information for Tape_Plant_Operator.pdf:\n",
      "Job Title: TSC/Q8201: Tape Plant Operator\n",
      "Job Description: The Tape plant operator is responsible for running the Tape plant under supervision by maintaining health, safety and security in the raﬃa industry.\n",
      "Performance Criteria: \n",
      "================================================================================\n"
     ]
    },
    {
     "name": "stderr",
     "output_type": "stream",
     "text": [
      "Processing PDFs: 100%|█████████▉| 837/838 [22:55<00:01,  1.54s/it]"
     ]
    },
    {
     "name": "stdout",
     "output_type": "stream",
     "text": [
      "Extracted Information for Tape_Winder.pdf:\n",
      "Job Title: TSC/Q8301: Tape Winder\n",
      "Job Description: The Tape winder man is responsible for running the Tape winding machine under supervision by maintaining health, safety and security in the raﬃa industry.\n",
      "Performance Criteria: \n",
      "================================================================================\n"
     ]
    },
    {
     "name": "stderr",
     "output_type": "stream",
     "text": [
      "Processing PDFs: 100%|██████████| 838/838 [22:56<00:00,  1.64s/it]"
     ]
    },
    {
     "name": "stdout",
     "output_type": "stream",
     "text": [
      "Extracted Information for Circular_loom_operator_(Shuttle_type).pdf:\n",
      "Job Title: TSC/Q8401: Circular loom operator (Shuttle type)\n",
      "Job Description: The Circular loom operator (Shuttle type) is responsible for running the Circular loom (Shuttle type) under supervision by maintaining health, safety and security in the raﬃa industry.\n",
      "Performance Criteria: \n",
      "================================================================================\n",
      "Final extracted job information saved to Jobpdfs\\final_extracted_job_info.csv\n",
      "Errors logged to Jobpdfs\\error_log.csv\n"
     ]
    },
    {
     "name": "stderr",
     "output_type": "stream",
     "text": [
      "\n"
     ]
    }
   ],
   "source": [
    "from tqdm import tqdm\n",
    "import os\n",
    "import pandas as pd\n",
    "import logging\n",
    "import requests\n",
    "import PyPDF2\n",
    "import re\n",
    "\n",
    "# Define the path for saving PDFs and the output CSV\n",
    "output_folder = \"Jobpdfs\"\n",
    "os.makedirs(output_folder, exist_ok=True)\n",
    "output_csv_path = os.path.join(output_folder, \"final_extracted_job_info.csv\")\n",
    "error_log_path = os.path.join(output_folder, \"error_log.csv\")\n",
    "\n",
    "# Setup logging\n",
    "logging.basicConfig(filename='processing.log', level=logging.DEBUG, format='%(asctime)s - %(levelname)s - %(message)s')\n",
    "\n",
    "# Function to download and save PDF\n",
    "def download_pdf(url, save_path):\n",
    "    try:\n",
    "        response = requests.get(url)\n",
    "        response.raise_for_status()  # Raise an HTTPError for bad responses\n",
    "        with open(save_path, 'wb') as file:\n",
    "            file.write(response.content)\n",
    "        logging.info(f\"Downloaded PDF from {url} to {save_path}\")\n",
    "    except Exception as e:\n",
    "        logging.error(f\"Error downloading PDF from {url}: {e}\")\n",
    "        raise\n",
    "\n",
    "# Function to extract text from the third page of a PDF file\n",
    "def extract_from_file(pdf_path):\n",
    "    try:\n",
    "        with open(pdf_path, \"rb\") as file:\n",
    "            pdf_reader = PyPDF2.PdfReader(file)\n",
    "            if len(pdf_reader.pages) < 3:\n",
    "                logging.warning(f\"PDF {pdf_path} has fewer than 3 pages.\")\n",
    "                return \"Error: PDF has fewer than 3 pages.\"\n",
    "            # Extract text from the third page (0-based index 2)\n",
    "            page_text = pdf_reader.pages[2].extract_text()\n",
    "            if page_text is None:\n",
    "                logging.warning(f\"PDF {pdf_path} has no text on the third page.\")\n",
    "                return \"Error: No text on the third page.\"\n",
    "            return page_text.replace('\\n', ' ')\n",
    "    except Exception as e:\n",
    "        logging.error(f\"Error extracting text from {pdf_path}: {e}\")\n",
    "        return f\"Error: {str(e)}\"\n",
    "\n",
    "# Function to extract job info from text\n",
    "def extract_job_info(text):\n",
    "    # Define regex pattern for job title and brief job description\n",
    "    pattern = re.compile(r'([A-Z]{2,}/Q\\d{4}:\\s*.+?)\\s+Brief Job Description\\s+(.+?)\\s+Personal Attributes', re.DOTALL)\n",
    "    matches = pattern.findall(text)\n",
    "    \n",
    "    job_info = []\n",
    "    for match in matches:\n",
    "        job_title = match[0].strip()\n",
    "        job_description = match[1].strip()\n",
    "        job_info.append(f\"Job Title: {job_title}\\nJob Description: {job_description}\\nPerformance Criteria: \")\n",
    "    \n",
    "    if not job_info:  # If no matches found, consider it an error in extraction\n",
    "        job_info.append(f\"Error: No valid job information extracted from the text.\")\n",
    "    \n",
    "    return job_info\n",
    "\n",
    "def process_pdfs(filtered_df):\n",
    "    all_jobs_info = []\n",
    "    errors = []\n",
    "\n",
    "    for idx, row in tqdm(filtered_df.iterrows(), total=filtered_df.shape[0], desc=\"Processing PDFs\"):\n",
    "        serial_no = row.get('S No.', 'N/A')\n",
    "        url = row['Link']\n",
    "        file_name = f\"{row['QP/Job Role Name'].replace(' ', '_')}.pdf\"\n",
    "        pdf_path = os.path.join(output_folder, file_name)\n",
    "\n",
    "        try:\n",
    "            # Download and save the PDF\n",
    "            download_pdf(url, pdf_path)\n",
    "\n",
    "            # Extract text from the third page\n",
    "            qp_text = extract_from_file(pdf_path)\n",
    "\n",
    "            # Extract job information from the text\n",
    "            job_info = extract_job_info(qp_text)\n",
    "            combined_info = '\\n'.join(job_info)\n",
    "            all_jobs_info.append({\n",
    "                'S No.': serial_no,\n",
    "                'Job Info': combined_info\n",
    "            })\n",
    "            # Print the extracted information\n",
    "            print(f\"Extracted Information for {file_name}:\")\n",
    "            print(combined_info)\n",
    "            print(\"=\" * 80)\n",
    "        except Exception as e:\n",
    "            logging.error(f\"Error processing URL {url} for serial number {serial_no}: {e}\")\n",
    "            error_message = f\"Error: {str(e)}\"\n",
    "            all_jobs_info.append({\n",
    "                'S No.': serial_no,\n",
    "                'Job Info': error_message\n",
    "            })\n",
    "            errors.append({'Serial No': serial_no, 'Error': error_message})\n",
    "\n",
    "    # Save all extracted job info to a single CSV file\n",
    "    if all_jobs_info:\n",
    "        job_df = pd.DataFrame(all_jobs_info)\n",
    "        job_df.to_csv(output_csv_path, index=False, encoding=\"utf-8\")\n",
    "        print(f\"Final extracted job information saved to {output_csv_path}\")\n",
    "\n",
    "    # Save errors to a CSV file\n",
    "    if errors:\n",
    "        errors_df = pd.DataFrame(errors)\n",
    "        errors_df.to_csv(error_log_path, index=False, encoding=\"utf-8\")\n",
    "        print(f\"Errors logged to {error_log_path}\")\n",
    "\n",
    "# Process the PDFs and save the extracted information to a CSV file\n",
    "process_pdfs(filtered_df)\n"
   ]
  },
  {
   "cell_type": "code",
   "execution_count": 22,
   "metadata": {},
   "outputs": [
    {
     "name": "stdout",
     "output_type": "stream",
     "text": [
      "Extracted Information for Test Engineer-Product_Vehicle.pdf:\n",
      "Job Title: ASC/Q8403: Test Engineer-Product/Vehicle\n",
      "Job Description: This role is responsible for conducting various indoor tests on automobile aggregates like engines, transmission system, braking system, fuel handling system, electrical and electronic components, body frames etc. as well as testing of built up vehicle prototypes in a simulated laboratory environment and on road setup, ensuring proper setup of test apparatus, documenting test results and presenting ﬁrst level analysis report to the test manager.\n",
      "Performance Criteria: \n",
      "================================================================================\n",
      "Extracted Information for Forklift Operator_Driver.pdf:\n",
      "Job Title: ASC/Q9707: Forklift Operator/Driver\n",
      "Job Description: The individual is responsible for ensuring the ﬁtness of the forklift for use, driving the forklift, handling delivery, stocking, and shifting of the goods, maintaining safe and healthy working practices and communicating eﬀectively with colleagues, customers, and others.\n",
      "Performance Criteria: \n",
      "================================================================================\n",
      "Extracted Information for Forklift Operator_Driver.pdf:\n",
      "Job Title: ASC/Q9707: Forklift Operator/Driver\n",
      "Job Description: The individual is responsible for ensuring the ﬁtness of the forklift for use, driving the forklift, handling delivery, stocking, and shifting of the goods, maintaining safe and healthy working practices and communicating eﬀectively with colleagues, customers, and others.\n",
      "Performance Criteria: \n",
      "================================================================================\n",
      "Extracted Information for Forklift Operator_Driver.pdf:\n",
      "Job Title: ASC/Q9707: Forklift Operator/Driver\n",
      "Job Description: The individual is responsible for ensuring the ﬁtness of the forklift for use, driving the forklift, handling delivery, stocking, and shifting of the goods, maintaining safe and healthy working practices and communicating eﬀectively with colleagues, customers, and others.\n",
      "Performance Criteria: \n",
      "================================================================================\n",
      "Extracted Information for Fruits and Vegetables Drying_Dehydration Technician.pdf:\n",
      "Job Title: FIC/Q0105: Fruits and Vegetables Drying/Dehydration Technician\n",
      "Job Description: A Fruits and Vegetables Drying/Dehydration Technician is responsible for drying/dehydration of various types of fruits and vegetables through the process of washing, sorting, peeling, cutting/slicing, blanching, sulphurizing, drying /dehydration, using various methods, packaging and storing.\n",
      "Performance Criteria: \n",
      "================================================================================\n",
      "Extracted Information for Baking Technician_Operative.pdf:\n",
      "Job Title: FIC/Q5005: Baking Technician/Operative\n",
      "Job Description: A Baking Technician/Operative is responsible for baking of products, maintaining their consistency and quailty, while meeting deﬁned SOPs and leveraging his/her skills to operate ovens in synchronisation with proof box/ rest of the plant/ unit.\n",
      "Performance Criteria: \n",
      "================================================================================\n",
      "Extracted Information for Baking Technician_Operative.pdf:\n",
      "Job Title: FIC/Q5005: Baking Technician/Operative\n",
      "Job Description: A Baking Technician/Operative is responsible for baking of products, maintaining their consistency and quailty, while meeting deﬁned SOPs and leveraging his/her skills to operate ovens in synchronisation with proof box/ rest of the plant/ unit.\n",
      "Performance Criteria: \n",
      "================================================================================\n",
      "Extracted Information for Stringing_Beading Artisan (Fashion Jewellery).pdf:\n",
      "Job Title: HCS/Q1101: Stringing/Beading Artisan (Fashion Jewellery)\n",
      "Job Description: The individual at work is responsible to prepare the raw materials, string the beads together, prepare the clasp and ﬁnish the jewel as per the design and requirements. .\n",
      "Performance Criteria: \n",
      "================================================================================\n",
      "Extracted Information for Color Quality Incharge_Shade Supervisor (Carpets).pdf:\n",
      "Job Title: HCS/Q5203: Color Quality Incharge/Shade Supervisor (Carpets)\n",
      "Job Description: The shade supervisor is a job role in Weaving department. The responsibility of shade supervisor is to ensure knotted and tufted carpets are made as per speciﬁed design with correct selection of shade for knotting and tufting while weaving the design.\n",
      "Performance Criteria: \n",
      "================================================================================\n",
      "Extracted Information for Engraving_ Carving_ Etching Assistant (Wooden Handicrafts).pdf:\n",
      "Job Title: HCS/Q7001: Engraving/ Carving/ Etching Assistant (Wooden Handicrafts)\n",
      "Job Description: The individual is responsible for the drawing on the board and performing the operations of carving or engraving or etching on it according to the design and under supervision. It involves removal of material from either base or relief to achieve design speciﬁcations for artistic purpose. The assistant constantly veriﬁes the quality of work with the supervisor.\n",
      "Performance Criteria: \n",
      "================================================================================\n",
      "Extracted Information for Automatic Stick Making M_C Operator.pdf:\n",
      "Job Title: HCS/Q7803: Automatic Stick Making M/C Operator\n",
      "Job Description: Automatic stick making machine operator is the one who produces bamboo stick using diﬀerent machines such as cross cutting machine, Radial spiltting machine and stick making machine followed by polishing, bundling & Packaging.\n",
      "Performance Criteria: \n",
      "================================================================================\n",
      "Extracted Information for Sponge Iron _ Direct Reduced Iron (DRI)-Process Control Engineer.pdf:\n",
      "Job Title: ISC/Q0411: Sponge Iron / Direct Reduced Iron (DRI)-Process Control Engineer\n",
      "Job Description: The individual in this role coordinate and monitor the operation of Sponge Iron/ DRI and its associated functions.\n",
      "Performance Criteria: \n",
      "================================================================================\n",
      "Extracted Information for Mining Mate_Sirdar.pdf:\n",
      "Job Title: MIN/Q1204: Mining Mate/Sirdar\n",
      "Job Description: The Mining Mate/Sirdar supervises mineral production, oversee the safety of mining operations and supervises blasting operations in metal/coal mines.\n",
      "Performance Criteria: \n",
      "================================================================================\n",
      "Extracted Information for Mine Shotfirer_Blaster.pdf:\n",
      "Job Title: MIN/Q1302: Mine Shotﬁrer/Blaster\n",
      "Job Description: The Mine Shotﬁrer/Blaster receives and handles explosives, charges blast holes, ﬁres blast holes and deals with misﬁres.\n",
      "Performance Criteria: \n",
      "================================================================================\n",
      "Extracted Information for Dumper_ Tipper Operator.pdf:\n",
      "Job Title: MIN/Q1402: Dumper/ Tipper Operator\n",
      "Job Description: The Dumper/Tipper operator uses the Dumper/Tipper (a heavy specialized truck) for transporting large volume of loose material such as sand, gravel, crushed rock, coal, over burden, ore etc. to designated place such as crusher hopper, site, dump yard, washing/handling plant etc. The operator is also responsible for discharging its load to rear, bottom or on one side eﬃciently.They also ensure that the safety systems are working correctly and performing essential maintenance on the Dumper/Tipper.\n",
      "Performance Criteria: \n",
      "================================================================================\n",
      "Extracted Information for Mine Mechanic_Fitter.pdf:\n",
      "Job Title: MIN/Q3203: Mine Mechanic/Fitter\n",
      "Job Description: A Mine Mechanic or Fitter in a mine is responsible for repair and maintenance of plant and machinery, medium / light vehicles, drilling machines, pumps, compressors, pneumatic machines, overhaul of crushers and other mechanical equipments and assemblies. A mechanic/ﬁtter most often works with / assists senior technicians.\n",
      "Performance Criteria: \n",
      "================================================================================\n",
      "Extracted Information for Solar Lighting Assembler (Elective: Home Lighting System_ Street Lights).pdf:\n",
      "Job Title: SGJ/Q0201: Solar Lighting Assembler (Elective: Home Lighting System/ Street Lights)\n",
      "Job Description: Solar Lighting Assembler assembles, tests and repairs diﬀerent types of solar photovoltaic (SPV) lamps adhering to basic electrical standards\n",
      "Performance Criteria: \n",
      "================================================================================\n",
      "Extracted Information for Solar Lighting Assembler (Elective: Home Lighting System_ Street Lights).pdf:\n",
      "Job Title: SGJ/Q0201: Solar Lighting Assembler (Elective: Home Lighting System/ Street Lights)\n",
      "Job Description: Solar Lighting Assembler assembles, tests and repairs diﬀerent types of solar photovoltaic (SPV) lamps adhering to basic electrical and safety standards\n",
      "Performance Criteria: \n",
      "================================================================================\n",
      "Extracted Information for Supervisor- Operations and Maintenance  (Compressed Biogas_Waste to Energy).pdf:\n",
      "Job Title: SGJ/Q0605: Supervisor- Operations and Maintenance (Compressed Biogas/Waste to Energy)\n",
      "Job Description: The individual at work supervises the team of O&M technicians and maintains the operations of plant systems and equipment of a CBG plant to ensure smooth and proﬁtable functioning of the business and streamlining the workﬂow.\n",
      "Performance Criteria: \n",
      "================================================================================\n",
      "Extracted Information for Technician - Operations and Maintenance  (Compressed Biogas_Waste to Energy).pdf:\n",
      "Job Title: SGJ/Q0606: Technician - Operations and Maintenance (Compressed Biogas/Waste to Energy)\n",
      "Job Description: The individual at work is responsible for supporting eﬀective and eﬃcient operation and maintenance of a CBG plant by troubleshooting, repairing and ensuring maximum up-time of the plant.\n",
      "Performance Criteria: \n",
      "================================================================================\n",
      "Extracted Information for Plant Head – Operations (Compressed Biogas_Waste to Energy).pdf:\n",
      "Job Title: SGJ/Q0607: Plant Head – Operations (Compressed Biogas/Waste to Energy)\n",
      "Job Description: The individual at work is responsible for proper operations of the plant, including monitoring the daily operations and production processes of the plant, managing the human resource, ﬁnance and administrative tasks at the CBG plant.\n",
      "Performance Criteria: \n",
      "================================================================================\n",
      "Extracted Information for Pastry_Bakery Assistant.pdf:\n",
      "Job Title: THC/Q0415: Pastry/Bakery Assistant\n",
      "Job Description: The individual at work is responsible for ensuring cleanliness at all stations and assists the CDP (Chef de Partie) and Sous Chef in the preparation and presentation of pastry/bakery products\n",
      "Performance Criteria: \n",
      "================================================================================\n",
      "Extracted Information for Pastry_Bakery Commis.pdf:\n",
      "Job Title: THC/Q2708: Pastry/Bakery Commis\n",
      "Job Description: The individual at work is responsible for ensuring cleanliness at all stations and assists the CDP (Chef de Partie) and Sous Chef in the preparation and presentation of pastry/bakery products\n",
      "Performance Criteria: \n",
      "================================================================================\n",
      "Extracted Information for Rafting Guide_Safety Kayaker.pdf:\n",
      "Job Title: THC/Q4510: Rafting Guide/Safety Kayaker\n",
      "Job Description: A rafting guide or safety kayaker is a qualiﬁed white-water specialist who guides students/clients down technical white-water sections of a river and teaches maneuvers and techniques to the students/clients. A safety kayaker also provides safety back up to the students/clients in case someone falls over or the boat ﬂips with multiple swimmers in the water.\n",
      "Performance Criteria: \n",
      "================================================================================\n",
      "Extracted Information for Billing_Contract Executive (Facility Management).pdf:\n",
      "Job Title: THC/Q5801: Billing/Contract Executive (Facility Management)\n",
      "Job Description: The individual at work manages and maintains accounts payable and receivables, calculates, prepares and processes bills and invoices, maintains budgets and other ﬁnancial records and issues cheques, and receives payments.\n",
      "Performance Criteria: \n",
      "================================================================================\n",
      "Extracted Information for Parasailing Launcher_Receiver.pdf:\n",
      "Job Title: THC/Q9001: Parasailing Launcher/Receiver\n",
      "Job Description: A parasailing launcher/receiver is responsible for assisting the parasailing supervisor and driver in conducting the parasailing activity. A parasailing launcher/receiver helps in assembling the canopy wing/parachute of the parasail and attaches the canopy to the vehicle/boat. They are also responsible for assisting the students/clients in wearing the safety equipment and help them board and deboard for take- oﬀ and landing.\n",
      "Performance Criteria: \n",
      "================================================================================\n"
     ]
    },
    {
     "ename": "PermissionError",
     "evalue": "[Errno 13] Permission denied: 'Jobpdfs_problematic\\\\final_extracted_job_info_problematic.csv'",
     "output_type": "error",
     "traceback": [
      "\u001b[1;31m---------------------------------------------------------------------------\u001b[0m",
      "\u001b[1;31mPermissionError\u001b[0m                           Traceback (most recent call last)",
      "Cell \u001b[1;32mIn[22], line 94\u001b[0m\n\u001b[0;32m     92\u001b[0m \u001b[38;5;28;01mif\u001b[39;00m all_job_info:\n\u001b[0;32m     93\u001b[0m     final_df \u001b[38;5;241m=\u001b[39m pd\u001b[38;5;241m.\u001b[39mDataFrame(all_job_info)\n\u001b[1;32m---> 94\u001b[0m     \u001b[43mfinal_df\u001b[49m\u001b[38;5;241;43m.\u001b[39;49m\u001b[43mto_csv\u001b[49m\u001b[43m(\u001b[49m\u001b[43moutput_csv_path\u001b[49m\u001b[43m,\u001b[49m\u001b[43m \u001b[49m\u001b[43mindex\u001b[49m\u001b[38;5;241;43m=\u001b[39;49m\u001b[38;5;28;43;01mFalse\u001b[39;49;00m\u001b[43m,\u001b[49m\u001b[43m \u001b[49m\u001b[43mencoding\u001b[49m\u001b[38;5;241;43m=\u001b[39;49m\u001b[38;5;124;43m\"\u001b[39;49m\u001b[38;5;124;43mutf-8\u001b[39;49m\u001b[38;5;124;43m\"\u001b[39;49m\u001b[43m)\u001b[49m\n\u001b[0;32m     95\u001b[0m     \u001b[38;5;28mprint\u001b[39m(\u001b[38;5;124mf\u001b[39m\u001b[38;5;124m\"\u001b[39m\u001b[38;5;124mFinal extracted job information saved to \u001b[39m\u001b[38;5;132;01m{\u001b[39;00moutput_csv_path\u001b[38;5;132;01m}\u001b[39;00m\u001b[38;5;124m\"\u001b[39m)\n\u001b[0;32m     97\u001b[0m     \u001b[38;5;66;03m# Print the first 5 entries of the final DataFrame\u001b[39;00m\n",
      "File \u001b[1;32mc:\\Users\\Krishna\\AppData\\Local\\Programs\\Python\\Python311\\Lib\\site-packages\\pandas\\core\\generic.py:3772\u001b[0m, in \u001b[0;36mNDFrame.to_csv\u001b[1;34m(self, path_or_buf, sep, na_rep, float_format, columns, header, index, index_label, mode, encoding, compression, quoting, quotechar, lineterminator, chunksize, date_format, doublequote, escapechar, decimal, errors, storage_options)\u001b[0m\n\u001b[0;32m   3761\u001b[0m df \u001b[38;5;241m=\u001b[39m \u001b[38;5;28mself\u001b[39m \u001b[38;5;28;01mif\u001b[39;00m \u001b[38;5;28misinstance\u001b[39m(\u001b[38;5;28mself\u001b[39m, ABCDataFrame) \u001b[38;5;28;01melse\u001b[39;00m \u001b[38;5;28mself\u001b[39m\u001b[38;5;241m.\u001b[39mto_frame()\n\u001b[0;32m   3763\u001b[0m formatter \u001b[38;5;241m=\u001b[39m DataFrameFormatter(\n\u001b[0;32m   3764\u001b[0m     frame\u001b[38;5;241m=\u001b[39mdf,\n\u001b[0;32m   3765\u001b[0m     header\u001b[38;5;241m=\u001b[39mheader,\n\u001b[1;32m   (...)\u001b[0m\n\u001b[0;32m   3769\u001b[0m     decimal\u001b[38;5;241m=\u001b[39mdecimal,\n\u001b[0;32m   3770\u001b[0m )\n\u001b[1;32m-> 3772\u001b[0m \u001b[38;5;28;01mreturn\u001b[39;00m \u001b[43mDataFrameRenderer\u001b[49m\u001b[43m(\u001b[49m\u001b[43mformatter\u001b[49m\u001b[43m)\u001b[49m\u001b[38;5;241;43m.\u001b[39;49m\u001b[43mto_csv\u001b[49m\u001b[43m(\u001b[49m\n\u001b[0;32m   3773\u001b[0m \u001b[43m    \u001b[49m\u001b[43mpath_or_buf\u001b[49m\u001b[43m,\u001b[49m\n\u001b[0;32m   3774\u001b[0m \u001b[43m    \u001b[49m\u001b[43mlineterminator\u001b[49m\u001b[38;5;241;43m=\u001b[39;49m\u001b[43mlineterminator\u001b[49m\u001b[43m,\u001b[49m\n\u001b[0;32m   3775\u001b[0m \u001b[43m    \u001b[49m\u001b[43msep\u001b[49m\u001b[38;5;241;43m=\u001b[39;49m\u001b[43msep\u001b[49m\u001b[43m,\u001b[49m\n\u001b[0;32m   3776\u001b[0m \u001b[43m    \u001b[49m\u001b[43mencoding\u001b[49m\u001b[38;5;241;43m=\u001b[39;49m\u001b[43mencoding\u001b[49m\u001b[43m,\u001b[49m\n\u001b[0;32m   3777\u001b[0m \u001b[43m    \u001b[49m\u001b[43merrors\u001b[49m\u001b[38;5;241;43m=\u001b[39;49m\u001b[43merrors\u001b[49m\u001b[43m,\u001b[49m\n\u001b[0;32m   3778\u001b[0m \u001b[43m    \u001b[49m\u001b[43mcompression\u001b[49m\u001b[38;5;241;43m=\u001b[39;49m\u001b[43mcompression\u001b[49m\u001b[43m,\u001b[49m\n\u001b[0;32m   3779\u001b[0m \u001b[43m    \u001b[49m\u001b[43mquoting\u001b[49m\u001b[38;5;241;43m=\u001b[39;49m\u001b[43mquoting\u001b[49m\u001b[43m,\u001b[49m\n\u001b[0;32m   3780\u001b[0m \u001b[43m    \u001b[49m\u001b[43mcolumns\u001b[49m\u001b[38;5;241;43m=\u001b[39;49m\u001b[43mcolumns\u001b[49m\u001b[43m,\u001b[49m\n\u001b[0;32m   3781\u001b[0m \u001b[43m    \u001b[49m\u001b[43mindex_label\u001b[49m\u001b[38;5;241;43m=\u001b[39;49m\u001b[43mindex_label\u001b[49m\u001b[43m,\u001b[49m\n\u001b[0;32m   3782\u001b[0m \u001b[43m    \u001b[49m\u001b[43mmode\u001b[49m\u001b[38;5;241;43m=\u001b[39;49m\u001b[43mmode\u001b[49m\u001b[43m,\u001b[49m\n\u001b[0;32m   3783\u001b[0m \u001b[43m    \u001b[49m\u001b[43mchunksize\u001b[49m\u001b[38;5;241;43m=\u001b[39;49m\u001b[43mchunksize\u001b[49m\u001b[43m,\u001b[49m\n\u001b[0;32m   3784\u001b[0m \u001b[43m    \u001b[49m\u001b[43mquotechar\u001b[49m\u001b[38;5;241;43m=\u001b[39;49m\u001b[43mquotechar\u001b[49m\u001b[43m,\u001b[49m\n\u001b[0;32m   3785\u001b[0m \u001b[43m    \u001b[49m\u001b[43mdate_format\u001b[49m\u001b[38;5;241;43m=\u001b[39;49m\u001b[43mdate_format\u001b[49m\u001b[43m,\u001b[49m\n\u001b[0;32m   3786\u001b[0m \u001b[43m    \u001b[49m\u001b[43mdoublequote\u001b[49m\u001b[38;5;241;43m=\u001b[39;49m\u001b[43mdoublequote\u001b[49m\u001b[43m,\u001b[49m\n\u001b[0;32m   3787\u001b[0m \u001b[43m    \u001b[49m\u001b[43mescapechar\u001b[49m\u001b[38;5;241;43m=\u001b[39;49m\u001b[43mescapechar\u001b[49m\u001b[43m,\u001b[49m\n\u001b[0;32m   3788\u001b[0m \u001b[43m    \u001b[49m\u001b[43mstorage_options\u001b[49m\u001b[38;5;241;43m=\u001b[39;49m\u001b[43mstorage_options\u001b[49m\u001b[43m,\u001b[49m\n\u001b[0;32m   3789\u001b[0m \u001b[43m\u001b[49m\u001b[43m)\u001b[49m\n",
      "File \u001b[1;32mc:\\Users\\Krishna\\AppData\\Local\\Programs\\Python\\Python311\\Lib\\site-packages\\pandas\\io\\formats\\format.py:1186\u001b[0m, in \u001b[0;36mDataFrameRenderer.to_csv\u001b[1;34m(self, path_or_buf, encoding, sep, columns, index_label, mode, compression, quoting, quotechar, lineterminator, chunksize, date_format, doublequote, escapechar, errors, storage_options)\u001b[0m\n\u001b[0;32m   1165\u001b[0m     created_buffer \u001b[38;5;241m=\u001b[39m \u001b[38;5;28;01mFalse\u001b[39;00m\n\u001b[0;32m   1167\u001b[0m csv_formatter \u001b[38;5;241m=\u001b[39m CSVFormatter(\n\u001b[0;32m   1168\u001b[0m     path_or_buf\u001b[38;5;241m=\u001b[39mpath_or_buf,\n\u001b[0;32m   1169\u001b[0m     lineterminator\u001b[38;5;241m=\u001b[39mlineterminator,\n\u001b[1;32m   (...)\u001b[0m\n\u001b[0;32m   1184\u001b[0m     formatter\u001b[38;5;241m=\u001b[39m\u001b[38;5;28mself\u001b[39m\u001b[38;5;241m.\u001b[39mfmt,\n\u001b[0;32m   1185\u001b[0m )\n\u001b[1;32m-> 1186\u001b[0m \u001b[43mcsv_formatter\u001b[49m\u001b[38;5;241;43m.\u001b[39;49m\u001b[43msave\u001b[49m\u001b[43m(\u001b[49m\u001b[43m)\u001b[49m\n\u001b[0;32m   1188\u001b[0m \u001b[38;5;28;01mif\u001b[39;00m created_buffer:\n\u001b[0;32m   1189\u001b[0m     \u001b[38;5;28;01massert\u001b[39;00m \u001b[38;5;28misinstance\u001b[39m(path_or_buf, StringIO)\n",
      "File \u001b[1;32mc:\\Users\\Krishna\\AppData\\Local\\Programs\\Python\\Python311\\Lib\\site-packages\\pandas\\io\\formats\\csvs.py:240\u001b[0m, in \u001b[0;36mCSVFormatter.save\u001b[1;34m(self)\u001b[0m\n\u001b[0;32m    236\u001b[0m \u001b[38;5;250m\u001b[39m\u001b[38;5;124;03m\"\"\"\u001b[39;00m\n\u001b[0;32m    237\u001b[0m \u001b[38;5;124;03mCreate the writer & save.\u001b[39;00m\n\u001b[0;32m    238\u001b[0m \u001b[38;5;124;03m\"\"\"\u001b[39;00m\n\u001b[0;32m    239\u001b[0m \u001b[38;5;66;03m# apply compression and byte/text conversion\u001b[39;00m\n\u001b[1;32m--> 240\u001b[0m \u001b[38;5;28;01mwith\u001b[39;00m \u001b[43mget_handle\u001b[49m\u001b[43m(\u001b[49m\n\u001b[0;32m    241\u001b[0m \u001b[43m    \u001b[49m\u001b[38;5;28;43mself\u001b[39;49m\u001b[38;5;241;43m.\u001b[39;49m\u001b[43mfilepath_or_buffer\u001b[49m\u001b[43m,\u001b[49m\n\u001b[0;32m    242\u001b[0m \u001b[43m    \u001b[49m\u001b[38;5;28;43mself\u001b[39;49m\u001b[38;5;241;43m.\u001b[39;49m\u001b[43mmode\u001b[49m\u001b[43m,\u001b[49m\n\u001b[0;32m    243\u001b[0m \u001b[43m    \u001b[49m\u001b[43mencoding\u001b[49m\u001b[38;5;241;43m=\u001b[39;49m\u001b[38;5;28;43mself\u001b[39;49m\u001b[38;5;241;43m.\u001b[39;49m\u001b[43mencoding\u001b[49m\u001b[43m,\u001b[49m\n\u001b[0;32m    244\u001b[0m \u001b[43m    \u001b[49m\u001b[43merrors\u001b[49m\u001b[38;5;241;43m=\u001b[39;49m\u001b[38;5;28;43mself\u001b[39;49m\u001b[38;5;241;43m.\u001b[39;49m\u001b[43merrors\u001b[49m\u001b[43m,\u001b[49m\n\u001b[0;32m    245\u001b[0m \u001b[43m    \u001b[49m\u001b[43mcompression\u001b[49m\u001b[38;5;241;43m=\u001b[39;49m\u001b[38;5;28;43mself\u001b[39;49m\u001b[38;5;241;43m.\u001b[39;49m\u001b[43mcompression\u001b[49m\u001b[43m,\u001b[49m\n\u001b[0;32m    246\u001b[0m \u001b[43m    \u001b[49m\u001b[43mstorage_options\u001b[49m\u001b[38;5;241;43m=\u001b[39;49m\u001b[38;5;28;43mself\u001b[39;49m\u001b[38;5;241;43m.\u001b[39;49m\u001b[43mstorage_options\u001b[49m\u001b[43m,\u001b[49m\n\u001b[0;32m    247\u001b[0m \u001b[43m\u001b[49m\u001b[43m)\u001b[49m \u001b[38;5;28;01mas\u001b[39;00m handles:\n\u001b[0;32m    248\u001b[0m     \u001b[38;5;66;03m# Note: self.encoding is irrelevant here\u001b[39;00m\n\u001b[0;32m    249\u001b[0m     \u001b[38;5;28mself\u001b[39m\u001b[38;5;241m.\u001b[39mwriter \u001b[38;5;241m=\u001b[39m csvlib\u001b[38;5;241m.\u001b[39mwriter(\n\u001b[0;32m    250\u001b[0m         handles\u001b[38;5;241m.\u001b[39mhandle,\n\u001b[0;32m    251\u001b[0m         lineterminator\u001b[38;5;241m=\u001b[39m\u001b[38;5;28mself\u001b[39m\u001b[38;5;241m.\u001b[39mlineterminator,\n\u001b[1;32m   (...)\u001b[0m\n\u001b[0;32m    256\u001b[0m         quotechar\u001b[38;5;241m=\u001b[39m\u001b[38;5;28mself\u001b[39m\u001b[38;5;241m.\u001b[39mquotechar,\n\u001b[0;32m    257\u001b[0m     )\n\u001b[0;32m    259\u001b[0m     \u001b[38;5;28mself\u001b[39m\u001b[38;5;241m.\u001b[39m_save()\n",
      "File \u001b[1;32mc:\\Users\\Krishna\\AppData\\Local\\Programs\\Python\\Python311\\Lib\\site-packages\\pandas\\io\\common.py:859\u001b[0m, in \u001b[0;36mget_handle\u001b[1;34m(path_or_buf, mode, encoding, compression, memory_map, is_text, errors, storage_options)\u001b[0m\n\u001b[0;32m    854\u001b[0m \u001b[38;5;28;01melif\u001b[39;00m \u001b[38;5;28misinstance\u001b[39m(handle, \u001b[38;5;28mstr\u001b[39m):\n\u001b[0;32m    855\u001b[0m     \u001b[38;5;66;03m# Check whether the filename is to be opened in binary mode.\u001b[39;00m\n\u001b[0;32m    856\u001b[0m     \u001b[38;5;66;03m# Binary mode does not support 'encoding' and 'newline'.\u001b[39;00m\n\u001b[0;32m    857\u001b[0m     \u001b[38;5;28;01mif\u001b[39;00m ioargs\u001b[38;5;241m.\u001b[39mencoding \u001b[38;5;129;01mand\u001b[39;00m \u001b[38;5;124m\"\u001b[39m\u001b[38;5;124mb\u001b[39m\u001b[38;5;124m\"\u001b[39m \u001b[38;5;129;01mnot\u001b[39;00m \u001b[38;5;129;01min\u001b[39;00m ioargs\u001b[38;5;241m.\u001b[39mmode:\n\u001b[0;32m    858\u001b[0m         \u001b[38;5;66;03m# Encoding\u001b[39;00m\n\u001b[1;32m--> 859\u001b[0m         handle \u001b[38;5;241m=\u001b[39m \u001b[38;5;28mopen\u001b[39m(\n\u001b[0;32m    860\u001b[0m             handle,\n\u001b[0;32m    861\u001b[0m             ioargs\u001b[38;5;241m.\u001b[39mmode,\n\u001b[0;32m    862\u001b[0m             encoding\u001b[38;5;241m=\u001b[39mioargs\u001b[38;5;241m.\u001b[39mencoding,\n\u001b[0;32m    863\u001b[0m             errors\u001b[38;5;241m=\u001b[39merrors,\n\u001b[0;32m    864\u001b[0m             newline\u001b[38;5;241m=\u001b[39m\u001b[38;5;124m\"\u001b[39m\u001b[38;5;124m\"\u001b[39m,\n\u001b[0;32m    865\u001b[0m         )\n\u001b[0;32m    866\u001b[0m     \u001b[38;5;28;01melse\u001b[39;00m:\n\u001b[0;32m    867\u001b[0m         \u001b[38;5;66;03m# Binary mode\u001b[39;00m\n\u001b[0;32m    868\u001b[0m         handle \u001b[38;5;241m=\u001b[39m \u001b[38;5;28mopen\u001b[39m(handle, ioargs\u001b[38;5;241m.\u001b[39mmode)\n",
      "\u001b[1;31mPermissionError\u001b[0m: [Errno 13] Permission denied: 'Jobpdfs_problematic\\\\final_extracted_job_info_problematic.csv'"
     ]
    }
   ],
   "source": [
    "import os\n",
    "import pandas as pd\n",
    "import logging\n",
    "import requests\n",
    "import PyPDF2\n",
    "import re\n",
    "\n",
    "# Define the path for saving PDFs, checkpoints, and the output CSV\n",
    "output_folder = \"Jobpdfs_problematic\"\n",
    "os.makedirs(output_folder, exist_ok=True)\n",
    "output_csv_path = os.path.join(output_folder, \"final_extracted_job_info_problematic.csv\")\n",
    "\n",
    "# Setup logging\n",
    "logging.basicConfig(filename='processing_problematic.log', level=logging.DEBUG)\n",
    "\n",
    "# Function to download and save PDF\n",
    "def download_pdf(url, save_path):\n",
    "    try:\n",
    "        response = requests.get(url)\n",
    "        response.raise_for_status()  # Raise an HTTPError for bad responses\n",
    "        with open(save_path, 'wb') as file:\n",
    "            file.write(response.content)\n",
    "        logging.info(f\"Downloaded PDF from {url} to {save_path}\")\n",
    "    except Exception as e:\n",
    "        logging.error(f\"Error downloading PDF from {url}: {e}\")\n",
    "\n",
    "# Function to extract text from the third page of a PDF file\n",
    "def extract_from_file(pdf_path):\n",
    "    try:\n",
    "        with open(pdf_path, \"rb\") as file:\n",
    "            pdf_reader = PyPDF2.PdfReader(file)\n",
    "            if len(pdf_reader.pages) < 3:\n",
    "                logging.warning(f\"PDF {pdf_path} has fewer than 3 pages.\")\n",
    "                return \"\"\n",
    "            # Extract text from the third page (0-based index 2)\n",
    "            page_text = pdf_reader.pages[2].extract_text()\n",
    "            return page_text.replace('\\n', ' ')\n",
    "    except Exception as e:\n",
    "        logging.error(f\"Error extracting text from {pdf_path}: {e}\")\n",
    "        return \"\"\n",
    "\n",
    "# Function to extract job info from text\n",
    "def extract_job_info(text):\n",
    "    # Define regex pattern for job title and brief job description\n",
    "    pattern = re.compile(r'([A-Z]{2,}/Q\\d{4}:\\s*.+?)\\s+Brief Job Description\\s+(.+?)\\s+Personal Attributes', re.DOTALL)\n",
    "    matches = pattern.findall(text)\n",
    "    \n",
    "    job_info = []\n",
    "    for match in matches:\n",
    "        job_title = match[0].strip()\n",
    "        job_description = match[1].strip()\n",
    "        job_info.append(f\"Job Title: {job_title}\\nJob Description: {job_description}\\nPerformance Criteria: \")\n",
    "    \n",
    "    return job_info\n",
    "\n",
    "# Identify rows where 'QP/Job Role Name' contains a '/'\n",
    "problematic_entries = filtered_df[filtered_df['QP/Job Role Name'].str.contains('/', na=False)]\n",
    "\n",
    "# List to hold all extracted job information\n",
    "all_job_info = []\n",
    "\n",
    "# Iterate over the problematic entries and process them\n",
    "for idx, row in problematic_entries.iterrows():\n",
    "    try:\n",
    "        url = row['Link']\n",
    "        # Sanitize the file name by replacing '/' with '_' for saving only\n",
    "        sanitized_name = row['QP/Job Role Name'].replace('/', '_')\n",
    "        file_name = f\"{sanitized_name}.pdf\"\n",
    "        pdf_path = os.path.join(output_folder, file_name)\n",
    "\n",
    "        # Download and save the PDF\n",
    "        download_pdf(url, pdf_path)\n",
    "\n",
    "        # Extract text from the third page\n",
    "        qp_text = extract_from_file(pdf_path)\n",
    "\n",
    "        # Extract job information from the text\n",
    "        job_info = extract_job_info(qp_text)\n",
    "        if job_info:\n",
    "            # Append each job info entry with the original 'QP/Job Role Name' containing '/'\n",
    "            for info in job_info:\n",
    "                all_job_info.append({'Index': idx, 'S No.': row['S No.'], 'Job Info': info, 'QP/Job Role Name': row['QP/Job Role Name']})\n",
    "            # Print the extracted information\n",
    "            print(f\"Extracted Information for {file_name}:\")\n",
    "            print('\\n'.join(job_info))\n",
    "            print(\"=\" * 80)\n",
    "    except Exception as e:\n",
    "        logging.error(f\"Error processing URL {row['Link']}: {e}\")\n",
    "        print(f\"Error processing URL {row['Link']}: {e}\")\n",
    "\n",
    "# Save all extracted job information to the final output CSV\n",
    "if all_job_info:\n",
    "    final_df = pd.DataFrame(all_job_info)\n",
    "    final_df.to_csv(output_csv_path, index=False, encoding=\"utf-8\")\n",
    "    print(f\"Final extracted job information saved to {output_csv_path}\")\n",
    "    \n",
    "    # Print the first 5 entries of the final DataFrame\n",
    "    print(\"\\nFirst 5 entries of the final extracted job information:\")\n",
    "    print(final_df.head())\n",
    "else:\n",
    "    print(\"No job information extracted.\")\n"
   ]
  },
  {
   "cell_type": "code",
   "execution_count": 24,
   "metadata": {},
   "outputs": [
    {
     "name": "stdout",
     "output_type": "stream",
     "text": [
      "Errors summary saved to errors_summary.txt\n"
     ]
    }
   ],
   "source": [
    "import re\n",
    "\n",
    "# Define the path to the log file and the output file for the analysis\n",
    "log_file_path = 'D:\\\\processing.log'\n",
    "errors_output_path = 'errors_summary.txt'\n",
    "\n",
    "def analyze_logs(log_file_path, errors_output_path):\n",
    "    errors_summary = []\n",
    "\n",
    "    with open(log_file_path, 'r') as log_file:\n",
    "        lines = log_file.readlines()\n",
    "    \n",
    "    # Define regex patterns to match different types of errors\n",
    "    request_error_pattern = re.compile(r\"Request error downloading PDF from (.+?): (.+)\")\n",
    "    save_error_pattern = re.compile(r\"Error saving PDF from (.+?) to (.+?): (.+)\")\n",
    "    pdf_read_error_pattern = re.compile(r\"PDF read error from (.+?): (.+)\")\n",
    "    extraction_error_pattern = re.compile(r\"Error extracting text from (.+?): (.+)\")\n",
    "    warning_pattern = re.compile(r\"PDF (.+?) has fewer than 3 pages\\.|PDF (.+?) has no text on the third page\\.\")\n",
    "    \n",
    "    for line in lines:\n",
    "        # Match request errors\n",
    "        request_match = request_error_pattern.search(line)\n",
    "        if request_match:\n",
    "            url, error_message = request_match.groups()\n",
    "            errors_summary.append(f\"Request Error: URL: {url}, Message: {error_message}\")\n",
    "            continue\n",
    "        \n",
    "        # Match save errors\n",
    "        save_match = save_error_pattern.search(line)\n",
    "        if save_match:\n",
    "            url, path, error_message = save_match.groups()\n",
    "            errors_summary.append(f\"Save Error: URL: {url}, Path: {path}, Message: {error_message}\")\n",
    "            continue\n",
    "        \n",
    "        # Match PDF read errors\n",
    "        pdf_read_match = pdf_read_error_pattern.search(line)\n",
    "        if pdf_read_match:\n",
    "            path, error_message = pdf_read_match.groups()\n",
    "            errors_summary.append(f\"PDF Read Error: Path: {path}, Message: {error_message}\")\n",
    "            continue\n",
    "        \n",
    "        # Match extraction errors\n",
    "        extraction_match = extraction_error_pattern.search(line)\n",
    "        if extraction_match:\n",
    "            path, error_message = extraction_match.groups()\n",
    "            errors_summary.append(f\"Extraction Error: Path: {path}, Message: {error_message}\")\n",
    "            continue\n",
    "        \n",
    "        # Match warnings\n",
    "        warning_match = warning_pattern.search(line)\n",
    "        if warning_match:\n",
    "            path = warning_match.group(1) or warning_match.group(2)\n",
    "            errors_summary.append(f\"Warning: Path: {path}\")\n",
    "\n",
    "    # Write the errors summary to a text file\n",
    "    with open(errors_output_path, 'w') as output_file:\n",
    "        for error in errors_summary:\n",
    "            output_file.write(f\"{error}\\n\")\n",
    "    \n",
    "    print(f\"Errors summary saved to {errors_output_path}\")\n",
    "\n",
    "# Analyze the logs and save the summary\n",
    "analyze_logs(log_file_path, errors_output_path)\n"
   ]
  },
  {
   "cell_type": "code",
   "execution_count": 2,
   "metadata": {},
   "outputs": [
    {
     "name": "stdout",
     "output_type": "stream",
     "text": [
      "Collecting unidecode\n",
      "  Downloading Unidecode-1.3.8-py3-none-any.whl.metadata (13 kB)\n",
      "Downloading Unidecode-1.3.8-py3-none-any.whl (235 kB)\n",
      "   ---------------------------------------- 0.0/235.5 kB ? eta -:--:--\n",
      "   ----- --------------------------------- 30.7/235.5 kB 660.6 kB/s eta 0:00:01\n",
      "   ---------- ---------------------------- 61.4/235.5 kB 656.4 kB/s eta 0:00:01\n",
      "   --------------- ----------------------- 92.2/235.5 kB 655.4 kB/s eta 0:00:01\n",
      "   ------------------- ------------------ 122.9/235.5 kB 654.9 kB/s eta 0:00:01\n",
      "   ------------------------ ------------- 153.6/235.5 kB 654.6 kB/s eta 0:00:01\n",
      "   --------------------------------- ---- 204.8/235.5 kB 692.4 kB/s eta 0:00:01\n",
      "   --------------------------------- ---- 204.8/235.5 kB 692.4 kB/s eta 0:00:01\n",
      "   -------------------------------------- 235.5/235.5 kB 654.8 kB/s eta 0:00:00\n",
      "Installing collected packages: unidecode\n",
      "Successfully installed unidecode-1.3.8\n"
     ]
    },
    {
     "name": "stderr",
     "output_type": "stream",
     "text": [
      "  WARNING: The script unidecode.exe is installed in 'C:\\Users\\Krishna\\AppData\\Local\\Programs\\Python\\Python311\\Scripts' which is not on PATH.\n",
      "  Consider adding this directory to PATH or, if you prefer to suppress this warning, use --no-warn-script-location.\n",
      "\n",
      "[notice] A new release of pip is available: 23.3.2 -> 24.2\n",
      "[notice] To update, run: python.exe -m pip install --upgrade pip\n"
     ]
    }
   ],
   "source": [
    "!py -m pip install unidecode"
   ]
  },
  {
   "cell_type": "code",
   "execution_count": 4,
   "metadata": {},
   "outputs": [
    {
     "name": "stdout",
     "output_type": "stream",
     "text": [
      "Job Description: A Two For One Twister (TFO) tenter is responsible for carrying out tenting activities and ensuring minimum machine stoppage and achieving maximum production in TFO machine. He should be able to creel the paralleled yarn, piece the yarn on breakage, doo the doubled cone package, carry out cleaning and preventive maintenance activities thus producing defect free doubled yarn. This job requires the individual to have thorough knowledge in process flow and material flow in a textile mill for yarn production and should be able to know the important functions and operations of a TFO machine\n"
     ]
    }
   ],
   "source": [
    "import re\n",
    "from unidecode import unidecode\n",
    "\n",
    "def clean_text(text):\n",
    "    # Normalize text to remove any special characters and convert to ASCII\n",
    "    text = unidecode(text)\n",
    "    \n",
    "    # Specific replacements for known encoding issues\n",
    "    replacements = {\n",
    "        \"i!EUR\": \"o\",  # Assuming \"i!EUR\" should be \"o\"\n",
    "        \"i!,ow\": \"flow\",  # Assuming \"i!,ow\" should be \"flow\"\n",
    "        \"doi!EUR\": \"doff\",  # Assuming \"doi!EUR\" should be \"doff\"\n",
    "    }\n",
    "    \n",
    "    for original, replacement in replacements.items():\n",
    "        text = text.replace(original, replacement)\n",
    "    \n",
    "    # Remove unwanted characters (like ï¬€) and normalize spaces\n",
    "    text = re.sub(r'[^\\x00-\\x7F]+', ' ', text)\n",
    "    text = re.sub(r'\\s+', ' ', text).strip()\n",
    "    \n",
    "    return text\n",
    "\n",
    "# Example text\n",
    "job_description = (\"A Two For One Twister (TFO) tenter is responsible for carrying out tenting activities and ensuring minimum machine stoppage and achieving maximum production in TFO machine. \"\n",
    "                   \"He should be able to creel the paralleled yarn, piece the yarn on breakage, doi!EUR the doubled cone package, carry out cleaning and preventive maintenance activities thus producing defect free doubled yarn. \"\n",
    "                   \"This job requires the individual to have thorough knowledge in process i!,ow and material i!,ow in a textile mill for yarn production and should be able to know the important functions and operations of a TFO machine\")\n",
    "\n",
    "# Clean the text\n",
    "cleaned_job_description = clean_text(job_description)\n",
    "\n",
    "# Print cleaned text\n",
    "print(f\"Job Description: {cleaned_job_description}\")\n"
   ]
  },
  {
   "cell_type": "code",
   "execution_count": 19,
   "metadata": {},
   "outputs": [],
   "source": [
    "import pandas as pd\n",
    "text_df=pd.read_csv(\"D:\\\\commondata.csv\")"
   ]
  },
  {
   "cell_type": "code",
   "execution_count": 29,
   "metadata": {},
   "outputs": [
    {
     "ename": "PermissionError",
     "evalue": "[Errno 13] Permission denied: 'D:\\\\Internship\\\\CEEW\\\\descriptionjobs.csv'",
     "output_type": "error",
     "traceback": [
      "\u001b[1;31m---------------------------------------------------------------------------\u001b[0m",
      "\u001b[1;31mPermissionError\u001b[0m                           Traceback (most recent call last)",
      "Cell \u001b[1;32mIn[29], line 1\u001b[0m\n\u001b[1;32m----> 1\u001b[0m \u001b[43mtext_df\u001b[49m\u001b[38;5;241;43m.\u001b[39;49m\u001b[43mto_csv\u001b[49m\u001b[43m(\u001b[49m\u001b[38;5;124;43m\"\u001b[39;49m\u001b[38;5;124;43mD:\u001b[39;49m\u001b[38;5;130;43;01m\\\\\u001b[39;49;00m\u001b[38;5;124;43mInternship\u001b[39;49m\u001b[38;5;130;43;01m\\\\\u001b[39;49;00m\u001b[38;5;124;43mCEEW\u001b[39;49m\u001b[38;5;130;43;01m\\\\\u001b[39;49;00m\u001b[38;5;124;43mdescriptionjobs.csv\u001b[39;49m\u001b[38;5;124;43m\"\u001b[39;49m\u001b[43m)\u001b[49m\n",
      "File \u001b[1;32mc:\\Users\\Krishna\\AppData\\Local\\Programs\\Python\\Python311\\Lib\\site-packages\\pandas\\core\\generic.py:3772\u001b[0m, in \u001b[0;36mNDFrame.to_csv\u001b[1;34m(self, path_or_buf, sep, na_rep, float_format, columns, header, index, index_label, mode, encoding, compression, quoting, quotechar, lineterminator, chunksize, date_format, doublequote, escapechar, decimal, errors, storage_options)\u001b[0m\n\u001b[0;32m   3761\u001b[0m df \u001b[38;5;241m=\u001b[39m \u001b[38;5;28mself\u001b[39m \u001b[38;5;28;01mif\u001b[39;00m \u001b[38;5;28misinstance\u001b[39m(\u001b[38;5;28mself\u001b[39m, ABCDataFrame) \u001b[38;5;28;01melse\u001b[39;00m \u001b[38;5;28mself\u001b[39m\u001b[38;5;241m.\u001b[39mto_frame()\n\u001b[0;32m   3763\u001b[0m formatter \u001b[38;5;241m=\u001b[39m DataFrameFormatter(\n\u001b[0;32m   3764\u001b[0m     frame\u001b[38;5;241m=\u001b[39mdf,\n\u001b[0;32m   3765\u001b[0m     header\u001b[38;5;241m=\u001b[39mheader,\n\u001b[1;32m   (...)\u001b[0m\n\u001b[0;32m   3769\u001b[0m     decimal\u001b[38;5;241m=\u001b[39mdecimal,\n\u001b[0;32m   3770\u001b[0m )\n\u001b[1;32m-> 3772\u001b[0m \u001b[38;5;28;01mreturn\u001b[39;00m \u001b[43mDataFrameRenderer\u001b[49m\u001b[43m(\u001b[49m\u001b[43mformatter\u001b[49m\u001b[43m)\u001b[49m\u001b[38;5;241;43m.\u001b[39;49m\u001b[43mto_csv\u001b[49m\u001b[43m(\u001b[49m\n\u001b[0;32m   3773\u001b[0m \u001b[43m    \u001b[49m\u001b[43mpath_or_buf\u001b[49m\u001b[43m,\u001b[49m\n\u001b[0;32m   3774\u001b[0m \u001b[43m    \u001b[49m\u001b[43mlineterminator\u001b[49m\u001b[38;5;241;43m=\u001b[39;49m\u001b[43mlineterminator\u001b[49m\u001b[43m,\u001b[49m\n\u001b[0;32m   3775\u001b[0m \u001b[43m    \u001b[49m\u001b[43msep\u001b[49m\u001b[38;5;241;43m=\u001b[39;49m\u001b[43msep\u001b[49m\u001b[43m,\u001b[49m\n\u001b[0;32m   3776\u001b[0m \u001b[43m    \u001b[49m\u001b[43mencoding\u001b[49m\u001b[38;5;241;43m=\u001b[39;49m\u001b[43mencoding\u001b[49m\u001b[43m,\u001b[49m\n\u001b[0;32m   3777\u001b[0m \u001b[43m    \u001b[49m\u001b[43merrors\u001b[49m\u001b[38;5;241;43m=\u001b[39;49m\u001b[43merrors\u001b[49m\u001b[43m,\u001b[49m\n\u001b[0;32m   3778\u001b[0m \u001b[43m    \u001b[49m\u001b[43mcompression\u001b[49m\u001b[38;5;241;43m=\u001b[39;49m\u001b[43mcompression\u001b[49m\u001b[43m,\u001b[49m\n\u001b[0;32m   3779\u001b[0m \u001b[43m    \u001b[49m\u001b[43mquoting\u001b[49m\u001b[38;5;241;43m=\u001b[39;49m\u001b[43mquoting\u001b[49m\u001b[43m,\u001b[49m\n\u001b[0;32m   3780\u001b[0m \u001b[43m    \u001b[49m\u001b[43mcolumns\u001b[49m\u001b[38;5;241;43m=\u001b[39;49m\u001b[43mcolumns\u001b[49m\u001b[43m,\u001b[49m\n\u001b[0;32m   3781\u001b[0m \u001b[43m    \u001b[49m\u001b[43mindex_label\u001b[49m\u001b[38;5;241;43m=\u001b[39;49m\u001b[43mindex_label\u001b[49m\u001b[43m,\u001b[49m\n\u001b[0;32m   3782\u001b[0m \u001b[43m    \u001b[49m\u001b[43mmode\u001b[49m\u001b[38;5;241;43m=\u001b[39;49m\u001b[43mmode\u001b[49m\u001b[43m,\u001b[49m\n\u001b[0;32m   3783\u001b[0m \u001b[43m    \u001b[49m\u001b[43mchunksize\u001b[49m\u001b[38;5;241;43m=\u001b[39;49m\u001b[43mchunksize\u001b[49m\u001b[43m,\u001b[49m\n\u001b[0;32m   3784\u001b[0m \u001b[43m    \u001b[49m\u001b[43mquotechar\u001b[49m\u001b[38;5;241;43m=\u001b[39;49m\u001b[43mquotechar\u001b[49m\u001b[43m,\u001b[49m\n\u001b[0;32m   3785\u001b[0m \u001b[43m    \u001b[49m\u001b[43mdate_format\u001b[49m\u001b[38;5;241;43m=\u001b[39;49m\u001b[43mdate_format\u001b[49m\u001b[43m,\u001b[49m\n\u001b[0;32m   3786\u001b[0m \u001b[43m    \u001b[49m\u001b[43mdoublequote\u001b[49m\u001b[38;5;241;43m=\u001b[39;49m\u001b[43mdoublequote\u001b[49m\u001b[43m,\u001b[49m\n\u001b[0;32m   3787\u001b[0m \u001b[43m    \u001b[49m\u001b[43mescapechar\u001b[49m\u001b[38;5;241;43m=\u001b[39;49m\u001b[43mescapechar\u001b[49m\u001b[43m,\u001b[49m\n\u001b[0;32m   3788\u001b[0m \u001b[43m    \u001b[49m\u001b[43mstorage_options\u001b[49m\u001b[38;5;241;43m=\u001b[39;49m\u001b[43mstorage_options\u001b[49m\u001b[43m,\u001b[49m\n\u001b[0;32m   3789\u001b[0m \u001b[43m\u001b[49m\u001b[43m)\u001b[49m\n",
      "File \u001b[1;32mc:\\Users\\Krishna\\AppData\\Local\\Programs\\Python\\Python311\\Lib\\site-packages\\pandas\\io\\formats\\format.py:1186\u001b[0m, in \u001b[0;36mDataFrameRenderer.to_csv\u001b[1;34m(self, path_or_buf, encoding, sep, columns, index_label, mode, compression, quoting, quotechar, lineterminator, chunksize, date_format, doublequote, escapechar, errors, storage_options)\u001b[0m\n\u001b[0;32m   1165\u001b[0m     created_buffer \u001b[38;5;241m=\u001b[39m \u001b[38;5;28;01mFalse\u001b[39;00m\n\u001b[0;32m   1167\u001b[0m csv_formatter \u001b[38;5;241m=\u001b[39m CSVFormatter(\n\u001b[0;32m   1168\u001b[0m     path_or_buf\u001b[38;5;241m=\u001b[39mpath_or_buf,\n\u001b[0;32m   1169\u001b[0m     lineterminator\u001b[38;5;241m=\u001b[39mlineterminator,\n\u001b[1;32m   (...)\u001b[0m\n\u001b[0;32m   1184\u001b[0m     formatter\u001b[38;5;241m=\u001b[39m\u001b[38;5;28mself\u001b[39m\u001b[38;5;241m.\u001b[39mfmt,\n\u001b[0;32m   1185\u001b[0m )\n\u001b[1;32m-> 1186\u001b[0m \u001b[43mcsv_formatter\u001b[49m\u001b[38;5;241;43m.\u001b[39;49m\u001b[43msave\u001b[49m\u001b[43m(\u001b[49m\u001b[43m)\u001b[49m\n\u001b[0;32m   1188\u001b[0m \u001b[38;5;28;01mif\u001b[39;00m created_buffer:\n\u001b[0;32m   1189\u001b[0m     \u001b[38;5;28;01massert\u001b[39;00m \u001b[38;5;28misinstance\u001b[39m(path_or_buf, StringIO)\n",
      "File \u001b[1;32mc:\\Users\\Krishna\\AppData\\Local\\Programs\\Python\\Python311\\Lib\\site-packages\\pandas\\io\\formats\\csvs.py:240\u001b[0m, in \u001b[0;36mCSVFormatter.save\u001b[1;34m(self)\u001b[0m\n\u001b[0;32m    236\u001b[0m \u001b[38;5;250m\u001b[39m\u001b[38;5;124;03m\"\"\"\u001b[39;00m\n\u001b[0;32m    237\u001b[0m \u001b[38;5;124;03mCreate the writer & save.\u001b[39;00m\n\u001b[0;32m    238\u001b[0m \u001b[38;5;124;03m\"\"\"\u001b[39;00m\n\u001b[0;32m    239\u001b[0m \u001b[38;5;66;03m# apply compression and byte/text conversion\u001b[39;00m\n\u001b[1;32m--> 240\u001b[0m \u001b[38;5;28;01mwith\u001b[39;00m \u001b[43mget_handle\u001b[49m\u001b[43m(\u001b[49m\n\u001b[0;32m    241\u001b[0m \u001b[43m    \u001b[49m\u001b[38;5;28;43mself\u001b[39;49m\u001b[38;5;241;43m.\u001b[39;49m\u001b[43mfilepath_or_buffer\u001b[49m\u001b[43m,\u001b[49m\n\u001b[0;32m    242\u001b[0m \u001b[43m    \u001b[49m\u001b[38;5;28;43mself\u001b[39;49m\u001b[38;5;241;43m.\u001b[39;49m\u001b[43mmode\u001b[49m\u001b[43m,\u001b[49m\n\u001b[0;32m    243\u001b[0m \u001b[43m    \u001b[49m\u001b[43mencoding\u001b[49m\u001b[38;5;241;43m=\u001b[39;49m\u001b[38;5;28;43mself\u001b[39;49m\u001b[38;5;241;43m.\u001b[39;49m\u001b[43mencoding\u001b[49m\u001b[43m,\u001b[49m\n\u001b[0;32m    244\u001b[0m \u001b[43m    \u001b[49m\u001b[43merrors\u001b[49m\u001b[38;5;241;43m=\u001b[39;49m\u001b[38;5;28;43mself\u001b[39;49m\u001b[38;5;241;43m.\u001b[39;49m\u001b[43merrors\u001b[49m\u001b[43m,\u001b[49m\n\u001b[0;32m    245\u001b[0m \u001b[43m    \u001b[49m\u001b[43mcompression\u001b[49m\u001b[38;5;241;43m=\u001b[39;49m\u001b[38;5;28;43mself\u001b[39;49m\u001b[38;5;241;43m.\u001b[39;49m\u001b[43mcompression\u001b[49m\u001b[43m,\u001b[49m\n\u001b[0;32m    246\u001b[0m \u001b[43m    \u001b[49m\u001b[43mstorage_options\u001b[49m\u001b[38;5;241;43m=\u001b[39;49m\u001b[38;5;28;43mself\u001b[39;49m\u001b[38;5;241;43m.\u001b[39;49m\u001b[43mstorage_options\u001b[49m\u001b[43m,\u001b[49m\n\u001b[0;32m    247\u001b[0m \u001b[43m\u001b[49m\u001b[43m)\u001b[49m \u001b[38;5;28;01mas\u001b[39;00m handles:\n\u001b[0;32m    248\u001b[0m     \u001b[38;5;66;03m# Note: self.encoding is irrelevant here\u001b[39;00m\n\u001b[0;32m    249\u001b[0m     \u001b[38;5;28mself\u001b[39m\u001b[38;5;241m.\u001b[39mwriter \u001b[38;5;241m=\u001b[39m csvlib\u001b[38;5;241m.\u001b[39mwriter(\n\u001b[0;32m    250\u001b[0m         handles\u001b[38;5;241m.\u001b[39mhandle,\n\u001b[0;32m    251\u001b[0m         lineterminator\u001b[38;5;241m=\u001b[39m\u001b[38;5;28mself\u001b[39m\u001b[38;5;241m.\u001b[39mlineterminator,\n\u001b[1;32m   (...)\u001b[0m\n\u001b[0;32m    256\u001b[0m         quotechar\u001b[38;5;241m=\u001b[39m\u001b[38;5;28mself\u001b[39m\u001b[38;5;241m.\u001b[39mquotechar,\n\u001b[0;32m    257\u001b[0m     )\n\u001b[0;32m    259\u001b[0m     \u001b[38;5;28mself\u001b[39m\u001b[38;5;241m.\u001b[39m_save()\n",
      "File \u001b[1;32mc:\\Users\\Krishna\\AppData\\Local\\Programs\\Python\\Python311\\Lib\\site-packages\\pandas\\io\\common.py:859\u001b[0m, in \u001b[0;36mget_handle\u001b[1;34m(path_or_buf, mode, encoding, compression, memory_map, is_text, errors, storage_options)\u001b[0m\n\u001b[0;32m    854\u001b[0m \u001b[38;5;28;01melif\u001b[39;00m \u001b[38;5;28misinstance\u001b[39m(handle, \u001b[38;5;28mstr\u001b[39m):\n\u001b[0;32m    855\u001b[0m     \u001b[38;5;66;03m# Check whether the filename is to be opened in binary mode.\u001b[39;00m\n\u001b[0;32m    856\u001b[0m     \u001b[38;5;66;03m# Binary mode does not support 'encoding' and 'newline'.\u001b[39;00m\n\u001b[0;32m    857\u001b[0m     \u001b[38;5;28;01mif\u001b[39;00m ioargs\u001b[38;5;241m.\u001b[39mencoding \u001b[38;5;129;01mand\u001b[39;00m \u001b[38;5;124m\"\u001b[39m\u001b[38;5;124mb\u001b[39m\u001b[38;5;124m\"\u001b[39m \u001b[38;5;129;01mnot\u001b[39;00m \u001b[38;5;129;01min\u001b[39;00m ioargs\u001b[38;5;241m.\u001b[39mmode:\n\u001b[0;32m    858\u001b[0m         \u001b[38;5;66;03m# Encoding\u001b[39;00m\n\u001b[1;32m--> 859\u001b[0m         handle \u001b[38;5;241m=\u001b[39m \u001b[38;5;28;43mopen\u001b[39;49m\u001b[43m(\u001b[49m\n\u001b[0;32m    860\u001b[0m \u001b[43m            \u001b[49m\u001b[43mhandle\u001b[49m\u001b[43m,\u001b[49m\n\u001b[0;32m    861\u001b[0m \u001b[43m            \u001b[49m\u001b[43mioargs\u001b[49m\u001b[38;5;241;43m.\u001b[39;49m\u001b[43mmode\u001b[49m\u001b[43m,\u001b[49m\n\u001b[0;32m    862\u001b[0m \u001b[43m            \u001b[49m\u001b[43mencoding\u001b[49m\u001b[38;5;241;43m=\u001b[39;49m\u001b[43mioargs\u001b[49m\u001b[38;5;241;43m.\u001b[39;49m\u001b[43mencoding\u001b[49m\u001b[43m,\u001b[49m\n\u001b[0;32m    863\u001b[0m \u001b[43m            \u001b[49m\u001b[43merrors\u001b[49m\u001b[38;5;241;43m=\u001b[39;49m\u001b[43merrors\u001b[49m\u001b[43m,\u001b[49m\n\u001b[0;32m    864\u001b[0m \u001b[43m            \u001b[49m\u001b[43mnewline\u001b[49m\u001b[38;5;241;43m=\u001b[39;49m\u001b[38;5;124;43m\"\u001b[39;49m\u001b[38;5;124;43m\"\u001b[39;49m\u001b[43m,\u001b[49m\n\u001b[0;32m    865\u001b[0m \u001b[43m        \u001b[49m\u001b[43m)\u001b[49m\n\u001b[0;32m    866\u001b[0m     \u001b[38;5;28;01melse\u001b[39;00m:\n\u001b[0;32m    867\u001b[0m         \u001b[38;5;66;03m# Binary mode\u001b[39;00m\n\u001b[0;32m    868\u001b[0m         handle \u001b[38;5;241m=\u001b[39m \u001b[38;5;28mopen\u001b[39m(handle, ioargs\u001b[38;5;241m.\u001b[39mmode)\n",
      "\u001b[1;31mPermissionError\u001b[0m: [Errno 13] Permission denied: 'D:\\\\Internship\\\\CEEW\\\\descriptionjobs.csv'"
     ]
    }
   ],
   "source": [
    "text_df.to_csv(\"D:\\\\Internship\\\\CEEW\\\\descriptionjobs.csv\")"
   ]
  },
  {
   "cell_type": "code",
   "execution_count": null,
   "metadata": {},
   "outputs": [
    {
     "name": "stderr",
     "output_type": "stream",
     "text": [
      "  0%|          | 0/838 [00:00<?, ?it/s]"
     ]
    },
    {
     "name": "stderr",
     "output_type": "stream",
     "text": [
      "100%|██████████| 838/838 [16:59<00:00,  1.22s/it]"
     ]
    },
    {
     "name": "stdout",
     "output_type": "stream",
     "text": [
      "     Unnamed: 0  S No.      Sector                         Sub Sector  \\\n",
      "0           249    250  Automotive  Automotive Vehicle Sales (Dealer)   \n",
      "1           250    251  Automotive  Automotive Vehicle Sales (Dealer)   \n",
      "2           251    252  Automotive  Automotive Vehicle Sales (Dealer)   \n",
      "3           252    253  Automotive  Automotive Vehicle Sales (Dealer)   \n",
      "4           253    254  Automotive  Automotive Vehicle Sales (Dealer)   \n",
      "..          ...    ...         ...                                ...   \n",
      "833        2725   2726     Textile                   Handloom & Khadi   \n",
      "834        2726   2727     Textile                   Handloom & Khadi   \n",
      "835        2727   2728     Textile                 Technical Textiles   \n",
      "836        2728   2729     Textile                 Technical Textiles   \n",
      "837        2729   2730     Textile                 Technical Textiles   \n",
      "\n",
      "                             Occupation  \\\n",
      "0                         Vehicle Sales   \n",
      "1                         Vehicle Sales   \n",
      "2                         Vehicle Sales   \n",
      "3                         Vehicle Sales   \n",
      "4                         Vehicle Sales   \n",
      "..                                  ...   \n",
      "833                             Spinner   \n",
      "834                             Spinner   \n",
      "835       Spinning - Technical Textiles   \n",
      "836  Post Spinning - Technical Textiles   \n",
      "837        Weaving - Technical Textiles   \n",
      "\n",
      "                          QP/Job Role Name  \\\n",
      "0               Automotive Sales Executive   \n",
      "1               Automotive Sales Executive   \n",
      "2               Automotive Sales Executive   \n",
      "3               Automotive Sales Executive   \n",
      "4              Automotive Sales Consultant   \n",
      "..                                     ...   \n",
      "833                 Hand Spinning Operator   \n",
      "834         Twister cum Doubler - Handloom   \n",
      "835                    Tape Plant Operator   \n",
      "836                            Tape Winder   \n",
      "837  Circular loom operator (Shuttle type)   \n",
      "\n",
      "                                        Unnamed: 5 QP/Job Role Code  Version  \\\n",
      "0            Automotive_Automotive Sales Executive        ASC/Q1001        2   \n",
      "1            Automotive_Automotive Sales Executive        ASC/Q1001        3   \n",
      "2            Automotive_Automotive Sales Executive        ASC/Q1001        4   \n",
      "3            Automotive_Automotive Sales Executive        ASC/Q1001        5   \n",
      "4           Automotive_Automotive Sales Consultant        ASC/Q1005        2   \n",
      "..                                             ...              ...      ...   \n",
      "833                 Textile_Hand Spinning Operator        TSC/Q7901        3   \n",
      "834         Textile_Twister cum Doubler - Handloom        TSC/Q7902        3   \n",
      "835                    Textile_Tape Plant Operator        TSC/Q8201        3   \n",
      "836                            Textile_Tape Winder        TSC/Q8301        3   \n",
      "837  Textile_Circular loom operator (Shuttle type)        TSC/Q8401        3   \n",
      "\n",
      "    Last Reviewed On(DD/MM/YYYY)  ... Manufacturing/Services/Agriculture  \\\n",
      "0                     25-11-2021  ...                           Services   \n",
      "1                            NaN  ...                           Services   \n",
      "2                            NaN  ...                           Services   \n",
      "3                            NaN  ...                           Services   \n",
      "4                     18-08-2021  ...                           Services   \n",
      "..                           ...  ...                                ...   \n",
      "833                          NaN  ...                      Manufacturing   \n",
      "834                          NaN  ...                      Manufacturing   \n",
      "835                          NaN  ...                      Manufacturing   \n",
      "836                          NaN  ...                      Manufacturing   \n",
      "837                          NaN  ...                      Manufacturing   \n",
      "\n",
      "    Deactivation Date(DD/MM/YYYY)  Technical/Non Technical  \\\n",
      "0                             NaN            Non-Technical   \n",
      "1                             NaN            Non-Technical   \n",
      "2                             NaN            Non-Technical   \n",
      "3                             NaN            Non-Technical   \n",
      "4                             NaN            Non-Technical   \n",
      "..                            ...                      ...   \n",
      "833                           NaN                Technical   \n",
      "834                           NaN                Technical   \n",
      "835                           NaN                Technical   \n",
      "836                           NaN                Technical   \n",
      "837                           NaN                Technical   \n",
      "\n",
      "    Organised Or Unorganised Or Both             NQR code            QP Type  \\\n",
      "0                               Both  2021/AUT/ASDC/04685                NaN   \n",
      "1                          Organized  2021/AUT/ASDC/04685             Unique   \n",
      "2                          Organized  2021/AUT/ASDC/04685             Unique   \n",
      "3                          Organized  2022/AUT/ASDC/06573             Unique   \n",
      "4                               Both  2021/AUT/ASDC/04434                NaN   \n",
      "..                               ...                  ...                ...   \n",
      "833                     Un-Organized  2022/TEXT/TSC/07050             Unique   \n",
      "834                     Un-Organized  2022/TEXT/TSC/07028             Unique   \n",
      "835                        Organized  2022/TEXT/TSC/07079  QP with Electives   \n",
      "836                        Organized  2022/TEXT/TSC/07080             Unique   \n",
      "837                        Organized  2022/TEXT/TSC/07081             Unique   \n",
      "\n",
      "          Minimum Education Qualification & Experience Minimum Job Entry Age  \\\n",
      "0    12th Class and 2 Years Experience  - of releva...                  18.0   \n",
      "1    12th Class,10th Class - + 2 years ITI,Certific...                  18.0   \n",
      "2    10th Class - + 1 year ITI,10th Class - pass an...                  18.0   \n",
      "3    10th Class - + 1 year ITI,10th Class - pass an...                  18.0   \n",
      "4    Graduate - in any discipline and 1 Year Experi...                  21.0   \n",
      "..                                                 ...                   ...   \n",
      "833  9th Class - Grade 9 with No Experience (OR) Gr...                  16.0   \n",
      "834                          Ability to read and write                  18.0   \n",
      "835  9th Class - with No Experience (OR) Grade 8 pa...                  18.0   \n",
      "836  9th Class - with No Experience (OR) Grade 8 pa...                  18.0   \n",
      "837  9th Class - with No Experience (OR) Grade 8 pa...                  18.0   \n",
      "\n",
      "                                                  Link  \\\n",
      "0    https://s3.ap-south-1.amazonaws.com/nsdcproddo...   \n",
      "1    https://s3.ap-south-1.amazonaws.com/nsdcproddo...   \n",
      "2    https://s3.ap-south-1.amazonaws.com/nsdcproddo...   \n",
      "3    https://s3.ap-south-1.amazonaws.com/nsdcproddo...   \n",
      "4    https://s3.ap-south-1.amazonaws.com/nsdcproddo...   \n",
      "..                                                 ...   \n",
      "833  https://s3.ap-south-1.amazonaws.com/nsdcproddo...   \n",
      "834  https://s3.ap-south-1.amazonaws.com/nsdcproddo...   \n",
      "835  https://s3.ap-south-1.amazonaws.com/nsdcproddo...   \n",
      "836  https://s3.ap-south-1.amazonaws.com/nsdcproddo...   \n",
      "837  https://s3.ap-south-1.amazonaws.com/nsdcproddo...   \n",
      "\n",
      "                                              final_pc  \n",
      "0    Job Title: ASC/Q1001: Automotive Tales Executi...  \n",
      "1    Job Title: ASC/Q1001: Automotive Tales Executi...  \n",
      "2    Job Title: ASC/Q1001: Automotive Tales Executi...  \n",
      "3    Job Title: ASC/Q1001: Automotive Tales Executi...  \n",
      "4    Job Title: ASC/Q1005: Automotive Tales Consult...  \n",
      "..                                                 ...  \n",
      "833  Job Title: TSC/Q7901: And Spinning Operator Jo...  \n",
      "834  Job Title: TSC/Q7902: Sister cum Double - Hand...  \n",
      "835  Job Title: TSC/Q8201: Gape Plant Operator Job ...  \n",
      "836  Job Title: TSC/Q8301: Gape Hinder Job Descript...  \n",
      "837  Job Title: TSC/Q8401: Circular loom operator (...  \n",
      "\n",
      "[838 rows x 24 columns]\n"
     ]
    },
    {
     "name": "stderr",
     "output_type": "stream",
     "text": [
      "\n"
     ]
    }
   ],
   "source": [
    "import pandas as pd\n",
    "import re\n",
    "from unidecode import unidecode\n",
    "from textblob import TextBlob\n",
    "from tqdm import tqdm  # Import tqdm for the progress bar\n",
    "\n",
    "# Function to clean and correct text\n",
    "def clean_and_correct_text(text):\n",
    "    # Normalize text to remove any special characters and convert to ASCII\n",
    "    text = unidecode(text)\n",
    "    \n",
    "    # Specific replacements for known encoding issues\n",
    "    replacements = {\n",
    "        \"i!EUR\": \"o\",  # Assuming \"i!EUR\" should be \"o\"\n",
    "        \"i!,ow\": \"flow\",  # Assuming \"i!,ow\" should be \"flow\"\n",
    "        \"doi!EUR\": \"doff\",  # Assuming \"doi!EUR\" should be \"doff\"\n",
    "        \"ï¬‚ow\": \"flow\",  # Assuming \"ï¬‚ow\" should be \"flow\"\n",
    "        \"aï¬ƒliated\": \"affiliated\",  # Assuming \"aï¬ƒliated\" should be \"affiliated\"\n",
    "        \"identiï¬es\": \"identifies\",  # Assuming \"identiï¬es\" should be \"identifies\"\n",
    "        \"ï¬nal\": \"final\"  # Assuming \"ï¬nal\" should be \"final\"\n",
    "    }\n",
    "    \n",
    "    for original, replacement in replacements.items():\n",
    "        text = text.replace(original, replacement)\n",
    "    \n",
    "    # Remove unwanted characters and normalize spaces\n",
    "    text = re.sub(r'[^\\x00-\\x7F]+', ' ', text)\n",
    "    text = re.sub(r'\\s+', ' ', text).strip()\n",
    "    \n",
    "    # List of words to be excluded from spell-check correction\n",
    "    exclude_from_correction = [\"Job\", \"handles\", \"HEMM\", \"diagnoses\", \"bulges\", \"requirements\"]\n",
    "\n",
    "    # Spell check and correct the text\n",
    "    corrected_text = []\n",
    "    for word in text.split():\n",
    "        if word in exclude_from_correction:\n",
    "            corrected_text.append(word)\n",
    "        else:\n",
    "            corrected_word = str(TextBlob(word).correct())\n",
    "            corrected_text.append(corrected_word)\n",
    "    \n",
    "    text = ' '.join(corrected_text)\n",
    "    \n",
    "    return text\n",
    "\n",
    "# Assuming you have your DataFrame already loaded as text_df\n",
    "# Apply the clean_and_correct_text function to the final_pc column with tqdm\n",
    "tqdm.pandas()  # Initialize tqdm for pandas\n",
    "text_df['final_pc'] = text_df['final_pc'].progress_apply(clean_and_correct_text)\n",
    "\n",
    "# Display the cleaned and corrected DataFrame\n",
    "print(text_df)\n"
   ]
  },
  {
   "cell_type": "code",
   "execution_count": null,
   "metadata": {},
   "outputs": [],
   "source": [
    "text_df.to_csv(\"D:\\\\Internship\\\\CEEW\\\\descriptionjobs.csv\")"
   ]
  },
  {
   "cell_type": "code",
   "execution_count": 28,
   "metadata": {},
   "outputs": [],
   "source": [
    "# Assuming text_df is your DataFrame\n",
    "\n",
    "# Convert 'Version' to a numeric type if it's not already\n",
    "text_df['Version'] = pd.to_numeric(text_df['Version'], errors='coerce')\n",
    "\n",
    "# Sort the DataFrame by 'QP/Job Role Name', 'NSQF Level', and 'Version' (descending order)\n",
    "text_df = text_df.sort_values(by=['QP/Job Role Name', 'NSQF Level', 'Version'], ascending=[True, True, False])\n",
    "\n",
    "# Drop duplicates, keeping only the first entry of each combination of 'QP/Job Role Name' and 'NSQF Level'\n",
    "text_df_latest = text_df.drop_duplicates(subset=['QP/Job Role Name', 'NSQF Level'], keep='first')\n",
    "\n",
    "# text_df_latest will now contain only the latest versions\n"
   ]
  },
  {
   "cell_type": "code",
   "execution_count": 30,
   "metadata": {},
   "outputs": [
    {
     "data": {
      "text/html": [
       "<div>\n",
       "<style scoped>\n",
       "    .dataframe tbody tr th:only-of-type {\n",
       "        vertical-align: middle;\n",
       "    }\n",
       "\n",
       "    .dataframe tbody tr th {\n",
       "        vertical-align: top;\n",
       "    }\n",
       "\n",
       "    .dataframe thead th {\n",
       "        text-align: right;\n",
       "    }\n",
       "</style>\n",
       "<table border=\"1\" class=\"dataframe\">\n",
       "  <thead>\n",
       "    <tr style=\"text-align: right;\">\n",
       "      <th></th>\n",
       "      <th>Unnamed: 0</th>\n",
       "      <th>S No.</th>\n",
       "      <th>Sector</th>\n",
       "      <th>Sub Sector</th>\n",
       "      <th>Occupation</th>\n",
       "      <th>QP/Job Role Name</th>\n",
       "      <th>Unnamed: 5</th>\n",
       "      <th>QP/Job Role Code</th>\n",
       "      <th>Version</th>\n",
       "      <th>Last Reviewed On(DD/MM/YYYY)</th>\n",
       "      <th>...</th>\n",
       "      <th>Manufacturing/Services/Agriculture</th>\n",
       "      <th>Deactivation Date(DD/MM/YYYY)</th>\n",
       "      <th>Technical/Non Technical</th>\n",
       "      <th>Organised Or Unorganised Or Both</th>\n",
       "      <th>NQR code</th>\n",
       "      <th>QP Type</th>\n",
       "      <th>Minimum Education Qualification &amp; Experience</th>\n",
       "      <th>Minimum Job Entry Age</th>\n",
       "      <th>Link</th>\n",
       "      <th>final_pc</th>\n",
       "    </tr>\n",
       "  </thead>\n",
       "  <tbody>\n",
       "    <tr>\n",
       "      <th>377</th>\n",
       "      <td>1148</td>\n",
       "      <td>1149</td>\n",
       "      <td>Handicrafts and Carpet</td>\n",
       "      <td>Glassware</td>\n",
       "      <td>Decoration (Etching, Pasting &amp; Painting) and F...</td>\n",
       "      <td>Abrasion &amp; Grinding Machine Operator</td>\n",
       "      <td>Handicrafts and Carpet_Abrasion &amp; Grinding Mac...</td>\n",
       "      <td>HCS/Q2304</td>\n",
       "      <td>2</td>\n",
       "      <td>NaN</td>\n",
       "      <td>...</td>\n",
       "      <td>Manufacturing</td>\n",
       "      <td>NaN</td>\n",
       "      <td>Technical</td>\n",
       "      <td>Both</td>\n",
       "      <td>QG-03-HC-00583-2023-V2-HCSSC</td>\n",
       "      <td>Unique</td>\n",
       "      <td>10th grade pass,8th grade pass and pursuing co...</td>\n",
       "      <td>18.0</td>\n",
       "      <td>https://s3.ap-south-1.amazonaws.com/nsdcproddo...</td>\n",
       "      <td>Job Title: HCS/Q2304: Abrasion &amp; Grinding Mach...</td>\n",
       "    </tr>\n",
       "    <tr>\n",
       "      <th>388</th>\n",
       "      <td>1159</td>\n",
       "      <td>1160</td>\n",
       "      <td>Handicrafts and Carpet</td>\n",
       "      <td>Metalware</td>\n",
       "      <td>Cleaning/Polishing/Buffing-Metalware</td>\n",
       "      <td>Acid Cleaner (Metalware)</td>\n",
       "      <td>Handicrafts and Carpet_Acid Cleaner (Metalware)</td>\n",
       "      <td>HCS/Q3001</td>\n",
       "      <td>2</td>\n",
       "      <td>NaN</td>\n",
       "      <td>...</td>\n",
       "      <td>Manufacturing</td>\n",
       "      <td>NaN</td>\n",
       "      <td>Technical</td>\n",
       "      <td>Both</td>\n",
       "      <td>QG-03-HC-00584-2023-V2-HCSSC</td>\n",
       "      <td>Unique</td>\n",
       "      <td>10th grade pass,9th grade pass and 1 Year Expe...</td>\n",
       "      <td>18.0</td>\n",
       "      <td>https://s3.ap-south-1.amazonaws.com/nsdcproddo...</td>\n",
       "      <td>Job Title: HCS/Q3001: Acid Cleaner (Metalware)...</td>\n",
       "    </tr>\n",
       "    <tr>\n",
       "      <th>184</th>\n",
       "      <td>433</td>\n",
       "      <td>434</td>\n",
       "      <td>Automotive</td>\n",
       "      <td>Manufacturing and R&amp;D</td>\n",
       "      <td>Production Engineering</td>\n",
       "      <td>Additive Manufacturing</td>\n",
       "      <td>Automotive_Additive Manufacturing</td>\n",
       "      <td>ASC/Q6420</td>\n",
       "      <td>1</td>\n",
       "      <td>NaN</td>\n",
       "      <td>...</td>\n",
       "      <td>Manufacturing</td>\n",
       "      <td>NaN</td>\n",
       "      <td>Technical</td>\n",
       "      <td>Organized</td>\n",
       "      <td>QG-4.5-AU-01822-2024-V1-ASDC</td>\n",
       "      <td>Unique</td>\n",
       "      <td>NaN</td>\n",
       "      <td>25.0</td>\n",
       "      <td>https://s3.ap-south-1.amazonaws.com/nsdcproddo...</td>\n",
       "      <td>Job Title: ASC/Q6420: Additive Manufacturing J...</td>\n",
       "    </tr>\n",
       "    <tr>\n",
       "      <th>347</th>\n",
       "      <td>1118</td>\n",
       "      <td>1119</td>\n",
       "      <td>Handicrafts and Carpet</td>\n",
       "      <td>Hand Crafted Textiles</td>\n",
       "      <td>Hand Block Printing</td>\n",
       "      <td>Advanced Program on Hand Block Printing</td>\n",
       "      <td>Handicrafts and Carpet_Advanced Program on Han...</td>\n",
       "      <td>HCS/N9204</td>\n",
       "      <td>1</td>\n",
       "      <td>NaN</td>\n",
       "      <td>...</td>\n",
       "      <td>Services</td>\n",
       "      <td>NaN</td>\n",
       "      <td>Technical</td>\n",
       "      <td>Both</td>\n",
       "      <td>NG-04-HC-00632-2023-V1-HCSSC</td>\n",
       "      <td>NaN</td>\n",
       "      <td>11th grade pass,10th grade pass and pursuing c...</td>\n",
       "      <td>NaN</td>\n",
       "      <td>https://s3.ap-south-1.amazonaws.com/nsdcproddo...</td>\n",
       "      <td>Job Title: HCS/N9204: Advanced Program on And ...</td>\n",
       "    </tr>\n",
       "    <tr>\n",
       "      <th>348</th>\n",
       "      <td>1119</td>\n",
       "      <td>1120</td>\n",
       "      <td>Handicrafts and Carpet</td>\n",
       "      <td>Hand Crafted Textiles</td>\n",
       "      <td>Hand Embroidery, Designing and Finishing</td>\n",
       "      <td>Advanced Program on Traditional Hand Embroidery</td>\n",
       "      <td>Handicrafts and Carpet_Advanced Program on Tra...</td>\n",
       "      <td>HCS/N9205</td>\n",
       "      <td>1</td>\n",
       "      <td>NaN</td>\n",
       "      <td>...</td>\n",
       "      <td>Services</td>\n",
       "      <td>NaN</td>\n",
       "      <td>Technical</td>\n",
       "      <td>Both</td>\n",
       "      <td>NG-04-HC-00635-2023-V1-HCSSC</td>\n",
       "      <td>NaN</td>\n",
       "      <td>11th grade pass,10th grade pass and pursuing c...</td>\n",
       "      <td>NaN</td>\n",
       "      <td>https://s3.ap-south-1.amazonaws.com/nsdcproddo...</td>\n",
       "      <td>Job Title: HCS/N9205: Advanced Program on Trad...</td>\n",
       "    </tr>\n",
       "    <tr>\n",
       "      <th>...</th>\n",
       "      <td>...</td>\n",
       "      <td>...</td>\n",
       "      <td>...</td>\n",
       "      <td>...</td>\n",
       "      <td>...</td>\n",
       "      <td>...</td>\n",
       "      <td>...</td>\n",
       "      <td>...</td>\n",
       "      <td>...</td>\n",
       "      <td>...</td>\n",
       "      <td>...</td>\n",
       "      <td>...</td>\n",
       "      <td>...</td>\n",
       "      <td>...</td>\n",
       "      <td>...</td>\n",
       "      <td>...</td>\n",
       "      <td>...</td>\n",
       "      <td>...</td>\n",
       "      <td>...</td>\n",
       "      <td>...</td>\n",
       "      <td>...</td>\n",
       "    </tr>\n",
       "    <tr>\n",
       "      <th>594</th>\n",
       "      <td>2272</td>\n",
       "      <td>2273</td>\n",
       "      <td>Green Jobs</td>\n",
       "      <td>Renewable Energy</td>\n",
       "      <td>Site survey</td>\n",
       "      <td>Wind Resource Assessor and Site Surveyor - Win...</td>\n",
       "      <td>Green Jobs_Wind Resource Assessor and Site Sur...</td>\n",
       "      <td>SGJ/Q1202</td>\n",
       "      <td>3</td>\n",
       "      <td>NaN</td>\n",
       "      <td>...</td>\n",
       "      <td>Services</td>\n",
       "      <td>NaN</td>\n",
       "      <td>Technical</td>\n",
       "      <td>Organized</td>\n",
       "      <td>QG-05-PW-00530-2023-V1.1-SCGJ</td>\n",
       "      <td>Unique</td>\n",
       "      <td>UG in relevant field - completed second year o...</td>\n",
       "      <td>18.0</td>\n",
       "      <td>https://s3.ap-south-1.amazonaws.com/nsdcproddo...</td>\n",
       "      <td>Job Title: SGJ/Q1202: Mind Resource Assessor a...</td>\n",
       "    </tr>\n",
       "    <tr>\n",
       "      <th>543</th>\n",
       "      <td>1900</td>\n",
       "      <td>1901</td>\n",
       "      <td>Mining</td>\n",
       "      <td>Mining Operation</td>\n",
       "      <td>Loading and Hauling - Underground</td>\n",
       "      <td>Winding  Operator</td>\n",
       "      <td>Mining_Winding  Operator</td>\n",
       "      <td>MIN/Q1503</td>\n",
       "      <td>2</td>\n",
       "      <td>NaN</td>\n",
       "      <td>...</td>\n",
       "      <td>Manufacturing</td>\n",
       "      <td>NaN</td>\n",
       "      <td>Technical</td>\n",
       "      <td>Organized</td>\n",
       "      <td>2022/MIN/SCMS/06975</td>\n",
       "      <td>QP with Electives</td>\n",
       "      <td>12th Class - or its equivalent, with 2 years r...</td>\n",
       "      <td>20.0</td>\n",
       "      <td>https://s3.ap-south-1.amazonaws.com/nsdcproddo...</td>\n",
       "      <td>Job Title: MIN/Q1503: Finding Operator Job Des...</td>\n",
       "    </tr>\n",
       "    <tr>\n",
       "      <th>783</th>\n",
       "      <td>2675</td>\n",
       "      <td>2676</td>\n",
       "      <td>Textile</td>\n",
       "      <td>Spinning – Textiles</td>\n",
       "      <td>Post Spinning Operations</td>\n",
       "      <td>Winding Tenter</td>\n",
       "      <td>Textile_Winding Tenter</td>\n",
       "      <td>TSC/Q0305</td>\n",
       "      <td>2</td>\n",
       "      <td>NaN</td>\n",
       "      <td>...</td>\n",
       "      <td>Manufacturing</td>\n",
       "      <td>NaN</td>\n",
       "      <td>Technical</td>\n",
       "      <td>Organized</td>\n",
       "      <td>2022/TEXT/TSC/07054</td>\n",
       "      <td>QP with Electives</td>\n",
       "      <td>9th Class - with No Experience (OR) Grade 8 pa...</td>\n",
       "      <td>18.0</td>\n",
       "      <td>https://s3.ap-south-1.amazonaws.com/nsdcproddo...</td>\n",
       "      <td>Job Title: TSC/Q0305: Finding Enter Job Descri...</td>\n",
       "    </tr>\n",
       "    <tr>\n",
       "      <th>532</th>\n",
       "      <td>1889</td>\n",
       "      <td>1890</td>\n",
       "      <td>Mining</td>\n",
       "      <td>Mining Operation</td>\n",
       "      <td>Drilling/Cutting</td>\n",
       "      <td>Wire Saw  Operator</td>\n",
       "      <td>Mining_Wire Saw  Operator</td>\n",
       "      <td>MIN/Q1201</td>\n",
       "      <td>2</td>\n",
       "      <td>NaN</td>\n",
       "      <td>...</td>\n",
       "      <td>Manufacturing</td>\n",
       "      <td>NaN</td>\n",
       "      <td>Technical</td>\n",
       "      <td>Both</td>\n",
       "      <td>2022/MIN/SCMS/06979</td>\n",
       "      <td>QP with Electives</td>\n",
       "      <td>8th grade pass plus 2-year NTC plus 1 Year NAC</td>\n",
       "      <td>20.0</td>\n",
       "      <td>https://s3.ap-south-1.amazonaws.com/nsdcproddo...</td>\n",
       "      <td>Job Title: MIN/Q1201: Fire Saw Operator Job De...</td>\n",
       "    </tr>\n",
       "    <tr>\n",
       "      <th>416</th>\n",
       "      <td>1187</td>\n",
       "      <td>1188</td>\n",
       "      <td>Handicrafts and Carpet</td>\n",
       "      <td>Handicrafts (Woodware)</td>\n",
       "      <td>Production-Woodware</td>\n",
       "      <td>Wooden Toy Maker - Artisan</td>\n",
       "      <td>Handicrafts and Carpet_Wooden Toy Maker - Artisan</td>\n",
       "      <td>HCS/Q6703</td>\n",
       "      <td>2</td>\n",
       "      <td>NaN</td>\n",
       "      <td>...</td>\n",
       "      <td>Manufacturing</td>\n",
       "      <td>NaN</td>\n",
       "      <td>Technical</td>\n",
       "      <td>Both</td>\n",
       "      <td>2022/HC/HCSSC/06733</td>\n",
       "      <td>Unique</td>\n",
       "      <td>10th Class - with 2 year relevant experience O...</td>\n",
       "      <td>18.0</td>\n",
       "      <td>https://s3.ap-south-1.amazonaws.com/nsdcproddo...</td>\n",
       "      <td>Job Title: HCS/Q6703: Wooden Boy Baker - Artis...</td>\n",
       "    </tr>\n",
       "  </tbody>\n",
       "</table>\n",
       "<p>706 rows × 24 columns</p>\n",
       "</div>"
      ],
      "text/plain": [
       "     Unnamed: 0  S No.                  Sector              Sub Sector  \\\n",
       "377        1148   1149  Handicrafts and Carpet               Glassware   \n",
       "388        1159   1160  Handicrafts and Carpet               Metalware   \n",
       "184         433    434              Automotive   Manufacturing and R&D   \n",
       "347        1118   1119  Handicrafts and Carpet   Hand Crafted Textiles   \n",
       "348        1119   1120  Handicrafts and Carpet   Hand Crafted Textiles   \n",
       "..          ...    ...                     ...                     ...   \n",
       "594        2272   2273              Green Jobs        Renewable Energy   \n",
       "543        1900   1901                  Mining        Mining Operation   \n",
       "783        2675   2676                 Textile     Spinning – Textiles   \n",
       "532        1889   1890                  Mining        Mining Operation   \n",
       "416        1187   1188  Handicrafts and Carpet  Handicrafts (Woodware)   \n",
       "\n",
       "                                            Occupation  \\\n",
       "377  Decoration (Etching, Pasting & Painting) and F...   \n",
       "388               Cleaning/Polishing/Buffing-Metalware   \n",
       "184                             Production Engineering   \n",
       "347                                Hand Block Printing   \n",
       "348           Hand Embroidery, Designing and Finishing   \n",
       "..                                                 ...   \n",
       "594                                        Site survey   \n",
       "543                  Loading and Hauling - Underground   \n",
       "783                           Post Spinning Operations   \n",
       "532                                   Drilling/Cutting   \n",
       "416                                Production-Woodware   \n",
       "\n",
       "                                      QP/Job Role Name  \\\n",
       "377               Abrasion & Grinding Machine Operator   \n",
       "388                           Acid Cleaner (Metalware)   \n",
       "184                             Additive Manufacturing   \n",
       "347            Advanced Program on Hand Block Printing   \n",
       "348    Advanced Program on Traditional Hand Embroidery   \n",
       "..                                                 ...   \n",
       "594  Wind Resource Assessor and Site Surveyor - Win...   \n",
       "543                                  Winding  Operator   \n",
       "783                                     Winding Tenter   \n",
       "532                                 Wire Saw  Operator   \n",
       "416                         Wooden Toy Maker - Artisan   \n",
       "\n",
       "                                            Unnamed: 5 QP/Job Role Code  \\\n",
       "377  Handicrafts and Carpet_Abrasion & Grinding Mac...        HCS/Q2304   \n",
       "388    Handicrafts and Carpet_Acid Cleaner (Metalware)        HCS/Q3001   \n",
       "184                  Automotive_Additive Manufacturing        ASC/Q6420   \n",
       "347  Handicrafts and Carpet_Advanced Program on Han...        HCS/N9204   \n",
       "348  Handicrafts and Carpet_Advanced Program on Tra...        HCS/N9205   \n",
       "..                                                 ...              ...   \n",
       "594  Green Jobs_Wind Resource Assessor and Site Sur...        SGJ/Q1202   \n",
       "543                           Mining_Winding  Operator        MIN/Q1503   \n",
       "783                             Textile_Winding Tenter        TSC/Q0305   \n",
       "532                          Mining_Wire Saw  Operator        MIN/Q1201   \n",
       "416  Handicrafts and Carpet_Wooden Toy Maker - Artisan        HCS/Q6703   \n",
       "\n",
       "     Version Last Reviewed On(DD/MM/YYYY)  ...  \\\n",
       "377        2                          NaN  ...   \n",
       "388        2                          NaN  ...   \n",
       "184        1                          NaN  ...   \n",
       "347        1                          NaN  ...   \n",
       "348        1                          NaN  ...   \n",
       "..       ...                          ...  ...   \n",
       "594        3                          NaN  ...   \n",
       "543        2                          NaN  ...   \n",
       "783        2                          NaN  ...   \n",
       "532        2                          NaN  ...   \n",
       "416        2                          NaN  ...   \n",
       "\n",
       "    Manufacturing/Services/Agriculture Deactivation Date(DD/MM/YYYY)  \\\n",
       "377                      Manufacturing                           NaN   \n",
       "388                      Manufacturing                           NaN   \n",
       "184                      Manufacturing                           NaN   \n",
       "347                           Services                           NaN   \n",
       "348                           Services                           NaN   \n",
       "..                                 ...                           ...   \n",
       "594                           Services                           NaN   \n",
       "543                      Manufacturing                           NaN   \n",
       "783                      Manufacturing                           NaN   \n",
       "532                      Manufacturing                           NaN   \n",
       "416                      Manufacturing                           NaN   \n",
       "\n",
       "     Technical/Non Technical Organised Or Unorganised Or Both  \\\n",
       "377                Technical                             Both   \n",
       "388                Technical                             Both   \n",
       "184                Technical                        Organized   \n",
       "347                Technical                             Both   \n",
       "348                Technical                             Both   \n",
       "..                       ...                              ...   \n",
       "594                Technical                        Organized   \n",
       "543                Technical                        Organized   \n",
       "783                Technical                        Organized   \n",
       "532                Technical                             Both   \n",
       "416                Technical                             Both   \n",
       "\n",
       "                          NQR code            QP Type  \\\n",
       "377   QG-03-HC-00583-2023-V2-HCSSC             Unique   \n",
       "388   QG-03-HC-00584-2023-V2-HCSSC             Unique   \n",
       "184   QG-4.5-AU-01822-2024-V1-ASDC             Unique   \n",
       "347   NG-04-HC-00632-2023-V1-HCSSC                NaN   \n",
       "348   NG-04-HC-00635-2023-V1-HCSSC                NaN   \n",
       "..                             ...                ...   \n",
       "594  QG-05-PW-00530-2023-V1.1-SCGJ             Unique   \n",
       "543            2022/MIN/SCMS/06975  QP with Electives   \n",
       "783            2022/TEXT/TSC/07054  QP with Electives   \n",
       "532            2022/MIN/SCMS/06979  QP with Electives   \n",
       "416            2022/HC/HCSSC/06733             Unique   \n",
       "\n",
       "          Minimum Education Qualification & Experience Minimum Job Entry Age  \\\n",
       "377  10th grade pass,8th grade pass and pursuing co...                  18.0   \n",
       "388  10th grade pass,9th grade pass and 1 Year Expe...                  18.0   \n",
       "184                                                NaN                  25.0   \n",
       "347  11th grade pass,10th grade pass and pursuing c...                   NaN   \n",
       "348  11th grade pass,10th grade pass and pursuing c...                   NaN   \n",
       "..                                                 ...                   ...   \n",
       "594  UG in relevant field - completed second year o...                  18.0   \n",
       "543  12th Class - or its equivalent, with 2 years r...                  20.0   \n",
       "783  9th Class - with No Experience (OR) Grade 8 pa...                  18.0   \n",
       "532     8th grade pass plus 2-year NTC plus 1 Year NAC                  20.0   \n",
       "416  10th Class - with 2 year relevant experience O...                  18.0   \n",
       "\n",
       "                                                  Link  \\\n",
       "377  https://s3.ap-south-1.amazonaws.com/nsdcproddo...   \n",
       "388  https://s3.ap-south-1.amazonaws.com/nsdcproddo...   \n",
       "184  https://s3.ap-south-1.amazonaws.com/nsdcproddo...   \n",
       "347  https://s3.ap-south-1.amazonaws.com/nsdcproddo...   \n",
       "348  https://s3.ap-south-1.amazonaws.com/nsdcproddo...   \n",
       "..                                                 ...   \n",
       "594  https://s3.ap-south-1.amazonaws.com/nsdcproddo...   \n",
       "543  https://s3.ap-south-1.amazonaws.com/nsdcproddo...   \n",
       "783  https://s3.ap-south-1.amazonaws.com/nsdcproddo...   \n",
       "532  https://s3.ap-south-1.amazonaws.com/nsdcproddo...   \n",
       "416  https://s3.ap-south-1.amazonaws.com/nsdcproddo...   \n",
       "\n",
       "                                              final_pc  \n",
       "377  Job Title: HCS/Q2304: Abrasion & Grinding Mach...  \n",
       "388  Job Title: HCS/Q3001: Acid Cleaner (Metalware)...  \n",
       "184  Job Title: ASC/Q6420: Additive Manufacturing J...  \n",
       "347  Job Title: HCS/N9204: Advanced Program on And ...  \n",
       "348  Job Title: HCS/N9205: Advanced Program on Trad...  \n",
       "..                                                 ...  \n",
       "594  Job Title: SGJ/Q1202: Mind Resource Assessor a...  \n",
       "543  Job Title: MIN/Q1503: Finding Operator Job Des...  \n",
       "783  Job Title: TSC/Q0305: Finding Enter Job Descri...  \n",
       "532  Job Title: MIN/Q1201: Fire Saw Operator Job De...  \n",
       "416  Job Title: HCS/Q6703: Wooden Boy Baker - Artis...  \n",
       "\n",
       "[706 rows x 24 columns]"
      ]
     },
     "execution_count": 30,
     "metadata": {},
     "output_type": "execute_result"
    }
   ],
   "source": [
    "text_df_latest"
   ]
  },
  {
   "cell_type": "code",
   "execution_count": 31,
   "metadata": {},
   "outputs": [],
   "source": [
    "merged_df_job=pd.read_csv(\"D:\\Internship\\CEEW\\merged_df_job.csv\")"
   ]
  },
  {
   "cell_type": "code",
   "execution_count": 42,
   "metadata": {},
   "outputs": [],
   "source": [
    "# Perform a left merge to ensure all rows from merged_df_job are retained\n",
    "merged_result = merged_df_job.merge(\n",
    "    text_df_latest[['Sector', 'QP/Job Role Name', 'Version', 'NSQF Level', 'final_pc']],\n",
    "    on=['Sector', 'QP/Job Role Name', 'Version', 'NSQF Level'],\n",
    "    how='left',\n",
    "    suffixes=('_merged', '_latest')  # Suffix to indicate the source of final_pc\n",
    ")\n",
    "\n",
    "# Concatenate the final_pc columns, placing the one from text_df_latest first\n",
    "merged_result['final_pc'] = merged_result['final_pc_latest'].fillna('') + merged_result['final_pc_merged'].fillna('')\n",
    "\n",
    "# Drop the intermediate final_pc columns\n",
    "merged_result = merged_result.drop(columns=['final_pc_latest', 'final_pc_merged'])\n",
    "\n",
    "# merged_result now contains a single final_pc column with the values concatenated in the correct order\n"
   ]
  },
  {
   "cell_type": "code",
   "execution_count": 45,
   "metadata": {},
   "outputs": [],
   "source": [
    "merged_result.to_csv('D:\\\\Internship\\\\CEEW\\\\merged_df_job_context.csv')"
   ]
  },
  {
   "cell_type": "code",
   "execution_count": null,
   "metadata": {},
   "outputs": [],
   "source": []
  }
 ],
 "metadata": {
  "kernelspec": {
   "display_name": "Python 3",
   "language": "python",
   "name": "python3"
  },
  "language_info": {
   "codemirror_mode": {
    "name": "ipython",
    "version": 3
   },
   "file_extension": ".py",
   "mimetype": "text/x-python",
   "name": "python",
   "nbconvert_exporter": "python",
   "pygments_lexer": "ipython3",
   "version": "3.11.4"
  }
 },
 "nbformat": 4,
 "nbformat_minor": 2
}
